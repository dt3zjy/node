{
 "cells": [
  {
   "cell_type": "markdown",
   "metadata": {
    "colab_type": "text",
    "id": "p9RC9pBA1Mm2"
   },
   "source": [
    "##  A Quick Review from W1"
   ]
  },
  {
   "cell_type": "markdown",
   "metadata": {
    "colab_type": "text",
    "id": "K7Tnbs-9hwsv"
   },
   "source": [
    "Before pulling any data, we've gotta import all the packages we need"
   ]
  },
  {
   "cell_type": "code",
   "execution_count": null,
   "metadata": {
    "colab": {},
    "colab_type": "code",
    "id": "AX9A5eDRhraN",
    "tags": [
     "workshop"
    ]
   },
   "outputs": [],
   "source": [
    "import pandas as pd\n",
    "import numpy as np\n",
    "\n",
    "pd.set_option(\"display.max_rows\", 6)"
   ]
  },
  {
   "attachments": {},
   "cell_type": "markdown",
   "metadata": {
    "colab_type": "text",
    "id": "EBICO5ejh2ul"
   },
   "source": [
    "Now we can read in the data from a link OR from a file in the same directory\n",
    "\n",
    "URL: `https://raw.githubusercontent.com/dt3zjy/node/master/week-2/workshop/imdb.csv`"
   ]
  },
  {
   "cell_type": "code",
   "execution_count": null,
   "metadata": {
    "colab": {},
    "colab_type": "code",
    "id": "gG-ti6WYeOob",
    "tags": [
     "workshop"
    ]
   },
   "outputs": [],
   "source": []
  },
  {
   "cell_type": "markdown",
   "metadata": {
    "colab_type": "text",
    "id": "ymvtDsVeiABB"
   },
   "source": [
    "Take a quick look at the data"
   ]
  },
  {
   "cell_type": "code",
   "execution_count": null,
   "metadata": {
    "colab": {
     "base_uri": "https://localhost:8080/",
     "height": 360
    },
    "colab_type": "code",
    "id": "0WMFka4Nhoq-",
    "outputId": "23a987cc-6189-462e-fa0f-4bf70afb9c5f",
    "tags": [
     "workshop"
    ]
   },
   "outputs": [],
   "source": []
  },
  {
   "cell_type": "markdown",
   "metadata": {
    "colab_type": "text",
    "id": "RZDEJHEniIh8",
    "tags": [
     "workshop"
    ]
   },
   "source": [
    "How many rows are there? Columns?"
   ]
  },
  {
   "cell_type": "code",
   "execution_count": null,
   "metadata": {
    "colab": {
     "base_uri": "https://localhost:8080/",
     "height": 34
    },
    "colab_type": "code",
    "id": "gaJnsBHRiE4i",
    "outputId": "9a0c78ea-03a4-4c72-9f69-09b6ec3128e5",
    "tags": [
     "workshop"
    ]
   },
   "outputs": [],
   "source": []
  },
  {
   "cell_type": "markdown",
   "metadata": {},
   "source": [
    "There's a lot of columns, could we get a full list? "
   ]
  },
  {
   "cell_type": "code",
   "execution_count": null,
   "metadata": {
    "tags": [
     "workshop"
    ]
   },
   "outputs": [],
   "source": []
  },
  {
   "cell_type": "markdown",
   "metadata": {},
   "source": [
    "# Pandas Foundations"
   ]
  },
  {
   "cell_type": "markdown",
   "metadata": {},
   "source": [
    "## Dataframe who?"
   ]
  },
  {
   "cell_type": "markdown",
   "metadata": {},
   "source": [
    "Think of dataframes as little \"spreadsheets\" that hold our data.\n",
    "<br>Each row represents an observation, and each column represents some feature about that data.\n",
    "\n",
    "<br> With little bits of code, we can modify what that spreadsheet looks like.\n",
    "<br> For example, our raw data `movies` can be transformed to show some metric about some feature for some subset of the data"
   ]
  },
  {
   "cell_type": "code",
   "execution_count": null,
   "metadata": {},
   "outputs": [],
   "source": [
    "# For example:\n",
    "movies[movies.country.isin(['USA','France','UK'])].groupby('country')[['gross', 'budget']].agg(['median','max'])"
   ]
  },
  {
   "cell_type": "markdown",
   "metadata": {},
   "source": [
    "## Series vs. Dataframes "
   ]
  },
  {
   "cell_type": "markdown",
   "metadata": {},
   "source": [
    "We've been referring to *2 dimensional* tables using the `pd.DataFrame` object\n",
    "<br>An individual column (or row), is *1 dimensional*. We call this a `pd.Series` object"
   ]
  },
  {
   "cell_type": "code",
   "execution_count": null,
   "metadata": {},
   "outputs": [],
   "source": []
  },
  {
   "cell_type": "markdown",
   "metadata": {},
   "source": [
    "We can access a series (always 1-dimensional) using either: `df.column` OR `df['column']`"
   ]
  },
  {
   "cell_type": "code",
   "execution_count": null,
   "metadata": {},
   "outputs": [],
   "source": []
  },
  {
   "cell_type": "code",
   "execution_count": null,
   "metadata": {},
   "outputs": [],
   "source": []
  },
  {
   "cell_type": "markdown",
   "metadata": {},
   "source": [
    "To select a **row** as a series, we can use `df.iloc[]` and a specific row number (its index)"
   ]
  },
  {
   "cell_type": "code",
   "execution_count": null,
   "metadata": {},
   "outputs": [],
   "source": []
  },
  {
   "cell_type": "markdown",
   "metadata": {},
   "source": [
    "## Subsetting Columns"
   ]
  },
  {
   "cell_type": "markdown",
   "metadata": {},
   "source": [
    "Subsetting and filtering is one of the most important, yet confusing topics when getting started.\n",
    "<br>As we go along, feel free to run the code part by part to see what's going on in each step. `type()` is also a great tool here"
   ]
  },
  {
   "cell_type": "markdown",
   "metadata": {},
   "source": [
    "Lets take a look at a smaller set of columns, say the movie title, actors & director name"
   ]
  },
  {
   "cell_type": "code",
   "execution_count": null,
   "metadata": {},
   "outputs": [],
   "source": [
    "movies[['movie_title','actor_1_name','actor_2_name','actor_3_name','director_name']] # Note TWO square brackets"
   ]
  },
  {
   "cell_type": "markdown",
   "metadata": {},
   "source": [
    "Side Note: Why did we use two square brackets? What we're doing is passing a `list` to the subset function.\n",
    "<br> Pandas `DataFrame` objects know that whenever we place `[]` after it, we're looking to do some sort of filtering operation"
   ]
  },
  {
   "cell_type": "code",
   "execution_count": null,
   "metadata": {
    "tags": [
     "workshop"
    ]
   },
   "outputs": [],
   "source": [
    "actor_cols = ['actor_1_name','actor_2_name','actor_3_name']\n",
    "movies[actor_cols]"
   ]
  },
  {
   "cell_type": "markdown",
   "metadata": {},
   "source": [
    "Another quick point of confusion: Check out the difference between `df['column']` vs `df[['column']]` ( try it out below)"
   ]
  },
  {
   "cell_type": "code",
   "execution_count": null,
   "metadata": {
    "tags": [
     "workshop"
    ]
   },
   "outputs": [],
   "source": [
    "movies"
   ]
  },
  {
   "cell_type": "code",
   "execution_count": null,
   "metadata": {
    "tags": [
     "workshop"
    ]
   },
   "outputs": [],
   "source": []
  },
  {
   "cell_type": "markdown",
   "metadata": {},
   "source": [
    "The former creates a *series*, since the input is just one *string*. The latter creates a *dataframe*, since the input is a *list* of columns."
   ]
  },
  {
   "cell_type": "markdown",
   "metadata": {},
   "source": [
    "## Filtering Rows With Conditions"
   ]
  },
  {
   "cell_type": "markdown",
   "metadata": {},
   "source": [
    "Another common task is to filter rows based upon some criteria we have. We could:\n",
    "1. Compare floats\n",
    "2. Match strings\n",
    "3. Check against multiple elements"
   ]
  },
  {
   "cell_type": "code",
   "execution_count": null,
   "metadata": {
    "scrolled": true,
    "tags": [
     "workshop"
    ]
   },
   "outputs": [],
   "source": []
  },
  {
   "cell_type": "code",
   "execution_count": null,
   "metadata": {
    "scrolled": true,
    "tags": [
     "workshop"
    ]
   },
   "outputs": [],
   "source": []
  },
  {
   "cell_type": "markdown",
   "metadata": {},
   "source": [
    "What if we wanted to find movies that were either `G`, `PG`, or `PG-13`? \n",
    "We'd have to type out something pretty annoying like: \n",
    "```python\n",
    "movies[(movies.content_rating == 'G') | (movies.content_rating == 'PG') | (movies.content_rating == 'PG-13')]\n",
    "```\n",
    "\n",
    "<br>Instead, we'll use the `.isin()` operator to match against a group. Remember, `.isin()` accepts a `list` only"
   ]
  },
  {
   "cell_type": "code",
   "execution_count": null,
   "metadata": {
    "scrolled": true,
    "tags": [
     "workshop"
    ]
   },
   "outputs": [],
   "source": []
  },
  {
   "cell_type": "markdown",
   "metadata": {},
   "source": [
    "### Masking"
   ]
  },
  {
   "cell_type": "markdown",
   "metadata": {},
   "source": [
    "What's going on under the hood? When we say something like this,\n",
    "```python \n",
    "movies.content_rating == 'G'\n",
    "```\n",
    "We're actually asking Pandas to check that **for each** row in the series, if the given statement is True or False.\n"
   ]
  },
  {
   "cell_type": "code",
   "execution_count": null,
   "metadata": {
    "scrolled": true,
    "tags": [
     "workshop"
    ]
   },
   "outputs": [],
   "source": []
  },
  {
   "cell_type": "code",
   "execution_count": null,
   "metadata": {
    "scrolled": true,
    "tags": [
     "workshop"
    ]
   },
   "outputs": [],
   "source": []
  },
  {
   "cell_type": "markdown",
   "metadata": {},
   "source": [
    "## Basic functions"
   ]
  },
  {
   "cell_type": "markdown",
   "metadata": {},
   "source": [
    "There's a couple super helpful functions that help us work with our data.\n",
    "\n",
    "For sorting, we can use `.sort_values(by= )`, and pass in either a single string, or multiple strings in a list.\n",
    "<br>To flip the default order, change the `ascending= ` parameter to `False`"
   ]
  },
  {
   "cell_type": "code",
   "execution_count": null,
   "metadata": {},
   "outputs": [],
   "source": []
  },
  {
   "cell_type": "markdown",
   "metadata": {},
   "source": [
    "We could also use the `.value_counts()` function to could how many observations there are for each category.\n",
    "<br>If we wanted relative frequencies (i.e. proportions) instead of absolute counts, we could change the `normalize=` parameter to `True`"
   ]
  },
  {
   "cell_type": "code",
   "execution_count": null,
   "metadata": {},
   "outputs": [],
   "source": []
  },
  {
   "cell_type": "markdown",
   "metadata": {},
   "source": [
    "Finally, we can take basic summary measures, like the `.mean()` or `.sum()` of a column."
   ]
  },
  {
   "cell_type": "code",
   "execution_count": null,
   "metadata": {},
   "outputs": [],
   "source": []
  },
  {
   "cell_type": "markdown",
   "metadata": {},
   "source": [
    "## Chaining"
   ]
  },
  {
   "cell_type": "markdown",
   "metadata": {},
   "source": [
    "Chaining helps make our code more concise and readable.\n",
    "\n",
    "For example, if we wanted to combine some subsets with functions:"
   ]
  },
  {
   "cell_type": "code",
   "execution_count": null,
   "metadata": {},
   "outputs": [],
   "source": [
    "df1 = movies[movies.imdb_score > 8.5]\n",
    "df2 = df1[df1.content_rating == 'PG']\n",
    "df3 = df2.sort_values(by='duration',ascending=False)\n",
    "df3.head()"
   ]
  },
  {
   "cell_type": "markdown",
   "metadata": {},
   "source": [
    "We could instead write the above as:"
   ]
  },
  {
   "cell_type": "code",
   "execution_count": null,
   "metadata": {
    "tags": [
     "workshop"
    ]
   },
   "outputs": [],
   "source": []
  },
  {
   "cell_type": "markdown",
   "metadata": {},
   "source": [
    "This works because each part of our code `returns` a dataframe, so we can keep tagging along functions instead of saving each step into a temporary variable."
   ]
  },
  {
   "cell_type": "markdown",
   "metadata": {},
   "source": [
    "**Try it out:** In one line, see if you can find the value counts of `content_rating` for movies with a gross revenue (`gross`) over `200000000` ($ 200 million)"
   ]
  },
  {
   "cell_type": "code",
   "execution_count": null,
   "metadata": {
    "tags": [
     "practice"
    ]
   },
   "outputs": [],
   "source": []
  },
  {
   "cell_type": "markdown",
   "metadata": {},
   "source": [
    "# Practice w/ UFOs"
   ]
  },
  {
   "attachments": {},
   "cell_type": "markdown",
   "metadata": {},
   "source": [
    "Data sampled from the National UFO Reporting Center (NUFORC)\n",
    "<br>With your breakout groups, open up `ufo.csv` and answer the following questions:\n",
    "\n",
    "1. Among the West Coast states (California, Oregon, and Washington), how long (on average) did the fireballs encounters last?\n",
    "2. Which state saw the most encounters that lasted between 5 minutes to 1 hour?\n",
    "3. There was one particularly interesting encounter on `2/11/2004 00:00` in West Palm Beach, Florida. What happened?\n",
    "\n",
    "<br>Hint: Break down each question into parts, and chain them back together. There's no particular 'right' way\n",
    "<br>To refer to the `shape` column, use `ufo['shape']` instead of `ufo.shape`, since the latter is a reserved attribute\n",
    "\n",
    "<br> URL = `https://raw.githubusercontent.com/dt3zjy/node/master/week-2/workshop/ufo.csv`"
   ]
  },
  {
   "cell_type": "code",
   "execution_count": null,
   "metadata": {
    "tags": [
     "practice"
    ]
   },
   "outputs": [],
   "source": [
    "# Read data"
   ]
  },
  {
   "cell_type": "code",
   "execution_count": null,
   "metadata": {
    "tags": [
     "practice"
    ]
   },
   "outputs": [],
   "source": [
    "# 1"
   ]
  },
  {
   "cell_type": "code",
   "execution_count": null,
   "metadata": {
    "tags": [
     "practice"
    ]
   },
   "outputs": [],
   "source": [
    "# 2"
   ]
  },
  {
   "cell_type": "code",
   "execution_count": null,
   "metadata": {
    "tags": [
     "practice"
    ]
   },
   "outputs": [],
   "source": [
    "# 3"
   ]
  },
  {
   "cell_type": "markdown",
   "metadata": {
    "colab_type": "text",
    "id": "jdi7zUoXy1p-"
   },
   "source": [
    "# Groupby Objects"
   ]
  },
  {
   "cell_type": "markdown",
   "metadata": {
    "colab_type": "text",
    "id": "MDq1cI5Wd_w3"
   },
   "source": [
    "From before, we used `value_counts()` to get the number of movies per each content rating"
   ]
  },
  {
   "cell_type": "code",
   "execution_count": null,
   "metadata": {
    "colab": {
     "base_uri": "https://localhost:8080/",
     "height": 340
    },
    "colab_type": "code",
    "id": "nK7wHNPoqh5Q",
    "outputId": "879a2b05-5183-4c60-a168-68d49732c658",
    "tags": [
     "workshop"
    ]
   },
   "outputs": [],
   "source": []
  },
  {
   "cell_type": "markdown",
   "metadata": {
    "colab_type": "text",
    "id": "OPu5kvFTeINX"
   },
   "source": [
    "This is a good summary statistic to examine the distribution of our dataset. But...\n",
    "\n",
    "<br>What if we want to know how movie performance differs by rating?\n",
    "<br>We need to apply some function (i.e. take the mean of revenue) **per each** content rating"
   ]
  },
  {
   "cell_type": "code",
   "execution_count": null,
   "metadata": {
    "colab": {
     "base_uri": "https://localhost:8080/",
     "height": 34
    },
    "colab_type": "code",
    "id": "nFfz0cNvqnp_",
    "outputId": "96c045be-30ee-459e-cf89-b0a640d77e3d"
   },
   "outputs": [],
   "source": []
  },
  {
   "cell_type": "markdown",
   "metadata": {
    "colab_type": "text",
    "id": "iLYEMytqeku0"
   },
   "source": [
    "This creates a special **GroupBy object**. \n",
    "\n",
    "<br>For now, let's think of it like a *collection* of dataframes, seperated by each unique value from content rating (One group for `R`, `PG-13`, etc).\n",
    "<br>We can't easily render what the entire GroupBy object looks like, but we can pull out a particular group"
   ]
  },
  {
   "cell_type": "code",
   "execution_count": null,
   "metadata": {},
   "outputs": [],
   "source": []
  },
  {
   "cell_type": "code",
   "execution_count": null,
   "metadata": {},
   "outputs": [],
   "source": [
    "print(type(movies_byRating.get_group('PG')))\n",
    "movies_byRating.get_group('PG').head()"
   ]
  },
  {
   "cell_type": "markdown",
   "metadata": {},
   "source": [
    "When we apply **aggregation** functions to a `GroupBy` object, we get back averages for each column in the dataframe, **broken down** by content rating"
   ]
  },
  {
   "cell_type": "code",
   "execution_count": null,
   "metadata": {
    "colab": {
     "base_uri": "https://localhost:8080/",
     "height": 658
    },
    "colab_type": "code",
    "id": "_QNmOmInfaA3",
    "outputId": "369a289a-15d9-445f-d609-8215c060ba0b"
   },
   "outputs": [],
   "source": []
  },
  {
   "cell_type": "markdown",
   "metadata": {},
   "source": [
    "If we were just to apply `.mean()` to the entire dataframe, we'd only get back one row with summaries for the entire dataset"
   ]
  },
  {
   "cell_type": "code",
   "execution_count": null,
   "metadata": {},
   "outputs": [],
   "source": [
    "pd.DataFrame(movies.mean(), columns=['Total']).T"
   ]
  },
  {
   "cell_type": "markdown",
   "metadata": {},
   "source": [
    "We've got other ways to aggregate the data too.\n",
    "\n",
    "Here, we're showing the mean, max, and min values of `imdb_score` by passing in multiple strings in a list to `.agg()`"
   ]
  },
  {
   "cell_type": "code",
   "execution_count": null,
   "metadata": {
    "colab": {
     "base_uri": "https://localhost:8080/",
     "height": 638
    },
    "colab_type": "code",
    "id": "SWm9OtzssqRX",
    "outputId": "a174ef4a-ad1e-45f0-bc0d-262d7d9315dd",
    "tags": [
     "workshop"
    ]
   },
   "outputs": [],
   "source": []
  },
  {
   "cell_type": "markdown",
   "metadata": {
    "colab_type": "text",
    "id": "x5uIy1h-gfYU"
   },
   "source": [
    "The results of these groupby operations are all dataframes, check it out with the `type( )` operator\n",
    "This means we can start chaining together dataframe functions, for example `sort_values()` "
   ]
  },
  {
   "cell_type": "markdown",
   "metadata": {},
   "source": [
    "**Try it out:** Break down median revenues by country, then sort them highest to lowest"
   ]
  },
  {
   "cell_type": "code",
   "execution_count": null,
   "metadata": {
    "colab": {
     "base_uri": "https://localhost:8080/",
     "height": 353
    },
    "colab_type": "code",
    "id": "zHaQ4MJF6yh_",
    "outputId": "8f02551f-411e-4ac0-f81f-ce5aac728752",
    "scrolled": true,
    "tags": [
     "practice"
    ]
   },
   "outputs": [],
   "source": [
    "# 1"
   ]
  },
  {
   "cell_type": "markdown",
   "metadata": {},
   "source": [
    "### Multilevel GroupBy"
   ]
  },
  {
   "cell_type": "markdown",
   "metadata": {
    "colab_type": "text",
    "id": "jQwdYU36CHmD"
   },
   "source": [
    "We can also group on multiple columns to get *all unique combinations* of those columns. \n",
    "\n",
    "<br> For example, we can see if the relationship between `content_rating` and `imdb_rating` differs across countries by using both as keys"
   ]
  },
  {
   "cell_type": "code",
   "execution_count": null,
   "metadata": {
    "colab": {},
    "colab_type": "code",
    "id": "F5ofScfDCG14"
   },
   "outputs": [],
   "source": []
  },
  {
   "cell_type": "code",
   "execution_count": null,
   "metadata": {
    "colab": {
     "base_uri": "https://localhost:8080/",
     "height": 134
    },
    "colab_type": "code",
    "id": "EH9wMlMICtSv",
    "outputId": "25bff889-61df-4056-8b16-30e8d4c84199",
    "tags": [
     "workshop"
    ]
   },
   "outputs": [],
   "source": []
  },
  {
   "cell_type": "markdown",
   "metadata": {},
   "source": [
    "# Summary"
   ]
  },
  {
   "cell_type": "markdown",
   "metadata": {},
   "source": [
    "That's it for now!\n",
    "\n",
    "<br>Today you learned how to:\n",
    "- **Import** a dataset as a pandas object\n",
    "- Check out quick features, like `.head()`, `.shape`, and `.value_counts()`\n",
    "- The distinction between `pd.Series` and `pd.DataFrame` objects\n",
    "- **Filter** rows based on some condition\n",
    "- **Subset** columns to those we want"
   ]
  },
  {
   "cell_type": "markdown",
   "metadata": {},
   "source": [
    "We also used special `GroupBy` objects to get specific drill-down insights by:\n",
    "<br>(1) first breaking out, or **grouping** a dataset based on some category, then\n",
    "<br>(2) **aggregating** information from each observation in that category\n",
    "\n",
    "<br> In practice, if we wanted to get a mean score, broken down by every value in a given column, we would do:\n",
    "<br>`df.groupby(by='group column').agg('mean').score_column`"
   ]
  }
 ],
 "metadata": {
  "colab": {
   "name": "NBW2_pandas_key.ipynb",
   "provenance": []
  },
  "kernelspec": {
   "display_name": "Python 3",
   "language": "python",
   "name": "python3"
  },
  "language_info": {
   "codemirror_mode": {
    "name": "ipython",
    "version": 3
   },
   "file_extension": ".py",
   "mimetype": "text/x-python",
   "name": "python",
   "nbconvert_exporter": "python",
   "pygments_lexer": "ipython3",
   "version": "3.7.7"
  }
 },
 "nbformat": 4,
 "nbformat_minor": 1
}
