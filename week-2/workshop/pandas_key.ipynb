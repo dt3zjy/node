{
 "cells": [
  {
   "cell_type": "markdown",
   "metadata": {
    "colab_type": "text",
    "id": "p9RC9pBA1Mm2"
   },
   "source": [
    "##  A Quick Review from W1"
   ]
  },
  {
   "cell_type": "markdown",
   "metadata": {
    "colab_type": "text",
    "id": "K7Tnbs-9hwsv"
   },
   "source": [
    "Before pulling any data, we've gotta import all the packages we need"
   ]
  },
  {
   "cell_type": "code",
   "execution_count": 81,
   "metadata": {
    "colab": {},
    "colab_type": "code",
    "id": "AX9A5eDRhraN",
    "tags": [
     "workshop"
    ]
   },
   "outputs": [],
   "source": [
    "import pandas as pd\n",
    "import numpy as np\n",
    "\n",
    "pd.set_option(\"display.max_rows\", 6)"
   ]
  },
  {
   "cell_type": "markdown",
   "metadata": {
    "colab_type": "text",
    "id": "EBICO5ejh2ul"
   },
   "source": [
    "Now we can read in the data from a link OR from a file in the same directory"
   ]
  },
  {
   "cell_type": "code",
   "execution_count": null,
   "metadata": {
    "colab": {},
    "colab_type": "code",
    "id": "gG-ti6WYeOob",
    "tags": [
     "workshop"
    ]
   },
   "outputs": [],
   "source": [
    "movies = pd.read_csv('https://raw.githubusercontent.com/dt3zjy/node/master/week-2/workshop/imdb.csv')"
   ]
  },
  {
   "cell_type": "markdown",
   "metadata": {
    "colab_type": "text",
    "id": "ymvtDsVeiABB"
   },
   "source": [
    "Take a quick look at the data"
   ]
  },
  {
   "cell_type": "code",
   "execution_count": 83,
   "metadata": {
    "colab": {
     "base_uri": "https://localhost:8080/",
     "height": 360
    },
    "colab_type": "code",
    "id": "0WMFka4Nhoq-",
    "outputId": "23a987cc-6189-462e-fa0f-4bf70afb9c5f",
    "tags": [
     "workshop"
    ]
   },
   "outputs": [
    {
     "data": {
      "text/html": [
       "<div>\n",
       "<style scoped>\n",
       "    .dataframe tbody tr th:only-of-type {\n",
       "        vertical-align: middle;\n",
       "    }\n",
       "\n",
       "    .dataframe tbody tr th {\n",
       "        vertical-align: top;\n",
       "    }\n",
       "\n",
       "    .dataframe thead th {\n",
       "        text-align: right;\n",
       "    }\n",
       "</style>\n",
       "<table border=\"1\" class=\"dataframe\">\n",
       "  <thead>\n",
       "    <tr style=\"text-align: right;\">\n",
       "      <th></th>\n",
       "      <th>movie_title</th>\n",
       "      <th>imdb_score</th>\n",
       "      <th>content_rating</th>\n",
       "      <th>budget</th>\n",
       "      <th>gross</th>\n",
       "      <th>duration</th>\n",
       "      <th>genres</th>\n",
       "      <th>actor_1_name</th>\n",
       "      <th>actor_2_name</th>\n",
       "      <th>actor_3_name</th>\n",
       "      <th>director_name</th>\n",
       "      <th>language</th>\n",
       "      <th>country</th>\n",
       "      <th>aspect_ratio</th>\n",
       "      <th>title_year</th>\n",
       "    </tr>\n",
       "  </thead>\n",
       "  <tbody>\n",
       "    <tr>\n",
       "      <th>0</th>\n",
       "      <td>Avatar</td>\n",
       "      <td>7.9</td>\n",
       "      <td>PG-13</td>\n",
       "      <td>237000000.0</td>\n",
       "      <td>760505847.0</td>\n",
       "      <td>178.0</td>\n",
       "      <td>Action|Adventure|Fantasy|Sci-Fi</td>\n",
       "      <td>CCH Pounder</td>\n",
       "      <td>Joel David Moore</td>\n",
       "      <td>Wes Studi</td>\n",
       "      <td>James Cameron</td>\n",
       "      <td>English</td>\n",
       "      <td>USA</td>\n",
       "      <td>1.78</td>\n",
       "      <td>2009.0</td>\n",
       "    </tr>\n",
       "    <tr>\n",
       "      <th>1</th>\n",
       "      <td>Pirates of the Caribbean: At World's End</td>\n",
       "      <td>7.1</td>\n",
       "      <td>PG-13</td>\n",
       "      <td>300000000.0</td>\n",
       "      <td>309404152.0</td>\n",
       "      <td>169.0</td>\n",
       "      <td>Action|Adventure|Fantasy</td>\n",
       "      <td>Johnny Depp</td>\n",
       "      <td>Orlando Bloom</td>\n",
       "      <td>Jack Davenport</td>\n",
       "      <td>Gore Verbinski</td>\n",
       "      <td>English</td>\n",
       "      <td>USA</td>\n",
       "      <td>2.35</td>\n",
       "      <td>2007.0</td>\n",
       "    </tr>\n",
       "    <tr>\n",
       "      <th>2</th>\n",
       "      <td>Spectre</td>\n",
       "      <td>6.8</td>\n",
       "      <td>PG-13</td>\n",
       "      <td>245000000.0</td>\n",
       "      <td>200074175.0</td>\n",
       "      <td>148.0</td>\n",
       "      <td>Action|Adventure|Thriller</td>\n",
       "      <td>Christoph Waltz</td>\n",
       "      <td>Rory Kinnear</td>\n",
       "      <td>Stephanie Sigman</td>\n",
       "      <td>Sam Mendes</td>\n",
       "      <td>English</td>\n",
       "      <td>UK</td>\n",
       "      <td>2.35</td>\n",
       "      <td>2015.0</td>\n",
       "    </tr>\n",
       "  </tbody>\n",
       "</table>\n",
       "</div>"
      ],
      "text/plain": [
       "                                 movie_title  imdb_score content_rating  \\\n",
       "0                                    Avatar          7.9          PG-13   \n",
       "1  Pirates of the Caribbean: At World's End          7.1          PG-13   \n",
       "2                                   Spectre          6.8          PG-13   \n",
       "\n",
       "        budget        gross  duration                           genres  \\\n",
       "0  237000000.0  760505847.0     178.0  Action|Adventure|Fantasy|Sci-Fi   \n",
       "1  300000000.0  309404152.0     169.0         Action|Adventure|Fantasy   \n",
       "2  245000000.0  200074175.0     148.0        Action|Adventure|Thriller   \n",
       "\n",
       "      actor_1_name      actor_2_name      actor_3_name   director_name  \\\n",
       "0      CCH Pounder  Joel David Moore         Wes Studi   James Cameron   \n",
       "1      Johnny Depp     Orlando Bloom    Jack Davenport  Gore Verbinski   \n",
       "2  Christoph Waltz      Rory Kinnear  Stephanie Sigman      Sam Mendes   \n",
       "\n",
       "  language country  aspect_ratio  title_year  \n",
       "0  English     USA          1.78      2009.0  \n",
       "1  English     USA          2.35      2007.0  \n",
       "2  English      UK          2.35      2015.0  "
      ]
     },
     "execution_count": 83,
     "metadata": {},
     "output_type": "execute_result"
    }
   ],
   "source": [
    "movies.head(3)"
   ]
  },
  {
   "cell_type": "markdown",
   "metadata": {
    "colab_type": "text",
    "id": "RZDEJHEniIh8",
    "tags": [
     "workshop"
    ]
   },
   "source": [
    "How many rows are there? Columns?"
   ]
  },
  {
   "cell_type": "code",
   "execution_count": 84,
   "metadata": {
    "colab": {
     "base_uri": "https://localhost:8080/",
     "height": 34
    },
    "colab_type": "code",
    "id": "gaJnsBHRiE4i",
    "outputId": "9a0c78ea-03a4-4c72-9f69-09b6ec3128e5",
    "tags": [
     "workshop"
    ]
   },
   "outputs": [
    {
     "data": {
      "text/plain": [
       "(5043, 15)"
      ]
     },
     "execution_count": 84,
     "metadata": {},
     "output_type": "execute_result"
    }
   ],
   "source": [
    "movies.shape"
   ]
  },
  {
   "cell_type": "markdown",
   "metadata": {},
   "source": [
    "There's a lot of columns, could we get a full list? "
   ]
  },
  {
   "cell_type": "code",
   "execution_count": 85,
   "metadata": {
    "tags": [
     "workshop"
    ]
   },
   "outputs": [
    {
     "data": {
      "text/plain": [
       "['movie_title',\n",
       " 'imdb_score',\n",
       " 'content_rating',\n",
       " 'budget',\n",
       " 'gross',\n",
       " 'duration',\n",
       " 'genres',\n",
       " 'actor_1_name',\n",
       " 'actor_2_name',\n",
       " 'actor_3_name',\n",
       " 'director_name',\n",
       " 'language',\n",
       " 'country',\n",
       " 'aspect_ratio',\n",
       " 'title_year']"
      ]
     },
     "execution_count": 85,
     "metadata": {},
     "output_type": "execute_result"
    }
   ],
   "source": [
    "movies.columns.values.tolist()"
   ]
  },
  {
   "cell_type": "markdown",
   "metadata": {},
   "source": [
    "# Pandas Foundations"
   ]
  },
  {
   "cell_type": "markdown",
   "metadata": {},
   "source": [
    "## Dataframe who?"
   ]
  },
  {
   "cell_type": "markdown",
   "metadata": {},
   "source": [
    "Think of dataframes as little \"spreadsheets\" that hold our data.\n",
    "<br>Each row represents an observation, and each column represents some feature about that data.\n",
    "\n",
    "<br> With little bits of code, we can modify what that spreadsheet looks like.\n",
    "<br> For example, our raw data `movies` can be transformed to show some metric about some feature for some subset of the data"
   ]
  },
  {
   "cell_type": "code",
   "execution_count": 86,
   "metadata": {},
   "outputs": [
    {
     "data": {
      "text/html": [
       "<div>\n",
       "<style scoped>\n",
       "    .dataframe tbody tr th:only-of-type {\n",
       "        vertical-align: middle;\n",
       "    }\n",
       "\n",
       "    .dataframe tbody tr th {\n",
       "        vertical-align: top;\n",
       "    }\n",
       "\n",
       "    .dataframe thead tr th {\n",
       "        text-align: left;\n",
       "    }\n",
       "\n",
       "    .dataframe thead tr:last-of-type th {\n",
       "        text-align: right;\n",
       "    }\n",
       "</style>\n",
       "<table border=\"1\" class=\"dataframe\">\n",
       "  <thead>\n",
       "    <tr>\n",
       "      <th></th>\n",
       "      <th colspan=\"2\" halign=\"left\">gross</th>\n",
       "      <th colspan=\"2\" halign=\"left\">budget</th>\n",
       "    </tr>\n",
       "    <tr>\n",
       "      <th></th>\n",
       "      <th>median</th>\n",
       "      <th>max</th>\n",
       "      <th>median</th>\n",
       "      <th>max</th>\n",
       "    </tr>\n",
       "    <tr>\n",
       "      <th>country</th>\n",
       "      <th></th>\n",
       "      <th></th>\n",
       "      <th></th>\n",
       "      <th></th>\n",
       "    </tr>\n",
       "  </thead>\n",
       "  <tbody>\n",
       "    <tr>\n",
       "      <th>France</th>\n",
       "      <td>4291965.0</td>\n",
       "      <td>145000989.0</td>\n",
       "      <td>19715000.0</td>\n",
       "      <td>390000000.0</td>\n",
       "    </tr>\n",
       "    <tr>\n",
       "      <th>UK</th>\n",
       "      <td>13401683.0</td>\n",
       "      <td>362645141.0</td>\n",
       "      <td>15000000.0</td>\n",
       "      <td>250000000.0</td>\n",
       "    </tr>\n",
       "    <tr>\n",
       "      <th>USA</th>\n",
       "      <td>32178777.0</td>\n",
       "      <td>760505847.0</td>\n",
       "      <td>20000000.0</td>\n",
       "      <td>300000000.0</td>\n",
       "    </tr>\n",
       "  </tbody>\n",
       "</table>\n",
       "</div>"
      ],
      "text/plain": [
       "              gross                   budget             \n",
       "             median          max      median          max\n",
       "country                                                  \n",
       "France    4291965.0  145000989.0  19715000.0  390000000.0\n",
       "UK       13401683.0  362645141.0  15000000.0  250000000.0\n",
       "USA      32178777.0  760505847.0  20000000.0  300000000.0"
      ]
     },
     "execution_count": 86,
     "metadata": {},
     "output_type": "execute_result"
    }
   ],
   "source": [
    "# For example:\n",
    "movies[movies.country.isin(['USA','France','UK'])].groupby('country')[['gross', 'budget']].agg(['median','max'])"
   ]
  },
  {
   "cell_type": "markdown",
   "metadata": {},
   "source": [
    "## Series vs. Dataframes "
   ]
  },
  {
   "cell_type": "markdown",
   "metadata": {},
   "source": [
    "We've been referring to *2 dimensional* tables using the `pd.DataFrame` object\n",
    "<br>An individual column (or row), is *1 dimensional*. We call this a `pd.Series` object"
   ]
  },
  {
   "cell_type": "code",
   "execution_count": 87,
   "metadata": {},
   "outputs": [
    {
     "data": {
      "text/plain": [
       "pandas.core.frame.DataFrame"
      ]
     },
     "execution_count": 87,
     "metadata": {},
     "output_type": "execute_result"
    }
   ],
   "source": [
    "type(movies)"
   ]
  },
  {
   "cell_type": "markdown",
   "metadata": {},
   "source": [
    "We can access a series (always 1-dimensional) using either: `df.column` OR `df['column']`"
   ]
  },
  {
   "cell_type": "code",
   "execution_count": 88,
   "metadata": {},
   "outputs": [
    {
     "name": "stdout",
     "output_type": "stream",
     "text": [
      "<class 'pandas.core.series.Series'>\n",
      "0       7.9\n",
      "1       7.1\n",
      "2       6.8\n",
      "       ... \n",
      "5040    6.3\n",
      "5041    6.3\n",
      "5042    6.6\n",
      "Name: imdb_score, Length: 5043, dtype: float64\n"
     ]
    }
   ],
   "source": [
    "print(type(movies.imdb_score))\n",
    "print(movies.imdb_score)"
   ]
  },
  {
   "cell_type": "code",
   "execution_count": 89,
   "metadata": {},
   "outputs": [
    {
     "name": "stdout",
     "output_type": "stream",
     "text": [
      "<class 'pandas.core.series.Series'>\n",
      "0       7.9\n",
      "1       7.1\n",
      "2       6.8\n",
      "       ... \n",
      "5040    6.3\n",
      "5041    6.3\n",
      "5042    6.6\n",
      "Name: imdb_score, Length: 5043, dtype: float64\n"
     ]
    }
   ],
   "source": [
    "print(type(movies['imdb_score']))\n",
    "print(movies['imdb_score'])"
   ]
  },
  {
   "cell_type": "markdown",
   "metadata": {},
   "source": [
    "To select a **row** as a series, we can use `df.iloc[]` and a specific row number (its index)"
   ]
  },
  {
   "cell_type": "code",
   "execution_count": 90,
   "metadata": {},
   "outputs": [
    {
     "name": "stdout",
     "output_type": "stream",
     "text": [
      "<class 'pandas.core.series.Series'>\n"
     ]
    },
    {
     "data": {
      "text/plain": [
       "movie_title       The Dark Knight Rises \n",
       "imdb_score                           8.5\n",
       "content_rating                     PG-13\n",
       "                           ...          \n",
       "country                              USA\n",
       "aspect_ratio                        2.35\n",
       "title_year                          2012\n",
       "Name: 3, Length: 15, dtype: object"
      ]
     },
     "execution_count": 90,
     "metadata": {},
     "output_type": "execute_result"
    }
   ],
   "source": [
    "print(type(movies.iloc[3]))\n",
    "movies.iloc[3]"
   ]
  },
  {
   "cell_type": "markdown",
   "metadata": {},
   "source": [
    "## Subsetting Columns"
   ]
  },
  {
   "cell_type": "markdown",
   "metadata": {},
   "source": [
    "Subsetting and filtering is one of the most important, yet confusing topics when getting started.\n",
    "<br>As we go along, feel free to run the code part by part to see what's going on in each step. `type()` is also a great tool here"
   ]
  },
  {
   "cell_type": "markdown",
   "metadata": {},
   "source": [
    "Lets take a look at a smaller set of columns, say the movie title, actors & director name"
   ]
  },
  {
   "cell_type": "code",
   "execution_count": 91,
   "metadata": {},
   "outputs": [
    {
     "data": {
      "text/html": [
       "<div>\n",
       "<style scoped>\n",
       "    .dataframe tbody tr th:only-of-type {\n",
       "        vertical-align: middle;\n",
       "    }\n",
       "\n",
       "    .dataframe tbody tr th {\n",
       "        vertical-align: top;\n",
       "    }\n",
       "\n",
       "    .dataframe thead th {\n",
       "        text-align: right;\n",
       "    }\n",
       "</style>\n",
       "<table border=\"1\" class=\"dataframe\">\n",
       "  <thead>\n",
       "    <tr style=\"text-align: right;\">\n",
       "      <th></th>\n",
       "      <th>movie_title</th>\n",
       "      <th>actor_1_name</th>\n",
       "      <th>actor_2_name</th>\n",
       "      <th>actor_3_name</th>\n",
       "      <th>director_name</th>\n",
       "    </tr>\n",
       "  </thead>\n",
       "  <tbody>\n",
       "    <tr>\n",
       "      <th>0</th>\n",
       "      <td>Avatar</td>\n",
       "      <td>CCH Pounder</td>\n",
       "      <td>Joel David Moore</td>\n",
       "      <td>Wes Studi</td>\n",
       "      <td>James Cameron</td>\n",
       "    </tr>\n",
       "    <tr>\n",
       "      <th>1</th>\n",
       "      <td>Pirates of the Caribbean: At World's End</td>\n",
       "      <td>Johnny Depp</td>\n",
       "      <td>Orlando Bloom</td>\n",
       "      <td>Jack Davenport</td>\n",
       "      <td>Gore Verbinski</td>\n",
       "    </tr>\n",
       "    <tr>\n",
       "      <th>2</th>\n",
       "      <td>Spectre</td>\n",
       "      <td>Christoph Waltz</td>\n",
       "      <td>Rory Kinnear</td>\n",
       "      <td>Stephanie Sigman</td>\n",
       "      <td>Sam Mendes</td>\n",
       "    </tr>\n",
       "    <tr>\n",
       "      <th>...</th>\n",
       "      <td>...</td>\n",
       "      <td>...</td>\n",
       "      <td>...</td>\n",
       "      <td>...</td>\n",
       "      <td>...</td>\n",
       "    </tr>\n",
       "    <tr>\n",
       "      <th>5040</th>\n",
       "      <td>A Plague So Pleasant</td>\n",
       "      <td>Eva Boehnke</td>\n",
       "      <td>Maxwell Moody</td>\n",
       "      <td>David Chandler</td>\n",
       "      <td>Benjamin Roberds</td>\n",
       "    </tr>\n",
       "    <tr>\n",
       "      <th>5041</th>\n",
       "      <td>Shanghai Calling</td>\n",
       "      <td>Alan Ruck</td>\n",
       "      <td>Daniel Henney</td>\n",
       "      <td>Eliza Coupe</td>\n",
       "      <td>Daniel Hsia</td>\n",
       "    </tr>\n",
       "    <tr>\n",
       "      <th>5042</th>\n",
       "      <td>My Date with Drew</td>\n",
       "      <td>John August</td>\n",
       "      <td>Brian Herzlinger</td>\n",
       "      <td>Jon Gunn</td>\n",
       "      <td>Jon Gunn</td>\n",
       "    </tr>\n",
       "  </tbody>\n",
       "</table>\n",
       "<p>5043 rows × 5 columns</p>\n",
       "</div>"
      ],
      "text/plain": [
       "                                    movie_title     actor_1_name  \\\n",
       "0                                       Avatar       CCH Pounder   \n",
       "1     Pirates of the Caribbean: At World's End       Johnny Depp   \n",
       "2                                      Spectre   Christoph Waltz   \n",
       "...                                         ...              ...   \n",
       "5040                      A Plague So Pleasant       Eva Boehnke   \n",
       "5041                          Shanghai Calling         Alan Ruck   \n",
       "5042                         My Date with Drew       John August   \n",
       "\n",
       "          actor_2_name      actor_3_name     director_name  \n",
       "0     Joel David Moore         Wes Studi     James Cameron  \n",
       "1        Orlando Bloom    Jack Davenport    Gore Verbinski  \n",
       "2         Rory Kinnear  Stephanie Sigman        Sam Mendes  \n",
       "...                ...               ...               ...  \n",
       "5040     Maxwell Moody    David Chandler  Benjamin Roberds  \n",
       "5041     Daniel Henney       Eliza Coupe       Daniel Hsia  \n",
       "5042  Brian Herzlinger          Jon Gunn          Jon Gunn  \n",
       "\n",
       "[5043 rows x 5 columns]"
      ]
     },
     "execution_count": 91,
     "metadata": {},
     "output_type": "execute_result"
    }
   ],
   "source": [
    "movies[['movie_title','actor_1_name','actor_2_name','actor_3_name','director_name']] # Note TWO square brackets"
   ]
  },
  {
   "cell_type": "markdown",
   "metadata": {},
   "source": [
    "Side Note: Why did we use two square brackets? What we're doing is passing a `list` to the subset function.\n",
    "<br> Pandas `DataFrame` objects know that whenever we place `[]` after it, we're looking to do some sort of filtering operation"
   ]
  },
  {
   "cell_type": "code",
   "execution_count": 92,
   "metadata": {
    "tags": [
     "workshop"
    ]
   },
   "outputs": [
    {
     "data": {
      "text/html": [
       "<div>\n",
       "<style scoped>\n",
       "    .dataframe tbody tr th:only-of-type {\n",
       "        vertical-align: middle;\n",
       "    }\n",
       "\n",
       "    .dataframe tbody tr th {\n",
       "        vertical-align: top;\n",
       "    }\n",
       "\n",
       "    .dataframe thead th {\n",
       "        text-align: right;\n",
       "    }\n",
       "</style>\n",
       "<table border=\"1\" class=\"dataframe\">\n",
       "  <thead>\n",
       "    <tr style=\"text-align: right;\">\n",
       "      <th></th>\n",
       "      <th>actor_1_name</th>\n",
       "      <th>actor_2_name</th>\n",
       "      <th>actor_3_name</th>\n",
       "    </tr>\n",
       "  </thead>\n",
       "  <tbody>\n",
       "    <tr>\n",
       "      <th>0</th>\n",
       "      <td>CCH Pounder</td>\n",
       "      <td>Joel David Moore</td>\n",
       "      <td>Wes Studi</td>\n",
       "    </tr>\n",
       "    <tr>\n",
       "      <th>1</th>\n",
       "      <td>Johnny Depp</td>\n",
       "      <td>Orlando Bloom</td>\n",
       "      <td>Jack Davenport</td>\n",
       "    </tr>\n",
       "    <tr>\n",
       "      <th>2</th>\n",
       "      <td>Christoph Waltz</td>\n",
       "      <td>Rory Kinnear</td>\n",
       "      <td>Stephanie Sigman</td>\n",
       "    </tr>\n",
       "    <tr>\n",
       "      <th>...</th>\n",
       "      <td>...</td>\n",
       "      <td>...</td>\n",
       "      <td>...</td>\n",
       "    </tr>\n",
       "    <tr>\n",
       "      <th>5040</th>\n",
       "      <td>Eva Boehnke</td>\n",
       "      <td>Maxwell Moody</td>\n",
       "      <td>David Chandler</td>\n",
       "    </tr>\n",
       "    <tr>\n",
       "      <th>5041</th>\n",
       "      <td>Alan Ruck</td>\n",
       "      <td>Daniel Henney</td>\n",
       "      <td>Eliza Coupe</td>\n",
       "    </tr>\n",
       "    <tr>\n",
       "      <th>5042</th>\n",
       "      <td>John August</td>\n",
       "      <td>Brian Herzlinger</td>\n",
       "      <td>Jon Gunn</td>\n",
       "    </tr>\n",
       "  </tbody>\n",
       "</table>\n",
       "<p>5043 rows × 3 columns</p>\n",
       "</div>"
      ],
      "text/plain": [
       "         actor_1_name      actor_2_name      actor_3_name\n",
       "0         CCH Pounder  Joel David Moore         Wes Studi\n",
       "1         Johnny Depp     Orlando Bloom    Jack Davenport\n",
       "2     Christoph Waltz      Rory Kinnear  Stephanie Sigman\n",
       "...               ...               ...               ...\n",
       "5040      Eva Boehnke     Maxwell Moody    David Chandler\n",
       "5041        Alan Ruck     Daniel Henney       Eliza Coupe\n",
       "5042      John August  Brian Herzlinger          Jon Gunn\n",
       "\n",
       "[5043 rows x 3 columns]"
      ]
     },
     "execution_count": 92,
     "metadata": {},
     "output_type": "execute_result"
    }
   ],
   "source": [
    "actor_cols = ['actor_1_name','actor_2_name','actor_3_name']\n",
    "movies[actor_cols]"
   ]
  },
  {
   "cell_type": "markdown",
   "metadata": {},
   "source": [
    "Another quick point of confusion: Check out the difference between `df['column']` vs `df[['column']]` ( try it out below)"
   ]
  },
  {
   "cell_type": "code",
   "execution_count": 93,
   "metadata": {
    "tags": [
     "workshop"
    ]
   },
   "outputs": [
    {
     "data": {
      "text/plain": [
       "0       PG-13\n",
       "1       PG-13\n",
       "2       PG-13\n",
       "        ...  \n",
       "5040      NaN\n",
       "5041    PG-13\n",
       "5042       PG\n",
       "Name: content_rating, Length: 5043, dtype: object"
      ]
     },
     "execution_count": 93,
     "metadata": {},
     "output_type": "execute_result"
    }
   ],
   "source": [
    "movies['content_rating']"
   ]
  },
  {
   "cell_type": "code",
   "execution_count": 94,
   "metadata": {
    "tags": [
     "workshop"
    ]
   },
   "outputs": [
    {
     "data": {
      "text/html": [
       "<div>\n",
       "<style scoped>\n",
       "    .dataframe tbody tr th:only-of-type {\n",
       "        vertical-align: middle;\n",
       "    }\n",
       "\n",
       "    .dataframe tbody tr th {\n",
       "        vertical-align: top;\n",
       "    }\n",
       "\n",
       "    .dataframe thead th {\n",
       "        text-align: right;\n",
       "    }\n",
       "</style>\n",
       "<table border=\"1\" class=\"dataframe\">\n",
       "  <thead>\n",
       "    <tr style=\"text-align: right;\">\n",
       "      <th></th>\n",
       "      <th>content_rating</th>\n",
       "    </tr>\n",
       "  </thead>\n",
       "  <tbody>\n",
       "    <tr>\n",
       "      <th>0</th>\n",
       "      <td>PG-13</td>\n",
       "    </tr>\n",
       "    <tr>\n",
       "      <th>1</th>\n",
       "      <td>PG-13</td>\n",
       "    </tr>\n",
       "    <tr>\n",
       "      <th>2</th>\n",
       "      <td>PG-13</td>\n",
       "    </tr>\n",
       "    <tr>\n",
       "      <th>...</th>\n",
       "      <td>...</td>\n",
       "    </tr>\n",
       "    <tr>\n",
       "      <th>5040</th>\n",
       "      <td>NaN</td>\n",
       "    </tr>\n",
       "    <tr>\n",
       "      <th>5041</th>\n",
       "      <td>PG-13</td>\n",
       "    </tr>\n",
       "    <tr>\n",
       "      <th>5042</th>\n",
       "      <td>PG</td>\n",
       "    </tr>\n",
       "  </tbody>\n",
       "</table>\n",
       "<p>5043 rows × 1 columns</p>\n",
       "</div>"
      ],
      "text/plain": [
       "     content_rating\n",
       "0             PG-13\n",
       "1             PG-13\n",
       "2             PG-13\n",
       "...             ...\n",
       "5040            NaN\n",
       "5041          PG-13\n",
       "5042             PG\n",
       "\n",
       "[5043 rows x 1 columns]"
      ]
     },
     "execution_count": 94,
     "metadata": {},
     "output_type": "execute_result"
    }
   ],
   "source": [
    "movies[['content_rating']]"
   ]
  },
  {
   "cell_type": "markdown",
   "metadata": {},
   "source": [
    "The former creates a *series*, since the input is just one *string*. The latter creates a *dataframe*, since the input is a *list* of columns."
   ]
  },
  {
   "cell_type": "markdown",
   "metadata": {},
   "source": [
    "## Filtering Rows With Conditions"
   ]
  },
  {
   "cell_type": "markdown",
   "metadata": {},
   "source": [
    "Another common task is to filter rows based upon some criteria we have. We could:\n",
    "1. Compare floats\n",
    "2. Match strings\n",
    "3. Check against multiple elements"
   ]
  },
  {
   "cell_type": "code",
   "execution_count": 95,
   "metadata": {
    "scrolled": true,
    "tags": [
     "workshop"
    ]
   },
   "outputs": [
    {
     "data": {
      "text/html": [
       "<div>\n",
       "<style scoped>\n",
       "    .dataframe tbody tr th:only-of-type {\n",
       "        vertical-align: middle;\n",
       "    }\n",
       "\n",
       "    .dataframe tbody tr th {\n",
       "        vertical-align: top;\n",
       "    }\n",
       "\n",
       "    .dataframe thead th {\n",
       "        text-align: right;\n",
       "    }\n",
       "</style>\n",
       "<table border=\"1\" class=\"dataframe\">\n",
       "  <thead>\n",
       "    <tr style=\"text-align: right;\">\n",
       "      <th></th>\n",
       "      <th>movie_title</th>\n",
       "      <th>imdb_score</th>\n",
       "      <th>content_rating</th>\n",
       "      <th>budget</th>\n",
       "      <th>gross</th>\n",
       "      <th>duration</th>\n",
       "      <th>genres</th>\n",
       "      <th>actor_1_name</th>\n",
       "      <th>actor_2_name</th>\n",
       "      <th>actor_3_name</th>\n",
       "      <th>director_name</th>\n",
       "      <th>language</th>\n",
       "      <th>country</th>\n",
       "      <th>aspect_ratio</th>\n",
       "      <th>title_year</th>\n",
       "    </tr>\n",
       "  </thead>\n",
       "  <tbody>\n",
       "    <tr>\n",
       "      <th>3</th>\n",
       "      <td>The Dark Knight Rises</td>\n",
       "      <td>8.5</td>\n",
       "      <td>PG-13</td>\n",
       "      <td>250000000.0</td>\n",
       "      <td>448130642.0</td>\n",
       "      <td>164.0</td>\n",
       "      <td>Action|Thriller</td>\n",
       "      <td>Tom Hardy</td>\n",
       "      <td>Christian Bale</td>\n",
       "      <td>Joseph Gordon-Levitt</td>\n",
       "      <td>Christopher Nolan</td>\n",
       "      <td>English</td>\n",
       "      <td>USA</td>\n",
       "      <td>2.35</td>\n",
       "      <td>2012.0</td>\n",
       "    </tr>\n",
       "    <tr>\n",
       "      <th>17</th>\n",
       "      <td>The Avengers</td>\n",
       "      <td>8.1</td>\n",
       "      <td>PG-13</td>\n",
       "      <td>220000000.0</td>\n",
       "      <td>623279547.0</td>\n",
       "      <td>173.0</td>\n",
       "      <td>Action|Adventure|Sci-Fi</td>\n",
       "      <td>Chris Hemsworth</td>\n",
       "      <td>Robert Downey Jr.</td>\n",
       "      <td>Scarlett Johansson</td>\n",
       "      <td>Joss Whedon</td>\n",
       "      <td>English</td>\n",
       "      <td>USA</td>\n",
       "      <td>1.85</td>\n",
       "      <td>2012.0</td>\n",
       "    </tr>\n",
       "    <tr>\n",
       "      <th>27</th>\n",
       "      <td>Captain America: Civil War</td>\n",
       "      <td>8.2</td>\n",
       "      <td>PG-13</td>\n",
       "      <td>250000000.0</td>\n",
       "      <td>407197282.0</td>\n",
       "      <td>147.0</td>\n",
       "      <td>Action|Adventure|Sci-Fi</td>\n",
       "      <td>Robert Downey Jr.</td>\n",
       "      <td>Scarlett Johansson</td>\n",
       "      <td>Chris Evans</td>\n",
       "      <td>Anthony Russo</td>\n",
       "      <td>English</td>\n",
       "      <td>USA</td>\n",
       "      <td>2.35</td>\n",
       "      <td>2016.0</td>\n",
       "    </tr>\n",
       "    <tr>\n",
       "      <th>...</th>\n",
       "      <td>...</td>\n",
       "      <td>...</td>\n",
       "      <td>...</td>\n",
       "      <td>...</td>\n",
       "      <td>...</td>\n",
       "      <td>...</td>\n",
       "      <td>...</td>\n",
       "      <td>...</td>\n",
       "      <td>...</td>\n",
       "      <td>...</td>\n",
       "      <td>...</td>\n",
       "      <td>...</td>\n",
       "      <td>...</td>\n",
       "      <td>...</td>\n",
       "      <td>...</td>\n",
       "    </tr>\n",
       "    <tr>\n",
       "      <th>4945</th>\n",
       "      <td>The Brain That Sings</td>\n",
       "      <td>8.2</td>\n",
       "      <td>NaN</td>\n",
       "      <td>125000.0</td>\n",
       "      <td>NaN</td>\n",
       "      <td>62.0</td>\n",
       "      <td>Documentary|Family</td>\n",
       "      <td>NaN</td>\n",
       "      <td>NaN</td>\n",
       "      <td>NaN</td>\n",
       "      <td>Amal Al-Agroobi</td>\n",
       "      <td>Arabic</td>\n",
       "      <td>United Arab Emirates</td>\n",
       "      <td>NaN</td>\n",
       "      <td>2013.0</td>\n",
       "    </tr>\n",
       "    <tr>\n",
       "      <th>4972</th>\n",
       "      <td>Peace, Propaganda &amp; the Promised Land</td>\n",
       "      <td>8.3</td>\n",
       "      <td>NaN</td>\n",
       "      <td>70000.0</td>\n",
       "      <td>NaN</td>\n",
       "      <td>80.0</td>\n",
       "      <td>Documentary</td>\n",
       "      <td>Noam Chomsky</td>\n",
       "      <td>Seth Ackerman</td>\n",
       "      <td>Arik Ascherman</td>\n",
       "      <td>Sut Jhally</td>\n",
       "      <td>English</td>\n",
       "      <td>USA</td>\n",
       "      <td>NaN</td>\n",
       "      <td>2004.0</td>\n",
       "    </tr>\n",
       "    <tr>\n",
       "      <th>5001</th>\n",
       "      <td>The Last Waltz</td>\n",
       "      <td>8.2</td>\n",
       "      <td>PG</td>\n",
       "      <td>NaN</td>\n",
       "      <td>321952.0</td>\n",
       "      <td>117.0</td>\n",
       "      <td>Documentary|Music</td>\n",
       "      <td>Ringo Starr</td>\n",
       "      <td>Levon Helm</td>\n",
       "      <td>Bob Dylan</td>\n",
       "      <td>Martin Scorsese</td>\n",
       "      <td>English</td>\n",
       "      <td>USA</td>\n",
       "      <td>1.85</td>\n",
       "      <td>1978.0</td>\n",
       "    </tr>\n",
       "  </tbody>\n",
       "</table>\n",
       "<p>253 rows × 15 columns</p>\n",
       "</div>"
      ],
      "text/plain": [
       "                                 movie_title  imdb_score content_rating  \\\n",
       "3                     The Dark Knight Rises          8.5          PG-13   \n",
       "17                             The Avengers          8.1          PG-13   \n",
       "27               Captain America: Civil War          8.2          PG-13   \n",
       "...                                      ...         ...            ...   \n",
       "4945                   The Brain That Sings          8.2            NaN   \n",
       "4972  Peace, Propaganda & the Promised Land          8.3            NaN   \n",
       "5001                         The Last Waltz          8.2             PG   \n",
       "\n",
       "           budget        gross  duration                   genres  \\\n",
       "3     250000000.0  448130642.0     164.0          Action|Thriller   \n",
       "17    220000000.0  623279547.0     173.0  Action|Adventure|Sci-Fi   \n",
       "27    250000000.0  407197282.0     147.0  Action|Adventure|Sci-Fi   \n",
       "...           ...          ...       ...                      ...   \n",
       "4945     125000.0          NaN      62.0       Documentary|Family   \n",
       "4972      70000.0          NaN      80.0              Documentary   \n",
       "5001          NaN     321952.0     117.0        Documentary|Music   \n",
       "\n",
       "           actor_1_name        actor_2_name          actor_3_name  \\\n",
       "3             Tom Hardy      Christian Bale  Joseph Gordon-Levitt   \n",
       "17      Chris Hemsworth   Robert Downey Jr.    Scarlett Johansson   \n",
       "27    Robert Downey Jr.  Scarlett Johansson           Chris Evans   \n",
       "...                 ...                 ...                   ...   \n",
       "4945                NaN                 NaN                   NaN   \n",
       "4972       Noam Chomsky       Seth Ackerman        Arik Ascherman   \n",
       "5001        Ringo Starr          Levon Helm             Bob Dylan   \n",
       "\n",
       "          director_name language               country  aspect_ratio  \\\n",
       "3     Christopher Nolan  English                   USA          2.35   \n",
       "17          Joss Whedon  English                   USA          1.85   \n",
       "27        Anthony Russo  English                   USA          2.35   \n",
       "...                 ...      ...                   ...           ...   \n",
       "4945    Amal Al-Agroobi   Arabic  United Arab Emirates           NaN   \n",
       "4972         Sut Jhally  English                   USA           NaN   \n",
       "5001    Martin Scorsese  English                   USA          1.85   \n",
       "\n",
       "      title_year  \n",
       "3         2012.0  \n",
       "17        2012.0  \n",
       "27        2016.0  \n",
       "...          ...  \n",
       "4945      2013.0  \n",
       "4972      2004.0  \n",
       "5001      1978.0  \n",
       "\n",
       "[253 rows x 15 columns]"
      ]
     },
     "execution_count": 95,
     "metadata": {},
     "output_type": "execute_result"
    }
   ],
   "source": [
    "movies[movies.imdb_score > 8]"
   ]
  },
  {
   "cell_type": "code",
   "execution_count": 96,
   "metadata": {
    "scrolled": true,
    "tags": [
     "workshop"
    ]
   },
   "outputs": [
    {
     "data": {
      "text/html": [
       "<div>\n",
       "<style scoped>\n",
       "    .dataframe tbody tr th:only-of-type {\n",
       "        vertical-align: middle;\n",
       "    }\n",
       "\n",
       "    .dataframe tbody tr th {\n",
       "        vertical-align: top;\n",
       "    }\n",
       "\n",
       "    .dataframe thead th {\n",
       "        text-align: right;\n",
       "    }\n",
       "</style>\n",
       "<table border=\"1\" class=\"dataframe\">\n",
       "  <thead>\n",
       "    <tr style=\"text-align: right;\">\n",
       "      <th></th>\n",
       "      <th>movie_title</th>\n",
       "      <th>imdb_score</th>\n",
       "      <th>content_rating</th>\n",
       "      <th>budget</th>\n",
       "      <th>gross</th>\n",
       "      <th>duration</th>\n",
       "      <th>genres</th>\n",
       "      <th>actor_1_name</th>\n",
       "      <th>actor_2_name</th>\n",
       "      <th>actor_3_name</th>\n",
       "      <th>director_name</th>\n",
       "      <th>language</th>\n",
       "      <th>country</th>\n",
       "      <th>aspect_ratio</th>\n",
       "      <th>title_year</th>\n",
       "    </tr>\n",
       "  </thead>\n",
       "  <tbody>\n",
       "    <tr>\n",
       "      <th>35</th>\n",
       "      <td>Monsters University</td>\n",
       "      <td>7.3</td>\n",
       "      <td>G</td>\n",
       "      <td>200000000.0</td>\n",
       "      <td>268488329.0</td>\n",
       "      <td>104.0</td>\n",
       "      <td>Adventure|Animation|Comedy|Family|Fantasy</td>\n",
       "      <td>Steve Buscemi</td>\n",
       "      <td>Tyler Labine</td>\n",
       "      <td>Sean Hayes</td>\n",
       "      <td>Dan Scanlon</td>\n",
       "      <td>English</td>\n",
       "      <td>USA</td>\n",
       "      <td>1.85</td>\n",
       "      <td>2013.0</td>\n",
       "    </tr>\n",
       "    <tr>\n",
       "      <th>41</th>\n",
       "      <td>Cars 2</td>\n",
       "      <td>6.3</td>\n",
       "      <td>G</td>\n",
       "      <td>200000000.0</td>\n",
       "      <td>191450875.0</td>\n",
       "      <td>106.0</td>\n",
       "      <td>Adventure|Animation|Comedy|Family|Sport</td>\n",
       "      <td>Joe Mantegna</td>\n",
       "      <td>Thomas Kretschmann</td>\n",
       "      <td>Eddie Izzard</td>\n",
       "      <td>John Lasseter</td>\n",
       "      <td>English</td>\n",
       "      <td>USA</td>\n",
       "      <td>2.35</td>\n",
       "      <td>2011.0</td>\n",
       "    </tr>\n",
       "    <tr>\n",
       "      <th>43</th>\n",
       "      <td>Toy Story 3</td>\n",
       "      <td>8.3</td>\n",
       "      <td>G</td>\n",
       "      <td>200000000.0</td>\n",
       "      <td>414984497.0</td>\n",
       "      <td>103.0</td>\n",
       "      <td>Adventure|Animation|Comedy|Family|Fantasy</td>\n",
       "      <td>Tom Hanks</td>\n",
       "      <td>John Ratzenberger</td>\n",
       "      <td>Don Rickles</td>\n",
       "      <td>Lee Unkrich</td>\n",
       "      <td>English</td>\n",
       "      <td>USA</td>\n",
       "      <td>1.85</td>\n",
       "      <td>2010.0</td>\n",
       "    </tr>\n",
       "    <tr>\n",
       "      <th>...</th>\n",
       "      <td>...</td>\n",
       "      <td>...</td>\n",
       "      <td>...</td>\n",
       "      <td>...</td>\n",
       "      <td>...</td>\n",
       "      <td>...</td>\n",
       "      <td>...</td>\n",
       "      <td>...</td>\n",
       "      <td>...</td>\n",
       "      <td>...</td>\n",
       "      <td>...</td>\n",
       "      <td>...</td>\n",
       "      <td>...</td>\n",
       "      <td>...</td>\n",
       "      <td>...</td>\n",
       "    </tr>\n",
       "    <tr>\n",
       "      <th>4725</th>\n",
       "      <td>Benji</td>\n",
       "      <td>6.1</td>\n",
       "      <td>G</td>\n",
       "      <td>500000.0</td>\n",
       "      <td>39552600.0</td>\n",
       "      <td>86.0</td>\n",
       "      <td>Adventure|Family|Romance</td>\n",
       "      <td>Frances Bavier</td>\n",
       "      <td>Peter Breck</td>\n",
       "      <td>Edgar Buchanan</td>\n",
       "      <td>Joe Camp</td>\n",
       "      <td>English</td>\n",
       "      <td>USA</td>\n",
       "      <td>1.85</td>\n",
       "      <td>1974.0</td>\n",
       "    </tr>\n",
       "    <tr>\n",
       "      <th>4787</th>\n",
       "      <td>Rise of the Entrepreneur: The Search for a Bet...</td>\n",
       "      <td>8.2</td>\n",
       "      <td>G</td>\n",
       "      <td>450000.0</td>\n",
       "      <td>NaN</td>\n",
       "      <td>52.0</td>\n",
       "      <td>Documentary</td>\n",
       "      <td>Bob Proctor</td>\n",
       "      <td>Jack Canfield</td>\n",
       "      <td>Eric Worre</td>\n",
       "      <td>Joe Kenemore</td>\n",
       "      <td>English</td>\n",
       "      <td>USA</td>\n",
       "      <td>NaN</td>\n",
       "      <td>2014.0</td>\n",
       "    </tr>\n",
       "    <tr>\n",
       "      <th>4874</th>\n",
       "      <td>Sunday School Musical</td>\n",
       "      <td>2.5</td>\n",
       "      <td>G</td>\n",
       "      <td>NaN</td>\n",
       "      <td>NaN</td>\n",
       "      <td>93.0</td>\n",
       "      <td>Drama|Musical</td>\n",
       "      <td>Dustin Fitzsimons</td>\n",
       "      <td>Mark Hengst</td>\n",
       "      <td>Debra Lynn Hull</td>\n",
       "      <td>Rachel Goldenberg</td>\n",
       "      <td>English</td>\n",
       "      <td>USA</td>\n",
       "      <td>1.85</td>\n",
       "      <td>2008.0</td>\n",
       "    </tr>\n",
       "  </tbody>\n",
       "</table>\n",
       "<p>112 rows × 15 columns</p>\n",
       "</div>"
      ],
      "text/plain": [
       "                                            movie_title  imdb_score  \\\n",
       "35                                 Monsters University          7.3   \n",
       "41                                              Cars 2          6.3   \n",
       "43                                         Toy Story 3          8.3   \n",
       "...                                                 ...         ...   \n",
       "4725                                             Benji          6.1   \n",
       "4787  Rise of the Entrepreneur: The Search for a Bet...         8.2   \n",
       "4874                             Sunday School Musical          2.5   \n",
       "\n",
       "     content_rating       budget        gross  duration  \\\n",
       "35                G  200000000.0  268488329.0     104.0   \n",
       "41                G  200000000.0  191450875.0     106.0   \n",
       "43                G  200000000.0  414984497.0     103.0   \n",
       "...             ...          ...          ...       ...   \n",
       "4725              G     500000.0   39552600.0      86.0   \n",
       "4787              G     450000.0          NaN      52.0   \n",
       "4874              G          NaN          NaN      93.0   \n",
       "\n",
       "                                         genres       actor_1_name  \\\n",
       "35    Adventure|Animation|Comedy|Family|Fantasy      Steve Buscemi   \n",
       "41      Adventure|Animation|Comedy|Family|Sport       Joe Mantegna   \n",
       "43    Adventure|Animation|Comedy|Family|Fantasy          Tom Hanks   \n",
       "...                                         ...                ...   \n",
       "4725                   Adventure|Family|Romance     Frances Bavier   \n",
       "4787                                Documentary        Bob Proctor   \n",
       "4874                              Drama|Musical  Dustin Fitzsimons   \n",
       "\n",
       "            actor_2_name     actor_3_name      director_name language country  \\\n",
       "35          Tyler Labine       Sean Hayes        Dan Scanlon  English     USA   \n",
       "41    Thomas Kretschmann     Eddie Izzard      John Lasseter  English     USA   \n",
       "43     John Ratzenberger      Don Rickles        Lee Unkrich  English     USA   \n",
       "...                  ...              ...                ...      ...     ...   \n",
       "4725         Peter Breck   Edgar Buchanan           Joe Camp  English     USA   \n",
       "4787       Jack Canfield       Eric Worre       Joe Kenemore  English     USA   \n",
       "4874         Mark Hengst  Debra Lynn Hull  Rachel Goldenberg  English     USA   \n",
       "\n",
       "      aspect_ratio  title_year  \n",
       "35            1.85      2013.0  \n",
       "41            2.35      2011.0  \n",
       "43            1.85      2010.0  \n",
       "...            ...         ...  \n",
       "4725          1.85      1974.0  \n",
       "4787           NaN      2014.0  \n",
       "4874          1.85      2008.0  \n",
       "\n",
       "[112 rows x 15 columns]"
      ]
     },
     "execution_count": 96,
     "metadata": {},
     "output_type": "execute_result"
    }
   ],
   "source": [
    "movies[movies.content_rating == 'G']"
   ]
  },
  {
   "cell_type": "markdown",
   "metadata": {},
   "source": [
    "What if we wanted to find movies that were either `G`, `PG`, or `PG-13`? \n",
    "We'd have to type out something pretty annoying like: \n",
    "```python\n",
    "movies[(movies.content_rating == 'G') | (movies.content_rating == 'PG') | (movies.content_rating == 'PG-13')]\n",
    "```\n",
    "\n",
    "<br>Instead, we'll use the `.isin()` operator to match against a group. Remember, `.isin()` accepts a `list` only"
   ]
  },
  {
   "cell_type": "code",
   "execution_count": 97,
   "metadata": {
    "scrolled": true,
    "tags": [
     "workshop"
    ]
   },
   "outputs": [
    {
     "data": {
      "text/html": [
       "<div>\n",
       "<style scoped>\n",
       "    .dataframe tbody tr th:only-of-type {\n",
       "        vertical-align: middle;\n",
       "    }\n",
       "\n",
       "    .dataframe tbody tr th {\n",
       "        vertical-align: top;\n",
       "    }\n",
       "\n",
       "    .dataframe thead th {\n",
       "        text-align: right;\n",
       "    }\n",
       "</style>\n",
       "<table border=\"1\" class=\"dataframe\">\n",
       "  <thead>\n",
       "    <tr style=\"text-align: right;\">\n",
       "      <th></th>\n",
       "      <th>movie_title</th>\n",
       "      <th>imdb_score</th>\n",
       "      <th>content_rating</th>\n",
       "      <th>budget</th>\n",
       "      <th>gross</th>\n",
       "      <th>duration</th>\n",
       "      <th>genres</th>\n",
       "      <th>actor_1_name</th>\n",
       "      <th>actor_2_name</th>\n",
       "      <th>actor_3_name</th>\n",
       "      <th>director_name</th>\n",
       "      <th>language</th>\n",
       "      <th>country</th>\n",
       "      <th>aspect_ratio</th>\n",
       "      <th>title_year</th>\n",
       "    </tr>\n",
       "  </thead>\n",
       "  <tbody>\n",
       "    <tr>\n",
       "      <th>0</th>\n",
       "      <td>Avatar</td>\n",
       "      <td>7.9</td>\n",
       "      <td>PG-13</td>\n",
       "      <td>237000000.0</td>\n",
       "      <td>760505847.0</td>\n",
       "      <td>178.0</td>\n",
       "      <td>Action|Adventure|Fantasy|Sci-Fi</td>\n",
       "      <td>CCH Pounder</td>\n",
       "      <td>Joel David Moore</td>\n",
       "      <td>Wes Studi</td>\n",
       "      <td>James Cameron</td>\n",
       "      <td>English</td>\n",
       "      <td>USA</td>\n",
       "      <td>1.78</td>\n",
       "      <td>2009.0</td>\n",
       "    </tr>\n",
       "    <tr>\n",
       "      <th>1</th>\n",
       "      <td>Pirates of the Caribbean: At World's End</td>\n",
       "      <td>7.1</td>\n",
       "      <td>PG-13</td>\n",
       "      <td>300000000.0</td>\n",
       "      <td>309404152.0</td>\n",
       "      <td>169.0</td>\n",
       "      <td>Action|Adventure|Fantasy</td>\n",
       "      <td>Johnny Depp</td>\n",
       "      <td>Orlando Bloom</td>\n",
       "      <td>Jack Davenport</td>\n",
       "      <td>Gore Verbinski</td>\n",
       "      <td>English</td>\n",
       "      <td>USA</td>\n",
       "      <td>2.35</td>\n",
       "      <td>2007.0</td>\n",
       "    </tr>\n",
       "    <tr>\n",
       "      <th>2</th>\n",
       "      <td>Spectre</td>\n",
       "      <td>6.8</td>\n",
       "      <td>PG-13</td>\n",
       "      <td>245000000.0</td>\n",
       "      <td>200074175.0</td>\n",
       "      <td>148.0</td>\n",
       "      <td>Action|Adventure|Thriller</td>\n",
       "      <td>Christoph Waltz</td>\n",
       "      <td>Rory Kinnear</td>\n",
       "      <td>Stephanie Sigman</td>\n",
       "      <td>Sam Mendes</td>\n",
       "      <td>English</td>\n",
       "      <td>UK</td>\n",
       "      <td>2.35</td>\n",
       "      <td>2015.0</td>\n",
       "    </tr>\n",
       "    <tr>\n",
       "      <th>...</th>\n",
       "      <td>...</td>\n",
       "      <td>...</td>\n",
       "      <td>...</td>\n",
       "      <td>...</td>\n",
       "      <td>...</td>\n",
       "      <td>...</td>\n",
       "      <td>...</td>\n",
       "      <td>...</td>\n",
       "      <td>...</td>\n",
       "      <td>...</td>\n",
       "      <td>...</td>\n",
       "      <td>...</td>\n",
       "      <td>...</td>\n",
       "      <td>...</td>\n",
       "      <td>...</td>\n",
       "    </tr>\n",
       "    <tr>\n",
       "      <th>5036</th>\n",
       "      <td>The Mongol King</td>\n",
       "      <td>7.8</td>\n",
       "      <td>PG-13</td>\n",
       "      <td>3250.0</td>\n",
       "      <td>NaN</td>\n",
       "      <td>84.0</td>\n",
       "      <td>Crime|Drama</td>\n",
       "      <td>Richard Jewell</td>\n",
       "      <td>John Considine</td>\n",
       "      <td>Sara Stepnicka</td>\n",
       "      <td>Anthony Vallone</td>\n",
       "      <td>English</td>\n",
       "      <td>USA</td>\n",
       "      <td>NaN</td>\n",
       "      <td>2005.0</td>\n",
       "    </tr>\n",
       "    <tr>\n",
       "      <th>5041</th>\n",
       "      <td>Shanghai Calling</td>\n",
       "      <td>6.3</td>\n",
       "      <td>PG-13</td>\n",
       "      <td>NaN</td>\n",
       "      <td>10443.0</td>\n",
       "      <td>100.0</td>\n",
       "      <td>Comedy|Drama|Romance</td>\n",
       "      <td>Alan Ruck</td>\n",
       "      <td>Daniel Henney</td>\n",
       "      <td>Eliza Coupe</td>\n",
       "      <td>Daniel Hsia</td>\n",
       "      <td>English</td>\n",
       "      <td>USA</td>\n",
       "      <td>2.35</td>\n",
       "      <td>2012.0</td>\n",
       "    </tr>\n",
       "    <tr>\n",
       "      <th>5042</th>\n",
       "      <td>My Date with Drew</td>\n",
       "      <td>6.6</td>\n",
       "      <td>PG</td>\n",
       "      <td>1100.0</td>\n",
       "      <td>85222.0</td>\n",
       "      <td>90.0</td>\n",
       "      <td>Documentary</td>\n",
       "      <td>John August</td>\n",
       "      <td>Brian Herzlinger</td>\n",
       "      <td>Jon Gunn</td>\n",
       "      <td>Jon Gunn</td>\n",
       "      <td>English</td>\n",
       "      <td>USA</td>\n",
       "      <td>1.85</td>\n",
       "      <td>2004.0</td>\n",
       "    </tr>\n",
       "  </tbody>\n",
       "</table>\n",
       "<p>2274 rows × 15 columns</p>\n",
       "</div>"
      ],
      "text/plain": [
       "                                    movie_title  imdb_score content_rating  \\\n",
       "0                                       Avatar          7.9          PG-13   \n",
       "1     Pirates of the Caribbean: At World's End          7.1          PG-13   \n",
       "2                                      Spectre          6.8          PG-13   \n",
       "...                                         ...         ...            ...   \n",
       "5036                           The Mongol King          7.8          PG-13   \n",
       "5041                          Shanghai Calling          6.3          PG-13   \n",
       "5042                         My Date with Drew          6.6             PG   \n",
       "\n",
       "           budget        gross  duration                           genres  \\\n",
       "0     237000000.0  760505847.0     178.0  Action|Adventure|Fantasy|Sci-Fi   \n",
       "1     300000000.0  309404152.0     169.0         Action|Adventure|Fantasy   \n",
       "2     245000000.0  200074175.0     148.0        Action|Adventure|Thriller   \n",
       "...           ...          ...       ...                              ...   \n",
       "5036       3250.0          NaN      84.0                      Crime|Drama   \n",
       "5041          NaN      10443.0     100.0             Comedy|Drama|Romance   \n",
       "5042       1100.0      85222.0      90.0                      Documentary   \n",
       "\n",
       "         actor_1_name      actor_2_name      actor_3_name    director_name  \\\n",
       "0         CCH Pounder  Joel David Moore         Wes Studi    James Cameron   \n",
       "1         Johnny Depp     Orlando Bloom    Jack Davenport   Gore Verbinski   \n",
       "2     Christoph Waltz      Rory Kinnear  Stephanie Sigman       Sam Mendes   \n",
       "...               ...               ...               ...              ...   \n",
       "5036   Richard Jewell    John Considine    Sara Stepnicka  Anthony Vallone   \n",
       "5041        Alan Ruck     Daniel Henney       Eliza Coupe      Daniel Hsia   \n",
       "5042      John August  Brian Herzlinger          Jon Gunn         Jon Gunn   \n",
       "\n",
       "     language country  aspect_ratio  title_year  \n",
       "0     English     USA          1.78      2009.0  \n",
       "1     English     USA          2.35      2007.0  \n",
       "2     English      UK          2.35      2015.0  \n",
       "...       ...     ...           ...         ...  \n",
       "5036  English     USA           NaN      2005.0  \n",
       "5041  English     USA          2.35      2012.0  \n",
       "5042  English     USA          1.85      2004.0  \n",
       "\n",
       "[2274 rows x 15 columns]"
      ]
     },
     "execution_count": 97,
     "metadata": {},
     "output_type": "execute_result"
    }
   ],
   "source": [
    "movies[movies.content_rating.isin(['G','PG', 'PG-13'])]"
   ]
  },
  {
   "cell_type": "markdown",
   "metadata": {},
   "source": [
    "### Masking"
   ]
  },
  {
   "cell_type": "markdown",
   "metadata": {},
   "source": [
    "What's going on under the hood? When we say something like this,\n",
    "```python \n",
    "movies.content_rating == 'G'\n",
    "```\n",
    "We're actually asking Pandas to check that **for each** row in the series, if the given statement is True or False.\n"
   ]
  },
  {
   "cell_type": "code",
   "execution_count": 98,
   "metadata": {
    "scrolled": true,
    "tags": [
     "workshop"
    ]
   },
   "outputs": [
    {
     "data": {
      "text/plain": [
       "0       False\n",
       "1       False\n",
       "2       False\n",
       "        ...  \n",
       "5040    False\n",
       "5041    False\n",
       "5042    False\n",
       "Name: content_rating, Length: 5043, dtype: bool"
      ]
     },
     "execution_count": 98,
     "metadata": {},
     "output_type": "execute_result"
    }
   ],
   "source": [
    "movies.content_rating == 'G'"
   ]
  },
  {
   "cell_type": "code",
   "execution_count": 99,
   "metadata": {
    "scrolled": true,
    "tags": [
     "workshop"
    ]
   },
   "outputs": [
    {
     "data": {
      "text/html": [
       "<div>\n",
       "<style scoped>\n",
       "    .dataframe tbody tr th:only-of-type {\n",
       "        vertical-align: middle;\n",
       "    }\n",
       "\n",
       "    .dataframe tbody tr th {\n",
       "        vertical-align: top;\n",
       "    }\n",
       "\n",
       "    .dataframe thead th {\n",
       "        text-align: right;\n",
       "    }\n",
       "</style>\n",
       "<table border=\"1\" class=\"dataframe\">\n",
       "  <thead>\n",
       "    <tr style=\"text-align: right;\">\n",
       "      <th></th>\n",
       "      <th>movie_title</th>\n",
       "      <th>imdb_score</th>\n",
       "      <th>content_rating</th>\n",
       "      <th>budget</th>\n",
       "      <th>gross</th>\n",
       "      <th>duration</th>\n",
       "      <th>genres</th>\n",
       "      <th>actor_1_name</th>\n",
       "      <th>actor_2_name</th>\n",
       "      <th>actor_3_name</th>\n",
       "      <th>director_name</th>\n",
       "      <th>language</th>\n",
       "      <th>country</th>\n",
       "      <th>aspect_ratio</th>\n",
       "      <th>title_year</th>\n",
       "    </tr>\n",
       "  </thead>\n",
       "  <tbody>\n",
       "    <tr>\n",
       "      <th>35</th>\n",
       "      <td>Monsters University</td>\n",
       "      <td>7.3</td>\n",
       "      <td>G</td>\n",
       "      <td>200000000.0</td>\n",
       "      <td>268488329.0</td>\n",
       "      <td>104.0</td>\n",
       "      <td>Adventure|Animation|Comedy|Family|Fantasy</td>\n",
       "      <td>Steve Buscemi</td>\n",
       "      <td>Tyler Labine</td>\n",
       "      <td>Sean Hayes</td>\n",
       "      <td>Dan Scanlon</td>\n",
       "      <td>English</td>\n",
       "      <td>USA</td>\n",
       "      <td>1.85</td>\n",
       "      <td>2013.0</td>\n",
       "    </tr>\n",
       "    <tr>\n",
       "      <th>41</th>\n",
       "      <td>Cars 2</td>\n",
       "      <td>6.3</td>\n",
       "      <td>G</td>\n",
       "      <td>200000000.0</td>\n",
       "      <td>191450875.0</td>\n",
       "      <td>106.0</td>\n",
       "      <td>Adventure|Animation|Comedy|Family|Sport</td>\n",
       "      <td>Joe Mantegna</td>\n",
       "      <td>Thomas Kretschmann</td>\n",
       "      <td>Eddie Izzard</td>\n",
       "      <td>John Lasseter</td>\n",
       "      <td>English</td>\n",
       "      <td>USA</td>\n",
       "      <td>2.35</td>\n",
       "      <td>2011.0</td>\n",
       "    </tr>\n",
       "    <tr>\n",
       "      <th>43</th>\n",
       "      <td>Toy Story 3</td>\n",
       "      <td>8.3</td>\n",
       "      <td>G</td>\n",
       "      <td>200000000.0</td>\n",
       "      <td>414984497.0</td>\n",
       "      <td>103.0</td>\n",
       "      <td>Adventure|Animation|Comedy|Family|Fantasy</td>\n",
       "      <td>Tom Hanks</td>\n",
       "      <td>John Ratzenberger</td>\n",
       "      <td>Don Rickles</td>\n",
       "      <td>Lee Unkrich</td>\n",
       "      <td>English</td>\n",
       "      <td>USA</td>\n",
       "      <td>1.85</td>\n",
       "      <td>2010.0</td>\n",
       "    </tr>\n",
       "    <tr>\n",
       "      <th>...</th>\n",
       "      <td>...</td>\n",
       "      <td>...</td>\n",
       "      <td>...</td>\n",
       "      <td>...</td>\n",
       "      <td>...</td>\n",
       "      <td>...</td>\n",
       "      <td>...</td>\n",
       "      <td>...</td>\n",
       "      <td>...</td>\n",
       "      <td>...</td>\n",
       "      <td>...</td>\n",
       "      <td>...</td>\n",
       "      <td>...</td>\n",
       "      <td>...</td>\n",
       "      <td>...</td>\n",
       "    </tr>\n",
       "    <tr>\n",
       "      <th>4725</th>\n",
       "      <td>Benji</td>\n",
       "      <td>6.1</td>\n",
       "      <td>G</td>\n",
       "      <td>500000.0</td>\n",
       "      <td>39552600.0</td>\n",
       "      <td>86.0</td>\n",
       "      <td>Adventure|Family|Romance</td>\n",
       "      <td>Frances Bavier</td>\n",
       "      <td>Peter Breck</td>\n",
       "      <td>Edgar Buchanan</td>\n",
       "      <td>Joe Camp</td>\n",
       "      <td>English</td>\n",
       "      <td>USA</td>\n",
       "      <td>1.85</td>\n",
       "      <td>1974.0</td>\n",
       "    </tr>\n",
       "    <tr>\n",
       "      <th>4787</th>\n",
       "      <td>Rise of the Entrepreneur: The Search for a Bet...</td>\n",
       "      <td>8.2</td>\n",
       "      <td>G</td>\n",
       "      <td>450000.0</td>\n",
       "      <td>NaN</td>\n",
       "      <td>52.0</td>\n",
       "      <td>Documentary</td>\n",
       "      <td>Bob Proctor</td>\n",
       "      <td>Jack Canfield</td>\n",
       "      <td>Eric Worre</td>\n",
       "      <td>Joe Kenemore</td>\n",
       "      <td>English</td>\n",
       "      <td>USA</td>\n",
       "      <td>NaN</td>\n",
       "      <td>2014.0</td>\n",
       "    </tr>\n",
       "    <tr>\n",
       "      <th>4874</th>\n",
       "      <td>Sunday School Musical</td>\n",
       "      <td>2.5</td>\n",
       "      <td>G</td>\n",
       "      <td>NaN</td>\n",
       "      <td>NaN</td>\n",
       "      <td>93.0</td>\n",
       "      <td>Drama|Musical</td>\n",
       "      <td>Dustin Fitzsimons</td>\n",
       "      <td>Mark Hengst</td>\n",
       "      <td>Debra Lynn Hull</td>\n",
       "      <td>Rachel Goldenberg</td>\n",
       "      <td>English</td>\n",
       "      <td>USA</td>\n",
       "      <td>1.85</td>\n",
       "      <td>2008.0</td>\n",
       "    </tr>\n",
       "  </tbody>\n",
       "</table>\n",
       "<p>112 rows × 15 columns</p>\n",
       "</div>"
      ],
      "text/plain": [
       "                                            movie_title  imdb_score  \\\n",
       "35                                 Monsters University          7.3   \n",
       "41                                              Cars 2          6.3   \n",
       "43                                         Toy Story 3          8.3   \n",
       "...                                                 ...         ...   \n",
       "4725                                             Benji          6.1   \n",
       "4787  Rise of the Entrepreneur: The Search for a Bet...         8.2   \n",
       "4874                             Sunday School Musical          2.5   \n",
       "\n",
       "     content_rating       budget        gross  duration  \\\n",
       "35                G  200000000.0  268488329.0     104.0   \n",
       "41                G  200000000.0  191450875.0     106.0   \n",
       "43                G  200000000.0  414984497.0     103.0   \n",
       "...             ...          ...          ...       ...   \n",
       "4725              G     500000.0   39552600.0      86.0   \n",
       "4787              G     450000.0          NaN      52.0   \n",
       "4874              G          NaN          NaN      93.0   \n",
       "\n",
       "                                         genres       actor_1_name  \\\n",
       "35    Adventure|Animation|Comedy|Family|Fantasy      Steve Buscemi   \n",
       "41      Adventure|Animation|Comedy|Family|Sport       Joe Mantegna   \n",
       "43    Adventure|Animation|Comedy|Family|Fantasy          Tom Hanks   \n",
       "...                                         ...                ...   \n",
       "4725                   Adventure|Family|Romance     Frances Bavier   \n",
       "4787                                Documentary        Bob Proctor   \n",
       "4874                              Drama|Musical  Dustin Fitzsimons   \n",
       "\n",
       "            actor_2_name     actor_3_name      director_name language country  \\\n",
       "35          Tyler Labine       Sean Hayes        Dan Scanlon  English     USA   \n",
       "41    Thomas Kretschmann     Eddie Izzard      John Lasseter  English     USA   \n",
       "43     John Ratzenberger      Don Rickles        Lee Unkrich  English     USA   \n",
       "...                  ...              ...                ...      ...     ...   \n",
       "4725         Peter Breck   Edgar Buchanan           Joe Camp  English     USA   \n",
       "4787       Jack Canfield       Eric Worre       Joe Kenemore  English     USA   \n",
       "4874         Mark Hengst  Debra Lynn Hull  Rachel Goldenberg  English     USA   \n",
       "\n",
       "      aspect_ratio  title_year  \n",
       "35            1.85      2013.0  \n",
       "41            2.35      2011.0  \n",
       "43            1.85      2010.0  \n",
       "...            ...         ...  \n",
       "4725          1.85      1974.0  \n",
       "4787           NaN      2014.0  \n",
       "4874          1.85      2008.0  \n",
       "\n",
       "[112 rows x 15 columns]"
      ]
     },
     "execution_count": 99,
     "metadata": {},
     "output_type": "execute_result"
    }
   ],
   "source": [
    "movies[  movies.content_rating == 'G'  ]"
   ]
  },
  {
   "cell_type": "markdown",
   "metadata": {},
   "source": [
    "## Basic functions"
   ]
  },
  {
   "cell_type": "markdown",
   "metadata": {},
   "source": [
    "There's a couple super helpful functions that help us work with our data.\n",
    "\n",
    "For sorting, we can use `.sort_values(by= )`, and pass in either a single string, or multiple strings in a list.\n",
    "<br>To flip the default order, change the `ascending= ` parameter to `False`"
   ]
  },
  {
   "cell_type": "code",
   "execution_count": 100,
   "metadata": {},
   "outputs": [
    {
     "data": {
      "text/html": [
       "<div>\n",
       "<style scoped>\n",
       "    .dataframe tbody tr th:only-of-type {\n",
       "        vertical-align: middle;\n",
       "    }\n",
       "\n",
       "    .dataframe tbody tr th {\n",
       "        vertical-align: top;\n",
       "    }\n",
       "\n",
       "    .dataframe thead th {\n",
       "        text-align: right;\n",
       "    }\n",
       "</style>\n",
       "<table border=\"1\" class=\"dataframe\">\n",
       "  <thead>\n",
       "    <tr style=\"text-align: right;\">\n",
       "      <th></th>\n",
       "      <th>movie_title</th>\n",
       "      <th>imdb_score</th>\n",
       "      <th>content_rating</th>\n",
       "      <th>budget</th>\n",
       "      <th>gross</th>\n",
       "      <th>duration</th>\n",
       "      <th>genres</th>\n",
       "      <th>actor_1_name</th>\n",
       "      <th>actor_2_name</th>\n",
       "      <th>actor_3_name</th>\n",
       "      <th>director_name</th>\n",
       "      <th>language</th>\n",
       "      <th>country</th>\n",
       "      <th>aspect_ratio</th>\n",
       "      <th>title_year</th>\n",
       "    </tr>\n",
       "  </thead>\n",
       "  <tbody>\n",
       "    <tr>\n",
       "      <th>2765</th>\n",
       "      <td>Towering Inferno</td>\n",
       "      <td>9.5</td>\n",
       "      <td>NaN</td>\n",
       "      <td>NaN</td>\n",
       "      <td>NaN</td>\n",
       "      <td>65.0</td>\n",
       "      <td>Comedy</td>\n",
       "      <td>Martin Short</td>\n",
       "      <td>Andrea Martin</td>\n",
       "      <td>Joe Flaherty</td>\n",
       "      <td>John Blanchard</td>\n",
       "      <td>English</td>\n",
       "      <td>Canada</td>\n",
       "      <td>1.33</td>\n",
       "      <td>NaN</td>\n",
       "    </tr>\n",
       "    <tr>\n",
       "      <th>1937</th>\n",
       "      <td>The Shawshank Redemption</td>\n",
       "      <td>9.3</td>\n",
       "      <td>R</td>\n",
       "      <td>25000000.0</td>\n",
       "      <td>28341469.0</td>\n",
       "      <td>142.0</td>\n",
       "      <td>Crime|Drama</td>\n",
       "      <td>Morgan Freeman</td>\n",
       "      <td>Jeffrey DeMunn</td>\n",
       "      <td>Bob Gunton</td>\n",
       "      <td>Frank Darabont</td>\n",
       "      <td>English</td>\n",
       "      <td>USA</td>\n",
       "      <td>1.85</td>\n",
       "      <td>1994.0</td>\n",
       "    </tr>\n",
       "    <tr>\n",
       "      <th>3466</th>\n",
       "      <td>The Godfather</td>\n",
       "      <td>9.2</td>\n",
       "      <td>R</td>\n",
       "      <td>6000000.0</td>\n",
       "      <td>134821952.0</td>\n",
       "      <td>175.0</td>\n",
       "      <td>Crime|Drama</td>\n",
       "      <td>Al Pacino</td>\n",
       "      <td>Marlon Brando</td>\n",
       "      <td>Robert Duvall</td>\n",
       "      <td>Francis Ford Coppola</td>\n",
       "      <td>English</td>\n",
       "      <td>USA</td>\n",
       "      <td>1.85</td>\n",
       "      <td>1972.0</td>\n",
       "    </tr>\n",
       "    <tr>\n",
       "      <th>2824</th>\n",
       "      <td>Dekalog</td>\n",
       "      <td>9.1</td>\n",
       "      <td>TV-MA</td>\n",
       "      <td>NaN</td>\n",
       "      <td>447093.0</td>\n",
       "      <td>55.0</td>\n",
       "      <td>Drama</td>\n",
       "      <td>Krystyna Janda</td>\n",
       "      <td>Olaf Lubaszenko</td>\n",
       "      <td>Olgierd Lukaszewicz</td>\n",
       "      <td>NaN</td>\n",
       "      <td>Polish</td>\n",
       "      <td>Poland</td>\n",
       "      <td>1.33</td>\n",
       "      <td>NaN</td>\n",
       "    </tr>\n",
       "    <tr>\n",
       "      <th>3207</th>\n",
       "      <td>Dekalog</td>\n",
       "      <td>9.1</td>\n",
       "      <td>TV-MA</td>\n",
       "      <td>NaN</td>\n",
       "      <td>447093.0</td>\n",
       "      <td>55.0</td>\n",
       "      <td>Drama</td>\n",
       "      <td>Krystyna Janda</td>\n",
       "      <td>Olaf Lubaszenko</td>\n",
       "      <td>Olgierd Lukaszewicz</td>\n",
       "      <td>NaN</td>\n",
       "      <td>Polish</td>\n",
       "      <td>Poland</td>\n",
       "      <td>1.33</td>\n",
       "      <td>NaN</td>\n",
       "    </tr>\n",
       "  </tbody>\n",
       "</table>\n",
       "</div>"
      ],
      "text/plain": [
       "                        movie_title  imdb_score content_rating      budget  \\\n",
       "2765  Towering Inferno                      9.5            NaN         NaN   \n",
       "1937      The Shawshank Redemption          9.3              R  25000000.0   \n",
       "3466                 The Godfather          9.2              R   6000000.0   \n",
       "2824           Dekalog                      9.1          TV-MA         NaN   \n",
       "3207           Dekalog                      9.1          TV-MA         NaN   \n",
       "\n",
       "            gross  duration       genres    actor_1_name     actor_2_name  \\\n",
       "2765          NaN      65.0       Comedy    Martin Short    Andrea Martin   \n",
       "1937   28341469.0     142.0  Crime|Drama  Morgan Freeman   Jeffrey DeMunn   \n",
       "3466  134821952.0     175.0  Crime|Drama       Al Pacino    Marlon Brando   \n",
       "2824     447093.0      55.0        Drama  Krystyna Janda  Olaf Lubaszenko   \n",
       "3207     447093.0      55.0        Drama  Krystyna Janda  Olaf Lubaszenko   \n",
       "\n",
       "             actor_3_name         director_name language country  \\\n",
       "2765         Joe Flaherty        John Blanchard  English  Canada   \n",
       "1937           Bob Gunton        Frank Darabont  English     USA   \n",
       "3466        Robert Duvall  Francis Ford Coppola  English     USA   \n",
       "2824  Olgierd Lukaszewicz                   NaN   Polish  Poland   \n",
       "3207  Olgierd Lukaszewicz                   NaN   Polish  Poland   \n",
       "\n",
       "      aspect_ratio  title_year  \n",
       "2765          1.33         NaN  \n",
       "1937          1.85      1994.0  \n",
       "3466          1.85      1972.0  \n",
       "2824          1.33         NaN  \n",
       "3207          1.33         NaN  "
      ]
     },
     "execution_count": 100,
     "metadata": {},
     "output_type": "execute_result"
    }
   ],
   "source": [
    "movies.sort_values(by=['imdb_score','gross'], ascending=False).head()"
   ]
  },
  {
   "cell_type": "markdown",
   "metadata": {},
   "source": [
    "We could also use the `.value_counts()` function to could how many observations there are for each category.\n",
    "<br>If we wanted relative frequencies (i.e. proportions) instead of absolute counts, we could change the `normalize=` parameter to `True`"
   ]
  },
  {
   "cell_type": "code",
   "execution_count": 101,
   "metadata": {},
   "outputs": [
    {
     "data": {
      "text/plain": [
       "USA        0.755657\n",
       "UK         0.088924\n",
       "France     0.030568\n",
       "Canada     0.025010\n",
       "Germany    0.019254\n",
       "Name: country, dtype: float64"
      ]
     },
     "execution_count": 101,
     "metadata": {},
     "output_type": "execute_result"
    }
   ],
   "source": [
    "movies.country.value_counts(normalize=True).head()"
   ]
  },
  {
   "cell_type": "markdown",
   "metadata": {},
   "source": [
    "Finally, we can take basic summary measures, like the `.mean()` or `.sum()` of a column."
   ]
  },
  {
   "cell_type": "code",
   "execution_count": 102,
   "metadata": {},
   "outputs": [
    {
     "data": {
      "text/plain": [
       "39752620.436387606"
      ]
     },
     "execution_count": 102,
     "metadata": {},
     "output_type": "execute_result"
    }
   ],
   "source": [
    "movies.budget.mean()"
   ]
  },
  {
   "cell_type": "markdown",
   "metadata": {},
   "source": [
    "## Chaining"
   ]
  },
  {
   "cell_type": "markdown",
   "metadata": {},
   "source": [
    "Chaining helps make our code more concise and readable.\n",
    "\n",
    "For example, if we wanted to combine some subsets with functions:"
   ]
  },
  {
   "cell_type": "code",
   "execution_count": 103,
   "metadata": {},
   "outputs": [
    {
     "data": {
      "text/html": [
       "<div>\n",
       "<style scoped>\n",
       "    .dataframe tbody tr th:only-of-type {\n",
       "        vertical-align: middle;\n",
       "    }\n",
       "\n",
       "    .dataframe tbody tr th {\n",
       "        vertical-align: top;\n",
       "    }\n",
       "\n",
       "    .dataframe thead th {\n",
       "        text-align: right;\n",
       "    }\n",
       "</style>\n",
       "<table border=\"1\" class=\"dataframe\">\n",
       "  <thead>\n",
       "    <tr style=\"text-align: right;\">\n",
       "      <th></th>\n",
       "      <th>movie_title</th>\n",
       "      <th>imdb_score</th>\n",
       "      <th>content_rating</th>\n",
       "      <th>budget</th>\n",
       "      <th>gross</th>\n",
       "      <th>duration</th>\n",
       "      <th>genres</th>\n",
       "      <th>actor_1_name</th>\n",
       "      <th>actor_2_name</th>\n",
       "      <th>actor_3_name</th>\n",
       "      <th>director_name</th>\n",
       "      <th>language</th>\n",
       "      <th>country</th>\n",
       "      <th>aspect_ratio</th>\n",
       "      <th>title_year</th>\n",
       "    </tr>\n",
       "  </thead>\n",
       "  <tbody>\n",
       "    <tr>\n",
       "      <th>2051</th>\n",
       "      <td>Star Wars: Episode V - The Empire Strikes Back</td>\n",
       "      <td>8.8</td>\n",
       "      <td>PG</td>\n",
       "      <td>18000000.0</td>\n",
       "      <td>290158751.0</td>\n",
       "      <td>127.0</td>\n",
       "      <td>Action|Adventure|Fantasy|Sci-Fi</td>\n",
       "      <td>Harrison Ford</td>\n",
       "      <td>Kenny Baker</td>\n",
       "      <td>Anthony Daniels</td>\n",
       "      <td>Irvin Kershner</td>\n",
       "      <td>English</td>\n",
       "      <td>USA</td>\n",
       "      <td>2.35</td>\n",
       "      <td>1980.0</td>\n",
       "    </tr>\n",
       "    <tr>\n",
       "      <th>2373</th>\n",
       "      <td>Spirited Away</td>\n",
       "      <td>8.6</td>\n",
       "      <td>PG</td>\n",
       "      <td>19000000.0</td>\n",
       "      <td>10049886.0</td>\n",
       "      <td>125.0</td>\n",
       "      <td>Adventure|Animation|Family|Fantasy</td>\n",
       "      <td>Bunta Sugawara</td>\n",
       "      <td>Ryûnosuke Kamiki</td>\n",
       "      <td>Miyu Irino</td>\n",
       "      <td>Hayao Miyazaki</td>\n",
       "      <td>Japanese</td>\n",
       "      <td>Japan</td>\n",
       "      <td>1.85</td>\n",
       "      <td>2001.0</td>\n",
       "    </tr>\n",
       "    <tr>\n",
       "      <th>3024</th>\n",
       "      <td>Star Wars: Episode IV - A New Hope</td>\n",
       "      <td>8.7</td>\n",
       "      <td>PG</td>\n",
       "      <td>11000000.0</td>\n",
       "      <td>460935665.0</td>\n",
       "      <td>125.0</td>\n",
       "      <td>Action|Adventure|Fantasy|Sci-Fi</td>\n",
       "      <td>Harrison Ford</td>\n",
       "      <td>Peter Cushing</td>\n",
       "      <td>Kenny Baker</td>\n",
       "      <td>George Lucas</td>\n",
       "      <td>English</td>\n",
       "      <td>USA</td>\n",
       "      <td>2.35</td>\n",
       "      <td>1977.0</td>\n",
       "    </tr>\n",
       "    <tr>\n",
       "      <th>4049</th>\n",
       "      <td>It's a Wonderful Life</td>\n",
       "      <td>8.6</td>\n",
       "      <td>PG</td>\n",
       "      <td>3180000.0</td>\n",
       "      <td>NaN</td>\n",
       "      <td>118.0</td>\n",
       "      <td>Drama|Family|Fantasy|Romance</td>\n",
       "      <td>Donna Reed</td>\n",
       "      <td>Lionel Barrymore</td>\n",
       "      <td>Thomas Mitchell</td>\n",
       "      <td>Frank Capra</td>\n",
       "      <td>English</td>\n",
       "      <td>USA</td>\n",
       "      <td>1.37</td>\n",
       "      <td>1946.0</td>\n",
       "    </tr>\n",
       "    <tr>\n",
       "      <th>4526</th>\n",
       "      <td>Casablanca</td>\n",
       "      <td>8.6</td>\n",
       "      <td>PG</td>\n",
       "      <td>950000.0</td>\n",
       "      <td>NaN</td>\n",
       "      <td>82.0</td>\n",
       "      <td>Drama|Romance|War</td>\n",
       "      <td>Humphrey Bogart</td>\n",
       "      <td>Claude Rains</td>\n",
       "      <td>Conrad Veidt</td>\n",
       "      <td>Michael Curtiz</td>\n",
       "      <td>English</td>\n",
       "      <td>USA</td>\n",
       "      <td>1.37</td>\n",
       "      <td>1942.0</td>\n",
       "    </tr>\n",
       "  </tbody>\n",
       "</table>\n",
       "</div>"
      ],
      "text/plain": [
       "                                          movie_title  imdb_score  \\\n",
       "2051  Star Wars: Episode V - The Empire Strikes Back          8.8   \n",
       "2373                                   Spirited Away          8.6   \n",
       "3024              Star Wars: Episode IV - A New Hope          8.7   \n",
       "4049                           It's a Wonderful Life          8.6   \n",
       "4526                                      Casablanca          8.6   \n",
       "\n",
       "     content_rating      budget        gross  duration  \\\n",
       "2051             PG  18000000.0  290158751.0     127.0   \n",
       "2373             PG  19000000.0   10049886.0     125.0   \n",
       "3024             PG  11000000.0  460935665.0     125.0   \n",
       "4049             PG   3180000.0          NaN     118.0   \n",
       "4526             PG    950000.0          NaN      82.0   \n",
       "\n",
       "                                  genres     actor_1_name      actor_2_name  \\\n",
       "2051     Action|Adventure|Fantasy|Sci-Fi    Harrison Ford       Kenny Baker   \n",
       "2373  Adventure|Animation|Family|Fantasy   Bunta Sugawara  Ryûnosuke Kamiki   \n",
       "3024     Action|Adventure|Fantasy|Sci-Fi    Harrison Ford     Peter Cushing   \n",
       "4049        Drama|Family|Fantasy|Romance       Donna Reed  Lionel Barrymore   \n",
       "4526                   Drama|Romance|War  Humphrey Bogart      Claude Rains   \n",
       "\n",
       "         actor_3_name   director_name  language country  aspect_ratio  \\\n",
       "2051  Anthony Daniels  Irvin Kershner   English     USA          2.35   \n",
       "2373       Miyu Irino  Hayao Miyazaki  Japanese   Japan          1.85   \n",
       "3024      Kenny Baker    George Lucas   English     USA          2.35   \n",
       "4049  Thomas Mitchell     Frank Capra   English     USA          1.37   \n",
       "4526     Conrad Veidt  Michael Curtiz   English     USA          1.37   \n",
       "\n",
       "      title_year  \n",
       "2051      1980.0  \n",
       "2373      2001.0  \n",
       "3024      1977.0  \n",
       "4049      1946.0  \n",
       "4526      1942.0  "
      ]
     },
     "execution_count": 103,
     "metadata": {},
     "output_type": "execute_result"
    }
   ],
   "source": [
    "df1 = movies[movies.imdb_score > 8.5]\n",
    "df2 = df1[df1.content_rating == 'PG']\n",
    "df3 = df2.sort_values(by='duration',ascending=False)\n",
    "df3.head()"
   ]
  },
  {
   "cell_type": "markdown",
   "metadata": {},
   "source": [
    "We could instead write the above as:"
   ]
  },
  {
   "cell_type": "code",
   "execution_count": 104,
   "metadata": {
    "tags": [
     "workshop"
    ]
   },
   "outputs": [
    {
     "data": {
      "text/html": [
       "<div>\n",
       "<style scoped>\n",
       "    .dataframe tbody tr th:only-of-type {\n",
       "        vertical-align: middle;\n",
       "    }\n",
       "\n",
       "    .dataframe tbody tr th {\n",
       "        vertical-align: top;\n",
       "    }\n",
       "\n",
       "    .dataframe thead th {\n",
       "        text-align: right;\n",
       "    }\n",
       "</style>\n",
       "<table border=\"1\" class=\"dataframe\">\n",
       "  <thead>\n",
       "    <tr style=\"text-align: right;\">\n",
       "      <th></th>\n",
       "      <th>movie_title</th>\n",
       "      <th>imdb_score</th>\n",
       "      <th>content_rating</th>\n",
       "      <th>budget</th>\n",
       "      <th>gross</th>\n",
       "      <th>duration</th>\n",
       "      <th>genres</th>\n",
       "      <th>actor_1_name</th>\n",
       "      <th>actor_2_name</th>\n",
       "      <th>actor_3_name</th>\n",
       "      <th>director_name</th>\n",
       "      <th>language</th>\n",
       "      <th>country</th>\n",
       "      <th>aspect_ratio</th>\n",
       "      <th>title_year</th>\n",
       "    </tr>\n",
       "  </thead>\n",
       "  <tbody>\n",
       "    <tr>\n",
       "      <th>2051</th>\n",
       "      <td>Star Wars: Episode V - The Empire Strikes Back</td>\n",
       "      <td>8.8</td>\n",
       "      <td>PG</td>\n",
       "      <td>18000000.0</td>\n",
       "      <td>290158751.0</td>\n",
       "      <td>127.0</td>\n",
       "      <td>Action|Adventure|Fantasy|Sci-Fi</td>\n",
       "      <td>Harrison Ford</td>\n",
       "      <td>Kenny Baker</td>\n",
       "      <td>Anthony Daniels</td>\n",
       "      <td>Irvin Kershner</td>\n",
       "      <td>English</td>\n",
       "      <td>USA</td>\n",
       "      <td>2.35</td>\n",
       "      <td>1980.0</td>\n",
       "    </tr>\n",
       "    <tr>\n",
       "      <th>2373</th>\n",
       "      <td>Spirited Away</td>\n",
       "      <td>8.6</td>\n",
       "      <td>PG</td>\n",
       "      <td>19000000.0</td>\n",
       "      <td>10049886.0</td>\n",
       "      <td>125.0</td>\n",
       "      <td>Adventure|Animation|Family|Fantasy</td>\n",
       "      <td>Bunta Sugawara</td>\n",
       "      <td>Ryûnosuke Kamiki</td>\n",
       "      <td>Miyu Irino</td>\n",
       "      <td>Hayao Miyazaki</td>\n",
       "      <td>Japanese</td>\n",
       "      <td>Japan</td>\n",
       "      <td>1.85</td>\n",
       "      <td>2001.0</td>\n",
       "    </tr>\n",
       "    <tr>\n",
       "      <th>3024</th>\n",
       "      <td>Star Wars: Episode IV - A New Hope</td>\n",
       "      <td>8.7</td>\n",
       "      <td>PG</td>\n",
       "      <td>11000000.0</td>\n",
       "      <td>460935665.0</td>\n",
       "      <td>125.0</td>\n",
       "      <td>Action|Adventure|Fantasy|Sci-Fi</td>\n",
       "      <td>Harrison Ford</td>\n",
       "      <td>Peter Cushing</td>\n",
       "      <td>Kenny Baker</td>\n",
       "      <td>George Lucas</td>\n",
       "      <td>English</td>\n",
       "      <td>USA</td>\n",
       "      <td>2.35</td>\n",
       "      <td>1977.0</td>\n",
       "    </tr>\n",
       "    <tr>\n",
       "      <th>4049</th>\n",
       "      <td>It's a Wonderful Life</td>\n",
       "      <td>8.6</td>\n",
       "      <td>PG</td>\n",
       "      <td>3180000.0</td>\n",
       "      <td>NaN</td>\n",
       "      <td>118.0</td>\n",
       "      <td>Drama|Family|Fantasy|Romance</td>\n",
       "      <td>Donna Reed</td>\n",
       "      <td>Lionel Barrymore</td>\n",
       "      <td>Thomas Mitchell</td>\n",
       "      <td>Frank Capra</td>\n",
       "      <td>English</td>\n",
       "      <td>USA</td>\n",
       "      <td>1.37</td>\n",
       "      <td>1946.0</td>\n",
       "    </tr>\n",
       "    <tr>\n",
       "      <th>4526</th>\n",
       "      <td>Casablanca</td>\n",
       "      <td>8.6</td>\n",
       "      <td>PG</td>\n",
       "      <td>950000.0</td>\n",
       "      <td>NaN</td>\n",
       "      <td>82.0</td>\n",
       "      <td>Drama|Romance|War</td>\n",
       "      <td>Humphrey Bogart</td>\n",
       "      <td>Claude Rains</td>\n",
       "      <td>Conrad Veidt</td>\n",
       "      <td>Michael Curtiz</td>\n",
       "      <td>English</td>\n",
       "      <td>USA</td>\n",
       "      <td>1.37</td>\n",
       "      <td>1942.0</td>\n",
       "    </tr>\n",
       "  </tbody>\n",
       "</table>\n",
       "</div>"
      ],
      "text/plain": [
       "                                          movie_title  imdb_score  \\\n",
       "2051  Star Wars: Episode V - The Empire Strikes Back          8.8   \n",
       "2373                                   Spirited Away          8.6   \n",
       "3024              Star Wars: Episode IV - A New Hope          8.7   \n",
       "4049                           It's a Wonderful Life          8.6   \n",
       "4526                                      Casablanca          8.6   \n",
       "\n",
       "     content_rating      budget        gross  duration  \\\n",
       "2051             PG  18000000.0  290158751.0     127.0   \n",
       "2373             PG  19000000.0   10049886.0     125.0   \n",
       "3024             PG  11000000.0  460935665.0     125.0   \n",
       "4049             PG   3180000.0          NaN     118.0   \n",
       "4526             PG    950000.0          NaN      82.0   \n",
       "\n",
       "                                  genres     actor_1_name      actor_2_name  \\\n",
       "2051     Action|Adventure|Fantasy|Sci-Fi    Harrison Ford       Kenny Baker   \n",
       "2373  Adventure|Animation|Family|Fantasy   Bunta Sugawara  Ryûnosuke Kamiki   \n",
       "3024     Action|Adventure|Fantasy|Sci-Fi    Harrison Ford     Peter Cushing   \n",
       "4049        Drama|Family|Fantasy|Romance       Donna Reed  Lionel Barrymore   \n",
       "4526                   Drama|Romance|War  Humphrey Bogart      Claude Rains   \n",
       "\n",
       "         actor_3_name   director_name  language country  aspect_ratio  \\\n",
       "2051  Anthony Daniels  Irvin Kershner   English     USA          2.35   \n",
       "2373       Miyu Irino  Hayao Miyazaki  Japanese   Japan          1.85   \n",
       "3024      Kenny Baker    George Lucas   English     USA          2.35   \n",
       "4049  Thomas Mitchell     Frank Capra   English     USA          1.37   \n",
       "4526     Conrad Veidt  Michael Curtiz   English     USA          1.37   \n",
       "\n",
       "      title_year  \n",
       "2051      1980.0  \n",
       "2373      2001.0  \n",
       "3024      1977.0  \n",
       "4049      1946.0  \n",
       "4526      1942.0  "
      ]
     },
     "execution_count": 104,
     "metadata": {},
     "output_type": "execute_result"
    }
   ],
   "source": [
    "movies[movies.imdb_score > 8.5].loc[movies.content_rating == 'PG'].sort_values(by='duration',ascending=False).head()"
   ]
  },
  {
   "cell_type": "markdown",
   "metadata": {},
   "source": [
    "This works because each part of our code `returns` a dataframe, so we can keep tagging along functions instead of saving each step into a temporary variable."
   ]
  },
  {
   "cell_type": "markdown",
   "metadata": {},
   "source": [
    "**Try it out:** In one line, see if you can find the value counts of `content_rating` for movies with a gross revenue (`gross`) over `200000000` ($ 200 million)"
   ]
  },
  {
   "cell_type": "code",
   "execution_count": 105,
   "metadata": {
    "tags": [
     "practice"
    ]
   },
   "outputs": [
    {
     "data": {
      "text/plain": [
       "PG-13    97\n",
       "PG       49\n",
       "R        11\n",
       "G        10\n",
       "Name: content_rating, dtype: int64"
      ]
     },
     "execution_count": 105,
     "metadata": {},
     "output_type": "execute_result"
    }
   ],
   "source": [
    "movies[movies.gross > 200000000].content_rating.value_counts()"
   ]
  },
  {
   "cell_type": "markdown",
   "metadata": {},
   "source": [
    "# Practice w/ UFOs"
   ]
  },
  {
   "cell_type": "markdown",
   "metadata": {},
   "source": [
    "Data sampled from the National UFO Reporting Center (NUFORC)\n",
    "<br>With your breakout groups, open up `ufo.csv` and answer the following questions:\n",
    "\n",
    "1. Among the West Coast states (California, Oregon, and Washington), how long (on average) did the fireballs encounters last?\n",
    "2. Which state saw the most encounters that lasted between 5 minutes to 1 hour?\n",
    "3. There was one particularly interesting encounter on `2/11/2004 00:00` in West Palm Beach, Florida. What happened?\n",
    "\n",
    "<br>Hint: Break down each question into parts, and chain them back together. There's no particular 'right' way\n",
    "<br>To refer to the `shape` column, use `ufo['shape']` instead of `ufo.shape`, since the latter is a reserved attribute"
   ]
  },
  {
   "cell_type": "code",
   "execution_count": 106,
   "metadata": {
    "tags": [
     "practice"
    ]
   },
   "outputs": [
    {
     "data": {
      "text/html": [
       "<div>\n",
       "<style scoped>\n",
       "    .dataframe tbody tr th:only-of-type {\n",
       "        vertical-align: middle;\n",
       "    }\n",
       "\n",
       "    .dataframe tbody tr th {\n",
       "        vertical-align: top;\n",
       "    }\n",
       "\n",
       "    .dataframe thead th {\n",
       "        text-align: right;\n",
       "    }\n",
       "</style>\n",
       "<table border=\"1\" class=\"dataframe\">\n",
       "  <thead>\n",
       "    <tr style=\"text-align: right;\">\n",
       "      <th></th>\n",
       "      <th>datetime</th>\n",
       "      <th>city</th>\n",
       "      <th>state</th>\n",
       "      <th>country</th>\n",
       "      <th>shape_type</th>\n",
       "      <th>duration_sec</th>\n",
       "      <th>duration_hrs</th>\n",
       "      <th>comments</th>\n",
       "      <th>latitude</th>\n",
       "      <th>longitude</th>\n",
       "    </tr>\n",
       "  </thead>\n",
       "  <tbody>\n",
       "    <tr>\n",
       "      <th>0</th>\n",
       "      <td>1/25/2014 22:00</td>\n",
       "      <td>tewksbury</td>\n",
       "      <td>ma</td>\n",
       "      <td>us</td>\n",
       "      <td>light</td>\n",
       "      <td>4.0</td>\n",
       "      <td>00:04</td>\n",
       "      <td>Green and red falling light over walgreens res...</td>\n",
       "      <td>42.610556</td>\n",
       "      <td>-71.234722</td>\n",
       "    </tr>\n",
       "    <tr>\n",
       "      <th>1</th>\n",
       "      <td>8/20/2004 22:27</td>\n",
       "      <td>lake in the hills</td>\n",
       "      <td>il</td>\n",
       "      <td>us</td>\n",
       "      <td>triangle</td>\n",
       "      <td>180.0</td>\n",
       "      <td>2-3 minutes</td>\n",
       "      <td>On August 20&amp;#442004 at exactly 10:25 to 10:27...</td>\n",
       "      <td>42.181667</td>\n",
       "      <td>-88.330278</td>\n",
       "    </tr>\n",
       "    <tr>\n",
       "      <th>2</th>\n",
       "      <td>1/23/2009 19:00</td>\n",
       "      <td>slidell</td>\n",
       "      <td>la</td>\n",
       "      <td>us</td>\n",
       "      <td>sphere</td>\n",
       "      <td>7200.0</td>\n",
       "      <td>2 hours</td>\n",
       "      <td>Bright red&amp;#44 green &amp;#44 white and blue spher...</td>\n",
       "      <td>30.275000</td>\n",
       "      <td>-89.781111</td>\n",
       "    </tr>\n",
       "    <tr>\n",
       "      <th>3</th>\n",
       "      <td>12/15/1994 21:00</td>\n",
       "      <td>alliance</td>\n",
       "      <td>oh</td>\n",
       "      <td>us</td>\n",
       "      <td>formation</td>\n",
       "      <td>1800.0</td>\n",
       "      <td>30 min +</td>\n",
       "      <td>Brightly Colored Orbs Over Portage County</td>\n",
       "      <td>40.915278</td>\n",
       "      <td>-81.106111</td>\n",
       "    </tr>\n",
       "    <tr>\n",
       "      <th>4</th>\n",
       "      <td>7/31/2011 21:00</td>\n",
       "      <td>milford</td>\n",
       "      <td>ct</td>\n",
       "      <td>us</td>\n",
       "      <td>oval</td>\n",
       "      <td>15.0</td>\n",
       "      <td>10-15 seconds</td>\n",
       "      <td>Bright orange&amp;#44 silent orb&amp;#44 moving steadi...</td>\n",
       "      <td>41.222222</td>\n",
       "      <td>-73.056944</td>\n",
       "    </tr>\n",
       "  </tbody>\n",
       "</table>\n",
       "</div>"
      ],
      "text/plain": [
       "           datetime               city state country shape_type  duration_sec  \\\n",
       "0   1/25/2014 22:00          tewksbury    ma      us      light           4.0   \n",
       "1   8/20/2004 22:27  lake in the hills    il      us   triangle         180.0   \n",
       "2   1/23/2009 19:00            slidell    la      us     sphere        7200.0   \n",
       "3  12/15/1994 21:00           alliance    oh      us  formation        1800.0   \n",
       "4   7/31/2011 21:00            milford    ct      us       oval          15.0   \n",
       "\n",
       "    duration_hrs                                           comments  \\\n",
       "0          00:04  Green and red falling light over walgreens res...   \n",
       "1    2-3 minutes  On August 20&#442004 at exactly 10:25 to 10:27...   \n",
       "2        2 hours  Bright red&#44 green &#44 white and blue spher...   \n",
       "3       30 min +          Brightly Colored Orbs Over Portage County   \n",
       "4  10-15 seconds  Bright orange&#44 silent orb&#44 moving steadi...   \n",
       "\n",
       "    latitude  longitude   \n",
       "0  42.610556  -71.234722  \n",
       "1  42.181667  -88.330278  \n",
       "2  30.275000  -89.781111  \n",
       "3  40.915278  -81.106111  \n",
       "4  41.222222  -73.056944  "
      ]
     },
     "execution_count": 106,
     "metadata": {},
     "output_type": "execute_result"
    }
   ],
   "source": [
    "ufo = pd.read_csv('https://raw.githubusercontent.com/dt3zjy/node/master/week-2/workshop/ufo.csv')\n",
    "ufo.head()"
   ]
  },
  {
   "cell_type": "code",
   "execution_count": 107,
   "metadata": {
    "tags": [
     "practice"
    ]
   },
   "outputs": [
    {
     "data": {
      "text/plain": [
       "238.88888888888889"
      ]
     },
     "execution_count": 107,
     "metadata": {},
     "output_type": "execute_result"
    }
   ],
   "source": [
    "# 1\n",
    "ufo.loc[ufo.state.isin(['ca','or','wa'])].loc[ufo.shape_type=='fireball'].duration_sec.mean()"
   ]
  },
  {
   "cell_type": "code",
   "execution_count": 108,
   "metadata": {
    "tags": [
     "practice"
    ]
   },
   "outputs": [
    {
     "data": {
      "text/plain": [
       "ca    392\n",
       "Name: state, dtype: int64"
      ]
     },
     "execution_count": 108,
     "metadata": {},
     "output_type": "execute_result"
    }
   ],
   "source": [
    "# 2\n",
    "ufo.loc[(ufo.duration_sec>=5*60) & (ufo.duration_sec<=60*60)].state.value_counts().head(1)"
   ]
  },
  {
   "cell_type": "code",
   "execution_count": 109,
   "metadata": {
    "tags": [
     "practice"
    ]
   },
   "outputs": [
    {
     "data": {
      "text/plain": [
       "'BLINDING LIGHT LIFTED MY DOG AND TOOK OFF INTO SPACE'"
      ]
     },
     "execution_count": 109,
     "metadata": {},
     "output_type": "execute_result"
    }
   ],
   "source": [
    "# 3\n",
    "ufo.loc[ufo.datetime == '2/11/2004 00:00'].loc[ufo.city=='west palm beach'].comments.values[0]"
   ]
  },
  {
   "cell_type": "markdown",
   "metadata": {
    "colab_type": "text",
    "id": "jdi7zUoXy1p-"
   },
   "source": [
    "# Groupby Objects"
   ]
  },
  {
   "cell_type": "markdown",
   "metadata": {
    "colab_type": "text",
    "id": "MDq1cI5Wd_w3"
   },
   "source": [
    "From before, we used `value_counts()` to get the number of movies per each content rating?"
   ]
  },
  {
   "cell_type": "code",
   "execution_count": 110,
   "metadata": {
    "colab": {
     "base_uri": "https://localhost:8080/",
     "height": 340
    },
    "colab_type": "code",
    "id": "nK7wHNPoqh5Q",
    "outputId": "879a2b05-5183-4c60-a168-68d49732c658",
    "tags": [
     "workshop"
    ]
   },
   "outputs": [
    {
     "data": {
      "text/plain": [
       "R        2118\n",
       "PG-13    1461\n",
       "PG        701\n",
       "         ... \n",
       "M           5\n",
       "TV-Y7       1\n",
       "TV-Y        1\n",
       "Name: content_rating, Length: 18, dtype: int64"
      ]
     },
     "execution_count": 110,
     "metadata": {},
     "output_type": "execute_result"
    }
   ],
   "source": [
    "movies.content_rating.value_counts()"
   ]
  },
  {
   "cell_type": "markdown",
   "metadata": {
    "colab_type": "text",
    "id": "OPu5kvFTeINX"
   },
   "source": [
    "This is a good summary statistic to examine the distribution of our dataset. But...\n",
    "\n",
    "<br>What if we want to know how movie performance differs by rating?\n",
    "<br>We need to apply some function (i.e. take the mean of revenue) **per each** content rating"
   ]
  },
  {
   "cell_type": "code",
   "execution_count": 111,
   "metadata": {
    "colab": {
     "base_uri": "https://localhost:8080/",
     "height": 34
    },
    "colab_type": "code",
    "id": "nFfz0cNvqnp_",
    "outputId": "96c045be-30ee-459e-cf89-b0a640d77e3d"
   },
   "outputs": [
    {
     "data": {
      "text/plain": [
       "pandas.core.groupby.groupby.DataFrameGroupBy"
      ]
     },
     "execution_count": 111,
     "metadata": {},
     "output_type": "execute_result"
    }
   ],
   "source": [
    "movies_byRating = movies.groupby('content_rating')\n",
    "type(movies_byRating)"
   ]
  },
  {
   "cell_type": "markdown",
   "metadata": {
    "colab_type": "text",
    "id": "iLYEMytqeku0"
   },
   "source": [
    "This creates a special **GroupBy object**. \n",
    "\n",
    "<br>For now, let's think of it like a *collection* of dataframes, seperated by each unique value from content rating (One group for `R`, `PG-13`, etc).\n",
    "<br>We can't easily render what the entire GroupBy object looks like, but we can pull out a particular group"
   ]
  },
  {
   "cell_type": "code",
   "execution_count": 112,
   "metadata": {},
   "outputs": [
    {
     "data": {
      "text/plain": [
       "<pandas.core.groupby.groupby.DataFrameGroupBy object at 0x118839898>"
      ]
     },
     "execution_count": 112,
     "metadata": {},
     "output_type": "execute_result"
    }
   ],
   "source": [
    "movies_byRating"
   ]
  },
  {
   "cell_type": "code",
   "execution_count": 113,
   "metadata": {},
   "outputs": [
    {
     "name": "stdout",
     "output_type": "stream",
     "text": [
      "<class 'pandas.core.frame.DataFrame'>\n"
     ]
    },
    {
     "data": {
      "text/html": [
       "<div>\n",
       "<style scoped>\n",
       "    .dataframe tbody tr th:only-of-type {\n",
       "        vertical-align: middle;\n",
       "    }\n",
       "\n",
       "    .dataframe tbody tr th {\n",
       "        vertical-align: top;\n",
       "    }\n",
       "\n",
       "    .dataframe thead th {\n",
       "        text-align: right;\n",
       "    }\n",
       "</style>\n",
       "<table border=\"1\" class=\"dataframe\">\n",
       "  <thead>\n",
       "    <tr style=\"text-align: right;\">\n",
       "      <th></th>\n",
       "      <th>movie_title</th>\n",
       "      <th>imdb_score</th>\n",
       "      <th>content_rating</th>\n",
       "      <th>budget</th>\n",
       "      <th>gross</th>\n",
       "      <th>duration</th>\n",
       "      <th>genres</th>\n",
       "      <th>actor_1_name</th>\n",
       "      <th>actor_2_name</th>\n",
       "      <th>actor_3_name</th>\n",
       "      <th>director_name</th>\n",
       "      <th>language</th>\n",
       "      <th>country</th>\n",
       "      <th>aspect_ratio</th>\n",
       "      <th>title_year</th>\n",
       "    </tr>\n",
       "  </thead>\n",
       "  <tbody>\n",
       "    <tr>\n",
       "      <th>7</th>\n",
       "      <td>Tangled</td>\n",
       "      <td>7.8</td>\n",
       "      <td>PG</td>\n",
       "      <td>260000000.0</td>\n",
       "      <td>200807262.0</td>\n",
       "      <td>100.0</td>\n",
       "      <td>Adventure|Animation|Comedy|Family|Fantasy|Musi...</td>\n",
       "      <td>Brad Garrett</td>\n",
       "      <td>Donna Murphy</td>\n",
       "      <td>M.C. Gainey</td>\n",
       "      <td>Nathan Greno</td>\n",
       "      <td>English</td>\n",
       "      <td>USA</td>\n",
       "      <td>1.85</td>\n",
       "      <td>2010.0</td>\n",
       "    </tr>\n",
       "    <tr>\n",
       "      <th>9</th>\n",
       "      <td>Harry Potter and the Half-Blood Prince</td>\n",
       "      <td>7.5</td>\n",
       "      <td>PG</td>\n",
       "      <td>250000000.0</td>\n",
       "      <td>301956980.0</td>\n",
       "      <td>153.0</td>\n",
       "      <td>Adventure|Family|Fantasy|Mystery</td>\n",
       "      <td>Alan Rickman</td>\n",
       "      <td>Daniel Radcliffe</td>\n",
       "      <td>Rupert Grint</td>\n",
       "      <td>David Yates</td>\n",
       "      <td>English</td>\n",
       "      <td>UK</td>\n",
       "      <td>2.35</td>\n",
       "      <td>2009.0</td>\n",
       "    </tr>\n",
       "    <tr>\n",
       "      <th>16</th>\n",
       "      <td>The Chronicles of Narnia: Prince Caspian</td>\n",
       "      <td>6.6</td>\n",
       "      <td>PG</td>\n",
       "      <td>225000000.0</td>\n",
       "      <td>141614023.0</td>\n",
       "      <td>150.0</td>\n",
       "      <td>Action|Adventure|Family|Fantasy</td>\n",
       "      <td>Peter Dinklage</td>\n",
       "      <td>Pierfrancesco Favino</td>\n",
       "      <td>Damián Alcázar</td>\n",
       "      <td>Andrew Adamson</td>\n",
       "      <td>English</td>\n",
       "      <td>USA</td>\n",
       "      <td>2.35</td>\n",
       "      <td>2008.0</td>\n",
       "    </tr>\n",
       "    <tr>\n",
       "      <th>33</th>\n",
       "      <td>Alice in Wonderland</td>\n",
       "      <td>6.5</td>\n",
       "      <td>PG</td>\n",
       "      <td>200000000.0</td>\n",
       "      <td>334185206.0</td>\n",
       "      <td>108.0</td>\n",
       "      <td>Adventure|Family|Fantasy</td>\n",
       "      <td>Johnny Depp</td>\n",
       "      <td>Alan Rickman</td>\n",
       "      <td>Anne Hathaway</td>\n",
       "      <td>Tim Burton</td>\n",
       "      <td>English</td>\n",
       "      <td>USA</td>\n",
       "      <td>1.85</td>\n",
       "      <td>2010.0</td>\n",
       "    </tr>\n",
       "    <tr>\n",
       "      <th>38</th>\n",
       "      <td>Oz the Great and Powerful</td>\n",
       "      <td>6.4</td>\n",
       "      <td>PG</td>\n",
       "      <td>215000000.0</td>\n",
       "      <td>234903076.0</td>\n",
       "      <td>130.0</td>\n",
       "      <td>Adventure|Family|Fantasy</td>\n",
       "      <td>Tim Holmes</td>\n",
       "      <td>Mila Kunis</td>\n",
       "      <td>James Franco</td>\n",
       "      <td>Sam Raimi</td>\n",
       "      <td>English</td>\n",
       "      <td>USA</td>\n",
       "      <td>2.35</td>\n",
       "      <td>2013.0</td>\n",
       "    </tr>\n",
       "  </tbody>\n",
       "</table>\n",
       "</div>"
      ],
      "text/plain": [
       "                                  movie_title  imdb_score content_rating  \\\n",
       "7                                    Tangled          7.8             PG   \n",
       "9     Harry Potter and the Half-Blood Prince          7.5             PG   \n",
       "16  The Chronicles of Narnia: Prince Caspian          6.6             PG   \n",
       "33                       Alice in Wonderland          6.5             PG   \n",
       "38                 Oz the Great and Powerful          6.4             PG   \n",
       "\n",
       "         budget        gross  duration  \\\n",
       "7   260000000.0  200807262.0     100.0   \n",
       "9   250000000.0  301956980.0     153.0   \n",
       "16  225000000.0  141614023.0     150.0   \n",
       "33  200000000.0  334185206.0     108.0   \n",
       "38  215000000.0  234903076.0     130.0   \n",
       "\n",
       "                                               genres    actor_1_name  \\\n",
       "7   Adventure|Animation|Comedy|Family|Fantasy|Musi...    Brad Garrett   \n",
       "9                    Adventure|Family|Fantasy|Mystery    Alan Rickman   \n",
       "16                    Action|Adventure|Family|Fantasy  Peter Dinklage   \n",
       "33                           Adventure|Family|Fantasy     Johnny Depp   \n",
       "38                           Adventure|Family|Fantasy      Tim Holmes   \n",
       "\n",
       "            actor_2_name    actor_3_name   director_name language country  \\\n",
       "7           Donna Murphy     M.C. Gainey    Nathan Greno  English     USA   \n",
       "9       Daniel Radcliffe    Rupert Grint     David Yates  English      UK   \n",
       "16  Pierfrancesco Favino  Damián Alcázar  Andrew Adamson  English     USA   \n",
       "33          Alan Rickman   Anne Hathaway      Tim Burton  English     USA   \n",
       "38            Mila Kunis    James Franco       Sam Raimi  English     USA   \n",
       "\n",
       "    aspect_ratio  title_year  \n",
       "7           1.85      2010.0  \n",
       "9           2.35      2009.0  \n",
       "16          2.35      2008.0  \n",
       "33          1.85      2010.0  \n",
       "38          2.35      2013.0  "
      ]
     },
     "execution_count": 113,
     "metadata": {},
     "output_type": "execute_result"
    }
   ],
   "source": [
    "print(type(movies_byRating.get_group('PG')))\n",
    "movies_byRating.get_group('PG').head()"
   ]
  },
  {
   "cell_type": "markdown",
   "metadata": {},
   "source": [
    "When we apply **aggregation** functions to a `GroupBy` object, we get back averages for each column in the dataframe, **broken down** by content rating"
   ]
  },
  {
   "cell_type": "code",
   "execution_count": 114,
   "metadata": {
    "colab": {
     "base_uri": "https://localhost:8080/",
     "height": 658
    },
    "colab_type": "code",
    "id": "_QNmOmInfaA3",
    "outputId": "369a289a-15d9-445f-d609-8215c060ba0b"
   },
   "outputs": [
    {
     "data": {
      "text/html": [
       "<div>\n",
       "<style scoped>\n",
       "    .dataframe tbody tr th:only-of-type {\n",
       "        vertical-align: middle;\n",
       "    }\n",
       "\n",
       "    .dataframe tbody tr th {\n",
       "        vertical-align: top;\n",
       "    }\n",
       "\n",
       "    .dataframe thead th {\n",
       "        text-align: right;\n",
       "    }\n",
       "</style>\n",
       "<table border=\"1\" class=\"dataframe\">\n",
       "  <thead>\n",
       "    <tr style=\"text-align: right;\">\n",
       "      <th></th>\n",
       "      <th>imdb_score</th>\n",
       "      <th>budget</th>\n",
       "      <th>gross</th>\n",
       "      <th>duration</th>\n",
       "      <th>aspect_ratio</th>\n",
       "      <th>title_year</th>\n",
       "    </tr>\n",
       "    <tr>\n",
       "      <th>content_rating</th>\n",
       "      <th></th>\n",
       "      <th></th>\n",
       "      <th></th>\n",
       "      <th></th>\n",
       "      <th></th>\n",
       "      <th></th>\n",
       "    </tr>\n",
       "  </thead>\n",
       "  <tbody>\n",
       "    <tr>\n",
       "      <th>Approved</th>\n",
       "      <td>7.325455</td>\n",
       "      <td>4.142475e+06</td>\n",
       "      <td>4.814586e+07</td>\n",
       "      <td>116.218182</td>\n",
       "      <td>1.735818</td>\n",
       "      <td>1954.781818</td>\n",
       "    </tr>\n",
       "    <tr>\n",
       "      <th>G</th>\n",
       "      <td>6.529464</td>\n",
       "      <td>4.499913e+07</td>\n",
       "      <td>8.245516e+07</td>\n",
       "      <td>98.973214</td>\n",
       "      <td>1.962523</td>\n",
       "      <td>1995.892857</td>\n",
       "    </tr>\n",
       "    <tr>\n",
       "      <th>GP</th>\n",
       "      <td>6.916667</td>\n",
       "      <td>5.550000e+06</td>\n",
       "      <td>4.380000e+07</td>\n",
       "      <td>110.833333</td>\n",
       "      <td>2.024000</td>\n",
       "      <td>1970.666667</td>\n",
       "    </tr>\n",
       "    <tr>\n",
       "      <th>...</th>\n",
       "      <td>...</td>\n",
       "      <td>...</td>\n",
       "      <td>...</td>\n",
       "      <td>...</td>\n",
       "      <td>...</td>\n",
       "      <td>...</td>\n",
       "    </tr>\n",
       "    <tr>\n",
       "      <th>TV-Y7</th>\n",
       "      <td>7.200000</td>\n",
       "      <td>NaN</td>\n",
       "      <td>NaN</td>\n",
       "      <td>30.000000</td>\n",
       "      <td>4.000000</td>\n",
       "      <td>NaN</td>\n",
       "    </tr>\n",
       "    <tr>\n",
       "      <th>Unrated</th>\n",
       "      <td>6.920968</td>\n",
       "      <td>5.092971e+06</td>\n",
       "      <td>4.302599e+06</td>\n",
       "      <td>102.790323</td>\n",
       "      <td>2.110370</td>\n",
       "      <td>1990.354839</td>\n",
       "    </tr>\n",
       "    <tr>\n",
       "      <th>X</th>\n",
       "      <td>6.500000</td>\n",
       "      <td>3.338462e+06</td>\n",
       "      <td>1.865881e+07</td>\n",
       "      <td>92.615385</td>\n",
       "      <td>1.928462</td>\n",
       "      <td>1981.307692</td>\n",
       "    </tr>\n",
       "  </tbody>\n",
       "</table>\n",
       "<p>18 rows × 6 columns</p>\n",
       "</div>"
      ],
      "text/plain": [
       "                imdb_score        budget         gross    duration  \\\n",
       "content_rating                                                       \n",
       "Approved          7.325455  4.142475e+06  4.814586e+07  116.218182   \n",
       "G                 6.529464  4.499913e+07  8.245516e+07   98.973214   \n",
       "GP                6.916667  5.550000e+06  4.380000e+07  110.833333   \n",
       "...                    ...           ...           ...         ...   \n",
       "TV-Y7             7.200000           NaN           NaN   30.000000   \n",
       "Unrated           6.920968  5.092971e+06  4.302599e+06  102.790323   \n",
       "X                 6.500000  3.338462e+06  1.865881e+07   92.615385   \n",
       "\n",
       "                aspect_ratio   title_year  \n",
       "content_rating                             \n",
       "Approved            1.735818  1954.781818  \n",
       "G                   1.962523  1995.892857  \n",
       "GP                  2.024000  1970.666667  \n",
       "...                      ...          ...  \n",
       "TV-Y7               4.000000          NaN  \n",
       "Unrated             2.110370  1990.354839  \n",
       "X                   1.928462  1981.307692  \n",
       "\n",
       "[18 rows x 6 columns]"
      ]
     },
     "execution_count": 114,
     "metadata": {},
     "output_type": "execute_result"
    }
   ],
   "source": [
    "movies_byRating.agg('mean')"
   ]
  },
  {
   "cell_type": "markdown",
   "metadata": {},
   "source": [
    "If we were just to apply `.mean()` to the entire dataframe, we'd only get back one row with summaries for the entire dataset"
   ]
  },
  {
   "cell_type": "code",
   "execution_count": 115,
   "metadata": {},
   "outputs": [
    {
     "data": {
      "text/html": [
       "<div>\n",
       "<style scoped>\n",
       "    .dataframe tbody tr th:only-of-type {\n",
       "        vertical-align: middle;\n",
       "    }\n",
       "\n",
       "    .dataframe tbody tr th {\n",
       "        vertical-align: top;\n",
       "    }\n",
       "\n",
       "    .dataframe thead th {\n",
       "        text-align: right;\n",
       "    }\n",
       "</style>\n",
       "<table border=\"1\" class=\"dataframe\">\n",
       "  <thead>\n",
       "    <tr style=\"text-align: right;\">\n",
       "      <th></th>\n",
       "      <th>imdb_score</th>\n",
       "      <th>budget</th>\n",
       "      <th>gross</th>\n",
       "      <th>duration</th>\n",
       "      <th>aspect_ratio</th>\n",
       "      <th>title_year</th>\n",
       "    </tr>\n",
       "  </thead>\n",
       "  <tbody>\n",
       "    <tr>\n",
       "      <th>Total</th>\n",
       "      <td>6.442138</td>\n",
       "      <td>3.975262e+07</td>\n",
       "      <td>4.846841e+07</td>\n",
       "      <td>107.201074</td>\n",
       "      <td>2.220403</td>\n",
       "      <td>2002.470517</td>\n",
       "    </tr>\n",
       "  </tbody>\n",
       "</table>\n",
       "</div>"
      ],
      "text/plain": [
       "       imdb_score        budget         gross    duration  aspect_ratio  \\\n",
       "Total    6.442138  3.975262e+07  4.846841e+07  107.201074      2.220403   \n",
       "\n",
       "        title_year  \n",
       "Total  2002.470517  "
      ]
     },
     "execution_count": 115,
     "metadata": {},
     "output_type": "execute_result"
    }
   ],
   "source": [
    "pd.DataFrame(movies.mean(), columns=['Total']).T"
   ]
  },
  {
   "cell_type": "markdown",
   "metadata": {},
   "source": [
    "We've got other ways to aggregate the data too.\n",
    "\n",
    "Here, we're showing the mean, max, and min values of `imdb_score` by passing in multiple strings in a list to `.agg()`"
   ]
  },
  {
   "cell_type": "code",
   "execution_count": 116,
   "metadata": {
    "colab": {
     "base_uri": "https://localhost:8080/",
     "height": 638
    },
    "colab_type": "code",
    "id": "SWm9OtzssqRX",
    "outputId": "a174ef4a-ad1e-45f0-bc0d-262d7d9315dd",
    "tags": [
     "workshop"
    ]
   },
   "outputs": [
    {
     "data": {
      "text/html": [
       "<div>\n",
       "<style scoped>\n",
       "    .dataframe tbody tr th:only-of-type {\n",
       "        vertical-align: middle;\n",
       "    }\n",
       "\n",
       "    .dataframe tbody tr th {\n",
       "        vertical-align: top;\n",
       "    }\n",
       "\n",
       "    .dataframe thead th {\n",
       "        text-align: right;\n",
       "    }\n",
       "</style>\n",
       "<table border=\"1\" class=\"dataframe\">\n",
       "  <thead>\n",
       "    <tr style=\"text-align: right;\">\n",
       "      <th></th>\n",
       "      <th>mean</th>\n",
       "      <th>max</th>\n",
       "      <th>min</th>\n",
       "      <th>count</th>\n",
       "    </tr>\n",
       "    <tr>\n",
       "      <th>content_rating</th>\n",
       "      <th></th>\n",
       "      <th></th>\n",
       "      <th></th>\n",
       "      <th></th>\n",
       "    </tr>\n",
       "  </thead>\n",
       "  <tbody>\n",
       "    <tr>\n",
       "      <th>Approved</th>\n",
       "      <td>7.325455</td>\n",
       "      <td>8.9</td>\n",
       "      <td>4.1</td>\n",
       "      <td>55</td>\n",
       "    </tr>\n",
       "    <tr>\n",
       "      <th>G</th>\n",
       "      <td>6.529464</td>\n",
       "      <td>8.6</td>\n",
       "      <td>1.6</td>\n",
       "      <td>112</td>\n",
       "    </tr>\n",
       "    <tr>\n",
       "      <th>GP</th>\n",
       "      <td>6.916667</td>\n",
       "      <td>8.0</td>\n",
       "      <td>6.2</td>\n",
       "      <td>6</td>\n",
       "    </tr>\n",
       "    <tr>\n",
       "      <th>...</th>\n",
       "      <td>...</td>\n",
       "      <td>...</td>\n",
       "      <td>...</td>\n",
       "      <td>...</td>\n",
       "    </tr>\n",
       "    <tr>\n",
       "      <th>TV-Y7</th>\n",
       "      <td>7.200000</td>\n",
       "      <td>7.2</td>\n",
       "      <td>7.2</td>\n",
       "      <td>1</td>\n",
       "    </tr>\n",
       "    <tr>\n",
       "      <th>Unrated</th>\n",
       "      <td>6.920968</td>\n",
       "      <td>8.7</td>\n",
       "      <td>3.2</td>\n",
       "      <td>62</td>\n",
       "    </tr>\n",
       "    <tr>\n",
       "      <th>X</th>\n",
       "      <td>6.500000</td>\n",
       "      <td>7.9</td>\n",
       "      <td>4.0</td>\n",
       "      <td>13</td>\n",
       "    </tr>\n",
       "  </tbody>\n",
       "</table>\n",
       "<p>18 rows × 4 columns</p>\n",
       "</div>"
      ],
      "text/plain": [
       "                    mean  max  min  count\n",
       "content_rating                           \n",
       "Approved        7.325455  8.9  4.1     55\n",
       "G               6.529464  8.6  1.6    112\n",
       "GP              6.916667  8.0  6.2      6\n",
       "...                  ...  ...  ...    ...\n",
       "TV-Y7           7.200000  7.2  7.2      1\n",
       "Unrated         6.920968  8.7  3.2     62\n",
       "X               6.500000  7.9  4.0     13\n",
       "\n",
       "[18 rows x 4 columns]"
      ]
     },
     "execution_count": 116,
     "metadata": {},
     "output_type": "execute_result"
    }
   ],
   "source": [
    "movies_byRating['imdb_score'].agg(['mean', 'max', 'min', 'count'])"
   ]
  },
  {
   "cell_type": "markdown",
   "metadata": {
    "colab_type": "text",
    "id": "x5uIy1h-gfYU"
   },
   "source": [
    "The results of these groupby operations are all dataframes, check it out with the `type( )` operator\n",
    "This means we can start chaining together dataframe functions, for example `sort_values()` "
   ]
  },
  {
   "cell_type": "markdown",
   "metadata": {},
   "source": [
    "**Try it out:** Break down median revenues by country, and sort them highest to lowest"
   ]
  },
  {
   "cell_type": "code",
   "execution_count": 117,
   "metadata": {
    "colab": {
     "base_uri": "https://localhost:8080/",
     "height": 353
    },
    "colab_type": "code",
    "id": "zHaQ4MJF6yh_",
    "outputId": "8f02551f-411e-4ac0-f81f-ce5aac728752",
    "scrolled": true,
    "tags": [
     "practice"
    ]
   },
   "outputs": [
    {
     "data": {
      "text/html": [
       "<div>\n",
       "<style scoped>\n",
       "    .dataframe tbody tr th:only-of-type {\n",
       "        vertical-align: middle;\n",
       "    }\n",
       "\n",
       "    .dataframe tbody tr th {\n",
       "        vertical-align: top;\n",
       "    }\n",
       "\n",
       "    .dataframe thead th {\n",
       "        text-align: right;\n",
       "    }\n",
       "</style>\n",
       "<table border=\"1\" class=\"dataframe\">\n",
       "  <thead>\n",
       "    <tr style=\"text-align: right;\">\n",
       "      <th></th>\n",
       "      <th>imdb_score</th>\n",
       "      <th>budget</th>\n",
       "      <th>gross</th>\n",
       "      <th>duration</th>\n",
       "      <th>aspect_ratio</th>\n",
       "      <th>title_year</th>\n",
       "    </tr>\n",
       "    <tr>\n",
       "      <th>country</th>\n",
       "      <th></th>\n",
       "      <th></th>\n",
       "      <th></th>\n",
       "      <th></th>\n",
       "      <th></th>\n",
       "      <th></th>\n",
       "    </tr>\n",
       "  </thead>\n",
       "  <tbody>\n",
       "    <tr>\n",
       "      <th>Taiwan</th>\n",
       "      <td>7.15</td>\n",
       "      <td>15000000.0</td>\n",
       "      <td>64340682.0</td>\n",
       "      <td>112.5</td>\n",
       "      <td>1.86</td>\n",
       "      <td>2007.5</td>\n",
       "    </tr>\n",
       "    <tr>\n",
       "      <th>Peru</th>\n",
       "      <td>5.40</td>\n",
       "      <td>45000000.0</td>\n",
       "      <td>57362581.0</td>\n",
       "      <td>110.0</td>\n",
       "      <td>1.85</td>\n",
       "      <td>1994.0</td>\n",
       "    </tr>\n",
       "    <tr>\n",
       "      <th>South Africa</th>\n",
       "      <td>6.25</td>\n",
       "      <td>17500000.0</td>\n",
       "      <td>45089048.0</td>\n",
       "      <td>100.5</td>\n",
       "      <td>1.85</td>\n",
       "      <td>2011.5</td>\n",
       "    </tr>\n",
       "    <tr>\n",
       "      <th>USA</th>\n",
       "      <td>6.50</td>\n",
       "      <td>20000000.0</td>\n",
       "      <td>32178777.0</td>\n",
       "      <td>103.0</td>\n",
       "      <td>1.85</td>\n",
       "      <td>2005.0</td>\n",
       "    </tr>\n",
       "    <tr>\n",
       "      <th>New Zealand</th>\n",
       "      <td>7.30</td>\n",
       "      <td>25000000.0</td>\n",
       "      <td>30465398.0</td>\n",
       "      <td>108.0</td>\n",
       "      <td>2.35</td>\n",
       "      <td>2005.0</td>\n",
       "    </tr>\n",
       "  </tbody>\n",
       "</table>\n",
       "</div>"
      ],
      "text/plain": [
       "              imdb_score      budget       gross  duration  aspect_ratio  \\\n",
       "country                                                                    \n",
       "Taiwan              7.15  15000000.0  64340682.0     112.5          1.86   \n",
       "Peru                5.40  45000000.0  57362581.0     110.0          1.85   \n",
       "South Africa        6.25  17500000.0  45089048.0     100.5          1.85   \n",
       "USA                 6.50  20000000.0  32178777.0     103.0          1.85   \n",
       "New Zealand         7.30  25000000.0  30465398.0     108.0          2.35   \n",
       "\n",
       "              title_year  \n",
       "country                   \n",
       "Taiwan            2007.5  \n",
       "Peru              1994.0  \n",
       "South Africa      2011.5  \n",
       "USA               2005.0  \n",
       "New Zealand       2005.0  "
      ]
     },
     "execution_count": 117,
     "metadata": {},
     "output_type": "execute_result"
    }
   ],
   "source": [
    "# 1\n",
    "movies.groupby(by='country').agg('median').sort_values(by='gross', ascending=False).head()"
   ]
  },
  {
   "cell_type": "markdown",
   "metadata": {},
   "source": [
    "### Multilevel GroupBy"
   ]
  },
  {
   "cell_type": "markdown",
   "metadata": {
    "colab_type": "text",
    "id": "jQwdYU36CHmD"
   },
   "source": [
    "We can also group on multiple columns to get *all unique combinations* of those columns. \n",
    "\n",
    "<br> For example, we can see if the relationship between `content_rating` and `imdb_rating` differs across countries by using both as keys"
   ]
  },
  {
   "cell_type": "code",
   "execution_count": 119,
   "metadata": {
    "colab": {},
    "colab_type": "code",
    "id": "F5ofScfDCG14"
   },
   "outputs": [],
   "source": [
    "movies_byCountryRating = movies.groupby(['country', 'content_rating'])"
   ]
  },
  {
   "cell_type": "code",
   "execution_count": 120,
   "metadata": {
    "colab": {
     "base_uri": "https://localhost:8080/",
     "height": 134
    },
    "colab_type": "code",
    "id": "EH9wMlMICtSv",
    "outputId": "25bff889-61df-4056-8b16-30e8d4c84199",
    "tags": [
     "workshop"
    ]
   },
   "outputs": [
    {
     "data": {
      "text/plain": [
       "country     content_rating\n",
       "Poland      TV-MA             9.1\n",
       "Italy       Approved          8.9\n",
       "Kyrgyzstan  PG-13             8.7\n",
       "Italy       TV-MA             8.7\n",
       "            PG-13             8.6\n",
       "Name: imdb_score, dtype: float64"
      ]
     },
     "execution_count": 120,
     "metadata": {},
     "output_type": "execute_result"
    }
   ],
   "source": [
    "movies_byCountryRating['imdb_score'].agg('mean').sort_values(ascending=False).head()"
   ]
  },
  {
   "cell_type": "markdown",
   "metadata": {},
   "source": [
    "# Summary"
   ]
  },
  {
   "cell_type": "markdown",
   "metadata": {},
   "source": [
    "That's it for now!\n",
    "\n",
    "<br>Today you learned how to:\n",
    "- **Import** a dataset as a pandas object\n",
    "- Check out quick features, like `.head()`, `.shape`, and `.value_counts()`\n",
    "- The distinction between `pd.Series` and `pd.DataFrame` objects\n",
    "- **Filter** rows based on some condition\n",
    "- **Subset** columns to those we want"
   ]
  },
  {
   "cell_type": "markdown",
   "metadata": {},
   "source": [
    "We also used special `GroupBy` objects to get specific drill-down insights by:\n",
    "<br>(1) first breaking out, or **grouping** a dataset based on some category, then\n",
    "<br>(2) **aggregating** information from each observation in that category\n",
    "\n",
    "<br> In practice, if we wanted to get a mean score, broken down by every value in a given column, we would do:\n",
    "<br>`df.groupby(by='group column').agg('mean').score_column`"
   ]
  }
 ],
 "metadata": {
  "colab": {
   "name": "NBW2_pandas_key.ipynb",
   "provenance": []
  },
  "kernelspec": {
   "display_name": "Python 3",
   "language": "python",
   "name": "python3"
  },
  "language_info": {
   "codemirror_mode": {
    "name": "ipython",
    "version": 3
   },
   "file_extension": ".py",
   "mimetype": "text/x-python",
   "name": "python",
   "nbconvert_exporter": "python",
   "pygments_lexer": "ipython3",
   "version": "3.9.9"
  },
  "vscode": {
   "interpreter": {
    "hash": "aee8b7b246df8f9039afb4144a1f6fd8d2ca17a180786b69acc140d282b71a49"
   }
  }
 },
 "nbformat": 4,
 "nbformat_minor": 1
}
