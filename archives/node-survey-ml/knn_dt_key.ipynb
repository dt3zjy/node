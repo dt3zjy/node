{
 "cells": [
  {
   "cell_type": "markdown",
   "metadata": {},
   "source": [
    "# Week 8 Lab\n",
    "In this lab, we will compare the performance of the DecisionTreeClassifier with the KNeighborsClassifier when applied to the Node welcome survey."
   ]
  },
  {
   "cell_type": "code",
   "execution_count": 1,
   "metadata": {},
   "outputs": [],
   "source": [
    "# Import pandas, numpy, DecisionTreeClassifier, KNN, train_test_split, and accuracy_score\n",
    "import pandas as pd\n",
    "import numpy as np\n",
    "from sklearn.tree import DecisionTreeClassifier\n",
    "from sklearn.neighbors import KNeighborsClassifier\n",
    "from sklearn.model_selection import train_test_split\n",
    "from sklearn.metrics import accuracy_score"
   ]
  },
  {
   "cell_type": "markdown",
   "metadata": {},
   "source": [
    "Read in the csv from the url:"
   ]
  },
  {
   "cell_type": "code",
   "execution_count": 2,
   "metadata": {},
   "outputs": [],
   "source": [
    "# Read in the csv from the url\n",
    "url = 'https://raw.githubusercontent.com/ishaandey/node/master/week-8/lab/survey-results.csv'\n",
    "df = pd.read_csv(url)"
   ]
  },
  {
   "cell_type": "markdown",
   "metadata": {},
   "source": [
    "Take a look at the data to identify the features and the target. We are trying to identify which students are completing a Data Science related major (Computer Science or Statistics). The DS_Major column tells whether or not the student is pursuing a Data Sciene Major."
   ]
  },
  {
   "cell_type": "code",
   "execution_count": 3,
   "metadata": {},
   "outputs": [
    {
     "data": {
      "text/html": [
       "<div>\n",
       "<style scoped>\n",
       "    .dataframe tbody tr th:only-of-type {\n",
       "        vertical-align: middle;\n",
       "    }\n",
       "\n",
       "    .dataframe tbody tr th {\n",
       "        vertical-align: top;\n",
       "    }\n",
       "\n",
       "    .dataframe thead th {\n",
       "        text-align: right;\n",
       "    }\n",
       "</style>\n",
       "<table border=\"1\" class=\"dataframe\">\n",
       "  <thead>\n",
       "    <tr style=\"text-align: right;\">\n",
       "      <th></th>\n",
       "      <th>Timestamp</th>\n",
       "      <th>Index</th>\n",
       "      <th>Use_responses</th>\n",
       "      <th>First_name</th>\n",
       "      <th>Last_name</th>\n",
       "      <th>Nickname</th>\n",
       "      <th>College</th>\n",
       "      <th>Year</th>\n",
       "      <th>Major</th>\n",
       "      <th>DS_Major</th>\n",
       "      <th>New_to_CS</th>\n",
       "      <th>Python</th>\n",
       "      <th>R</th>\n",
       "      <th>SQL</th>\n",
       "      <th>SAS_STATA</th>\n",
       "      <th>Other_languages</th>\n",
       "      <th>Statistics</th>\n",
       "      <th>DS_Topics</th>\n",
       "      <th>Hobbies</th>\n",
       "    </tr>\n",
       "  </thead>\n",
       "  <tbody>\n",
       "    <tr>\n",
       "      <th>0</th>\n",
       "      <td>2/14/2021 10:16</td>\n",
       "      <td>1</td>\n",
       "      <td>Sure!</td>\n",
       "      <td>Susannah</td>\n",
       "      <td>White</td>\n",
       "      <td>Susie</td>\n",
       "      <td>UVA College of Arts and Sciences</td>\n",
       "      <td>2nd Year</td>\n",
       "      <td>Pre Commerce</td>\n",
       "      <td>No</td>\n",
       "      <td>Nope</td>\n",
       "      <td>Kinda know it</td>\n",
       "      <td>Kinda know it</td>\n",
       "      <td>Never touched it</td>\n",
       "      <td>Never touched it</td>\n",
       "      <td>Kinda know it</td>\n",
       "      <td>Kinda know it</td>\n",
       "      <td>I’m interested in data wrangling and using dat...</td>\n",
       "      <td>Dance, baking</td>\n",
       "    </tr>\n",
       "    <tr>\n",
       "      <th>1</th>\n",
       "      <td>2/14/2021 10:25</td>\n",
       "      <td>2</td>\n",
       "      <td>Yes, but anonymized</td>\n",
       "      <td>PII</td>\n",
       "      <td>PII</td>\n",
       "      <td>NaN</td>\n",
       "      <td>UVA Darden</td>\n",
       "      <td>Graduate school</td>\n",
       "      <td>MBA</td>\n",
       "      <td>No</td>\n",
       "      <td>It's been a while</td>\n",
       "      <td>Kinda know it</td>\n",
       "      <td>Never touched it</td>\n",
       "      <td>Kinda know it</td>\n",
       "      <td>Never touched it</td>\n",
       "      <td>Love it</td>\n",
       "      <td>Kinda know it</td>\n",
       "      <td>Learning the new languages, formalizing my lim...</td>\n",
       "      <td>Outdoors activities</td>\n",
       "    </tr>\n",
       "    <tr>\n",
       "      <th>2</th>\n",
       "      <td>2/14/2021 11:01</td>\n",
       "      <td>3</td>\n",
       "      <td>Sure!</td>\n",
       "      <td>Jackson</td>\n",
       "      <td>Wolf</td>\n",
       "      <td>NaN</td>\n",
       "      <td>N/a</td>\n",
       "      <td>2nd Year</td>\n",
       "      <td>CS, Statistics</td>\n",
       "      <td>Yes</td>\n",
       "      <td>Nope</td>\n",
       "      <td>Love it</td>\n",
       "      <td>Never touched it</td>\n",
       "      <td>Never touched it</td>\n",
       "      <td>Never touched it</td>\n",
       "      <td>Love it</td>\n",
       "      <td>Love it</td>\n",
       "      <td>NaN</td>\n",
       "      <td>Video games, tv, sports, anime</td>\n",
       "    </tr>\n",
       "    <tr>\n",
       "      <th>3</th>\n",
       "      <td>2/14/2021 11:22</td>\n",
       "      <td>4</td>\n",
       "      <td>Yes, but anonymized</td>\n",
       "      <td>PII</td>\n",
       "      <td>PII</td>\n",
       "      <td>NaN</td>\n",
       "      <td>UVA College of Arts and Sciences</td>\n",
       "      <td>4th Year</td>\n",
       "      <td>History, Chinese Language &amp; Literature</td>\n",
       "      <td>No</td>\n",
       "      <td>It's been a while</td>\n",
       "      <td>Kinda know it</td>\n",
       "      <td>Never touched it</td>\n",
       "      <td>Never touched it</td>\n",
       "      <td>Never touched it</td>\n",
       "      <td>Never touched it</td>\n",
       "      <td>Never touched it</td>\n",
       "      <td>NaN</td>\n",
       "      <td>Ultimate Frisbee, Biking (Road and Mountain), ...</td>\n",
       "    </tr>\n",
       "    <tr>\n",
       "      <th>4</th>\n",
       "      <td>2/14/2021 12:07</td>\n",
       "      <td>5</td>\n",
       "      <td>Sure!</td>\n",
       "      <td>Paul</td>\n",
       "      <td>Andrews</td>\n",
       "      <td>NaN</td>\n",
       "      <td>UVA College of Arts and Sciences</td>\n",
       "      <td>3rd Year</td>\n",
       "      <td>Mathematics</td>\n",
       "      <td>No</td>\n",
       "      <td>It's been a while</td>\n",
       "      <td>Kinda know it</td>\n",
       "      <td>Never touched it</td>\n",
       "      <td>Kinda know it</td>\n",
       "      <td>Never touched it</td>\n",
       "      <td>Never touched it</td>\n",
       "      <td>Kinda know it</td>\n",
       "      <td>I just want to get more experience with data s...</td>\n",
       "      <td>I'm a dancer, I enjoy trying different cuisine...</td>\n",
       "    </tr>\n",
       "  </tbody>\n",
       "</table>\n",
       "</div>"
      ],
      "text/plain": [
       "         Timestamp  Index        Use_responses First_name Last_name Nickname  \\\n",
       "0  2/14/2021 10:16      1                Sure!   Susannah     White    Susie   \n",
       "1  2/14/2021 10:25      2  Yes, but anonymized        PII       PII      NaN   \n",
       "2  2/14/2021 11:01      3                Sure!   Jackson       Wolf      NaN   \n",
       "3  2/14/2021 11:22      4  Yes, but anonymized        PII       PII      NaN   \n",
       "4  2/14/2021 12:07      5                Sure!       Paul   Andrews      NaN   \n",
       "\n",
       "                            College             Year  \\\n",
       "0  UVA College of Arts and Sciences         2nd Year   \n",
       "1                        UVA Darden  Graduate school   \n",
       "2                               N/a         2nd Year   \n",
       "3  UVA College of Arts and Sciences         4th Year   \n",
       "4  UVA College of Arts and Sciences         3rd Year   \n",
       "\n",
       "                                    Major DS_Major          New_to_CS  \\\n",
       "0                            Pre Commerce       No               Nope   \n",
       "1                                     MBA       No  It's been a while   \n",
       "2                          CS, Statistics      Yes               Nope   \n",
       "3  History, Chinese Language & Literature       No  It's been a while   \n",
       "4                             Mathematics       No  It's been a while   \n",
       "\n",
       "          Python                 R               SQL         SAS_STATA  \\\n",
       "0  Kinda know it     Kinda know it  Never touched it  Never touched it   \n",
       "1  Kinda know it  Never touched it     Kinda know it  Never touched it   \n",
       "2        Love it  Never touched it  Never touched it  Never touched it   \n",
       "3  Kinda know it  Never touched it  Never touched it  Never touched it   \n",
       "4  Kinda know it  Never touched it     Kinda know it  Never touched it   \n",
       "\n",
       "    Other_languages        Statistics  \\\n",
       "0     Kinda know it     Kinda know it   \n",
       "1           Love it     Kinda know it   \n",
       "2           Love it           Love it   \n",
       "3  Never touched it  Never touched it   \n",
       "4  Never touched it     Kinda know it   \n",
       "\n",
       "                                           DS_Topics  \\\n",
       "0  I’m interested in data wrangling and using dat...   \n",
       "1  Learning the new languages, formalizing my lim...   \n",
       "2                                                NaN   \n",
       "3                                                NaN   \n",
       "4  I just want to get more experience with data s...   \n",
       "\n",
       "                                             Hobbies  \n",
       "0                                      Dance, baking  \n",
       "1                               Outdoors activities   \n",
       "2                     Video games, tv, sports, anime  \n",
       "3  Ultimate Frisbee, Biking (Road and Mountain), ...  \n",
       "4  I'm a dancer, I enjoy trying different cuisine...  "
      ]
     },
     "execution_count": 3,
     "metadata": {},
     "output_type": "execute_result"
    }
   ],
   "source": [
    "# Take a look at the first 5 rows\n",
    "df.head()"
   ]
  },
  {
   "cell_type": "markdown",
   "metadata": {},
   "source": [
    "Map the 'Yes' and 'No' in the DS_Major column to be 1 for 'Yes' and 0 for 'No'."
   ]
  },
  {
   "cell_type": "code",
   "execution_count": 4,
   "metadata": {},
   "outputs": [],
   "source": [
    "# Convert DS_Major to be 1 and 0\n",
    "df['DS_Major'] = df['DS_Major'].map({'Yes':1, 'No':0})"
   ]
  },
  {
   "cell_type": "markdown",
   "metadata": {},
   "source": [
    "Drop the columns that will not be useful for this prediction."
   ]
  },
  {
   "cell_type": "code",
   "execution_count": 5,
   "metadata": {},
   "outputs": [
    {
     "data": {
      "text/html": [
       "<div>\n",
       "<style scoped>\n",
       "    .dataframe tbody tr th:only-of-type {\n",
       "        vertical-align: middle;\n",
       "    }\n",
       "\n",
       "    .dataframe tbody tr th {\n",
       "        vertical-align: top;\n",
       "    }\n",
       "\n",
       "    .dataframe thead th {\n",
       "        text-align: right;\n",
       "    }\n",
       "</style>\n",
       "<table border=\"1\" class=\"dataframe\">\n",
       "  <thead>\n",
       "    <tr style=\"text-align: right;\">\n",
       "      <th></th>\n",
       "      <th>College</th>\n",
       "      <th>Year</th>\n",
       "      <th>Major</th>\n",
       "      <th>DS_Major</th>\n",
       "      <th>New_to_CS</th>\n",
       "      <th>Python</th>\n",
       "      <th>R</th>\n",
       "      <th>SQL</th>\n",
       "      <th>SAS_STATA</th>\n",
       "      <th>Other_languages</th>\n",
       "      <th>Statistics</th>\n",
       "    </tr>\n",
       "  </thead>\n",
       "  <tbody>\n",
       "    <tr>\n",
       "      <th>0</th>\n",
       "      <td>UVA College of Arts and Sciences</td>\n",
       "      <td>2nd Year</td>\n",
       "      <td>Pre Commerce</td>\n",
       "      <td>0</td>\n",
       "      <td>Nope</td>\n",
       "      <td>Kinda know it</td>\n",
       "      <td>Kinda know it</td>\n",
       "      <td>Never touched it</td>\n",
       "      <td>Never touched it</td>\n",
       "      <td>Kinda know it</td>\n",
       "      <td>Kinda know it</td>\n",
       "    </tr>\n",
       "    <tr>\n",
       "      <th>1</th>\n",
       "      <td>UVA Darden</td>\n",
       "      <td>Graduate school</td>\n",
       "      <td>MBA</td>\n",
       "      <td>0</td>\n",
       "      <td>It's been a while</td>\n",
       "      <td>Kinda know it</td>\n",
       "      <td>Never touched it</td>\n",
       "      <td>Kinda know it</td>\n",
       "      <td>Never touched it</td>\n",
       "      <td>Love it</td>\n",
       "      <td>Kinda know it</td>\n",
       "    </tr>\n",
       "    <tr>\n",
       "      <th>2</th>\n",
       "      <td>N/a</td>\n",
       "      <td>2nd Year</td>\n",
       "      <td>CS, Statistics</td>\n",
       "      <td>1</td>\n",
       "      <td>Nope</td>\n",
       "      <td>Love it</td>\n",
       "      <td>Never touched it</td>\n",
       "      <td>Never touched it</td>\n",
       "      <td>Never touched it</td>\n",
       "      <td>Love it</td>\n",
       "      <td>Love it</td>\n",
       "    </tr>\n",
       "    <tr>\n",
       "      <th>3</th>\n",
       "      <td>UVA College of Arts and Sciences</td>\n",
       "      <td>4th Year</td>\n",
       "      <td>History, Chinese Language &amp; Literature</td>\n",
       "      <td>0</td>\n",
       "      <td>It's been a while</td>\n",
       "      <td>Kinda know it</td>\n",
       "      <td>Never touched it</td>\n",
       "      <td>Never touched it</td>\n",
       "      <td>Never touched it</td>\n",
       "      <td>Never touched it</td>\n",
       "      <td>Never touched it</td>\n",
       "    </tr>\n",
       "    <tr>\n",
       "      <th>4</th>\n",
       "      <td>UVA College of Arts and Sciences</td>\n",
       "      <td>3rd Year</td>\n",
       "      <td>Mathematics</td>\n",
       "      <td>0</td>\n",
       "      <td>It's been a while</td>\n",
       "      <td>Kinda know it</td>\n",
       "      <td>Never touched it</td>\n",
       "      <td>Kinda know it</td>\n",
       "      <td>Never touched it</td>\n",
       "      <td>Never touched it</td>\n",
       "      <td>Kinda know it</td>\n",
       "    </tr>\n",
       "  </tbody>\n",
       "</table>\n",
       "</div>"
      ],
      "text/plain": [
       "                            College             Year  \\\n",
       "0  UVA College of Arts and Sciences         2nd Year   \n",
       "1                        UVA Darden  Graduate school   \n",
       "2                               N/a         2nd Year   \n",
       "3  UVA College of Arts and Sciences         4th Year   \n",
       "4  UVA College of Arts and Sciences         3rd Year   \n",
       "\n",
       "                                    Major  DS_Major          New_to_CS  \\\n",
       "0                            Pre Commerce         0               Nope   \n",
       "1                                     MBA         0  It's been a while   \n",
       "2                          CS, Statistics         1               Nope   \n",
       "3  History, Chinese Language & Literature         0  It's been a while   \n",
       "4                             Mathematics         0  It's been a while   \n",
       "\n",
       "          Python                 R               SQL         SAS_STATA  \\\n",
       "0  Kinda know it     Kinda know it  Never touched it  Never touched it   \n",
       "1  Kinda know it  Never touched it     Kinda know it  Never touched it   \n",
       "2        Love it  Never touched it  Never touched it  Never touched it   \n",
       "3  Kinda know it  Never touched it  Never touched it  Never touched it   \n",
       "4  Kinda know it  Never touched it     Kinda know it  Never touched it   \n",
       "\n",
       "    Other_languages        Statistics  \n",
       "0     Kinda know it     Kinda know it  \n",
       "1           Love it     Kinda know it  \n",
       "2           Love it           Love it  \n",
       "3  Never touched it  Never touched it  \n",
       "4  Never touched it     Kinda know it  "
      ]
     },
     "execution_count": 5,
     "metadata": {},
     "output_type": "execute_result"
    }
   ],
   "source": [
    "# Drop unimportant columns from the DataFrame\n",
    "unimportant_columns = ['Timestamp', 'Index', 'Use_responses', 'First_name', 'Last_name', 'Nickname', 'Hobbies', 'DS_Topics']\n",
    "cleaned = df.drop(columns=unimportant_columns)\n",
    "cleaned.head()"
   ]
  },
  {
   "cell_type": "markdown",
   "metadata": {},
   "source": [
    "One-hot encode the categorical variables using get_dummies from pandas."
   ]
  },
  {
   "cell_type": "code",
   "execution_count": 6,
   "metadata": {},
   "outputs": [
    {
     "data": {
      "text/html": [
       "<div>\n",
       "<style scoped>\n",
       "    .dataframe tbody tr th:only-of-type {\n",
       "        vertical-align: middle;\n",
       "    }\n",
       "\n",
       "    .dataframe tbody tr th {\n",
       "        vertical-align: top;\n",
       "    }\n",
       "\n",
       "    .dataframe thead th {\n",
       "        text-align: right;\n",
       "    }\n",
       "</style>\n",
       "<table border=\"1\" class=\"dataframe\">\n",
       "  <thead>\n",
       "    <tr style=\"text-align: right;\">\n",
       "      <th></th>\n",
       "      <th>DS_Major</th>\n",
       "      <th>College_N/a</th>\n",
       "      <th>College_UVA</th>\n",
       "      <th>College_UVA College of Arts and Sciences</th>\n",
       "      <th>College_UVA Darden</th>\n",
       "      <th>Year_1st Year</th>\n",
       "      <th>Year_2nd Year</th>\n",
       "      <th>Year_3rd Year</th>\n",
       "      <th>Year_4th Year</th>\n",
       "      <th>Year_Graduate school</th>\n",
       "      <th>...</th>\n",
       "      <th>SQL_Never touched it</th>\n",
       "      <th>SAS_STATA_Kinda know it</th>\n",
       "      <th>SAS_STATA_Love it</th>\n",
       "      <th>SAS_STATA_Never touched it</th>\n",
       "      <th>Other_languages_Kinda know it</th>\n",
       "      <th>Other_languages_Love it</th>\n",
       "      <th>Other_languages_Never touched it</th>\n",
       "      <th>Statistics_Kinda know it</th>\n",
       "      <th>Statistics_Love it</th>\n",
       "      <th>Statistics_Never touched it</th>\n",
       "    </tr>\n",
       "  </thead>\n",
       "  <tbody>\n",
       "    <tr>\n",
       "      <th>0</th>\n",
       "      <td>0</td>\n",
       "      <td>0</td>\n",
       "      <td>0</td>\n",
       "      <td>1</td>\n",
       "      <td>0</td>\n",
       "      <td>0</td>\n",
       "      <td>1</td>\n",
       "      <td>0</td>\n",
       "      <td>0</td>\n",
       "      <td>0</td>\n",
       "      <td>...</td>\n",
       "      <td>1</td>\n",
       "      <td>0</td>\n",
       "      <td>0</td>\n",
       "      <td>1</td>\n",
       "      <td>1</td>\n",
       "      <td>0</td>\n",
       "      <td>0</td>\n",
       "      <td>1</td>\n",
       "      <td>0</td>\n",
       "      <td>0</td>\n",
       "    </tr>\n",
       "    <tr>\n",
       "      <th>1</th>\n",
       "      <td>0</td>\n",
       "      <td>0</td>\n",
       "      <td>0</td>\n",
       "      <td>0</td>\n",
       "      <td>1</td>\n",
       "      <td>0</td>\n",
       "      <td>0</td>\n",
       "      <td>0</td>\n",
       "      <td>0</td>\n",
       "      <td>1</td>\n",
       "      <td>...</td>\n",
       "      <td>0</td>\n",
       "      <td>0</td>\n",
       "      <td>0</td>\n",
       "      <td>1</td>\n",
       "      <td>0</td>\n",
       "      <td>1</td>\n",
       "      <td>0</td>\n",
       "      <td>1</td>\n",
       "      <td>0</td>\n",
       "      <td>0</td>\n",
       "    </tr>\n",
       "    <tr>\n",
       "      <th>2</th>\n",
       "      <td>1</td>\n",
       "      <td>1</td>\n",
       "      <td>0</td>\n",
       "      <td>0</td>\n",
       "      <td>0</td>\n",
       "      <td>0</td>\n",
       "      <td>1</td>\n",
       "      <td>0</td>\n",
       "      <td>0</td>\n",
       "      <td>0</td>\n",
       "      <td>...</td>\n",
       "      <td>1</td>\n",
       "      <td>0</td>\n",
       "      <td>0</td>\n",
       "      <td>1</td>\n",
       "      <td>0</td>\n",
       "      <td>1</td>\n",
       "      <td>0</td>\n",
       "      <td>0</td>\n",
       "      <td>1</td>\n",
       "      <td>0</td>\n",
       "    </tr>\n",
       "    <tr>\n",
       "      <th>3</th>\n",
       "      <td>0</td>\n",
       "      <td>0</td>\n",
       "      <td>0</td>\n",
       "      <td>1</td>\n",
       "      <td>0</td>\n",
       "      <td>0</td>\n",
       "      <td>0</td>\n",
       "      <td>0</td>\n",
       "      <td>1</td>\n",
       "      <td>0</td>\n",
       "      <td>...</td>\n",
       "      <td>1</td>\n",
       "      <td>0</td>\n",
       "      <td>0</td>\n",
       "      <td>1</td>\n",
       "      <td>0</td>\n",
       "      <td>0</td>\n",
       "      <td>1</td>\n",
       "      <td>0</td>\n",
       "      <td>0</td>\n",
       "      <td>1</td>\n",
       "    </tr>\n",
       "    <tr>\n",
       "      <th>4</th>\n",
       "      <td>0</td>\n",
       "      <td>0</td>\n",
       "      <td>0</td>\n",
       "      <td>1</td>\n",
       "      <td>0</td>\n",
       "      <td>0</td>\n",
       "      <td>0</td>\n",
       "      <td>1</td>\n",
       "      <td>0</td>\n",
       "      <td>0</td>\n",
       "      <td>...</td>\n",
       "      <td>0</td>\n",
       "      <td>0</td>\n",
       "      <td>0</td>\n",
       "      <td>1</td>\n",
       "      <td>0</td>\n",
       "      <td>0</td>\n",
       "      <td>1</td>\n",
       "      <td>1</td>\n",
       "      <td>0</td>\n",
       "      <td>0</td>\n",
       "    </tr>\n",
       "  </tbody>\n",
       "</table>\n",
       "<p>5 rows × 40 columns</p>\n",
       "</div>"
      ],
      "text/plain": [
       "   DS_Major  College_N/a  College_UVA  \\\n",
       "0         0            0            0   \n",
       "1         0            0            0   \n",
       "2         1            1            0   \n",
       "3         0            0            0   \n",
       "4         0            0            0   \n",
       "\n",
       "   College_UVA College of Arts and Sciences  College_UVA Darden  \\\n",
       "0                                         1                   0   \n",
       "1                                         0                   1   \n",
       "2                                         0                   0   \n",
       "3                                         1                   0   \n",
       "4                                         1                   0   \n",
       "\n",
       "   Year_1st Year  Year_2nd Year  Year_3rd Year  Year_4th Year  \\\n",
       "0              0              1              0              0   \n",
       "1              0              0              0              0   \n",
       "2              0              1              0              0   \n",
       "3              0              0              0              1   \n",
       "4              0              0              1              0   \n",
       "\n",
       "   Year_Graduate school             ...               SQL_Never touched it  \\\n",
       "0                     0             ...                                  1   \n",
       "1                     1             ...                                  0   \n",
       "2                     0             ...                                  1   \n",
       "3                     0             ...                                  1   \n",
       "4                     0             ...                                  0   \n",
       "\n",
       "   SAS_STATA_Kinda know it  SAS_STATA_Love it  SAS_STATA_Never touched it  \\\n",
       "0                        0                  0                           1   \n",
       "1                        0                  0                           1   \n",
       "2                        0                  0                           1   \n",
       "3                        0                  0                           1   \n",
       "4                        0                  0                           1   \n",
       "\n",
       "   Other_languages_Kinda know it  Other_languages_Love it  \\\n",
       "0                              1                        0   \n",
       "1                              0                        1   \n",
       "2                              0                        1   \n",
       "3                              0                        0   \n",
       "4                              0                        0   \n",
       "\n",
       "   Other_languages_Never touched it  Statistics_Kinda know it  \\\n",
       "0                                 0                         1   \n",
       "1                                 0                         1   \n",
       "2                                 0                         0   \n",
       "3                                 1                         0   \n",
       "4                                 1                         1   \n",
       "\n",
       "   Statistics_Love it  Statistics_Never touched it  \n",
       "0                   0                            0  \n",
       "1                   0                            0  \n",
       "2                   1                            0  \n",
       "3                   0                            1  \n",
       "4                   0                            0  \n",
       "\n",
       "[5 rows x 40 columns]"
      ]
     },
     "execution_count": 6,
     "metadata": {},
     "output_type": "execute_result"
    }
   ],
   "source": [
    "# One-hot encode categorical variables\n",
    "one_hot = pd.get_dummies(cleaned)\n",
    "one_hot.head()"
   ]
  },
  {
   "cell_type": "markdown",
   "metadata": {},
   "source": [
    "Now, separate the data into X and y. Remember that the target is whether or not the student is pursuing a DS related major."
   ]
  },
  {
   "cell_type": "code",
   "execution_count": 7,
   "metadata": {},
   "outputs": [],
   "source": [
    "# Separate into X and y\n",
    "X = one_hot.drop('DS_Major', axis=1)\n",
    "y = one_hot['DS_Major']"
   ]
  },
  {
   "cell_type": "markdown",
   "metadata": {},
   "source": [
    "Use train_test_split to split the data into training and testing. Use a test_size of 0.2, and set random_state to 42."
   ]
  },
  {
   "cell_type": "code",
   "execution_count": 8,
   "metadata": {},
   "outputs": [],
   "source": [
    "# Train_test_split\n",
    "X_train, X_test, y_train, y_test = train_test_split(X, y, test_size=0.2, random_state=42)"
   ]
  },
  {
   "cell_type": "markdown",
   "metadata": {},
   "source": [
    "We will start by fitting a decision tree classifier to the training data."
   ]
  },
  {
   "cell_type": "code",
   "execution_count": 9,
   "metadata": {},
   "outputs": [
    {
     "data": {
      "text/plain": [
       "DecisionTreeClassifier(class_weight=None, criterion='gini', max_depth=None,\n",
       "            max_features=None, max_leaf_nodes=None,\n",
       "            min_impurity_decrease=0.0, min_impurity_split=None,\n",
       "            min_samples_leaf=1, min_samples_split=2,\n",
       "            min_weight_fraction_leaf=0.0, presort=False, random_state=None,\n",
       "            splitter='best')"
      ]
     },
     "execution_count": 9,
     "metadata": {},
     "output_type": "execute_result"
    }
   ],
   "source": [
    "# Fit a DecisionTreeClassifier\n",
    "clf_dt = DecisionTreeClassifier()\n",
    "clf_dt.fit(X_train, y_train)"
   ]
  },
  {
   "cell_type": "markdown",
   "metadata": {},
   "source": [
    "Use the classifier to predict on the testing data and compare the predictions to the actual labels."
   ]
  },
  {
   "cell_type": "code",
   "execution_count": 10,
   "metadata": {},
   "outputs": [
    {
     "name": "stdout",
     "output_type": "stream",
     "text": [
      "Predicted:  [1 0 1]\n",
      "Actual:     [1 0 0]\n"
     ]
    }
   ],
   "source": [
    "predicted = clf_dt.predict(X_test)\n",
    "actual = np.array(y_test)\n",
    "\n",
    "print('Predicted: ',predicted)\n",
    "print('Actual:    ',actual)"
   ]
  },
  {
   "cell_type": "markdown",
   "metadata": {},
   "source": [
    "Next, get the accuracy score for the DecisionTreeClassifier."
   ]
  },
  {
   "cell_type": "code",
   "execution_count": 11,
   "metadata": {},
   "outputs": [
    {
     "data": {
      "text/plain": [
       "0.6666666666666666"
      ]
     },
     "execution_count": 11,
     "metadata": {},
     "output_type": "execute_result"
    }
   ],
   "source": [
    "acc = accuracy_score(predicted, actual)\n",
    "acc"
   ]
  },
  {
   "cell_type": "markdown",
   "metadata": {},
   "source": [
    "1. What are the most important features for the DecisionTreeClassifier? Hint: Use feature_importances_\n",
    "\n",
    "Bonus: Create a DataFrame where each row has a feature and its importance and subset for features with importances greater than 0."
   ]
  },
  {
   "cell_type": "code",
   "execution_count": 12,
   "metadata": {},
   "outputs": [
    {
     "data": {
      "text/html": [
       "<div>\n",
       "<style scoped>\n",
       "    .dataframe tbody tr th:only-of-type {\n",
       "        vertical-align: middle;\n",
       "    }\n",
       "\n",
       "    .dataframe tbody tr th {\n",
       "        vertical-align: top;\n",
       "    }\n",
       "\n",
       "    .dataframe thead th {\n",
       "        text-align: right;\n",
       "    }\n",
       "</style>\n",
       "<table border=\"1\" class=\"dataframe\">\n",
       "  <thead>\n",
       "    <tr style=\"text-align: right;\">\n",
       "      <th></th>\n",
       "      <th>Importance</th>\n",
       "    </tr>\n",
       "  </thead>\n",
       "  <tbody>\n",
       "    <tr>\n",
       "      <th>New_to_CS_Nope</th>\n",
       "      <td>0.5</td>\n",
       "    </tr>\n",
       "    <tr>\n",
       "      <th>Statistics_Love it</th>\n",
       "      <td>0.5</td>\n",
       "    </tr>\n",
       "  </tbody>\n",
       "</table>\n",
       "</div>"
      ],
      "text/plain": [
       "                    Importance\n",
       "New_to_CS_Nope             0.5\n",
       "Statistics_Love it         0.5"
      ]
     },
     "execution_count": 12,
     "metadata": {},
     "output_type": "execute_result"
    }
   ],
   "source": [
    "importances = pd.DataFrame({'Importance':clf_dt.feature_importances_}, index=X.columns)\n",
    "importances[importances.Importance > 0]"
   ]
  },
  {
   "cell_type": "markdown",
   "metadata": {},
   "source": [
    "Now, we will train a KNeighborsClassifier and compare its performance to the DecisionTreeClassifier. Fit a KNN to the training data."
   ]
  },
  {
   "cell_type": "code",
   "execution_count": 13,
   "metadata": {},
   "outputs": [
    {
     "data": {
      "text/plain": [
       "KNeighborsClassifier(algorithm='auto', leaf_size=30, metric='minkowski',\n",
       "           metric_params=None, n_jobs=None, n_neighbors=5, p=2,\n",
       "           weights='uniform')"
      ]
     },
     "execution_count": 13,
     "metadata": {},
     "output_type": "execute_result"
    }
   ],
   "source": [
    "# Fit a KNN to the training data\n",
    "clf_knn = KNeighborsClassifier(n_neighbors=5)\n",
    "clf_knn.fit(X_train, y_train)"
   ]
  },
  {
   "cell_type": "markdown",
   "metadata": {},
   "source": [
    "Predict on the testing data, and compare the results to the actual labels."
   ]
  },
  {
   "cell_type": "code",
   "execution_count": 14,
   "metadata": {},
   "outputs": [
    {
     "name": "stdout",
     "output_type": "stream",
     "text": [
      "Predicted:  [1 1 1]\n",
      "Actual:     [1 0 0]\n"
     ]
    }
   ],
   "source": [
    "# Get predictions\n",
    "predicted = clf_knn.predict(X_test)\n",
    "actual = np.array(y_test)\n",
    "\n",
    "print('Predicted: ',predicted)\n",
    "print('Actual:    ',actual)"
   ]
  },
  {
   "cell_type": "code",
   "execution_count": 15,
   "metadata": {},
   "outputs": [
    {
     "data": {
      "text/plain": [
       "0.3333333333333333"
      ]
     },
     "execution_count": 15,
     "metadata": {},
     "output_type": "execute_result"
    }
   ],
   "source": [
    "# Get the accuracy score\n",
    "acc = accuracy_score(predicted, actual)\n",
    "acc"
   ]
  },
  {
   "cell_type": "markdown",
   "metadata": {},
   "source": [
    "2. Which classifier performed better -- KNN or DT?"
   ]
  },
  {
   "cell_type": "markdown",
   "metadata": {},
   "source": [
    "3. What is the accuracy of a KNN on the training data when n_neighbors is set to 1? Why?"
   ]
  },
  {
   "cell_type": "code",
   "execution_count": 16,
   "metadata": {},
   "outputs": [
    {
     "data": {
      "text/plain": [
       "KNeighborsClassifier(algorithm='auto', leaf_size=30, metric='minkowski',\n",
       "           metric_params=None, n_jobs=None, n_neighbors=1, p=2,\n",
       "           weights='uniform')"
      ]
     },
     "execution_count": 16,
     "metadata": {},
     "output_type": "execute_result"
    }
   ],
   "source": [
    "# Fit a KNN with n_neighbors=1 to the training data\n",
    "clf_knn = KNeighborsClassifier(n_neighbors=1)\n",
    "clf_knn.fit(X_train, y_train)"
   ]
  },
  {
   "cell_type": "code",
   "execution_count": 17,
   "metadata": {},
   "outputs": [
    {
     "name": "stdout",
     "output_type": "stream",
     "text": [
      "Predicted:  [0 1 1 1 0 1 0 1 1 1 0 1]\n",
      "Actual:     [0 1 1 1 0 1 0 1 1 1 0 1]\n"
     ]
    }
   ],
   "source": [
    "# Get the predicted values\n",
    "predicted = clf_knn.predict(X_train)\n",
    "actual = np.array(y_train)\n",
    "\n",
    "print('Predicted: ',predicted)\n",
    "print('Actual:    ',actual)"
   ]
  },
  {
   "cell_type": "code",
   "execution_count": 18,
   "metadata": {},
   "outputs": [
    {
     "data": {
      "text/plain": [
       "1.0"
      ]
     },
     "execution_count": 18,
     "metadata": {},
     "output_type": "execute_result"
    }
   ],
   "source": [
    "# Get the accuracy score\n",
    "acc = accuracy_score(predicted, actual)\n",
    "acc"
   ]
  },
  {
   "cell_type": "code",
   "execution_count": null,
   "metadata": {},
   "outputs": [],
   "source": []
  }
 ],
 "metadata": {
  "kernelspec": {
   "display_name": "Python 3",
   "language": "python",
   "name": "python3"
  },
  "language_info": {
   "codemirror_mode": {
    "name": "ipython",
    "version": 3
   },
   "file_extension": ".py",
   "mimetype": "text/x-python",
   "name": "python",
   "nbconvert_exporter": "python",
   "pygments_lexer": "ipython3",
   "version": "3.6.5"
  }
 },
 "nbformat": 4,
 "nbformat_minor": 2
}
