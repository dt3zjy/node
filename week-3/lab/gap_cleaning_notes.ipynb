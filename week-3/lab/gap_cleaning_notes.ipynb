{
 "cells": [
  {
   "cell_type": "markdown",
   "metadata": {},
   "source": [
    "## Gap Data, Part 2 "
   ]
  },
  {
   "cell_type": "markdown",
   "metadata": {},
   "source": [
    "#### Data Documentation:\n",
    "<br>**Description**: Synthetic dataset from Gap Inc., representing a random sample of individual purchases from Q1 FY2020. <br>Each row is a unique item purchased in an order\n",
    "<br><br>\n",
    "\n",
    "| **Feature** | **Description**    | **Sample Value(s)**  |\n",
    "| ------- | -----------    | ------------- |\n",
    "| OrderID | Unique identifier per transaction (7-digit) | DRW7C20   |\n",
    "| CustomerID | Unique identifier per customer (5-digit) | KP441   |\n",
    "| ProductID  | Unique identifier per item (8-digit) | 13-817-239 |\n",
    "| StoreID | Unique identifier per store (4-digit) | #4176 |\n",
    "| OrderType | How purchase was completed  | InStore, HomeDelivery, Online |\n",
    "| Timestamp | Timestamp of transaction (YYYY-MM-DD) | 2020-01-18 10:13:56\t |\n",
    "| Brand | Which reporting segment of Gap Inc. bought from | Banana Republic |\n",
    "| ItemSize | Size of item | XS, S, M, L, X, XL |\n",
    "| ProductName | Name of item associated with item identifier | Pink Polo by Kanye |\n",
    "| Collection | Which part of store | Denim Shop |\n",
    "| Price | Listed price of item | $29.95 |\n",
    "| ClearanceType | Type of clearance | Retail, Clearance, Final Sale |\n",
    "| DiscountType | If Gap Card rewards was used | Reward points, Promotion, GapCash, Other |\n",
    "| StoreName | Store name (i.e. Mall), or facility where online order was shipped from | Barracks Shopping Center |\n",
    "| Address | Store location | Charlottesville, VA |\n",
    "| Lat | Store latitude | 38.054034 |\n",
    "| Lon | Store longitude | -78.499492 |\n",
    "\n",
    "<br>"
   ]
  },
  {
   "cell_type": "markdown",
   "metadata": {},
   "source": [
    "\n",
    "One common task that data folks have to do is **merge data from various sources**.\n",
    "\n",
    "<bR>For example, it'd be a pretty big waste of space on a database to keep listing all the attributes of a store for each item, if we could store them seperately and link them back up when we need to.\n",
    "\n",
    "<br>This kind of file is sometimes known as a **crosswalk** or **lookup table**. We have individual observations (Gap sales data), and we want to link it up to information about the store."
   ]
  },
  {
   "cell_type": "markdown",
   "metadata": {},
   "source": [
    "### Data & Package Imports"
   ]
  },
  {
   "cell_type": "code",
   "execution_count": 9,
   "metadata": {},
   "outputs": [],
   "source": [
    "import pandas as pd\n",
    "import numpy as np"
   ]
  },
  {
   "cell_type": "code",
   "execution_count": 201,
   "metadata": {},
   "outputs": [],
   "source": [
    "base_url = 'https://raw.githubusercontent.com/dt3zjy/node/master/week-3/lab/'\n",
    "sales = pd.read_csv(base_url+'gap_sales.csv', sep='|')\n",
    "store_lookup = pd.read_csv(base_url+'gap_stores.csv', sep='|')\n",
    "locations = pd.read_csv(base_url+'gap_store_locations.csv', sep='|')"
   ]
  },
  {
   "cell_type": "markdown",
   "metadata": {},
   "source": [
    "## Store Data"
   ]
  },
  {
   "cell_type": "markdown",
   "metadata": {},
   "source": [
    "### Fill Missing Values"
   ]
  },
  {
   "cell_type": "markdown",
   "metadata": {},
   "source": [
    "If you look carefully at the stores, you'll notice that for both the Gap and Banana Republic stores, the StoreName value is empty.\n",
    "\n",
    "<br>Turns out, there was a mistake made when correcting a typo in the database, and now all stores for 'Williamsburg Premium Outlets' are showing missing. \n",
    "\n",
    "1. Check the entries for StoreID `#4479` and `#1812` in the store lookup table\n",
    "2. Fill in the missing value for **store name** (not whole dataframe)\n",
    "3. Double check that stores #1812 and #4479 no longer have a missing value for either field"
   ]
  },
  {
   "cell_type": "code",
   "execution_count": null,
   "metadata": {},
   "outputs": [],
   "source": []
  },
  {
   "cell_type": "markdown",
   "metadata": {},
   "source": [
    "### Merge to Location Data"
   ]
  },
  {
   "cell_type": "markdown",
   "metadata": {},
   "source": [
    "1. Take a look at both the store lookup and location tables. There's only 15 locations, but 25 stores- That's because some locations have both Banana and Gap stores at the same site.\n",
    "\n",
    "2. Take a look at both dataframes. What columns do they have in common? <br>(Hint: The column name may not be the same, but the values are)"
   ]
  },
  {
   "cell_type": "code",
   "execution_count": null,
   "metadata": {},
   "outputs": [],
   "source": []
  },
  {
   "cell_type": "markdown",
   "metadata": {},
   "source": [
    "We're now ready to complete the merge, to have one consolidated table that has both the store IDs, and store locations for each store in Virginia.\n",
    "\n",
    "3. Use the `pd.merge()` function to merge both dataframes together, and specify the keys using the columns you found above (pass these to the `left_on` and `right_on` parameters)\n",
    "\n",
    "4. Drop the `Store` column from this merged dataframe, since it's now redundant."
   ]
  },
  {
   "cell_type": "code",
   "execution_count": null,
   "metadata": {},
   "outputs": [],
   "source": []
  },
  {
   "cell_type": "markdown",
   "metadata": {},
   "source": [
    "## Merging it all"
   ]
  },
  {
   "cell_type": "markdown",
   "metadata": {},
   "source": [
    "Now that we have the store data cleaned up, let's merge it back onto the main dataset, `sales`.\n",
    "\n",
    "1. Check which columns are in common between both datasets. (Hint: Think ID, not name)\n",
    "\n",
    "2. Drop one of the duplicated `Brand` columns in `stores`\n",
    "\n",
    "3. Merge the `sales` and `stores` dataframe into `df`"
   ]
  },
  {
   "cell_type": "code",
   "execution_count": null,
   "metadata": {},
   "outputs": [],
   "source": []
  },
  {
   "cell_type": "markdown",
   "metadata": {},
   "source": [
    "## Date Times"
   ]
  },
  {
   "cell_type": "markdown",
   "metadata": {},
   "source": [
    "Our goal: Isolate sales that were made at various timepoints. The issue is that our transaction timestamp isn't very helpful as a string. \n",
    "\n",
    "1. Process the `Timestamp` column, so that it's now a datetime object.\n",
    "\n",
    "2. How many items were sold in the month of February?\n",
    "\n",
    "3. What were the total sales after 4:00 PM on Valentine's Day? <br>(Hint: 4pm is 16 on a 24 hour scale)\n",
    "\n",
    "4. What was the most popular item sold on Valentine's Day?"
   ]
  },
  {
   "cell_type": "code",
   "execution_count": null,
   "metadata": {},
   "outputs": [],
   "source": []
  },
  {
   "cell_type": "markdown",
   "metadata": {},
   "source": [
    "## Cleaning Data"
   ]
  },
  {
   "cell_type": "markdown",
   "metadata": {},
   "source": [
    "Sometimes, we'll have to manually adjust data. At gap, the prices indicate the type of sale the item is on. For example, prices that end in `.97` are on final sale, and can't be returned.\n",
    "\n",
    "1. Using the set of rules below, create a dictionary that maps price endings to the clearance type. Remember, dictionary keys must be strings, so `99` should really be `'99'` \n",
    "\n",
    "99 => Clearance; 97 => Final Sale; 95 => Retail Price\n",
    "\n",
    "2. In order to recognize the price endings, we've gotta (first) convert the floats into strings, (then) extract the numbers following the decimal, (and lastly) save the information to a new column, `ClearanceType`.\n",
    "\n",
    "3. Finally, we'll map the price endings to type of clearance, using the dictionary we made earlier. Save this to `ClearanceType`.\n",
    "\n",
    "4. Check the value counts of `ClearanceType` – which type is the most common?\n"
   ]
  },
  {
   "cell_type": "code",
   "execution_count": null,
   "metadata": {},
   "outputs": [],
   "source": []
  },
  {
   "cell_type": "markdown",
   "metadata": {},
   "source": [
    "## Working With Numerics"
   ]
  },
  {
   "cell_type": "markdown",
   "metadata": {},
   "source": [
    "As it turns out, prices don't exactly reflect discounts. Let's work through and create more accurate numbers for revenue.\n",
    "\n",
    "1. Create a `Discounts` column. If an item is on clearance, we'll apply a rate of 10%, else 0. Use a `map()` or `apply()` function to accomplish this.\n",
    "\n",
    "\n",
    "2. Calculate a new column, `Paid`, that takes into account a flat tax rate of 6% and the discounts from our previous column.\n",
    "\n",
    "3. What is the mean absolute difference between the amount paid and the listed price?"
   ]
  },
  {
   "cell_type": "code",
   "execution_count": null,
   "metadata": {},
   "outputs": [],
   "source": []
  },
  {
   "cell_type": "markdown",
   "metadata": {},
   "source": [
    "# Extra Time?\n",
    "Use any extra time to work on collecting datasets for your project, if you haven't already. We will be introducing Project 2 this upcoming workshop, which will focus on applying everything we learned to your specific projects."
   ]
  }
 ],
 "metadata": {
  "kernelspec": {
   "display_name": "Python 3.7.2 64-bit ('anaconda3': virtualenv)",
   "language": "python",
   "name": "python37264bitanaconda3virtualenve1dc3209be54475686eb8b8e057d24f4"
  },
  "language_info": {
   "codemirror_mode": {
    "name": "ipython",
    "version": 3
   },
   "file_extension": ".py",
   "mimetype": "text/x-python",
   "name": "python",
   "nbconvert_exporter": "python",
   "pygments_lexer": "ipython3",
   "version": "3.7.2-final"
  }
 },
 "nbformat": 4,
 "nbformat_minor": 2
}
