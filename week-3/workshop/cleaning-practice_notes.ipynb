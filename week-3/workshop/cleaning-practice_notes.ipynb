{
 "cells": [
  {
   "cell_type": "markdown",
   "metadata": {
    "id": "5zpVr0ZMSeth"
   },
   "source": [
    "# Food at Hogwarts"
   ]
  },
  {
   "cell_type": "markdown",
   "metadata": {},
   "source": [
    "Start by importing the necessary libraries (pandas)"
   ]
  },
  {
   "cell_type": "code",
   "execution_count": 1,
   "metadata": {
    "id": "PcZXZo6y-otf"
   },
   "outputs": [],
   "source": [
    "# Import the pandas library\n",
    "import pandas as pd\n",
    "import numpy as np"
   ]
  },
  {
   "attachments": {},
   "cell_type": "markdown",
   "metadata": {
    "id": "FDxnMxFdSs4G"
   },
   "source": [
    "Read in the data from the csv files. This time, we'll be working with two csv files. Make sure to name them different things (items and sales)!\n",
    "\n",
    "URL1: https://raw.githubusercontent.com/dt3zjy/node/master/week-3/workshop/items.csv\n",
    "<br>URL2: https://raw.githubusercontent.com/dt3zjy/node/master/week-3/workshop/sales.csv"
   ]
  },
  {
   "cell_type": "code",
   "execution_count": 2,
   "metadata": {
    "id": "zKey9ee7DOgb"
   },
   "outputs": [],
   "source": [
    "# Read in the data from both \n",
    "items=pd.read_csv('https://raw.githubusercontent.com/dt3zjy/node/master/week-3/workshop/items.csv')\n",
    "sales=pd.read_csv('https://raw.githubusercontent.com/dt3zjy/node/master/week-3/workshop/sales.csv')"
   ]
  },
  {
   "cell_type": "markdown",
   "metadata": {
    "id": "Zw5vvwxAS1lz"
   },
   "source": [
    "Take a look at the data you'll be working with in each dataframe"
   ]
  },
  {
   "cell_type": "code",
   "execution_count": null,
   "metadata": {
    "id": "3Rx6dLz8D4If"
   },
   "outputs": [],
   "source": [
    "# Check out the info for both the item and sale dataframes\n"
   ]
  },
  {
   "cell_type": "code",
   "execution_count": null,
   "metadata": {
    "id": "RjfIwXWjEQrg"
   },
   "outputs": [],
   "source": [
    "# View the first five few rows of each dataframe.\n"
   ]
  },
  {
   "cell_type": "markdown",
   "metadata": {
    "id": "nf0mgX5uT6S7"
   },
   "source": [
    "The sales dataframe tells us who bought different food items at hogwarts, but somehow the names of the items got lost! The dataframe does still have the item ids though. We can use the items dataframe to match the ids in that dataframe with the ones of the item ids in the sales dataframe to merge the two datasets. Save the merged dataframe to a new dataframe called merged_data"
   ]
  },
  {
   "cell_type": "code",
   "execution_count": null,
   "metadata": {
    "id": "BAO6wfcqEDQf"
   },
   "outputs": [],
   "source": [
    "# Merge the sale and item data frames\n",
    "# (Hint:experiment with values for the 'how' argument)\n"
   ]
  },
  {
   "cell_type": "markdown",
   "metadata": {
    "id": "fNpq13aEW08V"
   },
   "source": [
    "Next, get rid of the credit card column to protect the costuomers' personal information"
   ]
  },
  {
   "cell_type": "code",
   "execution_count": null,
   "metadata": {
    "id": "h82L7qx0KEbO"
   },
   "outputs": [],
   "source": [
    "# Remove the credit card column\n"
   ]
  },
  {
   "cell_type": "markdown",
   "metadata": {
    "id": "IgZg2RvkXuNQ"
   },
   "source": [
    "It looks like some people forgot to put an email when they were filling out the form. Subset the data to get only the customers with a missing value for the email so we can find them to get their email and save it in a new dataframe called subset_data. We'll use this new dataframe to get their names."
   ]
  },
  {
   "cell_type": "code",
   "execution_count": null,
   "metadata": {
    "id": "5KJN-nZBK4tD"
   },
   "outputs": [],
   "source": [
    "# Find the number of customers who do not have an email\n"
   ]
  },
  {
   "cell_type": "code",
   "execution_count": null,
   "metadata": {
    "id": "mirngI7nFuwI"
   },
   "outputs": [],
   "source": [
    "# Subset the data to only the customers with a missing value for the email\n"
   ]
  },
  {
   "cell_type": "code",
   "execution_count": null,
   "metadata": {
    "id": "BH_7dqWlGNud"
   },
   "outputs": [],
   "source": [
    "# Extract the first names of customers without emails\n"
   ]
  },
  {
   "cell_type": "markdown",
   "metadata": {
    "id": "RtyoXWIhawK7"
   },
   "source": [
    "Let's check which domain name are most popular in the customer emails (.com, .gov, etc)."
   ]
  },
  {
   "cell_type": "code",
   "execution_count": null,
   "metadata": {
    "id": "g9kNKNyRa2SQ"
   },
   "outputs": [],
   "source": [
    "# First subset the data so we only get the emails for the customers who entered one and store it in a new dataframe\n"
   ]
  },
  {
   "cell_type": "code",
   "execution_count": null,
   "metadata": {
    "id": "e4djHU9YKhX6"
   },
   "outputs": [],
   "source": [
    "# Split the customer emails in the new dataframe to get just the stuff after the . and get the proportions of each type\n"
   ]
  },
  {
   "cell_type": "markdown",
   "metadata": {
    "id": "bXkLRCdhah8z"
   },
   "source": [
    "One of the uses for the customer's emails is for marketing! Let's find out which houses have the biggest affilitations with items so we know who to target"
   ]
  },
  {
   "cell_type": "code",
   "execution_count": null,
   "metadata": {
    "id": "8IiFAF4AGt94"
   },
   "outputs": [],
   "source": [
    "#Find the proportions of customers belonging to each house.\n"
   ]
  },
  {
   "cell_type": "markdown",
   "metadata": {
    "id": "uoC8IgDScWtn"
   },
   "source": [
    "Let's get some more marketing information by finding out how many sales were made this month (February). Remember that we have to convert to DateTime first though!"
   ]
  },
  {
   "cell_type": "code",
   "execution_count": null,
   "metadata": {
    "id": "HE7eeR3qcg6G"
   },
   "outputs": [],
   "source": [
    "# Convert the \"date_time\" column to DateTime type.\n"
   ]
  },
  {
   "cell_type": "code",
   "execution_count": null,
   "metadata": {
    "id": "VPblg5hBNtGM"
   },
   "outputs": [],
   "source": [
    "# Find the number of sales made in February\n"
   ]
  },
  {
   "cell_type": "markdown",
   "metadata": {
    "id": "2xCrXSREcB4H"
   },
   "source": [
    "We're renaming Butterbeer to make it more family friendly to Buttersoda :((. Replace all the instances of Butterbeer to Buttersoda and check to make sure the changes worked."
   ]
  },
  {
   "cell_type": "code",
   "execution_count": null,
   "metadata": {
    "id": "7AzxMyjQcLMe"
   },
   "outputs": [],
   "source": [
    "# Change every instance of \"Butterbeer\" to \"Buttersoda\"\n"
   ]
  },
  {
   "cell_type": "code",
   "execution_count": null,
   "metadata": {
    "id": "xgKisO9VMjSd"
   },
   "outputs": [],
   "source": [
    "# Check the change by subsetting the dataframe to only that item, Buttersoda\n"
   ]
  }
 ],
 "metadata": {
  "colab": {
   "name": "workshop-3-activity.ipynb",
   "provenance": []
  },
  "kernelspec": {
   "display_name": "Python 3",
   "language": "python",
   "name": "python3"
  },
  "language_info": {
   "codemirror_mode": {
    "name": "ipython",
    "version": 3
   },
   "file_extension": ".py",
   "mimetype": "text/x-python",
   "name": "python",
   "nbconvert_exporter": "python",
   "pygments_lexer": "ipython3",
   "version": "3.9.9"
  },
  "vscode": {
   "interpreter": {
    "hash": "aee8b7b246df8f9039afb4144a1f6fd8d2ca17a180786b69acc140d282b71a49"
   }
  }
 },
 "nbformat": 4,
 "nbformat_minor": 1
}
