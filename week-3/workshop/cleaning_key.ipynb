{
 "cells": [
  {
   "cell_type": "markdown",
   "metadata": {
    "colab_type": "text",
    "id": "av85FiU8XulG"
   },
   "source": [
    "# Data Cleaning"
   ]
  },
  {
   "cell_type": "code",
   "execution_count": 1,
   "metadata": {
    "scrolled": true
   },
   "outputs": [],
   "source": [
    "# As always\n",
    "import pandas as pd\n",
    "import numpy as np"
   ]
  },
  {
   "cell_type": "markdown",
   "metadata": {},
   "source": [
    "### Building a dataframe by hand"
   ]
  },
  {
   "cell_type": "code",
   "execution_count": 2,
   "metadata": {
    "colab": {
     "base_uri": "https://localhost:8080/",
     "height": 204
    },
    "colab_type": "code",
    "id": "j5-2Zq9ZbYgh",
    "outputId": "1b27ed40-f0bb-4282-ad44-f57a6e1a0063"
   },
   "outputs": [
    {
     "data": {
      "text/html": [
       "<div>\n",
       "<style scoped>\n",
       "    .dataframe tbody tr th:only-of-type {\n",
       "        vertical-align: middle;\n",
       "    }\n",
       "\n",
       "    .dataframe tbody tr th {\n",
       "        vertical-align: top;\n",
       "    }\n",
       "\n",
       "    .dataframe thead th {\n",
       "        text-align: right;\n",
       "    }\n",
       "</style>\n",
       "<table border=\"1\" class=\"dataframe\">\n",
       "  <thead>\n",
       "    <tr style=\"text-align: right;\">\n",
       "      <th></th>\n",
       "      <th>some_numbers</th>\n",
       "      <th>some_letters</th>\n",
       "      <th>some_bools</th>\n",
       "    </tr>\n",
       "  </thead>\n",
       "  <tbody>\n",
       "    <tr>\n",
       "      <th>0</th>\n",
       "      <td>1</td>\n",
       "      <td>a</td>\n",
       "      <td>True</td>\n",
       "    </tr>\n",
       "    <tr>\n",
       "      <th>1</th>\n",
       "      <td>2</td>\n",
       "      <td>b</td>\n",
       "      <td>False</td>\n",
       "    </tr>\n",
       "    <tr>\n",
       "      <th>2</th>\n",
       "      <td>3</td>\n",
       "      <td>c</td>\n",
       "      <td>True</td>\n",
       "    </tr>\n",
       "    <tr>\n",
       "      <th>3</th>\n",
       "      <td>4</td>\n",
       "      <td>d</td>\n",
       "      <td>True</td>\n",
       "    </tr>\n",
       "    <tr>\n",
       "      <th>4</th>\n",
       "      <td>5</td>\n",
       "      <td>e</td>\n",
       "      <td>True</td>\n",
       "    </tr>\n",
       "  </tbody>\n",
       "</table>\n",
       "</div>"
      ],
      "text/plain": [
       "   some_numbers some_letters  some_bools\n",
       "0             1            a        True\n",
       "1             2            b       False\n",
       "2             3            c        True\n",
       "3             4            d        True\n",
       "4             5            e        True"
      ]
     },
     "execution_count": 2,
     "metadata": {},
     "output_type": "execute_result"
    }
   ],
   "source": [
    "some_data = [1, 2, 3, 4, 5] # list of numbers\n",
    "some_more_data = ['a', 'b', 'c', 'd', 'e'] # list of letters\n",
    "some_booleans = [True, False, True, True, True] # list of booleans\n",
    "df = pd.DataFrame({'some_numbers':some_data, 'some_letters':some_more_data, 'some_bools':some_booleans})\n",
    "df"
   ]
  },
  {
   "cell_type": "markdown",
   "metadata": {},
   "source": [
    "We can checkout the datatypes of each column using `df.info()`"
   ]
  },
  {
   "cell_type": "code",
   "execution_count": 3,
   "metadata": {
    "tags": []
   },
   "outputs": [
    {
     "name": "stdout",
     "output_type": "stream",
     "text": [
      "<class 'pandas.core.frame.DataFrame'>\n",
      "RangeIndex: 5 entries, 0 to 4\n",
      "Data columns (total 3 columns):\n",
      " #   Column        Non-Null Count  Dtype \n",
      "---  ------        --------------  ----- \n",
      " 0   some_numbers  5 non-null      int64 \n",
      " 1   some_letters  5 non-null      object\n",
      " 2   some_bools    5 non-null      bool  \n",
      "dtypes: bool(1), int64(1), object(1)\n",
      "memory usage: 213.0+ bytes\n"
     ]
    }
   ],
   "source": [
    "df.info()"
   ]
  },
  {
   "cell_type": "markdown",
   "metadata": {},
   "source": [
    "### Add a new column"
   ]
  },
  {
   "cell_type": "markdown",
   "metadata": {},
   "source": [
    "We can add a new column using the `df['column']=` syntax. It accepts a scalar *or* list-like object"
   ]
  },
  {
   "cell_type": "code",
   "execution_count": 4,
   "metadata": {},
   "outputs": [
    {
     "data": {
      "text/html": [
       "<div>\n",
       "<style scoped>\n",
       "    .dataframe tbody tr th:only-of-type {\n",
       "        vertical-align: middle;\n",
       "    }\n",
       "\n",
       "    .dataframe tbody tr th {\n",
       "        vertical-align: top;\n",
       "    }\n",
       "\n",
       "    .dataframe thead th {\n",
       "        text-align: right;\n",
       "    }\n",
       "</style>\n",
       "<table border=\"1\" class=\"dataframe\">\n",
       "  <thead>\n",
       "    <tr style=\"text-align: right;\">\n",
       "      <th></th>\n",
       "      <th>some_numbers</th>\n",
       "      <th>some_letters</th>\n",
       "      <th>some_bools</th>\n",
       "      <th>some_ones</th>\n",
       "      <th>some_other_numbers</th>\n",
       "    </tr>\n",
       "  </thead>\n",
       "  <tbody>\n",
       "    <tr>\n",
       "      <th>0</th>\n",
       "      <td>1</td>\n",
       "      <td>a</td>\n",
       "      <td>True</td>\n",
       "      <td>1.0</td>\n",
       "      <td>11</td>\n",
       "    </tr>\n",
       "    <tr>\n",
       "      <th>1</th>\n",
       "      <td>2</td>\n",
       "      <td>b</td>\n",
       "      <td>False</td>\n",
       "      <td>1.0</td>\n",
       "      <td>12</td>\n",
       "    </tr>\n",
       "    <tr>\n",
       "      <th>2</th>\n",
       "      <td>3</td>\n",
       "      <td>c</td>\n",
       "      <td>True</td>\n",
       "      <td>1.0</td>\n",
       "      <td>13</td>\n",
       "    </tr>\n",
       "    <tr>\n",
       "      <th>3</th>\n",
       "      <td>4</td>\n",
       "      <td>d</td>\n",
       "      <td>True</td>\n",
       "      <td>1.0</td>\n",
       "      <td>14</td>\n",
       "    </tr>\n",
       "    <tr>\n",
       "      <th>4</th>\n",
       "      <td>5</td>\n",
       "      <td>e</td>\n",
       "      <td>True</td>\n",
       "      <td>1.0</td>\n",
       "      <td>15</td>\n",
       "    </tr>\n",
       "  </tbody>\n",
       "</table>\n",
       "</div>"
      ],
      "text/plain": [
       "   some_numbers some_letters  some_bools  some_ones  some_other_numbers\n",
       "0             1            a        True        1.0                  11\n",
       "1             2            b       False        1.0                  12\n",
       "2             3            c        True        1.0                  13\n",
       "3             4            d        True        1.0                  14\n",
       "4             5            e        True        1.0                  15"
      ]
     },
     "execution_count": 4,
     "metadata": {},
     "output_type": "execute_result"
    }
   ],
   "source": [
    "df['some_ones'] = 1.0\n",
    "df['some_other_numbers'] = [11,12,13,14,15]\n",
    "\n",
    "df"
   ]
  },
  {
   "cell_type": "markdown",
   "metadata": {
    "colab_type": "text",
    "id": "xIYRjfTDeRBX"
   },
   "source": [
    "### Changing data types"
   ]
  },
  {
   "cell_type": "code",
   "execution_count": 5,
   "metadata": {
    "colab": {
     "base_uri": "https://localhost:8080/",
     "height": 204
    },
    "colab_type": "code",
    "id": "1dtyvbt3m8hU",
    "outputId": "5aa069b5-539d-4407-b813-7575aef6825b"
   },
   "outputs": [
    {
     "data": {
      "text/html": [
       "<div>\n",
       "<style scoped>\n",
       "    .dataframe tbody tr th:only-of-type {\n",
       "        vertical-align: middle;\n",
       "    }\n",
       "\n",
       "    .dataframe tbody tr th {\n",
       "        vertical-align: top;\n",
       "    }\n",
       "\n",
       "    .dataframe thead th {\n",
       "        text-align: right;\n",
       "    }\n",
       "</style>\n",
       "<table border=\"1\" class=\"dataframe\">\n",
       "  <thead>\n",
       "    <tr style=\"text-align: right;\">\n",
       "      <th></th>\n",
       "      <th>courses</th>\n",
       "      <th>ratings</th>\n",
       "    </tr>\n",
       "  </thead>\n",
       "  <tbody>\n",
       "    <tr>\n",
       "      <th>0</th>\n",
       "      <td>Transfiguration</td>\n",
       "      <td>5</td>\n",
       "    </tr>\n",
       "    <tr>\n",
       "      <th>1</th>\n",
       "      <td>Charms</td>\n",
       "      <td>3.2</td>\n",
       "    </tr>\n",
       "    <tr>\n",
       "      <th>2</th>\n",
       "      <td>Potions</td>\n",
       "      <td>1</td>\n",
       "    </tr>\n",
       "    <tr>\n",
       "      <th>3</th>\n",
       "      <td>History of Magic</td>\n",
       "      <td>2</td>\n",
       "    </tr>\n",
       "    <tr>\n",
       "      <th>4</th>\n",
       "      <td>Defence Against the Dark Arts</td>\n",
       "      <td>4</td>\n",
       "    </tr>\n",
       "    <tr>\n",
       "      <th>5</th>\n",
       "      <td>Astronomy and Herbology</td>\n",
       "      <td>3.5</td>\n",
       "    </tr>\n",
       "  </tbody>\n",
       "</table>\n",
       "</div>"
      ],
      "text/plain": [
       "                         courses ratings\n",
       "0                Transfiguration       5\n",
       "1                         Charms     3.2\n",
       "2                        Potions       1\n",
       "3               History of Magic       2\n",
       "4  Defence Against the Dark Arts       4\n",
       "5        Astronomy and Herbology     3.5"
      ]
     },
     "execution_count": 5,
     "metadata": {},
     "output_type": "execute_result"
    }
   ],
   "source": [
    "classes  = ['Transfiguration', 'Charms', 'Potions', 'History of Magic', 'Defence Against the Dark Arts', 'Astronomy and Herbology']\n",
    "ratings = ['5', 3.2, 1, 2, '4', '3.5'] # Note: Some of these are strings, floats, and ints\n",
    "grades = pd.DataFrame({'courses':classes, 'ratings':ratings})\n",
    "grades"
   ]
  },
  {
   "cell_type": "markdown",
   "metadata": {},
   "source": [
    "Say we want to double the rating values"
   ]
  },
  {
   "cell_type": "code",
   "execution_count": 6,
   "metadata": {
    "colab": {
     "base_uri": "https://localhost:8080/",
     "height": 204
    },
    "colab_type": "code",
    "id": "E9d4vJ2knmVK",
    "outputId": "cab81dfc-5d7a-4e58-8be8-da5f836138fb"
   },
   "outputs": [
    {
     "data": {
      "text/html": [
       "<div>\n",
       "<style scoped>\n",
       "    .dataframe tbody tr th:only-of-type {\n",
       "        vertical-align: middle;\n",
       "    }\n",
       "\n",
       "    .dataframe tbody tr th {\n",
       "        vertical-align: top;\n",
       "    }\n",
       "\n",
       "    .dataframe thead th {\n",
       "        text-align: right;\n",
       "    }\n",
       "</style>\n",
       "<table border=\"1\" class=\"dataframe\">\n",
       "  <thead>\n",
       "    <tr style=\"text-align: right;\">\n",
       "      <th></th>\n",
       "      <th>courses</th>\n",
       "      <th>ratings</th>\n",
       "      <th>ratings_2x</th>\n",
       "    </tr>\n",
       "  </thead>\n",
       "  <tbody>\n",
       "    <tr>\n",
       "      <th>0</th>\n",
       "      <td>Transfiguration</td>\n",
       "      <td>5</td>\n",
       "      <td>55</td>\n",
       "    </tr>\n",
       "    <tr>\n",
       "      <th>1</th>\n",
       "      <td>Charms</td>\n",
       "      <td>3.2</td>\n",
       "      <td>6.4</td>\n",
       "    </tr>\n",
       "    <tr>\n",
       "      <th>2</th>\n",
       "      <td>Potions</td>\n",
       "      <td>1</td>\n",
       "      <td>2</td>\n",
       "    </tr>\n",
       "    <tr>\n",
       "      <th>3</th>\n",
       "      <td>History of Magic</td>\n",
       "      <td>2</td>\n",
       "      <td>4</td>\n",
       "    </tr>\n",
       "    <tr>\n",
       "      <th>4</th>\n",
       "      <td>Defence Against the Dark Arts</td>\n",
       "      <td>4</td>\n",
       "      <td>44</td>\n",
       "    </tr>\n",
       "    <tr>\n",
       "      <th>5</th>\n",
       "      <td>Astronomy and Herbology</td>\n",
       "      <td>3.5</td>\n",
       "      <td>3.53.5</td>\n",
       "    </tr>\n",
       "  </tbody>\n",
       "</table>\n",
       "</div>"
      ],
      "text/plain": [
       "                         courses ratings ratings_2x\n",
       "0                Transfiguration       5         55\n",
       "1                         Charms     3.2        6.4\n",
       "2                        Potions       1          2\n",
       "3               History of Magic       2          4\n",
       "4  Defence Against the Dark Arts       4         44\n",
       "5        Astronomy and Herbology     3.5     3.53.5"
      ]
     },
     "execution_count": 6,
     "metadata": {},
     "output_type": "execute_result"
    }
   ],
   "source": [
    "grades['ratings_2x'] = grades['ratings']*2\n",
    "grades"
   ]
  },
  {
   "cell_type": "markdown",
   "metadata": {
    "colab_type": "text",
    "id": "wLUIN9VQn9hd"
   },
   "source": [
    "That's not what we expected – Let's drop that column using the `.drop(columns= )` method\n",
    "\n",
    "Remember, `drop()` returns a dataframe, so we'll want to save it back onto the original"
   ]
  },
  {
   "cell_type": "code",
   "execution_count": 7,
   "metadata": {
    "colab": {},
    "colab_type": "code",
    "id": "Hr9R_UmA3gqc"
   },
   "outputs": [
    {
     "data": {
      "text/html": [
       "<div>\n",
       "<style scoped>\n",
       "    .dataframe tbody tr th:only-of-type {\n",
       "        vertical-align: middle;\n",
       "    }\n",
       "\n",
       "    .dataframe tbody tr th {\n",
       "        vertical-align: top;\n",
       "    }\n",
       "\n",
       "    .dataframe thead th {\n",
       "        text-align: right;\n",
       "    }\n",
       "</style>\n",
       "<table border=\"1\" class=\"dataframe\">\n",
       "  <thead>\n",
       "    <tr style=\"text-align: right;\">\n",
       "      <th></th>\n",
       "      <th>courses</th>\n",
       "      <th>ratings</th>\n",
       "    </tr>\n",
       "  </thead>\n",
       "  <tbody>\n",
       "    <tr>\n",
       "      <th>0</th>\n",
       "      <td>Transfiguration</td>\n",
       "      <td>5</td>\n",
       "    </tr>\n",
       "    <tr>\n",
       "      <th>1</th>\n",
       "      <td>Charms</td>\n",
       "      <td>3.2</td>\n",
       "    </tr>\n",
       "    <tr>\n",
       "      <th>2</th>\n",
       "      <td>Potions</td>\n",
       "      <td>1</td>\n",
       "    </tr>\n",
       "    <tr>\n",
       "      <th>3</th>\n",
       "      <td>History of Magic</td>\n",
       "      <td>2</td>\n",
       "    </tr>\n",
       "    <tr>\n",
       "      <th>4</th>\n",
       "      <td>Defence Against the Dark Arts</td>\n",
       "      <td>4</td>\n",
       "    </tr>\n",
       "    <tr>\n",
       "      <th>5</th>\n",
       "      <td>Astronomy and Herbology</td>\n",
       "      <td>3.5</td>\n",
       "    </tr>\n",
       "  </tbody>\n",
       "</table>\n",
       "</div>"
      ],
      "text/plain": [
       "                         courses ratings\n",
       "0                Transfiguration       5\n",
       "1                         Charms     3.2\n",
       "2                        Potions       1\n",
       "3               History of Magic       2\n",
       "4  Defence Against the Dark Arts       4\n",
       "5        Astronomy and Herbology     3.5"
      ]
     },
     "execution_count": 7,
     "metadata": {},
     "output_type": "execute_result"
    }
   ],
   "source": [
    "grades = grades.drop(columns=['ratings_2x'])\n",
    "grades"
   ]
  },
  {
   "cell_type": "markdown",
   "metadata": {
    "colab_type": "text",
    "id": "gQ52OALec6C9"
   },
   "source": [
    "Let's try scaling ratings again\n",
    "\n",
    "Before, our `ratings` column had mixed datatypes, floats and strings. \n",
    "<br>In python, when we multiply a string, we repeat it, so we got `\"55\"` instead of `10` for the first entry"
   ]
  },
  {
   "cell_type": "code",
   "execution_count": 8,
   "metadata": {
    "tags": []
   },
   "outputs": [
    {
     "name": "stdout",
     "output_type": "stream",
     "text": [
      "hellohello\n",
      "5.42\n"
     ]
    }
   ],
   "source": [
    "# For example:\n",
    "x = 'hello'\n",
    "print(x * 2)\n",
    "\n",
    "y = 2.71\n",
    "print(y * 2)"
   ]
  },
  {
   "cell_type": "markdown",
   "metadata": {},
   "source": [
    "To change the datatype, we can convert the `ratings` series into float values using `.astype()`"
   ]
  },
  {
   "cell_type": "code",
   "execution_count": 9,
   "metadata": {
    "colab": {},
    "colab_type": "code",
    "id": "iZ5nEsiiocqD"
   },
   "outputs": [
    {
     "data": {
      "text/html": [
       "<div>\n",
       "<style scoped>\n",
       "    .dataframe tbody tr th:only-of-type {\n",
       "        vertical-align: middle;\n",
       "    }\n",
       "\n",
       "    .dataframe tbody tr th {\n",
       "        vertical-align: top;\n",
       "    }\n",
       "\n",
       "    .dataframe thead th {\n",
       "        text-align: right;\n",
       "    }\n",
       "</style>\n",
       "<table border=\"1\" class=\"dataframe\">\n",
       "  <thead>\n",
       "    <tr style=\"text-align: right;\">\n",
       "      <th></th>\n",
       "      <th>courses</th>\n",
       "      <th>ratings</th>\n",
       "      <th>ratings_2x</th>\n",
       "    </tr>\n",
       "  </thead>\n",
       "  <tbody>\n",
       "    <tr>\n",
       "      <th>0</th>\n",
       "      <td>Transfiguration</td>\n",
       "      <td>5.0</td>\n",
       "      <td>10.0</td>\n",
       "    </tr>\n",
       "    <tr>\n",
       "      <th>1</th>\n",
       "      <td>Charms</td>\n",
       "      <td>3.2</td>\n",
       "      <td>6.4</td>\n",
       "    </tr>\n",
       "    <tr>\n",
       "      <th>2</th>\n",
       "      <td>Potions</td>\n",
       "      <td>1.0</td>\n",
       "      <td>2.0</td>\n",
       "    </tr>\n",
       "    <tr>\n",
       "      <th>3</th>\n",
       "      <td>History of Magic</td>\n",
       "      <td>2.0</td>\n",
       "      <td>4.0</td>\n",
       "    </tr>\n",
       "    <tr>\n",
       "      <th>4</th>\n",
       "      <td>Defence Against the Dark Arts</td>\n",
       "      <td>4.0</td>\n",
       "      <td>8.0</td>\n",
       "    </tr>\n",
       "    <tr>\n",
       "      <th>5</th>\n",
       "      <td>Astronomy and Herbology</td>\n",
       "      <td>3.5</td>\n",
       "      <td>7.0</td>\n",
       "    </tr>\n",
       "  </tbody>\n",
       "</table>\n",
       "</div>"
      ],
      "text/plain": [
       "                         courses  ratings  ratings_2x\n",
       "0                Transfiguration      5.0        10.0\n",
       "1                         Charms      3.2         6.4\n",
       "2                        Potions      1.0         2.0\n",
       "3               History of Magic      2.0         4.0\n",
       "4  Defence Against the Dark Arts      4.0         8.0\n",
       "5        Astronomy and Herbology      3.5         7.0"
      ]
     },
     "execution_count": 9,
     "metadata": {},
     "output_type": "execute_result"
    }
   ],
   "source": [
    "grades['ratings'] = grades['ratings'].astype(float)\n",
    "\n",
    "grades['ratings_2x'] = grades.ratings * 2\n",
    "grades"
   ]
  },
  {
   "cell_type": "markdown",
   "metadata": {},
   "source": [
    "Check out what happens when we pass `'str'`, `'float'`, and `'int'` to `.astype()`"
   ]
  },
  {
   "cell_type": "code",
   "execution_count": 10,
   "metadata": {
    "colab": {
     "base_uri": "https://localhost:8080/",
     "height": 204
    },
    "colab_type": "code",
    "id": "THnGH0W5jZul",
    "outputId": "7635552f-b5ef-4a34-96c7-c45a960bdefb"
   },
   "outputs": [
    {
     "data": {
      "text/html": [
       "<div>\n",
       "<style scoped>\n",
       "    .dataframe tbody tr th:only-of-type {\n",
       "        vertical-align: middle;\n",
       "    }\n",
       "\n",
       "    .dataframe tbody tr th {\n",
       "        vertical-align: top;\n",
       "    }\n",
       "\n",
       "    .dataframe thead th {\n",
       "        text-align: right;\n",
       "    }\n",
       "</style>\n",
       "<table border=\"1\" class=\"dataframe\">\n",
       "  <thead>\n",
       "    <tr style=\"text-align: right;\">\n",
       "      <th></th>\n",
       "      <th>courses</th>\n",
       "      <th>ratings</th>\n",
       "      <th>ratings_2x</th>\n",
       "      <th>ratings_2x_str</th>\n",
       "    </tr>\n",
       "  </thead>\n",
       "  <tbody>\n",
       "    <tr>\n",
       "      <th>0</th>\n",
       "      <td>Transfiguration</td>\n",
       "      <td>5.0</td>\n",
       "      <td>10.0</td>\n",
       "      <td>5.05.0</td>\n",
       "    </tr>\n",
       "    <tr>\n",
       "      <th>1</th>\n",
       "      <td>Charms</td>\n",
       "      <td>3.2</td>\n",
       "      <td>6.4</td>\n",
       "      <td>3.23.2</td>\n",
       "    </tr>\n",
       "    <tr>\n",
       "      <th>2</th>\n",
       "      <td>Potions</td>\n",
       "      <td>1.0</td>\n",
       "      <td>2.0</td>\n",
       "      <td>1.01.0</td>\n",
       "    </tr>\n",
       "    <tr>\n",
       "      <th>3</th>\n",
       "      <td>History of Magic</td>\n",
       "      <td>2.0</td>\n",
       "      <td>4.0</td>\n",
       "      <td>2.02.0</td>\n",
       "    </tr>\n",
       "    <tr>\n",
       "      <th>4</th>\n",
       "      <td>Defence Against the Dark Arts</td>\n",
       "      <td>4.0</td>\n",
       "      <td>8.0</td>\n",
       "      <td>4.04.0</td>\n",
       "    </tr>\n",
       "    <tr>\n",
       "      <th>5</th>\n",
       "      <td>Astronomy and Herbology</td>\n",
       "      <td>3.5</td>\n",
       "      <td>7.0</td>\n",
       "      <td>3.53.5</td>\n",
       "    </tr>\n",
       "  </tbody>\n",
       "</table>\n",
       "</div>"
      ],
      "text/plain": [
       "                         courses ratings  ratings_2x ratings_2x_str\n",
       "0                Transfiguration     5.0        10.0         5.05.0\n",
       "1                         Charms     3.2         6.4         3.23.2\n",
       "2                        Potions     1.0         2.0         1.01.0\n",
       "3               History of Magic     2.0         4.0         2.02.0\n",
       "4  Defence Against the Dark Arts     4.0         8.0         4.04.0\n",
       "5        Astronomy and Herbology     3.5         7.0         3.53.5"
      ]
     },
     "execution_count": 10,
     "metadata": {},
     "output_type": "execute_result"
    }
   ],
   "source": [
    "grades['ratings'] = grades['ratings'].astype('str')\n",
    "grades['ratings_2x_str'] = grades.ratings * 2\n",
    "grades"
   ]
  },
  {
   "cell_type": "code",
   "execution_count": 11,
   "metadata": {
    "colab": {
     "base_uri": "https://localhost:8080/",
     "height": 204
    },
    "colab_type": "code",
    "id": "C5RP6c_bkrjH",
    "outputId": "90d11a98-2075-4c22-dd7c-5b1627eab5f0"
   },
   "outputs": [
    {
     "data": {
      "text/html": [
       "<div>\n",
       "<style scoped>\n",
       "    .dataframe tbody tr th:only-of-type {\n",
       "        vertical-align: middle;\n",
       "    }\n",
       "\n",
       "    .dataframe tbody tr th {\n",
       "        vertical-align: top;\n",
       "    }\n",
       "\n",
       "    .dataframe thead th {\n",
       "        text-align: right;\n",
       "    }\n",
       "</style>\n",
       "<table border=\"1\" class=\"dataframe\">\n",
       "  <thead>\n",
       "    <tr style=\"text-align: right;\">\n",
       "      <th></th>\n",
       "      <th>courses</th>\n",
       "      <th>ratings</th>\n",
       "      <th>ratings_2x</th>\n",
       "      <th>ratings_2x_str</th>\n",
       "    </tr>\n",
       "  </thead>\n",
       "  <tbody>\n",
       "    <tr>\n",
       "      <th>0</th>\n",
       "      <td>Transfiguration</td>\n",
       "      <td>5.0</td>\n",
       "      <td>10.0</td>\n",
       "      <td>5.05.0</td>\n",
       "    </tr>\n",
       "    <tr>\n",
       "      <th>1</th>\n",
       "      <td>Charms</td>\n",
       "      <td>3.2</td>\n",
       "      <td>6.4</td>\n",
       "      <td>3.23.2</td>\n",
       "    </tr>\n",
       "    <tr>\n",
       "      <th>2</th>\n",
       "      <td>Potions</td>\n",
       "      <td>1.0</td>\n",
       "      <td>2.0</td>\n",
       "      <td>1.01.0</td>\n",
       "    </tr>\n",
       "    <tr>\n",
       "      <th>3</th>\n",
       "      <td>History of Magic</td>\n",
       "      <td>2.0</td>\n",
       "      <td>4.0</td>\n",
       "      <td>2.02.0</td>\n",
       "    </tr>\n",
       "    <tr>\n",
       "      <th>4</th>\n",
       "      <td>Defence Against the Dark Arts</td>\n",
       "      <td>4.0</td>\n",
       "      <td>8.0</td>\n",
       "      <td>4.04.0</td>\n",
       "    </tr>\n",
       "    <tr>\n",
       "      <th>5</th>\n",
       "      <td>Astronomy and Herbology</td>\n",
       "      <td>3.5</td>\n",
       "      <td>7.0</td>\n",
       "      <td>3.53.5</td>\n",
       "    </tr>\n",
       "  </tbody>\n",
       "</table>\n",
       "</div>"
      ],
      "text/plain": [
       "                         courses  ratings  ratings_2x ratings_2x_str\n",
       "0                Transfiguration      5.0        10.0         5.05.0\n",
       "1                         Charms      3.2         6.4         3.23.2\n",
       "2                        Potions      1.0         2.0         1.01.0\n",
       "3               History of Magic      2.0         4.0         2.02.0\n",
       "4  Defence Against the Dark Arts      4.0         8.0         4.04.0\n",
       "5        Astronomy and Herbology      3.5         7.0         3.53.5"
      ]
     },
     "execution_count": 11,
     "metadata": {},
     "output_type": "execute_result"
    }
   ],
   "source": [
    "grades['ratings'] = grades['ratings'].astype('float')\n",
    "grades"
   ]
  },
  {
   "cell_type": "code",
   "execution_count": 12,
   "metadata": {},
   "outputs": [
    {
     "data": {
      "text/html": [
       "<div>\n",
       "<style scoped>\n",
       "    .dataframe tbody tr th:only-of-type {\n",
       "        vertical-align: middle;\n",
       "    }\n",
       "\n",
       "    .dataframe tbody tr th {\n",
       "        vertical-align: top;\n",
       "    }\n",
       "\n",
       "    .dataframe thead th {\n",
       "        text-align: right;\n",
       "    }\n",
       "</style>\n",
       "<table border=\"1\" class=\"dataframe\">\n",
       "  <thead>\n",
       "    <tr style=\"text-align: right;\">\n",
       "      <th></th>\n",
       "      <th>courses</th>\n",
       "      <th>ratings</th>\n",
       "      <th>ratings_2x</th>\n",
       "      <th>ratings_2x_str</th>\n",
       "    </tr>\n",
       "  </thead>\n",
       "  <tbody>\n",
       "    <tr>\n",
       "      <th>0</th>\n",
       "      <td>Transfiguration</td>\n",
       "      <td>5</td>\n",
       "      <td>10.0</td>\n",
       "      <td>5.05.0</td>\n",
       "    </tr>\n",
       "    <tr>\n",
       "      <th>1</th>\n",
       "      <td>Charms</td>\n",
       "      <td>3</td>\n",
       "      <td>6.4</td>\n",
       "      <td>3.23.2</td>\n",
       "    </tr>\n",
       "    <tr>\n",
       "      <th>2</th>\n",
       "      <td>Potions</td>\n",
       "      <td>1</td>\n",
       "      <td>2.0</td>\n",
       "      <td>1.01.0</td>\n",
       "    </tr>\n",
       "    <tr>\n",
       "      <th>3</th>\n",
       "      <td>History of Magic</td>\n",
       "      <td>2</td>\n",
       "      <td>4.0</td>\n",
       "      <td>2.02.0</td>\n",
       "    </tr>\n",
       "    <tr>\n",
       "      <th>4</th>\n",
       "      <td>Defence Against the Dark Arts</td>\n",
       "      <td>4</td>\n",
       "      <td>8.0</td>\n",
       "      <td>4.04.0</td>\n",
       "    </tr>\n",
       "    <tr>\n",
       "      <th>5</th>\n",
       "      <td>Astronomy and Herbology</td>\n",
       "      <td>3</td>\n",
       "      <td>7.0</td>\n",
       "      <td>3.53.5</td>\n",
       "    </tr>\n",
       "  </tbody>\n",
       "</table>\n",
       "</div>"
      ],
      "text/plain": [
       "                         courses  ratings  ratings_2x ratings_2x_str\n",
       "0                Transfiguration        5        10.0         5.05.0\n",
       "1                         Charms        3         6.4         3.23.2\n",
       "2                        Potions        1         2.0         1.01.0\n",
       "3               History of Magic        2         4.0         2.02.0\n",
       "4  Defence Against the Dark Arts        4         8.0         4.04.0\n",
       "5        Astronomy and Herbology        3         7.0         3.53.5"
      ]
     },
     "execution_count": 12,
     "metadata": {},
     "output_type": "execute_result"
    }
   ],
   "source": [
    "grades['ratings'] = grades['ratings'].astype('int')\n",
    "grades"
   ]
  },
  {
   "cell_type": "markdown",
   "metadata": {
    "colab_type": "text",
    "id": "91I3_SdHW_9M"
   },
   "source": [
    "# Handling missing values"
   ]
  },
  {
   "cell_type": "markdown",
   "metadata": {
    "colab_type": "text",
    "id": "PHRNRSrsXEVD"
   },
   "source": [
    "Missing data is a common issue, and an incredible headache in machine learning.\n",
    "\n",
    "<br> Take, for example, this dataframe with several `NaN` and `None` values, both of which can be used to represent missing data"
   ]
  },
  {
   "cell_type": "code",
   "execution_count": 13,
   "metadata": {
    "colab": {
     "base_uri": "https://localhost:8080/",
     "height": 266
    },
    "colab_type": "code",
    "id": "al2jY0duXGjc",
    "outputId": "ed125e86-6b78-4f26-93c0-5e4f2986c9d7"
   },
   "outputs": [
    {
     "data": {
      "text/html": [
       "<div>\n",
       "<style scoped>\n",
       "    .dataframe tbody tr th:only-of-type {\n",
       "        vertical-align: middle;\n",
       "    }\n",
       "\n",
       "    .dataframe tbody tr th {\n",
       "        vertical-align: top;\n",
       "    }\n",
       "\n",
       "    .dataframe thead th {\n",
       "        text-align: right;\n",
       "    }\n",
       "</style>\n",
       "<table border=\"1\" class=\"dataframe\">\n",
       "  <thead>\n",
       "    <tr style=\"text-align: right;\">\n",
       "      <th></th>\n",
       "      <th>name</th>\n",
       "      <th>year</th>\n",
       "      <th>interests</th>\n",
       "    </tr>\n",
       "  </thead>\n",
       "  <tbody>\n",
       "    <tr>\n",
       "      <th>0</th>\n",
       "      <td>Bill Weasley</td>\n",
       "      <td>NaN</td>\n",
       "      <td>Dragons</td>\n",
       "    </tr>\n",
       "    <tr>\n",
       "      <th>1</th>\n",
       "      <td>Charlie Weasley</td>\n",
       "      <td>NaN</td>\n",
       "      <td>Gringots</td>\n",
       "    </tr>\n",
       "    <tr>\n",
       "      <th>2</th>\n",
       "      <td>Percy Weasley</td>\n",
       "      <td>6.0</td>\n",
       "      <td>Ministry of Magic</td>\n",
       "    </tr>\n",
       "    <tr>\n",
       "      <th>3</th>\n",
       "      <td>Fred Weasley</td>\n",
       "      <td>4.0</td>\n",
       "      <td>Jokes</td>\n",
       "    </tr>\n",
       "    <tr>\n",
       "      <th>4</th>\n",
       "      <td>NaN</td>\n",
       "      <td>4.0</td>\n",
       "      <td>Jokes</td>\n",
       "    </tr>\n",
       "    <tr>\n",
       "      <th>5</th>\n",
       "      <td>Ron Weasley</td>\n",
       "      <td>2.0</td>\n",
       "      <td>NaN</td>\n",
       "    </tr>\n",
       "    <tr>\n",
       "      <th>6</th>\n",
       "      <td>Ginny Weasley</td>\n",
       "      <td>1.0</td>\n",
       "      <td>NaN</td>\n",
       "    </tr>\n",
       "  </tbody>\n",
       "</table>\n",
       "</div>"
      ],
      "text/plain": [
       "              name  year          interests\n",
       "0     Bill Weasley   NaN            Dragons\n",
       "1  Charlie Weasley   NaN           Gringots\n",
       "2    Percy Weasley   6.0  Ministry of Magic\n",
       "3     Fred Weasley   4.0              Jokes\n",
       "4              NaN   4.0              Jokes\n",
       "5      Ron Weasley   2.0                NaN\n",
       "6    Ginny Weasley   1.0                NaN"
      ]
     },
     "execution_count": 13,
     "metadata": {},
     "output_type": "execute_result"
    }
   ],
   "source": [
    "students = ['Bill Weasley', 'Charlie Weasley', 'Percy Weasley', 'Fred Weasley', np.nan, 'Ron Weasley', 'Ginny Weasley']\n",
    "years = [np.nan, np.nan, 6, 4, 4, 2, 1]\n",
    "interests = ['Dragons', 'Gringots', 'Ministry of Magic', 'Jokes', 'Jokes', np.nan, np.nan]\n",
    "\n",
    "weasleys = pd.DataFrame({'name':students,'year' :years, 'interests':interests})\n",
    "weasleys"
   ]
  },
  {
   "cell_type": "markdown",
   "metadata": {
    "colab_type": "text",
    "id": "2voUMl-8k-AL"
   },
   "source": [
    "### Identifying missing values"
   ]
  },
  {
   "cell_type": "markdown",
   "metadata": {},
   "source": [
    "We can use `.isna()` on a dataframe or series"
   ]
  },
  {
   "cell_type": "code",
   "execution_count": 14,
   "metadata": {
    "colab": {
     "base_uri": "https://localhost:8080/",
     "height": 266
    },
    "colab_type": "code",
    "id": "d0iRsJsik7j5",
    "outputId": "835a41a8-2211-4f8a-d51a-8b42b3394204"
   },
   "outputs": [
    {
     "data": {
      "text/html": [
       "<div>\n",
       "<style scoped>\n",
       "    .dataframe tbody tr th:only-of-type {\n",
       "        vertical-align: middle;\n",
       "    }\n",
       "\n",
       "    .dataframe tbody tr th {\n",
       "        vertical-align: top;\n",
       "    }\n",
       "\n",
       "    .dataframe thead th {\n",
       "        text-align: right;\n",
       "    }\n",
       "</style>\n",
       "<table border=\"1\" class=\"dataframe\">\n",
       "  <thead>\n",
       "    <tr style=\"text-align: right;\">\n",
       "      <th></th>\n",
       "      <th>name</th>\n",
       "      <th>year</th>\n",
       "      <th>interests</th>\n",
       "    </tr>\n",
       "  </thead>\n",
       "  <tbody>\n",
       "    <tr>\n",
       "      <th>0</th>\n",
       "      <td>False</td>\n",
       "      <td>True</td>\n",
       "      <td>False</td>\n",
       "    </tr>\n",
       "    <tr>\n",
       "      <th>1</th>\n",
       "      <td>False</td>\n",
       "      <td>True</td>\n",
       "      <td>False</td>\n",
       "    </tr>\n",
       "    <tr>\n",
       "      <th>2</th>\n",
       "      <td>False</td>\n",
       "      <td>False</td>\n",
       "      <td>False</td>\n",
       "    </tr>\n",
       "    <tr>\n",
       "      <th>3</th>\n",
       "      <td>False</td>\n",
       "      <td>False</td>\n",
       "      <td>False</td>\n",
       "    </tr>\n",
       "    <tr>\n",
       "      <th>4</th>\n",
       "      <td>True</td>\n",
       "      <td>False</td>\n",
       "      <td>False</td>\n",
       "    </tr>\n",
       "    <tr>\n",
       "      <th>5</th>\n",
       "      <td>False</td>\n",
       "      <td>False</td>\n",
       "      <td>True</td>\n",
       "    </tr>\n",
       "    <tr>\n",
       "      <th>6</th>\n",
       "      <td>False</td>\n",
       "      <td>False</td>\n",
       "      <td>True</td>\n",
       "    </tr>\n",
       "  </tbody>\n",
       "</table>\n",
       "</div>"
      ],
      "text/plain": [
       "    name   year  interests\n",
       "0  False   True      False\n",
       "1  False   True      False\n",
       "2  False  False      False\n",
       "3  False  False      False\n",
       "4   True  False      False\n",
       "5  False  False       True\n",
       "6  False  False       True"
      ]
     },
     "execution_count": 14,
     "metadata": {},
     "output_type": "execute_result"
    }
   ],
   "source": [
    "weasleys.isna()"
   ]
  },
  {
   "cell_type": "code",
   "execution_count": 15,
   "metadata": {
    "colab": {
     "base_uri": "https://localhost:8080/",
     "height": 69
    },
    "colab_type": "code",
    "id": "p56yOZM7lDpx",
    "outputId": "8c1beca3-6453-483a-b06e-d95c8d8ae748"
   },
   "outputs": [
    {
     "data": {
      "text/plain": [
       "name         1\n",
       "year         2\n",
       "interests    2\n",
       "dtype: int64"
      ]
     },
     "execution_count": 15,
     "metadata": {},
     "output_type": "execute_result"
    }
   ],
   "source": [
    "weasleys.isna().sum(axis=0)"
   ]
  },
  {
   "cell_type": "markdown",
   "metadata": {},
   "source": [
    "\n",
    "Here, we've specified the axis on which we'd like to apply the sum operation. \n",
    "<br>To sum *across* rows, to get one value *per column*, we used axis = 0.\n",
    "\n",
    "- In general, **Rows: axis=0, Columns: axis=1**"
   ]
  },
  {
   "cell_type": "markdown",
   "metadata": {},
   "source": [
    "If we wanted instead to see how many null values we have for every child, we'd swap the axis:"
   ]
  },
  {
   "cell_type": "code",
   "execution_count": 16,
   "metadata": {
    "colab": {
     "base_uri": "https://localhost:8080/",
     "height": 157
    },
    "colab_type": "code",
    "id": "3yAhlnhAl9Bw",
    "outputId": "3186e8fb-5c8a-478f-d2f4-c681a22bc432"
   },
   "outputs": [
    {
     "data": {
      "text/plain": [
       "0    1\n",
       "1    1\n",
       "2    0\n",
       "3    0\n",
       "4    1\n",
       "5    1\n",
       "6    1\n",
       "dtype: int64"
      ]
     },
     "execution_count": 16,
     "metadata": {},
     "output_type": "execute_result"
    }
   ],
   "source": [
    "weasleys.isna().sum(axis=1)"
   ]
  },
  {
   "cell_type": "markdown",
   "metadata": {},
   "source": [
    "Remember, we want a breakdown *by row*, so we're counting the number of rows *across* each column"
   ]
  },
  {
   "cell_type": "markdown",
   "metadata": {
    "colab_type": "text",
    "id": "yZ06jDBHXUj-"
   },
   "source": [
    "### Strategy 1: Dropping rows with missing values"
   ]
  },
  {
   "cell_type": "markdown",
   "metadata": {},
   "source": [
    "By far the easiest way of dealing with missing data is just dropping rows that have missing values.\n",
    "\n",
    "By default, `dropna()` will drop rows that have a null value for *any* column"
   ]
  },
  {
   "cell_type": "code",
   "execution_count": 17,
   "metadata": {
    "colab": {
     "base_uri": "https://localhost:8080/",
     "height": 142
    },
    "colab_type": "code",
    "id": "SjJbCBMrXEnE",
    "outputId": "f38aa7ab-616a-436f-af53-c7f037e0e873"
   },
   "outputs": [
    {
     "data": {
      "text/html": [
       "<div>\n",
       "<style scoped>\n",
       "    .dataframe tbody tr th:only-of-type {\n",
       "        vertical-align: middle;\n",
       "    }\n",
       "\n",
       "    .dataframe tbody tr th {\n",
       "        vertical-align: top;\n",
       "    }\n",
       "\n",
       "    .dataframe thead th {\n",
       "        text-align: right;\n",
       "    }\n",
       "</style>\n",
       "<table border=\"1\" class=\"dataframe\">\n",
       "  <thead>\n",
       "    <tr style=\"text-align: right;\">\n",
       "      <th></th>\n",
       "      <th>name</th>\n",
       "      <th>year</th>\n",
       "      <th>interests</th>\n",
       "    </tr>\n",
       "  </thead>\n",
       "  <tbody>\n",
       "    <tr>\n",
       "      <th>2</th>\n",
       "      <td>Percy Weasley</td>\n",
       "      <td>6.0</td>\n",
       "      <td>Ministry of Magic</td>\n",
       "    </tr>\n",
       "    <tr>\n",
       "      <th>3</th>\n",
       "      <td>Fred Weasley</td>\n",
       "      <td>4.0</td>\n",
       "      <td>Jokes</td>\n",
       "    </tr>\n",
       "  </tbody>\n",
       "</table>\n",
       "</div>"
      ],
      "text/plain": [
       "            name  year          interests\n",
       "2  Percy Weasley   6.0  Ministry of Magic\n",
       "3   Fred Weasley   4.0              Jokes"
      ]
     },
     "execution_count": 17,
     "metadata": {},
     "output_type": "execute_result"
    }
   ],
   "source": [
    "weasleys_dropped = weasleys.dropna()\n",
    "weasleys_dropped"
   ]
  },
  {
   "cell_type": "markdown",
   "metadata": {
    "colab_type": "text",
    "id": "DY7ozv3b3HJC"
   },
   "source": [
    "You might also need to drop NAs only if it's present for a single column. \n",
    "<br>In this case, we can pass the `subset=` argument to `.dropna()` to select for current hogwarts students"
   ]
  },
  {
   "cell_type": "code",
   "execution_count": 18,
   "metadata": {
    "colab": {
     "base_uri": "https://localhost:8080/",
     "height": 142
    },
    "colab_type": "code",
    "id": "ZksD2rXU3GTd",
    "outputId": "70420d66-62cc-4162-a0d0-9875299606a7"
   },
   "outputs": [
    {
     "data": {
      "text/html": [
       "<div>\n",
       "<style scoped>\n",
       "    .dataframe tbody tr th:only-of-type {\n",
       "        vertical-align: middle;\n",
       "    }\n",
       "\n",
       "    .dataframe tbody tr th {\n",
       "        vertical-align: top;\n",
       "    }\n",
       "\n",
       "    .dataframe thead th {\n",
       "        text-align: right;\n",
       "    }\n",
       "</style>\n",
       "<table border=\"1\" class=\"dataframe\">\n",
       "  <thead>\n",
       "    <tr style=\"text-align: right;\">\n",
       "      <th></th>\n",
       "      <th>name</th>\n",
       "      <th>year</th>\n",
       "      <th>interests</th>\n",
       "    </tr>\n",
       "  </thead>\n",
       "  <tbody>\n",
       "    <tr>\n",
       "      <th>2</th>\n",
       "      <td>Percy Weasley</td>\n",
       "      <td>6.0</td>\n",
       "      <td>Ministry of Magic</td>\n",
       "    </tr>\n",
       "    <tr>\n",
       "      <th>3</th>\n",
       "      <td>Fred Weasley</td>\n",
       "      <td>4.0</td>\n",
       "      <td>Jokes</td>\n",
       "    </tr>\n",
       "    <tr>\n",
       "      <th>4</th>\n",
       "      <td>NaN</td>\n",
       "      <td>4.0</td>\n",
       "      <td>Jokes</td>\n",
       "    </tr>\n",
       "    <tr>\n",
       "      <th>5</th>\n",
       "      <td>Ron Weasley</td>\n",
       "      <td>2.0</td>\n",
       "      <td>NaN</td>\n",
       "    </tr>\n",
       "    <tr>\n",
       "      <th>6</th>\n",
       "      <td>Ginny Weasley</td>\n",
       "      <td>1.0</td>\n",
       "      <td>NaN</td>\n",
       "    </tr>\n",
       "  </tbody>\n",
       "</table>\n",
       "</div>"
      ],
      "text/plain": [
       "            name  year          interests\n",
       "2  Percy Weasley   6.0  Ministry of Magic\n",
       "3   Fred Weasley   4.0              Jokes\n",
       "4            NaN   4.0              Jokes\n",
       "5    Ron Weasley   2.0                NaN\n",
       "6  Ginny Weasley   1.0                NaN"
      ]
     },
     "execution_count": 18,
     "metadata": {},
     "output_type": "execute_result"
    }
   ],
   "source": [
    "weasleys.dropna(subset=['year'])"
   ]
  },
  {
   "cell_type": "markdown",
   "metadata": {
    "colab_type": "text",
    "id": "2BalWYMdXYh_"
   },
   "source": [
    "### Strategy 2: Filling in missing values\n",
    "\n",
    "We can fill in missing values in a variety of different ways. \n",
    "<br> We can use a specific value (like the mean), forward-fill, back-fill, or use a variety of more advanced imputation methods using ML"
   ]
  },
  {
   "cell_type": "markdown",
   "metadata": {
    "colab_type": "text",
    "id": "5XTegawZXbEt"
   },
   "source": [
    "Replacing missing values with a specific value:"
   ]
  },
  {
   "cell_type": "code",
   "execution_count": 19,
   "metadata": {
    "colab": {
     "base_uri": "https://localhost:8080/",
     "height": 266
    },
    "colab_type": "code",
    "id": "8urpH3QWXV0e",
    "outputId": "c950378d-e0a3-42c1-c7b5-6bdf1196a8d4"
   },
   "outputs": [
    {
     "data": {
      "text/html": [
       "<div>\n",
       "<style scoped>\n",
       "    .dataframe tbody tr th:only-of-type {\n",
       "        vertical-align: middle;\n",
       "    }\n",
       "\n",
       "    .dataframe tbody tr th {\n",
       "        vertical-align: top;\n",
       "    }\n",
       "\n",
       "    .dataframe thead th {\n",
       "        text-align: right;\n",
       "    }\n",
       "</style>\n",
       "<table border=\"1\" class=\"dataframe\">\n",
       "  <thead>\n",
       "    <tr style=\"text-align: right;\">\n",
       "      <th></th>\n",
       "      <th>name</th>\n",
       "      <th>year</th>\n",
       "      <th>interests</th>\n",
       "    </tr>\n",
       "  </thead>\n",
       "  <tbody>\n",
       "    <tr>\n",
       "      <th>0</th>\n",
       "      <td>Bill Weasley</td>\n",
       "      <td>0.0</td>\n",
       "      <td>Dragons</td>\n",
       "    </tr>\n",
       "    <tr>\n",
       "      <th>1</th>\n",
       "      <td>Charlie Weasley</td>\n",
       "      <td>0.0</td>\n",
       "      <td>Gringots</td>\n",
       "    </tr>\n",
       "    <tr>\n",
       "      <th>2</th>\n",
       "      <td>Percy Weasley</td>\n",
       "      <td>6.0</td>\n",
       "      <td>Ministry of Magic</td>\n",
       "    </tr>\n",
       "    <tr>\n",
       "      <th>3</th>\n",
       "      <td>Fred Weasley</td>\n",
       "      <td>4.0</td>\n",
       "      <td>Jokes</td>\n",
       "    </tr>\n",
       "    <tr>\n",
       "      <th>4</th>\n",
       "      <td>0</td>\n",
       "      <td>4.0</td>\n",
       "      <td>Jokes</td>\n",
       "    </tr>\n",
       "    <tr>\n",
       "      <th>5</th>\n",
       "      <td>Ron Weasley</td>\n",
       "      <td>2.0</td>\n",
       "      <td>0</td>\n",
       "    </tr>\n",
       "    <tr>\n",
       "      <th>6</th>\n",
       "      <td>Ginny Weasley</td>\n",
       "      <td>1.0</td>\n",
       "      <td>0</td>\n",
       "    </tr>\n",
       "  </tbody>\n",
       "</table>\n",
       "</div>"
      ],
      "text/plain": [
       "              name  year          interests\n",
       "0     Bill Weasley   0.0            Dragons\n",
       "1  Charlie Weasley   0.0           Gringots\n",
       "2    Percy Weasley   6.0  Ministry of Magic\n",
       "3     Fred Weasley   4.0              Jokes\n",
       "4                0   4.0              Jokes\n",
       "5      Ron Weasley   2.0                  0\n",
       "6    Ginny Weasley   1.0                  0"
      ]
     },
     "execution_count": 19,
     "metadata": {},
     "output_type": "execute_result"
    }
   ],
   "source": [
    "weasleys.fillna(0) # replace missing values with string"
   ]
  },
  {
   "cell_type": "markdown",
   "metadata": {},
   "source": [
    "We can select a particular column to fill nulls with too"
   ]
  },
  {
   "cell_type": "code",
   "execution_count": 20,
   "metadata": {
    "colab": {
     "base_uri": "https://localhost:8080/",
     "height": 266
    },
    "colab_type": "code",
    "id": "S4hDpfPAgqB4",
    "outputId": "87ff8f25-64e1-4f8c-e47c-dba3dec3ce45"
   },
   "outputs": [
    {
     "data": {
      "text/html": [
       "<div>\n",
       "<style scoped>\n",
       "    .dataframe tbody tr th:only-of-type {\n",
       "        vertical-align: middle;\n",
       "    }\n",
       "\n",
       "    .dataframe tbody tr th {\n",
       "        vertical-align: top;\n",
       "    }\n",
       "\n",
       "    .dataframe thead th {\n",
       "        text-align: right;\n",
       "    }\n",
       "</style>\n",
       "<table border=\"1\" class=\"dataframe\">\n",
       "  <thead>\n",
       "    <tr style=\"text-align: right;\">\n",
       "      <th></th>\n",
       "      <th>name</th>\n",
       "      <th>year</th>\n",
       "      <th>interests</th>\n",
       "    </tr>\n",
       "  </thead>\n",
       "  <tbody>\n",
       "    <tr>\n",
       "      <th>0</th>\n",
       "      <td>Bill Weasley</td>\n",
       "      <td>NaN</td>\n",
       "      <td>Dragons</td>\n",
       "    </tr>\n",
       "    <tr>\n",
       "      <th>1</th>\n",
       "      <td>Charlie Weasley</td>\n",
       "      <td>NaN</td>\n",
       "      <td>Gringots</td>\n",
       "    </tr>\n",
       "    <tr>\n",
       "      <th>2</th>\n",
       "      <td>Percy Weasley</td>\n",
       "      <td>6.0</td>\n",
       "      <td>Ministry of Magic</td>\n",
       "    </tr>\n",
       "    <tr>\n",
       "      <th>3</th>\n",
       "      <td>Fred Weasley</td>\n",
       "      <td>4.0</td>\n",
       "      <td>Jokes</td>\n",
       "    </tr>\n",
       "    <tr>\n",
       "      <th>4</th>\n",
       "      <td>George Weasley</td>\n",
       "      <td>4.0</td>\n",
       "      <td>Jokes</td>\n",
       "    </tr>\n",
       "    <tr>\n",
       "      <th>5</th>\n",
       "      <td>Ron Weasley</td>\n",
       "      <td>2.0</td>\n",
       "      <td>NaN</td>\n",
       "    </tr>\n",
       "    <tr>\n",
       "      <th>6</th>\n",
       "      <td>Ginny Weasley</td>\n",
       "      <td>1.0</td>\n",
       "      <td>NaN</td>\n",
       "    </tr>\n",
       "  </tbody>\n",
       "</table>\n",
       "</div>"
      ],
      "text/plain": [
       "              name  year          interests\n",
       "0     Bill Weasley   NaN            Dragons\n",
       "1  Charlie Weasley   NaN           Gringots\n",
       "2    Percy Weasley   6.0  Ministry of Magic\n",
       "3     Fred Weasley   4.0              Jokes\n",
       "4   George Weasley   4.0              Jokes\n",
       "5      Ron Weasley   2.0                NaN\n",
       "6    Ginny Weasley   1.0                NaN"
      ]
     },
     "execution_count": 20,
     "metadata": {},
     "output_type": "execute_result"
    }
   ],
   "source": [
    "weasleys['name'] = weasleys['name'].fillna('George Weasley')\n",
    "weasleys"
   ]
  },
  {
   "cell_type": "markdown",
   "metadata": {},
   "source": [
    "# Mapping Values"
   ]
  },
  {
   "cell_type": "markdown",
   "metadata": {},
   "source": [
    "### Renaming Columns"
   ]
  },
  {
   "cell_type": "markdown",
   "metadata": {},
   "source": [
    "We can rename columns to make them easier to refer to, more meaningful, or more concise"
   ]
  },
  {
   "cell_type": "code",
   "execution_count": 21,
   "metadata": {},
   "outputs": [
    {
     "data": {
      "text/html": [
       "<div>\n",
       "<style scoped>\n",
       "    .dataframe tbody tr th:only-of-type {\n",
       "        vertical-align: middle;\n",
       "    }\n",
       "\n",
       "    .dataframe tbody tr th {\n",
       "        vertical-align: top;\n",
       "    }\n",
       "\n",
       "    .dataframe thead th {\n",
       "        text-align: right;\n",
       "    }\n",
       "</style>\n",
       "<table border=\"1\" class=\"dataframe\">\n",
       "  <thead>\n",
       "    <tr style=\"text-align: right;\">\n",
       "      <th></th>\n",
       "      <th>name</th>\n",
       "      <th>year</th>\n",
       "      <th>interests</th>\n",
       "      <th>house at hogwarts</th>\n",
       "    </tr>\n",
       "  </thead>\n",
       "  <tbody>\n",
       "    <tr>\n",
       "      <th>0</th>\n",
       "      <td>Bill Weasley</td>\n",
       "      <td>NaN</td>\n",
       "      <td>Dragons</td>\n",
       "      <td>Gryffindor</td>\n",
       "    </tr>\n",
       "    <tr>\n",
       "      <th>1</th>\n",
       "      <td>Charlie Weasley</td>\n",
       "      <td>NaN</td>\n",
       "      <td>Gringots</td>\n",
       "      <td>Gryffindor</td>\n",
       "    </tr>\n",
       "    <tr>\n",
       "      <th>2</th>\n",
       "      <td>Percy Weasley</td>\n",
       "      <td>6.0</td>\n",
       "      <td>Ministry of Magic</td>\n",
       "      <td>Gryffindor</td>\n",
       "    </tr>\n",
       "    <tr>\n",
       "      <th>3</th>\n",
       "      <td>Fred Weasley</td>\n",
       "      <td>4.0</td>\n",
       "      <td>Jokes</td>\n",
       "      <td>Gryffindor</td>\n",
       "    </tr>\n",
       "    <tr>\n",
       "      <th>4</th>\n",
       "      <td>George Weasley</td>\n",
       "      <td>4.0</td>\n",
       "      <td>Jokes</td>\n",
       "      <td>Gryffindor</td>\n",
       "    </tr>\n",
       "    <tr>\n",
       "      <th>5</th>\n",
       "      <td>Ron Weasley</td>\n",
       "      <td>2.0</td>\n",
       "      <td>NaN</td>\n",
       "      <td>Gryffindor</td>\n",
       "    </tr>\n",
       "    <tr>\n",
       "      <th>6</th>\n",
       "      <td>Ginny Weasley</td>\n",
       "      <td>1.0</td>\n",
       "      <td>NaN</td>\n",
       "      <td>Gryffindor</td>\n",
       "    </tr>\n",
       "  </tbody>\n",
       "</table>\n",
       "</div>"
      ],
      "text/plain": [
       "              name  year          interests house at hogwarts\n",
       "0     Bill Weasley   NaN            Dragons        Gryffindor\n",
       "1  Charlie Weasley   NaN           Gringots        Gryffindor\n",
       "2    Percy Weasley   6.0  Ministry of Magic        Gryffindor\n",
       "3     Fred Weasley   4.0              Jokes        Gryffindor\n",
       "4   George Weasley   4.0              Jokes        Gryffindor\n",
       "5      Ron Weasley   2.0                NaN        Gryffindor\n",
       "6    Ginny Weasley   1.0                NaN        Gryffindor"
      ]
     },
     "execution_count": 21,
     "metadata": {},
     "output_type": "execute_result"
    }
   ],
   "source": [
    "weasleys['house at hogwarts'] = 'Gryffindor'\n",
    "weasleys"
   ]
  },
  {
   "cell_type": "markdown",
   "metadata": {},
   "source": [
    "To do so, we'll use the `df.rename(columns=)` syntax, wheren `columns=` accepts a dictionary "
   ]
  },
  {
   "cell_type": "code",
   "execution_count": 22,
   "metadata": {},
   "outputs": [
    {
     "data": {
      "text/html": [
       "<div>\n",
       "<style scoped>\n",
       "    .dataframe tbody tr th:only-of-type {\n",
       "        vertical-align: middle;\n",
       "    }\n",
       "\n",
       "    .dataframe tbody tr th {\n",
       "        vertical-align: top;\n",
       "    }\n",
       "\n",
       "    .dataframe thead th {\n",
       "        text-align: right;\n",
       "    }\n",
       "</style>\n",
       "<table border=\"1\" class=\"dataframe\">\n",
       "  <thead>\n",
       "    <tr style=\"text-align: right;\">\n",
       "      <th></th>\n",
       "      <th>name</th>\n",
       "      <th>year</th>\n",
       "      <th>interests</th>\n",
       "      <th>house</th>\n",
       "    </tr>\n",
       "  </thead>\n",
       "  <tbody>\n",
       "    <tr>\n",
       "      <th>0</th>\n",
       "      <td>Bill Weasley</td>\n",
       "      <td>NaN</td>\n",
       "      <td>Dragons</td>\n",
       "      <td>Gryffindor</td>\n",
       "    </tr>\n",
       "    <tr>\n",
       "      <th>1</th>\n",
       "      <td>Charlie Weasley</td>\n",
       "      <td>NaN</td>\n",
       "      <td>Gringots</td>\n",
       "      <td>Gryffindor</td>\n",
       "    </tr>\n",
       "    <tr>\n",
       "      <th>2</th>\n",
       "      <td>Percy Weasley</td>\n",
       "      <td>6.0</td>\n",
       "      <td>Ministry of Magic</td>\n",
       "      <td>Gryffindor</td>\n",
       "    </tr>\n",
       "    <tr>\n",
       "      <th>3</th>\n",
       "      <td>Fred Weasley</td>\n",
       "      <td>4.0</td>\n",
       "      <td>Jokes</td>\n",
       "      <td>Gryffindor</td>\n",
       "    </tr>\n",
       "    <tr>\n",
       "      <th>4</th>\n",
       "      <td>George Weasley</td>\n",
       "      <td>4.0</td>\n",
       "      <td>Jokes</td>\n",
       "      <td>Gryffindor</td>\n",
       "    </tr>\n",
       "    <tr>\n",
       "      <th>5</th>\n",
       "      <td>Ron Weasley</td>\n",
       "      <td>2.0</td>\n",
       "      <td>NaN</td>\n",
       "      <td>Gryffindor</td>\n",
       "    </tr>\n",
       "    <tr>\n",
       "      <th>6</th>\n",
       "      <td>Ginny Weasley</td>\n",
       "      <td>1.0</td>\n",
       "      <td>NaN</td>\n",
       "      <td>Gryffindor</td>\n",
       "    </tr>\n",
       "  </tbody>\n",
       "</table>\n",
       "</div>"
      ],
      "text/plain": [
       "              name  year          interests       house\n",
       "0     Bill Weasley   NaN            Dragons  Gryffindor\n",
       "1  Charlie Weasley   NaN           Gringots  Gryffindor\n",
       "2    Percy Weasley   6.0  Ministry of Magic  Gryffindor\n",
       "3     Fred Weasley   4.0              Jokes  Gryffindor\n",
       "4   George Weasley   4.0              Jokes  Gryffindor\n",
       "5      Ron Weasley   2.0                NaN  Gryffindor\n",
       "6    Ginny Weasley   1.0                NaN  Gryffindor"
      ]
     },
     "execution_count": 22,
     "metadata": {},
     "output_type": "execute_result"
    }
   ],
   "source": [
    "weasleys = weasleys.rename(columns={'house at hogwarts':'house'})\n",
    "weasleys"
   ]
  },
  {
   "cell_type": "markdown",
   "metadata": {},
   "source": [
    "### Replacing Values"
   ]
  },
  {
   "cell_type": "markdown",
   "metadata": {},
   "source": [
    "Along the same vein, we can use `.replace()` to map values"
   ]
  },
  {
   "cell_type": "code",
   "execution_count": 23,
   "metadata": {
    "scrolled": true
   },
   "outputs": [
    {
     "data": {
      "text/html": [
       "<div>\n",
       "<style scoped>\n",
       "    .dataframe tbody tr th:only-of-type {\n",
       "        vertical-align: middle;\n",
       "    }\n",
       "\n",
       "    .dataframe tbody tr th {\n",
       "        vertical-align: top;\n",
       "    }\n",
       "\n",
       "    .dataframe thead th {\n",
       "        text-align: right;\n",
       "    }\n",
       "</style>\n",
       "<table border=\"1\" class=\"dataframe\">\n",
       "  <thead>\n",
       "    <tr style=\"text-align: right;\">\n",
       "      <th></th>\n",
       "      <th>name</th>\n",
       "      <th>year</th>\n",
       "      <th>interests</th>\n",
       "      <th>house</th>\n",
       "      <th>hogwarts</th>\n",
       "    </tr>\n",
       "  </thead>\n",
       "  <tbody>\n",
       "    <tr>\n",
       "      <th>0</th>\n",
       "      <td>Bill Weasley</td>\n",
       "      <td>NaN</td>\n",
       "      <td>Dragons</td>\n",
       "      <td>Gryffindor</td>\n",
       "      <td>0</td>\n",
       "    </tr>\n",
       "    <tr>\n",
       "      <th>1</th>\n",
       "      <td>Charlie Weasley</td>\n",
       "      <td>NaN</td>\n",
       "      <td>Gringots</td>\n",
       "      <td>Gryffindor</td>\n",
       "      <td>0</td>\n",
       "    </tr>\n",
       "    <tr>\n",
       "      <th>2</th>\n",
       "      <td>Percy Weasley</td>\n",
       "      <td>6.0</td>\n",
       "      <td>Ministry of Magic</td>\n",
       "      <td>Gryffindor</td>\n",
       "      <td>1</td>\n",
       "    </tr>\n",
       "    <tr>\n",
       "      <th>3</th>\n",
       "      <td>Fred Weasley</td>\n",
       "      <td>4.0</td>\n",
       "      <td>Jokes</td>\n",
       "      <td>Gryffindor</td>\n",
       "      <td>1</td>\n",
       "    </tr>\n",
       "    <tr>\n",
       "      <th>4</th>\n",
       "      <td>George Weasley</td>\n",
       "      <td>4.0</td>\n",
       "      <td>Jokes</td>\n",
       "      <td>Gryffindor</td>\n",
       "      <td>1</td>\n",
       "    </tr>\n",
       "    <tr>\n",
       "      <th>5</th>\n",
       "      <td>Ron Weasley</td>\n",
       "      <td>2.0</td>\n",
       "      <td>NaN</td>\n",
       "      <td>Gryffindor</td>\n",
       "      <td>1</td>\n",
       "    </tr>\n",
       "    <tr>\n",
       "      <th>6</th>\n",
       "      <td>Ginny Weasley</td>\n",
       "      <td>1.0</td>\n",
       "      <td>NaN</td>\n",
       "      <td>Gryffindor</td>\n",
       "      <td>1</td>\n",
       "    </tr>\n",
       "  </tbody>\n",
       "</table>\n",
       "</div>"
      ],
      "text/plain": [
       "              name  year          interests       house  hogwarts\n",
       "0     Bill Weasley   NaN            Dragons  Gryffindor         0\n",
       "1  Charlie Weasley   NaN           Gringots  Gryffindor         0\n",
       "2    Percy Weasley   6.0  Ministry of Magic  Gryffindor         1\n",
       "3     Fred Weasley   4.0              Jokes  Gryffindor         1\n",
       "4   George Weasley   4.0              Jokes  Gryffindor         1\n",
       "5      Ron Weasley   2.0                NaN  Gryffindor         1\n",
       "6    Ginny Weasley   1.0                NaN  Gryffindor         1"
      ]
     },
     "execution_count": 23,
     "metadata": {},
     "output_type": "execute_result"
    }
   ],
   "source": [
    "weasleys['hogwarts'] = [0,0,1,1,1,1,1]\n",
    "weasleys"
   ]
  },
  {
   "cell_type": "code",
   "execution_count": 24,
   "metadata": {},
   "outputs": [
    {
     "data": {
      "text/html": [
       "<div>\n",
       "<style scoped>\n",
       "    .dataframe tbody tr th:only-of-type {\n",
       "        vertical-align: middle;\n",
       "    }\n",
       "\n",
       "    .dataframe tbody tr th {\n",
       "        vertical-align: top;\n",
       "    }\n",
       "\n",
       "    .dataframe thead th {\n",
       "        text-align: right;\n",
       "    }\n",
       "</style>\n",
       "<table border=\"1\" class=\"dataframe\">\n",
       "  <thead>\n",
       "    <tr style=\"text-align: right;\">\n",
       "      <th></th>\n",
       "      <th>name</th>\n",
       "      <th>year</th>\n",
       "      <th>interests</th>\n",
       "      <th>house</th>\n",
       "      <th>hogwarts</th>\n",
       "    </tr>\n",
       "  </thead>\n",
       "  <tbody>\n",
       "    <tr>\n",
       "      <th>0</th>\n",
       "      <td>Bill Weasley</td>\n",
       "      <td>NaN</td>\n",
       "      <td>Dragons</td>\n",
       "      <td>Gryffindor</td>\n",
       "      <td>Alumni</td>\n",
       "    </tr>\n",
       "    <tr>\n",
       "      <th>1</th>\n",
       "      <td>Charlie Weasley</td>\n",
       "      <td>NaN</td>\n",
       "      <td>Gringots</td>\n",
       "      <td>Gryffindor</td>\n",
       "      <td>Alumni</td>\n",
       "    </tr>\n",
       "    <tr>\n",
       "      <th>2</th>\n",
       "      <td>Percy Weasley</td>\n",
       "      <td>6.0</td>\n",
       "      <td>Ministry of Magic</td>\n",
       "      <td>Gryffindor</td>\n",
       "      <td>Current Student</td>\n",
       "    </tr>\n",
       "    <tr>\n",
       "      <th>3</th>\n",
       "      <td>Fred Weasley</td>\n",
       "      <td>4.0</td>\n",
       "      <td>Jokes</td>\n",
       "      <td>Gryffindor</td>\n",
       "      <td>Current Student</td>\n",
       "    </tr>\n",
       "    <tr>\n",
       "      <th>4</th>\n",
       "      <td>George Weasley</td>\n",
       "      <td>4.0</td>\n",
       "      <td>Jokes</td>\n",
       "      <td>Gryffindor</td>\n",
       "      <td>Current Student</td>\n",
       "    </tr>\n",
       "    <tr>\n",
       "      <th>5</th>\n",
       "      <td>Ron Weasley</td>\n",
       "      <td>2.0</td>\n",
       "      <td>NaN</td>\n",
       "      <td>Gryffindor</td>\n",
       "      <td>Current Student</td>\n",
       "    </tr>\n",
       "    <tr>\n",
       "      <th>6</th>\n",
       "      <td>Ginny Weasley</td>\n",
       "      <td>1.0</td>\n",
       "      <td>NaN</td>\n",
       "      <td>Gryffindor</td>\n",
       "      <td>Current Student</td>\n",
       "    </tr>\n",
       "  </tbody>\n",
       "</table>\n",
       "</div>"
      ],
      "text/plain": [
       "              name  year          interests       house         hogwarts\n",
       "0     Bill Weasley   NaN            Dragons  Gryffindor           Alumni\n",
       "1  Charlie Weasley   NaN           Gringots  Gryffindor           Alumni\n",
       "2    Percy Weasley   6.0  Ministry of Magic  Gryffindor  Current Student\n",
       "3     Fred Weasley   4.0              Jokes  Gryffindor  Current Student\n",
       "4   George Weasley   4.0              Jokes  Gryffindor  Current Student\n",
       "5      Ron Weasley   2.0                NaN  Gryffindor  Current Student\n",
       "6    Ginny Weasley   1.0                NaN  Gryffindor  Current Student"
      ]
     },
     "execution_count": 24,
     "metadata": {},
     "output_type": "execute_result"
    }
   ],
   "source": [
    "weasleys['hogwarts'] = weasleys.hogwarts.replace({1:'Current Student',0:'Alumni'})\n",
    "weasleys"
   ]
  },
  {
   "cell_type": "markdown",
   "metadata": {},
   "source": [
    "**Try it out:** Use the starter code below to add the graduation years of each Weasly and make sure to convert it to integers (int). \n",
    "*Hint:* `df.column.astype()` would be useful here"
   ]
  },
  {
   "cell_type": "code",
   "execution_count": 29,
   "metadata": {},
   "outputs": [
    {
     "data": {
      "text/html": [
       "<div>\n",
       "<style scoped>\n",
       "    .dataframe tbody tr th:only-of-type {\n",
       "        vertical-align: middle;\n",
       "    }\n",
       "\n",
       "    .dataframe tbody tr th {\n",
       "        vertical-align: top;\n",
       "    }\n",
       "\n",
       "    .dataframe thead th {\n",
       "        text-align: right;\n",
       "    }\n",
       "</style>\n",
       "<table border=\"1\" class=\"dataframe\">\n",
       "  <thead>\n",
       "    <tr style=\"text-align: right;\">\n",
       "      <th></th>\n",
       "      <th>name</th>\n",
       "      <th>year</th>\n",
       "      <th>interests</th>\n",
       "      <th>house</th>\n",
       "      <th>hogwarts</th>\n",
       "      <th>graduating_year</th>\n",
       "    </tr>\n",
       "  </thead>\n",
       "  <tbody>\n",
       "    <tr>\n",
       "      <th>0</th>\n",
       "      <td>Bill Weasley</td>\n",
       "      <td>NaN</td>\n",
       "      <td>Dragons</td>\n",
       "      <td>Gryffindor</td>\n",
       "      <td>Alumni</td>\n",
       "      <td>1989</td>\n",
       "    </tr>\n",
       "    <tr>\n",
       "      <th>1</th>\n",
       "      <td>Charlie Weasley</td>\n",
       "      <td>NaN</td>\n",
       "      <td>Gringots</td>\n",
       "      <td>Gryffindor</td>\n",
       "      <td>Alumni</td>\n",
       "      <td>1991</td>\n",
       "    </tr>\n",
       "    <tr>\n",
       "      <th>2</th>\n",
       "      <td>Percy Weasley</td>\n",
       "      <td>6.0</td>\n",
       "      <td>Ministry of Magic</td>\n",
       "      <td>Gryffindor</td>\n",
       "      <td>Current Student</td>\n",
       "      <td>1994</td>\n",
       "    </tr>\n",
       "    <tr>\n",
       "      <th>3</th>\n",
       "      <td>Fred Weasley</td>\n",
       "      <td>4.0</td>\n",
       "      <td>Jokes</td>\n",
       "      <td>Gryffindor</td>\n",
       "      <td>Current Student</td>\n",
       "      <td>1996</td>\n",
       "    </tr>\n",
       "    <tr>\n",
       "      <th>4</th>\n",
       "      <td>George Weasley</td>\n",
       "      <td>4.0</td>\n",
       "      <td>Jokes</td>\n",
       "      <td>Gryffindor</td>\n",
       "      <td>Current Student</td>\n",
       "      <td>1996</td>\n",
       "    </tr>\n",
       "    <tr>\n",
       "      <th>5</th>\n",
       "      <td>Ron Weasley</td>\n",
       "      <td>2.0</td>\n",
       "      <td>NaN</td>\n",
       "      <td>Gryffindor</td>\n",
       "      <td>Current Student</td>\n",
       "      <td>1998</td>\n",
       "    </tr>\n",
       "    <tr>\n",
       "      <th>6</th>\n",
       "      <td>Ginny Weasley</td>\n",
       "      <td>1.0</td>\n",
       "      <td>NaN</td>\n",
       "      <td>Gryffindor</td>\n",
       "      <td>Current Student</td>\n",
       "      <td>1999</td>\n",
       "    </tr>\n",
       "  </tbody>\n",
       "</table>\n",
       "</div>"
      ],
      "text/plain": [
       "              name  year          interests       house         hogwarts  \\\n",
       "0     Bill Weasley   NaN            Dragons  Gryffindor           Alumni   \n",
       "1  Charlie Weasley   NaN           Gringots  Gryffindor           Alumni   \n",
       "2    Percy Weasley   6.0  Ministry of Magic  Gryffindor  Current Student   \n",
       "3     Fred Weasley   4.0              Jokes  Gryffindor  Current Student   \n",
       "4   George Weasley   4.0              Jokes  Gryffindor  Current Student   \n",
       "5      Ron Weasley   2.0                NaN  Gryffindor  Current Student   \n",
       "6    Ginny Weasley   1.0                NaN  Gryffindor  Current Student   \n",
       "\n",
       "   graduating_year  \n",
       "0             1989  \n",
       "1             1991  \n",
       "2             1994  \n",
       "3             1996  \n",
       "4             1996  \n",
       "5             1998  \n",
       "6             1999  "
      ]
     },
     "execution_count": 29,
     "metadata": {},
     "output_type": "execute_result"
    }
   ],
   "source": [
    "grad_years = ['1989', 1991.0, 1994.0, 1996, '1996', 1998, '1999']\n",
    "weasleys['graduating_year'] = grad_years\n",
    "weasleys['graduating_year'] = weasleys['graduating_year'].astype('int')\n",
    "weasleys"
   ]
  },
  {
   "cell_type": "markdown",
   "metadata": {
    "colab_type": "text",
    "id": "c3-5VjDJVAEh"
   },
   "source": [
    "## String processing"
   ]
  },
  {
   "cell_type": "markdown",
   "metadata": {},
   "source": [
    "Often, a dataset will contain string representations of data that could be really useful if you could find some way to extract it. \n",
    "\n",
    "<br> Let's start off with a dataframe"
   ]
  },
  {
   "cell_type": "code",
   "execution_count": 26,
   "metadata": {
    "colab": {
     "base_uri": "https://localhost:8080/",
     "height": 254
    },
    "colab_type": "code",
    "id": "Q2qbebpvVt1O",
    "outputId": "7eb64300-4c9a-49de-c86d-728954ddef6f"
   },
   "outputs": [
    {
     "data": {
      "text/html": [
       "<div>\n",
       "<style scoped>\n",
       "    .dataframe tbody tr th:only-of-type {\n",
       "        vertical-align: middle;\n",
       "    }\n",
       "\n",
       "    .dataframe tbody tr th {\n",
       "        vertical-align: top;\n",
       "    }\n",
       "\n",
       "    .dataframe thead th {\n",
       "        text-align: right;\n",
       "    }\n",
       "</style>\n",
       "<table border=\"1\" class=\"dataframe\">\n",
       "  <thead>\n",
       "    <tr style=\"text-align: right;\">\n",
       "      <th></th>\n",
       "      <th>player</th>\n",
       "      <th>role</th>\n",
       "    </tr>\n",
       "  </thead>\n",
       "  <tbody>\n",
       "    <tr>\n",
       "      <th>0</th>\n",
       "      <td>Oliver Wood</td>\n",
       "      <td>Keeper</td>\n",
       "    </tr>\n",
       "    <tr>\n",
       "      <th>1</th>\n",
       "      <td>Angelina Johnson</td>\n",
       "      <td>chaser</td>\n",
       "    </tr>\n",
       "    <tr>\n",
       "      <th>2</th>\n",
       "      <td>Katie Bell</td>\n",
       "      <td>Chaser</td>\n",
       "    </tr>\n",
       "    <tr>\n",
       "      <th>3</th>\n",
       "      <td>Alicia Spinnet</td>\n",
       "      <td>chaser</td>\n",
       "    </tr>\n",
       "    <tr>\n",
       "      <th>4</th>\n",
       "      <td>Fred Weasley</td>\n",
       "      <td>beater</td>\n",
       "    </tr>\n",
       "    <tr>\n",
       "      <th>5</th>\n",
       "      <td>George weasley</td>\n",
       "      <td>beater</td>\n",
       "    </tr>\n",
       "    <tr>\n",
       "      <th>6</th>\n",
       "      <td>Harry Potter</td>\n",
       "      <td>SeEKeR</td>\n",
       "    </tr>\n",
       "  </tbody>\n",
       "</table>\n",
       "</div>"
      ],
      "text/plain": [
       "             player    role\n",
       "0       Oliver Wood  Keeper\n",
       "1  Angelina Johnson  chaser\n",
       "2        Katie Bell  Chaser\n",
       "3    Alicia Spinnet  chaser\n",
       "4      Fred Weasley  beater\n",
       "5    George weasley  beater\n",
       "6      Harry Potter  SeEKeR"
      ]
     },
     "execution_count": 26,
     "metadata": {},
     "output_type": "execute_result"
    }
   ],
   "source": [
    "roster = ['Oliver Wood', 'Angelina Johnson', 'Katie Bell', 'Alicia Spinnet', 'Fred Weasley', 'George weasley', 'Harry Potter'] \n",
    "role = ['Keeper','chaser','Chaser','chaser','beater','beater','SeEKeR']\n",
    "\n",
    "quidditch = pd.DataFrame({'player':roster, 'role':role})\n",
    "quidditch"
   ]
  },
  {
   "cell_type": "markdown",
   "metadata": {},
   "source": [
    "It'd be great if we could work with just the first names of everyone. \n",
    "\n",
    "With normal python strings, this is pretty easy to do using the `.split()` function:"
   ]
  },
  {
   "cell_type": "code",
   "execution_count": 27,
   "metadata": {
    "tags": []
   },
   "outputs": [
    {
     "name": "stdout",
     "output_type": "stream",
     "text": [
      "Cedric Diggory\n",
      "['Cedric', 'Diggory']\n",
      "Cedric\n"
     ]
    }
   ],
   "source": [
    "name = 'Cedric Diggory'\n",
    "\n",
    "print(name)\n",
    "print(name.split())\n",
    "print(name.split()[0])"
   ]
  },
  {
   "cell_type": "markdown",
   "metadata": {},
   "source": [
    "Let's try using that to extract the first names from the column `player`"
   ]
  },
  {
   "cell_type": "code",
   "execution_count": 28,
   "metadata": {},
   "outputs": [
    {
     "ename": "AttributeError",
     "evalue": "'Series' object has no attribute 'split'",
     "output_type": "error",
     "traceback": [
      "\u001b[0;31m---------------------------------------------------------------------------\u001b[0m",
      "\u001b[0;31mAttributeError\u001b[0m                            Traceback (most recent call last)",
      "\u001b[0;32m<ipython-input-28-44fe98729def>\u001b[0m in \u001b[0;36m<module>\u001b[0;34m\u001b[0m\n\u001b[0;32m----> 1\u001b[0;31m \u001b[0mquidditch\u001b[0m\u001b[0;34m.\u001b[0m\u001b[0mplayer\u001b[0m\u001b[0;34m.\u001b[0m\u001b[0msplit\u001b[0m\u001b[0;34m(\u001b[0m\u001b[0;34m)\u001b[0m\u001b[0;34m\u001b[0m\u001b[0;34m\u001b[0m\u001b[0m\n\u001b[0m",
      "\u001b[0;32m~/opt/anaconda3/lib/python3.8/site-packages/pandas/core/generic.py\u001b[0m in \u001b[0;36m__getattr__\u001b[0;34m(self, name)\u001b[0m\n\u001b[1;32m   5463\u001b[0m             \u001b[0;32mif\u001b[0m \u001b[0mself\u001b[0m\u001b[0;34m.\u001b[0m\u001b[0m_info_axis\u001b[0m\u001b[0;34m.\u001b[0m\u001b[0m_can_hold_identifiers_and_holds_name\u001b[0m\u001b[0;34m(\u001b[0m\u001b[0mname\u001b[0m\u001b[0;34m)\u001b[0m\u001b[0;34m:\u001b[0m\u001b[0;34m\u001b[0m\u001b[0;34m\u001b[0m\u001b[0m\n\u001b[1;32m   5464\u001b[0m                 \u001b[0;32mreturn\u001b[0m \u001b[0mself\u001b[0m\u001b[0;34m[\u001b[0m\u001b[0mname\u001b[0m\u001b[0;34m]\u001b[0m\u001b[0;34m\u001b[0m\u001b[0;34m\u001b[0m\u001b[0m\n\u001b[0;32m-> 5465\u001b[0;31m             \u001b[0;32mreturn\u001b[0m \u001b[0mobject\u001b[0m\u001b[0;34m.\u001b[0m\u001b[0m__getattribute__\u001b[0m\u001b[0;34m(\u001b[0m\u001b[0mself\u001b[0m\u001b[0;34m,\u001b[0m \u001b[0mname\u001b[0m\u001b[0;34m)\u001b[0m\u001b[0;34m\u001b[0m\u001b[0;34m\u001b[0m\u001b[0m\n\u001b[0m\u001b[1;32m   5466\u001b[0m \u001b[0;34m\u001b[0m\u001b[0m\n\u001b[1;32m   5467\u001b[0m     \u001b[0;32mdef\u001b[0m \u001b[0m__setattr__\u001b[0m\u001b[0;34m(\u001b[0m\u001b[0mself\u001b[0m\u001b[0;34m,\u001b[0m \u001b[0mname\u001b[0m\u001b[0;34m:\u001b[0m \u001b[0mstr\u001b[0m\u001b[0;34m,\u001b[0m \u001b[0mvalue\u001b[0m\u001b[0;34m)\u001b[0m \u001b[0;34m->\u001b[0m \u001b[0;32mNone\u001b[0m\u001b[0;34m:\u001b[0m\u001b[0;34m\u001b[0m\u001b[0;34m\u001b[0m\u001b[0m\n",
      "\u001b[0;31mAttributeError\u001b[0m: 'Series' object has no attribute 'split'"
     ]
    }
   ],
   "source": [
    "quidditch.player.split()"
   ]
  },
  {
   "cell_type": "markdown",
   "metadata": {},
   "source": [
    "Looks like we got an error: We can't use `split()` on the series object directly.\n",
    "<br><br> Instead, we have to \"vectorize\" it using `.str`  first"
   ]
  },
  {
   "cell_type": "code",
   "execution_count": 30,
   "metadata": {},
   "outputs": [
    {
     "data": {
      "text/plain": [
       "0         [Oliver, Wood]\n",
       "1    [Angelina, Johnson]\n",
       "2          [Katie, Bell]\n",
       "3      [Alicia, Spinnet]\n",
       "4        [Fred, Weasley]\n",
       "5      [George, weasley]\n",
       "6        [Harry, Potter]\n",
       "Name: player, dtype: object"
      ]
     },
     "execution_count": 30,
     "metadata": {},
     "output_type": "execute_result"
    }
   ],
   "source": [
    "quidditch.player.str.split()"
   ]
  },
  {
   "cell_type": "markdown",
   "metadata": {},
   "source": [
    "The `.str` part is a pretty nifty tool when we wanna access special functions just to work with strings. We'll see this come up with special functions for dealing with time."
   ]
  },
  {
   "cell_type": "markdown",
   "metadata": {},
   "source": [
    "Before we move on, check out the object type of the output using `type()`"
   ]
  },
  {
   "cell_type": "code",
   "execution_count": 31,
   "metadata": {},
   "outputs": [
    {
     "data": {
      "text/plain": [
       "list"
      ]
     },
     "execution_count": 31,
     "metadata": {},
     "output_type": "execute_result"
    }
   ],
   "source": [
    "type(quidditch.player.str.split()[4])"
   ]
  },
  {
   "cell_type": "markdown",
   "metadata": {},
   "source": [
    "### Lambda apply functions"
   ]
  },
  {
   "cell_type": "markdown",
   "metadata": {},
   "source": [
    "Lambda apply functions are a pretty helpful tool for cleaning, here's one quick example"
   ]
  },
  {
   "cell_type": "code",
   "execution_count": 32,
   "metadata": {
    "colab": {
     "base_uri": "https://localhost:8080/",
     "height": 254
    },
    "colab_type": "code",
    "id": "5XDLNu5GZGMX",
    "outputId": "aba13270-bf6d-4e99-ccc3-29e341b6c9c7"
   },
   "outputs": [
    {
     "data": {
      "text/html": [
       "<div>\n",
       "<style scoped>\n",
       "    .dataframe tbody tr th:only-of-type {\n",
       "        vertical-align: middle;\n",
       "    }\n",
       "\n",
       "    .dataframe tbody tr th {\n",
       "        vertical-align: top;\n",
       "    }\n",
       "\n",
       "    .dataframe thead th {\n",
       "        text-align: right;\n",
       "    }\n",
       "</style>\n",
       "<table border=\"1\" class=\"dataframe\">\n",
       "  <thead>\n",
       "    <tr style=\"text-align: right;\">\n",
       "      <th></th>\n",
       "      <th>player</th>\n",
       "      <th>role</th>\n",
       "      <th>first_name</th>\n",
       "    </tr>\n",
       "  </thead>\n",
       "  <tbody>\n",
       "    <tr>\n",
       "      <th>0</th>\n",
       "      <td>Oliver Wood</td>\n",
       "      <td>Keeper</td>\n",
       "      <td>Oliver</td>\n",
       "    </tr>\n",
       "    <tr>\n",
       "      <th>1</th>\n",
       "      <td>Angelina Johnson</td>\n",
       "      <td>chaser</td>\n",
       "      <td>Angelina</td>\n",
       "    </tr>\n",
       "    <tr>\n",
       "      <th>2</th>\n",
       "      <td>Katie Bell</td>\n",
       "      <td>Chaser</td>\n",
       "      <td>Katie</td>\n",
       "    </tr>\n",
       "    <tr>\n",
       "      <th>3</th>\n",
       "      <td>Alicia Spinnet</td>\n",
       "      <td>chaser</td>\n",
       "      <td>Alicia</td>\n",
       "    </tr>\n",
       "    <tr>\n",
       "      <th>4</th>\n",
       "      <td>Fred Weasley</td>\n",
       "      <td>beater</td>\n",
       "      <td>Fred</td>\n",
       "    </tr>\n",
       "    <tr>\n",
       "      <th>5</th>\n",
       "      <td>George weasley</td>\n",
       "      <td>beater</td>\n",
       "      <td>George</td>\n",
       "    </tr>\n",
       "    <tr>\n",
       "      <th>6</th>\n",
       "      <td>Harry Potter</td>\n",
       "      <td>SeEKeR</td>\n",
       "      <td>Harry</td>\n",
       "    </tr>\n",
       "  </tbody>\n",
       "</table>\n",
       "</div>"
      ],
      "text/plain": [
       "             player    role first_name\n",
       "0       Oliver Wood  Keeper     Oliver\n",
       "1  Angelina Johnson  chaser   Angelina\n",
       "2        Katie Bell  Chaser      Katie\n",
       "3    Alicia Spinnet  chaser     Alicia\n",
       "4      Fred Weasley  beater       Fred\n",
       "5    George weasley  beater     George\n",
       "6      Harry Potter  SeEKeR      Harry"
      ]
     },
     "execution_count": 32,
     "metadata": {},
     "output_type": "execute_result"
    }
   ],
   "source": [
    "quidditch['first_name'] = quidditch.player.str.split().apply(lambda x: x[0])\n",
    "quidditch"
   ]
  },
  {
   "cell_type": "markdown",
   "metadata": {},
   "source": [
    "Quite literally, this reads: <br>\n",
    "\n",
    "For every element `x` in the series `quidditch.player`, take the first element of `x` and save it to a new column `first_name`\n",
    "<br> In other words, we are **apply**ing the *anonymous* function `x[0]` for every row in the series"
   ]
  },
  {
   "cell_type": "markdown",
   "metadata": {},
   "source": [
    "**Try it out!** Use lambda-apply to reverse the order of letters in the `role` column\n",
    "<br>Hint: To reverse a string in python, use `[::-1]`"
   ]
  },
  {
   "cell_type": "code",
   "execution_count": 33,
   "metadata": {},
   "outputs": [
    {
     "data": {
      "text/html": [
       "<div>\n",
       "<style scoped>\n",
       "    .dataframe tbody tr th:only-of-type {\n",
       "        vertical-align: middle;\n",
       "    }\n",
       "\n",
       "    .dataframe tbody tr th {\n",
       "        vertical-align: top;\n",
       "    }\n",
       "\n",
       "    .dataframe thead th {\n",
       "        text-align: right;\n",
       "    }\n",
       "</style>\n",
       "<table border=\"1\" class=\"dataframe\">\n",
       "  <thead>\n",
       "    <tr style=\"text-align: right;\">\n",
       "      <th></th>\n",
       "      <th>player</th>\n",
       "      <th>role</th>\n",
       "      <th>first_name</th>\n",
       "      <th>role_reversed</th>\n",
       "    </tr>\n",
       "  </thead>\n",
       "  <tbody>\n",
       "    <tr>\n",
       "      <th>0</th>\n",
       "      <td>Oliver Wood</td>\n",
       "      <td>Keeper</td>\n",
       "      <td>Oliver</td>\n",
       "      <td>repeeK</td>\n",
       "    </tr>\n",
       "    <tr>\n",
       "      <th>1</th>\n",
       "      <td>Angelina Johnson</td>\n",
       "      <td>chaser</td>\n",
       "      <td>Angelina</td>\n",
       "      <td>resahc</td>\n",
       "    </tr>\n",
       "    <tr>\n",
       "      <th>2</th>\n",
       "      <td>Katie Bell</td>\n",
       "      <td>Chaser</td>\n",
       "      <td>Katie</td>\n",
       "      <td>resahC</td>\n",
       "    </tr>\n",
       "    <tr>\n",
       "      <th>3</th>\n",
       "      <td>Alicia Spinnet</td>\n",
       "      <td>chaser</td>\n",
       "      <td>Alicia</td>\n",
       "      <td>resahc</td>\n",
       "    </tr>\n",
       "    <tr>\n",
       "      <th>4</th>\n",
       "      <td>Fred Weasley</td>\n",
       "      <td>beater</td>\n",
       "      <td>Fred</td>\n",
       "      <td>retaeb</td>\n",
       "    </tr>\n",
       "    <tr>\n",
       "      <th>5</th>\n",
       "      <td>George weasley</td>\n",
       "      <td>beater</td>\n",
       "      <td>George</td>\n",
       "      <td>retaeb</td>\n",
       "    </tr>\n",
       "    <tr>\n",
       "      <th>6</th>\n",
       "      <td>Harry Potter</td>\n",
       "      <td>SeEKeR</td>\n",
       "      <td>Harry</td>\n",
       "      <td>ReKEeS</td>\n",
       "    </tr>\n",
       "  </tbody>\n",
       "</table>\n",
       "</div>"
      ],
      "text/plain": [
       "             player    role first_name role_reversed\n",
       "0       Oliver Wood  Keeper     Oliver        repeeK\n",
       "1  Angelina Johnson  chaser   Angelina        resahc\n",
       "2        Katie Bell  Chaser      Katie        resahC\n",
       "3    Alicia Spinnet  chaser     Alicia        resahc\n",
       "4      Fred Weasley  beater       Fred        retaeb\n",
       "5    George weasley  beater     George        retaeb\n",
       "6      Harry Potter  SeEKeR      Harry        ReKEeS"
      ]
     },
     "execution_count": 33,
     "metadata": {},
     "output_type": "execute_result"
    }
   ],
   "source": [
    "quidditch['role_reversed'] = quidditch.role.apply(lambda x: x[::-1])\n",
    "quidditch"
   ]
  },
  {
   "cell_type": "markdown",
   "metadata": {
    "colab_type": "text",
    "id": "LBHvHSq-ffJV"
   },
   "source": [
    "### Changing capitalization to better process text"
   ]
  },
  {
   "cell_type": "markdown",
   "metadata": {
    "colab_type": "text",
    "id": "C-zZWyOeZeiX"
   },
   "source": [
    "Let's look at how many players are in each role"
   ]
  },
  {
   "cell_type": "code",
   "execution_count": 34,
   "metadata": {
    "colab": {
     "base_uri": "https://localhost:8080/",
     "height": 157
    },
    "colab_type": "code",
    "id": "KsydOE3wZcKb",
    "outputId": "2a155dd5-e1d1-4958-c7d6-1f342c616ee5"
   },
   "outputs": [
    {
     "data": {
      "text/plain": [
       "chaser    2\n",
       "beater    2\n",
       "Chaser    1\n",
       "SeEKeR    1\n",
       "Keeper    1\n",
       "Name: role, dtype: int64"
      ]
     },
     "execution_count": 34,
     "metadata": {},
     "output_type": "execute_result"
    }
   ],
   "source": [
    "quidditch.role.value_counts()"
   ]
  },
  {
   "cell_type": "markdown",
   "metadata": {
    "colab_type": "text",
    "id": "Z9Ya3qe1Zr3H"
   },
   "source": [
    "`chaser` and `Chaser` should be the same role, but because of a mismatch in cases, we're getting unique results.\n",
    "\n",
    "<br>An easy way to solve this is by converting all the text to a uniform case"
   ]
  },
  {
   "cell_type": "code",
   "execution_count": 35,
   "metadata": {
    "colab": {
     "base_uri": "https://localhost:8080/",
     "height": 34
    },
    "colab_type": "code",
    "id": "mX_RYVX2hhc4",
    "outputId": "d7d11ad2-23db-4ca6-a517-b572bbc95086",
    "tags": []
   },
   "outputs": [
    {
     "name": "stdout",
     "output_type": "stream",
     "text": [
      "CHo chaNg\n",
      "cho chang\n"
     ]
    }
   ],
   "source": [
    "name = 'CHo chaNg'\n",
    "print(name)\n",
    "print(name.lower())"
   ]
  },
  {
   "cell_type": "code",
   "execution_count": 36,
   "metadata": {
    "colab": {
     "base_uri": "https://localhost:8080/",
     "height": 266
    },
    "colab_type": "code",
    "id": "BhRjZx0wZqZ-",
    "outputId": "e9ff5b9d-f7a2-4438-d748-706a81e8b033"
   },
   "outputs": [
    {
     "data": {
      "text/html": [
       "<div>\n",
       "<style scoped>\n",
       "    .dataframe tbody tr th:only-of-type {\n",
       "        vertical-align: middle;\n",
       "    }\n",
       "\n",
       "    .dataframe tbody tr th {\n",
       "        vertical-align: top;\n",
       "    }\n",
       "\n",
       "    .dataframe thead th {\n",
       "        text-align: right;\n",
       "    }\n",
       "</style>\n",
       "<table border=\"1\" class=\"dataframe\">\n",
       "  <thead>\n",
       "    <tr style=\"text-align: right;\">\n",
       "      <th></th>\n",
       "      <th>player</th>\n",
       "      <th>role</th>\n",
       "      <th>first_name</th>\n",
       "      <th>role_reversed</th>\n",
       "    </tr>\n",
       "  </thead>\n",
       "  <tbody>\n",
       "    <tr>\n",
       "      <th>0</th>\n",
       "      <td>Oliver Wood</td>\n",
       "      <td>Keeper</td>\n",
       "      <td>Oliver</td>\n",
       "      <td>repeeK</td>\n",
       "    </tr>\n",
       "    <tr>\n",
       "      <th>1</th>\n",
       "      <td>Angelina Johnson</td>\n",
       "      <td>Chaser</td>\n",
       "      <td>Angelina</td>\n",
       "      <td>resahc</td>\n",
       "    </tr>\n",
       "    <tr>\n",
       "      <th>2</th>\n",
       "      <td>Katie Bell</td>\n",
       "      <td>Chaser</td>\n",
       "      <td>Katie</td>\n",
       "      <td>resahC</td>\n",
       "    </tr>\n",
       "    <tr>\n",
       "      <th>3</th>\n",
       "      <td>Alicia Spinnet</td>\n",
       "      <td>Chaser</td>\n",
       "      <td>Alicia</td>\n",
       "      <td>resahc</td>\n",
       "    </tr>\n",
       "    <tr>\n",
       "      <th>4</th>\n",
       "      <td>Fred Weasley</td>\n",
       "      <td>Beater</td>\n",
       "      <td>Fred</td>\n",
       "      <td>retaeb</td>\n",
       "    </tr>\n",
       "    <tr>\n",
       "      <th>5</th>\n",
       "      <td>George weasley</td>\n",
       "      <td>Beater</td>\n",
       "      <td>George</td>\n",
       "      <td>retaeb</td>\n",
       "    </tr>\n",
       "    <tr>\n",
       "      <th>6</th>\n",
       "      <td>Harry Potter</td>\n",
       "      <td>Seeker</td>\n",
       "      <td>Harry</td>\n",
       "      <td>ReKEeS</td>\n",
       "    </tr>\n",
       "  </tbody>\n",
       "</table>\n",
       "</div>"
      ],
      "text/plain": [
       "             player    role first_name role_reversed\n",
       "0       Oliver Wood  Keeper     Oliver        repeeK\n",
       "1  Angelina Johnson  Chaser   Angelina        resahc\n",
       "2        Katie Bell  Chaser      Katie        resahC\n",
       "3    Alicia Spinnet  Chaser     Alicia        resahc\n",
       "4      Fred Weasley  Beater       Fred        retaeb\n",
       "5    George weasley  Beater     George        retaeb\n",
       "6      Harry Potter  Seeker      Harry        ReKEeS"
      ]
     },
     "execution_count": 36,
     "metadata": {},
     "output_type": "execute_result"
    }
   ],
   "source": [
    "quidditch['role'] = quidditch['role'].str.capitalize()\n",
    "quidditch"
   ]
  },
  {
   "cell_type": "code",
   "execution_count": 37,
   "metadata": {
    "colab": {
     "base_uri": "https://localhost:8080/",
     "height": 122
    },
    "colab_type": "code",
    "id": "N4spl4vohrwJ",
    "outputId": "0447556d-6409-458c-c877-1ff1641eb0c8"
   },
   "outputs": [
    {
     "data": {
      "text/plain": [
       "Chaser    3\n",
       "Beater    2\n",
       "Seeker    1\n",
       "Keeper    1\n",
       "Name: role, dtype: int64"
      ]
     },
     "execution_count": 37,
     "metadata": {},
     "output_type": "execute_result"
    }
   ],
   "source": [
    "quidditch.role.value_counts()"
   ]
  },
  {
   "cell_type": "markdown",
   "metadata": {
    "colab_type": "text",
    "id": "k1lNO8tNaKAl"
   },
   "source": [
    "**Try it out**: How many Weasleys are on the team?\n",
    "\n",
    "Hint: (1) Either standardize the case and use the `.str.contains()` method <br> OR (2) Standardize the case, pull the last name, then use `.value_counts()`"
   ]
  },
  {
   "cell_type": "code",
   "execution_count": 38,
   "metadata": {
    "colab": {
     "base_uri": "https://localhost:8080/",
     "height": 34
    },
    "colab_type": "code",
    "id": "E7R8Rj-Zaa_d",
    "outputId": "4ff23b5d-e542-47e4-a19f-a097199ad777"
   },
   "outputs": [
    {
     "data": {
      "text/plain": [
       "2"
      ]
     },
     "execution_count": 38,
     "metadata": {},
     "output_type": "execute_result"
    }
   ],
   "source": [
    "quidditch.player.str.lower().str.contains('weasley').sum()"
   ]
  },
  {
   "cell_type": "markdown",
   "metadata": {
    "colab_type": "text",
    "id": "OQPv5pWL2uVQ"
   },
   "source": [
    "# Date & Time processing"
   ]
  },
  {
   "cell_type": "code",
   "execution_count": 39,
   "metadata": {
    "colab": {
     "base_uri": "https://localhost:8080/",
     "height": 204
    },
    "colab_type": "code",
    "id": "vgVMzd6p244m",
    "outputId": "e1e7fb28-634d-49d4-8aa2-acf979f81c02"
   },
   "outputs": [
    {
     "data": {
      "text/html": [
       "<div>\n",
       "<style scoped>\n",
       "    .dataframe tbody tr th:only-of-type {\n",
       "        vertical-align: middle;\n",
       "    }\n",
       "\n",
       "    .dataframe tbody tr th {\n",
       "        vertical-align: top;\n",
       "    }\n",
       "\n",
       "    .dataframe thead th {\n",
       "        text-align: right;\n",
       "    }\n",
       "</style>\n",
       "<table border=\"1\" class=\"dataframe\">\n",
       "  <thead>\n",
       "    <tr style=\"text-align: right;\">\n",
       "      <th></th>\n",
       "      <th>person</th>\n",
       "      <th>birthday</th>\n",
       "    </tr>\n",
       "  </thead>\n",
       "  <tbody>\n",
       "    <tr>\n",
       "      <th>0</th>\n",
       "      <td>Harry</td>\n",
       "      <td>July 31st, 1980</td>\n",
       "    </tr>\n",
       "    <tr>\n",
       "      <th>1</th>\n",
       "      <td>Hermoine</td>\n",
       "      <td>9-19-1979</td>\n",
       "    </tr>\n",
       "    <tr>\n",
       "      <th>2</th>\n",
       "      <td>Ron</td>\n",
       "      <td>1980 Mar 1</td>\n",
       "    </tr>\n",
       "    <tr>\n",
       "      <th>3</th>\n",
       "      <td>Voldy</td>\n",
       "      <td>12//31// //1926</td>\n",
       "    </tr>\n",
       "  </tbody>\n",
       "</table>\n",
       "</div>"
      ],
      "text/plain": [
       "     person         birthday\n",
       "0     Harry  July 31st, 1980\n",
       "1  Hermoine        9-19-1979\n",
       "2       Ron       1980 Mar 1\n",
       "3     Voldy  12//31// //1926"
      ]
     },
     "execution_count": 39,
     "metadata": {},
     "output_type": "execute_result"
    }
   ],
   "source": [
    "person = ['Harry', 'Hermoine', 'Ron', 'Voldy']\n",
    "birthdays = ['July 31st, 1980', '9-19-1979', '1980 Mar 1', '12//31// //1926']\n",
    "\n",
    "bdays = pd.DataFrame({'person': person, 'birthday': birthdays})\n",
    "bdays"
   ]
  },
  {
   "cell_type": "markdown",
   "metadata": {},
   "source": [
    "Yikes! Let's see if we can clean up the time series data using `pd.to_datetime`"
   ]
  },
  {
   "cell_type": "code",
   "execution_count": 40,
   "metadata": {
    "colab": {
     "base_uri": "https://localhost:8080/",
     "height": 204
    },
    "colab_type": "code",
    "id": "OFQhAGsF4bRo",
    "outputId": "0c294053-2992-413c-bc01-31ad0ef4bc7c"
   },
   "outputs": [
    {
     "data": {
      "text/html": [
       "<div>\n",
       "<style scoped>\n",
       "    .dataframe tbody tr th:only-of-type {\n",
       "        vertical-align: middle;\n",
       "    }\n",
       "\n",
       "    .dataframe tbody tr th {\n",
       "        vertical-align: top;\n",
       "    }\n",
       "\n",
       "    .dataframe thead th {\n",
       "        text-align: right;\n",
       "    }\n",
       "</style>\n",
       "<table border=\"1\" class=\"dataframe\">\n",
       "  <thead>\n",
       "    <tr style=\"text-align: right;\">\n",
       "      <th></th>\n",
       "      <th>person</th>\n",
       "      <th>birthday</th>\n",
       "    </tr>\n",
       "  </thead>\n",
       "  <tbody>\n",
       "    <tr>\n",
       "      <th>0</th>\n",
       "      <td>Harry</td>\n",
       "      <td>1980-07-31</td>\n",
       "    </tr>\n",
       "    <tr>\n",
       "      <th>1</th>\n",
       "      <td>Hermoine</td>\n",
       "      <td>1979-09-19</td>\n",
       "    </tr>\n",
       "    <tr>\n",
       "      <th>2</th>\n",
       "      <td>Ron</td>\n",
       "      <td>1980-03-01</td>\n",
       "    </tr>\n",
       "    <tr>\n",
       "      <th>3</th>\n",
       "      <td>Voldy</td>\n",
       "      <td>1926-12-31</td>\n",
       "    </tr>\n",
       "  </tbody>\n",
       "</table>\n",
       "</div>"
      ],
      "text/plain": [
       "     person   birthday\n",
       "0     Harry 1980-07-31\n",
       "1  Hermoine 1979-09-19\n",
       "2       Ron 1980-03-01\n",
       "3     Voldy 1926-12-31"
      ]
     },
     "execution_count": 40,
     "metadata": {},
     "output_type": "execute_result"
    }
   ],
   "source": [
    "bdays['birthday'] = pd.to_datetime(bdays['birthday'])\n",
    "bdays"
   ]
  },
  {
   "cell_type": "markdown",
   "metadata": {},
   "source": [
    "As you can see, `pd.to_datetime` is pretty powerful. In can read in quite a few time formats as strings, then convert them into a `Timestamp` series"
   ]
  },
  {
   "cell_type": "code",
   "execution_count": 41,
   "metadata": {
    "colab": {
     "base_uri": "https://localhost:8080/",
     "height": 34
    },
    "colab_type": "code",
    "id": "5lH-zAhS55C3",
    "outputId": "53746eda-8aa9-4a7e-abaa-2ff0603d63c2"
   },
   "outputs": [
    {
     "data": {
      "text/plain": [
       "pandas._libs.tslibs.timestamps.Timestamp"
      ]
     },
     "execution_count": 41,
     "metadata": {},
     "output_type": "execute_result"
    }
   ],
   "source": [
    "type(bdays.birthday[0])"
   ]
  },
  {
   "cell_type": "markdown",
   "metadata": {
    "colab_type": "text",
    "id": "1F8jWn9e71Qk"
   },
   "source": [
    "### Using pandas datetime objects"
   ]
  },
  {
   "cell_type": "markdown",
   "metadata": {},
   "source": [
    "We can pull quite a lot just from a datetime timestamp using attributes"
   ]
  },
  {
   "cell_type": "code",
   "execution_count": 42,
   "metadata": {
    "colab": {
     "base_uri": "https://localhost:8080/",
     "height": 52
    },
    "colab_type": "code",
    "id": "nkiii3x670ky",
    "outputId": "299d3d08-04bb-4a55-efbd-c7d68a4c447c",
    "tags": []
   },
   "outputs": [
    {
     "name": "stdout",
     "output_type": "stream",
     "text": [
      "1980-07-31 00:00:00\n"
     ]
    }
   ],
   "source": [
    "harry_bday = bdays.at[0, 'birthday'] # Taking the value for harry's bday\n",
    "print(harry_bday) # the raw timestamp"
   ]
  },
  {
   "cell_type": "code",
   "execution_count": 43,
   "metadata": {},
   "outputs": [
    {
     "data": {
      "text/plain": [
       "7"
      ]
     },
     "execution_count": 43,
     "metadata": {},
     "output_type": "execute_result"
    }
   ],
   "source": [
    "harry_bday.month # The month, encoded as an int"
   ]
  },
  {
   "cell_type": "markdown",
   "metadata": {},
   "source": [
    "**Try it out**: Is Harry's birthday a leap year?\n",
    "\n",
    "Hint: Use the `.is_leap_year` method"
   ]
  },
  {
   "cell_type": "markdown",
   "metadata": {
    "colab_type": "text",
    "id": "tdlJ9EKJ-mqX"
   },
   "source": [
    "### Make new columns from these datetime attributes "
   ]
  },
  {
   "cell_type": "markdown",
   "metadata": {},
   "source": [
    "Let's use this to make new columns that reflect these attributes.\n",
    "\n",
    "We'll use the `.dt` accessor object to snag the month for each row, just like we did with `.str`"
   ]
  },
  {
   "cell_type": "code",
   "execution_count": 44,
   "metadata": {},
   "outputs": [
    {
     "data": {
      "text/html": [
       "<div>\n",
       "<style scoped>\n",
       "    .dataframe tbody tr th:only-of-type {\n",
       "        vertical-align: middle;\n",
       "    }\n",
       "\n",
       "    .dataframe tbody tr th {\n",
       "        vertical-align: top;\n",
       "    }\n",
       "\n",
       "    .dataframe thead th {\n",
       "        text-align: right;\n",
       "    }\n",
       "</style>\n",
       "<table border=\"1\" class=\"dataframe\">\n",
       "  <thead>\n",
       "    <tr style=\"text-align: right;\">\n",
       "      <th></th>\n",
       "      <th>person</th>\n",
       "      <th>birthday</th>\n",
       "      <th>month</th>\n",
       "    </tr>\n",
       "  </thead>\n",
       "  <tbody>\n",
       "    <tr>\n",
       "      <th>0</th>\n",
       "      <td>Harry</td>\n",
       "      <td>1980-07-31</td>\n",
       "      <td>July</td>\n",
       "    </tr>\n",
       "    <tr>\n",
       "      <th>1</th>\n",
       "      <td>Hermoine</td>\n",
       "      <td>1979-09-19</td>\n",
       "      <td>September</td>\n",
       "    </tr>\n",
       "    <tr>\n",
       "      <th>2</th>\n",
       "      <td>Ron</td>\n",
       "      <td>1980-03-01</td>\n",
       "      <td>March</td>\n",
       "    </tr>\n",
       "    <tr>\n",
       "      <th>3</th>\n",
       "      <td>Voldy</td>\n",
       "      <td>1926-12-31</td>\n",
       "      <td>December</td>\n",
       "    </tr>\n",
       "  </tbody>\n",
       "</table>\n",
       "</div>"
      ],
      "text/plain": [
       "     person   birthday      month\n",
       "0     Harry 1980-07-31       July\n",
       "1  Hermoine 1979-09-19  September\n",
       "2       Ron 1980-03-01      March\n",
       "3     Voldy 1926-12-31   December"
      ]
     },
     "execution_count": 44,
     "metadata": {},
     "output_type": "execute_result"
    }
   ],
   "source": [
    "bdays['month'] = bdays.birthday.dt.month_name()\n",
    "bdays"
   ]
  },
  {
   "cell_type": "markdown",
   "metadata": {},
   "source": [
    "Try it out with the some other columns"
   ]
  },
  {
   "cell_type": "code",
   "execution_count": 45,
   "metadata": {
    "colab": {
     "base_uri": "https://localhost:8080/",
     "height": 204
    },
    "colab_type": "code",
    "id": "rbQ6yslZ-twH",
    "outputId": "b185a3c4-9bca-4759-8388-80ad704240b5"
   },
   "outputs": [
    {
     "data": {
      "text/html": [
       "<div>\n",
       "<style scoped>\n",
       "    .dataframe tbody tr th:only-of-type {\n",
       "        vertical-align: middle;\n",
       "    }\n",
       "\n",
       "    .dataframe tbody tr th {\n",
       "        vertical-align: top;\n",
       "    }\n",
       "\n",
       "    .dataframe thead th {\n",
       "        text-align: right;\n",
       "    }\n",
       "</style>\n",
       "<table border=\"1\" class=\"dataframe\">\n",
       "  <thead>\n",
       "    <tr style=\"text-align: right;\">\n",
       "      <th></th>\n",
       "      <th>person</th>\n",
       "      <th>birthday</th>\n",
       "      <th>month</th>\n",
       "      <th>is_leap</th>\n",
       "      <th>day</th>\n",
       "    </tr>\n",
       "  </thead>\n",
       "  <tbody>\n",
       "    <tr>\n",
       "      <th>0</th>\n",
       "      <td>Harry</td>\n",
       "      <td>1980-07-31</td>\n",
       "      <td>July</td>\n",
       "      <td>True</td>\n",
       "      <td>3</td>\n",
       "    </tr>\n",
       "    <tr>\n",
       "      <th>1</th>\n",
       "      <td>Hermoine</td>\n",
       "      <td>1979-09-19</td>\n",
       "      <td>September</td>\n",
       "      <td>False</td>\n",
       "      <td>2</td>\n",
       "    </tr>\n",
       "    <tr>\n",
       "      <th>2</th>\n",
       "      <td>Ron</td>\n",
       "      <td>1980-03-01</td>\n",
       "      <td>March</td>\n",
       "      <td>True</td>\n",
       "      <td>5</td>\n",
       "    </tr>\n",
       "    <tr>\n",
       "      <th>3</th>\n",
       "      <td>Voldy</td>\n",
       "      <td>1926-12-31</td>\n",
       "      <td>December</td>\n",
       "      <td>False</td>\n",
       "      <td>4</td>\n",
       "    </tr>\n",
       "  </tbody>\n",
       "</table>\n",
       "</div>"
      ],
      "text/plain": [
       "     person   birthday      month  is_leap  day\n",
       "0     Harry 1980-07-31       July     True    3\n",
       "1  Hermoine 1979-09-19  September    False    2\n",
       "2       Ron 1980-03-01      March     True    5\n",
       "3     Voldy 1926-12-31   December    False    4"
      ]
     },
     "execution_count": 45,
     "metadata": {},
     "output_type": "execute_result"
    }
   ],
   "source": [
    "bdays['is_leap'] = bdays.birthday.dt.is_leap_year\n",
    "bdays['day'] = bdays.birthday.dt.dayofweek\n",
    "bdays"
   ]
  },
  {
   "cell_type": "markdown",
   "metadata": {
    "colab_type": "text",
    "id": "FHR4kVWD_ueW"
   },
   "source": [
    "### Other uses for datetimes"
   ]
  },
  {
   "cell_type": "markdown",
   "metadata": {},
   "source": [
    "Which people were born before the First Wizarding War (January 1970)?\n",
    "\n",
    "To this, we'll have to convert Jan 1970 into a datetime object to allow for comparison"
   ]
  },
  {
   "cell_type": "code",
   "execution_count": 46,
   "metadata": {},
   "outputs": [
    {
     "data": {
      "text/html": [
       "<div>\n",
       "<style scoped>\n",
       "    .dataframe tbody tr th:only-of-type {\n",
       "        vertical-align: middle;\n",
       "    }\n",
       "\n",
       "    .dataframe tbody tr th {\n",
       "        vertical-align: top;\n",
       "    }\n",
       "\n",
       "    .dataframe thead th {\n",
       "        text-align: right;\n",
       "    }\n",
       "</style>\n",
       "<table border=\"1\" class=\"dataframe\">\n",
       "  <thead>\n",
       "    <tr style=\"text-align: right;\">\n",
       "      <th></th>\n",
       "      <th>person</th>\n",
       "      <th>birthday</th>\n",
       "      <th>month</th>\n",
       "      <th>is_leap</th>\n",
       "      <th>day</th>\n",
       "    </tr>\n",
       "  </thead>\n",
       "  <tbody>\n",
       "    <tr>\n",
       "      <th>3</th>\n",
       "      <td>Voldy</td>\n",
       "      <td>1926-12-31</td>\n",
       "      <td>December</td>\n",
       "      <td>False</td>\n",
       "      <td>4</td>\n",
       "    </tr>\n",
       "  </tbody>\n",
       "</table>\n",
       "</div>"
      ],
      "text/plain": [
       "  person   birthday     month  is_leap  day\n",
       "3  Voldy 1926-12-31  December    False    4"
      ]
     },
     "execution_count": 46,
     "metadata": {},
     "output_type": "execute_result"
    }
   ],
   "source": [
    "bdays[bdays.birthday < pd.to_datetime('January 1970')]"
   ]
  },
  {
   "cell_type": "markdown",
   "metadata": {
    "colab_type": "text",
    "id": "qmDDHpel_4zz"
   },
   "source": [
    "We can also do some quick maths quite easily:\n",
    "\n",
    "For example, how much older is Hermione than Ron?"
   ]
  },
  {
   "cell_type": "code",
   "execution_count": 47,
   "metadata": {
    "colab": {
     "base_uri": "https://localhost:8080/",
     "height": 34
    },
    "colab_type": "code",
    "id": "j0Eaw-A8_r90",
    "outputId": "a4b3e810-41a7-489f-dc1c-386d9db6abf8",
    "tags": []
   },
   "outputs": [
    {
     "name": "stdout",
     "output_type": "stream",
     "text": [
      "164 days 00:00:00\n",
      "<class 'pandas._libs.tslibs.timedeltas.Timedelta'>\n"
     ]
    }
   ],
   "source": [
    "diff = bdays.birthday[2] - bdays.birthday[1]\n",
    "\n",
    "print(diff)\n",
    "print(type(diff))"
   ]
  },
  {
   "cell_type": "markdown",
   "metadata": {},
   "source": [
    "Note: this returns a `Timedelta` object, not `Timestamp`. We can get similar attributes"
   ]
  },
  {
   "cell_type": "code",
   "execution_count": 48,
   "metadata": {
    "colab": {
     "base_uri": "https://localhost:8080/",
     "height": 34
    },
    "colab_type": "code",
    "id": "Mx-nHvg1AHlb",
    "outputId": "97a63d40-a299-4a6e-e7da-5ca0b27d38ee"
   },
   "outputs": [
    {
     "data": {
      "text/plain": [
       "164"
      ]
     },
     "execution_count": 48,
     "metadata": {},
     "output_type": "execute_result"
    }
   ],
   "source": [
    "diff.days"
   ]
  },
  {
   "cell_type": "markdown",
   "metadata": {
    "colab_type": "text",
    "id": "rTjVkD3SBtiH"
   },
   "source": [
    "### How do we apply this?"
   ]
  },
  {
   "cell_type": "markdown",
   "metadata": {
    "colab_type": "text",
    "id": "P9ga0V-uBwrd"
   },
   "source": [
    "When you get data that includes time as a variable, it'll be in one of many possible formats, and not always consistent throughout the whole dataset. \n",
    "\n",
    "\n",
    "`pd.to_datetime` makes the process of cleaning these incredibly easy!\n",
    "\n",
    "Once cleaned, we can look at specific attributes such as month, day, and year **to gain insight we wouldn't otherwise have been able to access.**"
   ]
  },
  {
   "cell_type": "markdown",
   "metadata": {},
   "source": [
    "There's a lot, lot more you can do with pandas datetimes - use business days, adjust for time zones - just about anything you'd imagine.\n",
    "\n",
    "The docs for all of that is linked here: https://pandas.pydata.org/pandas-docs/stable/user_guide/timeseries.html#overview"
   ]
  },
  {
   "cell_type": "markdown",
   "metadata": {
    "colab_type": "text",
    "id": "mlP9d2-H54L9"
   },
   "source": [
    "# Merging DataFrames"
   ]
  },
  {
   "cell_type": "markdown",
   "metadata": {},
   "source": [
    "Merging sources of data is super important:\n",
    "    \n",
    "<br> Sometimes you have data from two different sources that you'd like to have in one data frame to analyze. We can do that with `.concat()` and `.merge()`"
   ]
  },
  {
   "cell_type": "code",
   "execution_count": 49,
   "metadata": {},
   "outputs": [
    {
     "data": {
      "text/html": [
       "<div>\n",
       "<style scoped>\n",
       "    .dataframe tbody tr th:only-of-type {\n",
       "        vertical-align: middle;\n",
       "    }\n",
       "\n",
       "    .dataframe tbody tr th {\n",
       "        vertical-align: top;\n",
       "    }\n",
       "\n",
       "    .dataframe thead th {\n",
       "        text-align: right;\n",
       "    }\n",
       "</style>\n",
       "<table border=\"1\" class=\"dataframe\">\n",
       "  <thead>\n",
       "    <tr style=\"text-align: right;\">\n",
       "      <th></th>\n",
       "      <th>Spell</th>\n",
       "      <th>Incantation</th>\n",
       "    </tr>\n",
       "  </thead>\n",
       "  <tbody>\n",
       "    <tr>\n",
       "      <th>0</th>\n",
       "      <td>Summoning Charm</td>\n",
       "      <td>Accio</td>\n",
       "    </tr>\n",
       "    <tr>\n",
       "      <th>1</th>\n",
       "      <td>Patronus Charm</td>\n",
       "      <td>Excpecto Patronum</td>\n",
       "    </tr>\n",
       "    <tr>\n",
       "      <th>2</th>\n",
       "      <td>Disarming Charm</td>\n",
       "      <td>Expelliarmus</td>\n",
       "    </tr>\n",
       "    <tr>\n",
       "      <th>3</th>\n",
       "      <td>Killing Curse</td>\n",
       "      <td>Avada Kedavra</td>\n",
       "    </tr>\n",
       "    <tr>\n",
       "      <th>4</th>\n",
       "      <td>Cruciatus Curse</td>\n",
       "      <td>Crucio</td>\n",
       "    </tr>\n",
       "    <tr>\n",
       "      <th>5</th>\n",
       "      <td>Impediment Jinx</td>\n",
       "      <td>Impedimenta</td>\n",
       "    </tr>\n",
       "    <tr>\n",
       "      <th>6</th>\n",
       "      <td>Dark Mark</td>\n",
       "      <td>Morsmordre</td>\n",
       "    </tr>\n",
       "  </tbody>\n",
       "</table>\n",
       "</div>"
      ],
      "text/plain": [
       "             Spell        Incantation\n",
       "0  Summoning Charm              Accio\n",
       "1   Patronus Charm  Excpecto Patronum\n",
       "2  Disarming Charm       Expelliarmus\n",
       "3    Killing Curse      Avada Kedavra\n",
       "4  Cruciatus Curse             Crucio\n",
       "5  Impediment Jinx        Impedimenta\n",
       "6        Dark Mark         Morsmordre"
      ]
     },
     "execution_count": 49,
     "metadata": {},
     "output_type": "execute_result"
    }
   ],
   "source": [
    "spells = ['Summoning Charm', 'Patronus Charm', 'Disarming Charm', 'Killing Curse', 'Cruciatus Curse', 'Impediment Jinx', 'Dark Mark']\n",
    "incantations = ['Accio', 'Excpecto Patronum', 'Expelliarmus', 'Avada Kedavra', 'Crucio', 'Impedimenta', 'Morsmordre']\n",
    "\n",
    "incantations_df = pd.DataFrame({'Spell': spells, 'Incantation': incantations})\n",
    "incantations_df"
   ]
  },
  {
   "cell_type": "code",
   "execution_count": 50,
   "metadata": {},
   "outputs": [
    {
     "data": {
      "text/html": [
       "<div>\n",
       "<style scoped>\n",
       "    .dataframe tbody tr th:only-of-type {\n",
       "        vertical-align: middle;\n",
       "    }\n",
       "\n",
       "    .dataframe tbody tr th {\n",
       "        vertical-align: top;\n",
       "    }\n",
       "\n",
       "    .dataframe thead th {\n",
       "        text-align: right;\n",
       "    }\n",
       "</style>\n",
       "<table border=\"1\" class=\"dataframe\">\n",
       "  <thead>\n",
       "    <tr style=\"text-align: right;\">\n",
       "      <th></th>\n",
       "      <th>Spell</th>\n",
       "      <th>Effect</th>\n",
       "    </tr>\n",
       "  </thead>\n",
       "  <tbody>\n",
       "    <tr>\n",
       "      <th>0</th>\n",
       "      <td>Summoning Charm</td>\n",
       "      <td>Summons an Object</td>\n",
       "    </tr>\n",
       "    <tr>\n",
       "      <th>1</th>\n",
       "      <td>Patronus Charm</td>\n",
       "      <td>Spirit to Guard Against Dementors</td>\n",
       "    </tr>\n",
       "    <tr>\n",
       "      <th>2</th>\n",
       "      <td>Disarming Charm</td>\n",
       "      <td>Disarms an Opponent</td>\n",
       "    </tr>\n",
       "    <tr>\n",
       "      <th>3</th>\n",
       "      <td>Killing Curse</td>\n",
       "      <td>Instantaneous Death</td>\n",
       "    </tr>\n",
       "    <tr>\n",
       "      <th>4</th>\n",
       "      <td>Cruciatus Curse</td>\n",
       "      <td>Excruciating Pain</td>\n",
       "    </tr>\n",
       "    <tr>\n",
       "      <th>5</th>\n",
       "      <td>Impediment Jinx</td>\n",
       "      <td>Hinders Movement</td>\n",
       "    </tr>\n",
       "    <tr>\n",
       "      <th>6</th>\n",
       "      <td>Dark Mark</td>\n",
       "      <td>Conjures Dark Mark</td>\n",
       "    </tr>\n",
       "  </tbody>\n",
       "</table>\n",
       "</div>"
      ],
      "text/plain": [
       "             Spell                             Effect\n",
       "0  Summoning Charm                  Summons an Object\n",
       "1   Patronus Charm  Spirit to Guard Against Dementors\n",
       "2  Disarming Charm                Disarms an Opponent\n",
       "3    Killing Curse                Instantaneous Death\n",
       "4  Cruciatus Curse                  Excruciating Pain\n",
       "5  Impediment Jinx                   Hinders Movement\n",
       "6        Dark Mark                 Conjures Dark Mark"
      ]
     },
     "execution_count": 50,
     "metadata": {},
     "output_type": "execute_result"
    }
   ],
   "source": [
    "effects = ['Summons an Object', 'Spirit to Guard Against Dementors', 'Disarms an Opponent', 'Instantaneous Death', 'Excruciating Pain', 'Hinders Movement', 'Conjures Dark Mark']\n",
    "\n",
    "effects_df = pd.DataFrame({'Spell': spells, 'Effect': effects})\n",
    "effects_df"
   ]
  },
  {
   "cell_type": "code",
   "execution_count": 51,
   "metadata": {},
   "outputs": [
    {
     "data": {
      "text/html": [
       "<div>\n",
       "<style scoped>\n",
       "    .dataframe tbody tr th:only-of-type {\n",
       "        vertical-align: middle;\n",
       "    }\n",
       "\n",
       "    .dataframe tbody tr th {\n",
       "        vertical-align: top;\n",
       "    }\n",
       "\n",
       "    .dataframe thead th {\n",
       "        text-align: right;\n",
       "    }\n",
       "</style>\n",
       "<table border=\"1\" class=\"dataframe\">\n",
       "  <thead>\n",
       "    <tr style=\"text-align: right;\">\n",
       "      <th></th>\n",
       "      <th>Spell</th>\n",
       "      <th>Light Color</th>\n",
       "    </tr>\n",
       "  </thead>\n",
       "  <tbody>\n",
       "    <tr>\n",
       "      <th>0</th>\n",
       "      <td>Summoning Charm</td>\n",
       "      <td>None</td>\n",
       "    </tr>\n",
       "    <tr>\n",
       "      <th>1</th>\n",
       "      <td>Killing Curse</td>\n",
       "      <td>Green</td>\n",
       "    </tr>\n",
       "    <tr>\n",
       "      <th>2</th>\n",
       "      <td>Dark Mark</td>\n",
       "      <td>Green</td>\n",
       "    </tr>\n",
       "    <tr>\n",
       "      <th>3</th>\n",
       "      <td>Impediment Jinx</td>\n",
       "      <td>Turquoise</td>\n",
       "    </tr>\n",
       "    <tr>\n",
       "      <th>4</th>\n",
       "      <td>Patronus Charm</td>\n",
       "      <td>Silver</td>\n",
       "    </tr>\n",
       "    <tr>\n",
       "      <th>5</th>\n",
       "      <td>Disarming Charm</td>\n",
       "      <td>Scarlet</td>\n",
       "    </tr>\n",
       "    <tr>\n",
       "      <th>6</th>\n",
       "      <td>Cruciatus Curse</td>\n",
       "      <td>Red or None</td>\n",
       "    </tr>\n",
       "  </tbody>\n",
       "</table>\n",
       "</div>"
      ],
      "text/plain": [
       "             Spell  Light Color\n",
       "0  Summoning Charm         None\n",
       "1    Killing Curse        Green\n",
       "2        Dark Mark        Green\n",
       "3  Impediment Jinx    Turquoise\n",
       "4   Patronus Charm       Silver\n",
       "5  Disarming Charm      Scarlet\n",
       "6  Cruciatus Curse  Red or None"
      ]
     },
     "execution_count": 51,
     "metadata": {},
     "output_type": "execute_result"
    }
   ],
   "source": [
    "colors = ['None', 'Silver', 'Scarlet', 'Green', 'Red or None', 'Turquoise', 'Green']\n",
    "\n",
    "colors_df = pd.DataFrame({'Spell': spells, 'Light Color': colors}).sample(frac=1).reset_index(drop=True)\n",
    "colors_df"
   ]
  },
  {
   "cell_type": "code",
   "execution_count": 52,
   "metadata": {},
   "outputs": [],
   "source": [
    "# Quick helper\n",
    "from IPython.display import display_html\n",
    "def display_side_by_side(*args):\n",
    "    html_str=''\n",
    "    for df in args:\n",
    "        html_str+=df.to_html()\n",
    "    display_html(html_str.replace('table','table style=\\\"display:inline\\\"'),raw=True)"
   ]
  },
  {
   "cell_type": "code",
   "execution_count": 53,
   "metadata": {},
   "outputs": [
    {
     "data": {
      "text/html": [
       "<table style=\"display:inline\" border=\"1\" class=\"dataframe\">\n",
       "  <thead>\n",
       "    <tr style=\"text-align: right;\">\n",
       "      <th></th>\n",
       "      <th>Spell</th>\n",
       "      <th>Incantation</th>\n",
       "    </tr>\n",
       "  </thead>\n",
       "  <tbody>\n",
       "    <tr>\n",
       "      <th>0</th>\n",
       "      <td>Summoning Charm</td>\n",
       "      <td>Accio</td>\n",
       "    </tr>\n",
       "    <tr>\n",
       "      <th>1</th>\n",
       "      <td>Patronus Charm</td>\n",
       "      <td>Excpecto Patronum</td>\n",
       "    </tr>\n",
       "    <tr>\n",
       "      <th>2</th>\n",
       "      <td>Disarming Charm</td>\n",
       "      <td>Expelliarmus</td>\n",
       "    </tr>\n",
       "    <tr>\n",
       "      <th>3</th>\n",
       "      <td>Killing Curse</td>\n",
       "      <td>Avada Kedavra</td>\n",
       "    </tr>\n",
       "    <tr>\n",
       "      <th>4</th>\n",
       "      <td>Cruciatus Curse</td>\n",
       "      <td>Crucio</td>\n",
       "    </tr>\n",
       "    <tr>\n",
       "      <th>5</th>\n",
       "      <td>Impediment Jinx</td>\n",
       "      <td>Impedimenta</td>\n",
       "    </tr>\n",
       "    <tr>\n",
       "      <th>6</th>\n",
       "      <td>Dark Mark</td>\n",
       "      <td>Morsmordre</td>\n",
       "    </tr>\n",
       "  </tbody>\n",
       "</table style=\"display:inline\"><table style=\"display:inline\" border=\"1\" class=\"dataframe\">\n",
       "  <thead>\n",
       "    <tr style=\"text-align: right;\">\n",
       "      <th></th>\n",
       "      <th>Spell</th>\n",
       "      <th>Effect</th>\n",
       "    </tr>\n",
       "  </thead>\n",
       "  <tbody>\n",
       "    <tr>\n",
       "      <th>0</th>\n",
       "      <td>Summoning Charm</td>\n",
       "      <td>Summons an Object</td>\n",
       "    </tr>\n",
       "    <tr>\n",
       "      <th>1</th>\n",
       "      <td>Patronus Charm</td>\n",
       "      <td>Spirit to Guard Against Dementors</td>\n",
       "    </tr>\n",
       "    <tr>\n",
       "      <th>2</th>\n",
       "      <td>Disarming Charm</td>\n",
       "      <td>Disarms an Opponent</td>\n",
       "    </tr>\n",
       "    <tr>\n",
       "      <th>3</th>\n",
       "      <td>Killing Curse</td>\n",
       "      <td>Instantaneous Death</td>\n",
       "    </tr>\n",
       "    <tr>\n",
       "      <th>4</th>\n",
       "      <td>Cruciatus Curse</td>\n",
       "      <td>Excruciating Pain</td>\n",
       "    </tr>\n",
       "    <tr>\n",
       "      <th>5</th>\n",
       "      <td>Impediment Jinx</td>\n",
       "      <td>Hinders Movement</td>\n",
       "    </tr>\n",
       "    <tr>\n",
       "      <th>6</th>\n",
       "      <td>Dark Mark</td>\n",
       "      <td>Conjures Dark Mark</td>\n",
       "    </tr>\n",
       "  </tbody>\n",
       "</table style=\"display:inline\"><table style=\"display:inline\" border=\"1\" class=\"dataframe\">\n",
       "  <thead>\n",
       "    <tr style=\"text-align: right;\">\n",
       "      <th></th>\n",
       "      <th>Spell</th>\n",
       "      <th>Light Color</th>\n",
       "    </tr>\n",
       "  </thead>\n",
       "  <tbody>\n",
       "    <tr>\n",
       "      <th>0</th>\n",
       "      <td>Summoning Charm</td>\n",
       "      <td>None</td>\n",
       "    </tr>\n",
       "    <tr>\n",
       "      <th>1</th>\n",
       "      <td>Killing Curse</td>\n",
       "      <td>Green</td>\n",
       "    </tr>\n",
       "    <tr>\n",
       "      <th>2</th>\n",
       "      <td>Dark Mark</td>\n",
       "      <td>Green</td>\n",
       "    </tr>\n",
       "    <tr>\n",
       "      <th>3</th>\n",
       "      <td>Impediment Jinx</td>\n",
       "      <td>Turquoise</td>\n",
       "    </tr>\n",
       "    <tr>\n",
       "      <th>4</th>\n",
       "      <td>Patronus Charm</td>\n",
       "      <td>Silver</td>\n",
       "    </tr>\n",
       "    <tr>\n",
       "      <th>5</th>\n",
       "      <td>Disarming Charm</td>\n",
       "      <td>Scarlet</td>\n",
       "    </tr>\n",
       "    <tr>\n",
       "      <th>6</th>\n",
       "      <td>Cruciatus Curse</td>\n",
       "      <td>Red or None</td>\n",
       "    </tr>\n",
       "  </tbody>\n",
       "</table style=\"display:inline\">"
      ]
     },
     "metadata": {},
     "output_type": "display_data"
    }
   ],
   "source": [
    "display_side_by_side(incantations_df,effects_df,colors_df)"
   ]
  },
  {
   "cell_type": "markdown",
   "metadata": {},
   "source": [
    "Note that each one of these dataframes have a column in common, `Spell`.\n",
    "\n",
    "The order of the values may not be same, but we're still good to go"
   ]
  },
  {
   "cell_type": "markdown",
   "metadata": {},
   "source": [
    "### `pd.Merge()`"
   ]
  },
  {
   "cell_type": "markdown",
   "metadata": {
    "colab_type": "text",
    "id": "gn7I76dXRTxn"
   },
   "source": [
    "Instead of working with three distinct dataframes, let's combine them into one df\n",
    "\n",
    "To do so, we can call `.merge()` on two data tables and specify the column on which to merge as `on=`"
   ]
  },
  {
   "cell_type": "code",
   "execution_count": 54,
   "metadata": {
    "colab": {
     "base_uri": "https://localhost:8080/",
     "height": 225
    },
    "colab_type": "code",
    "id": "5NP4h4n06C95",
    "outputId": "b67660e7-4c48-4f0c-dd56-ebe332417d77"
   },
   "outputs": [
    {
     "data": {
      "text/html": [
       "<div>\n",
       "<style scoped>\n",
       "    .dataframe tbody tr th:only-of-type {\n",
       "        vertical-align: middle;\n",
       "    }\n",
       "\n",
       "    .dataframe tbody tr th {\n",
       "        vertical-align: top;\n",
       "    }\n",
       "\n",
       "    .dataframe thead th {\n",
       "        text-align: right;\n",
       "    }\n",
       "</style>\n",
       "<table border=\"1\" class=\"dataframe\">\n",
       "  <thead>\n",
       "    <tr style=\"text-align: right;\">\n",
       "      <th></th>\n",
       "      <th>Spell</th>\n",
       "      <th>Incantation</th>\n",
       "      <th>Effect</th>\n",
       "    </tr>\n",
       "  </thead>\n",
       "  <tbody>\n",
       "    <tr>\n",
       "      <th>0</th>\n",
       "      <td>Summoning Charm</td>\n",
       "      <td>Accio</td>\n",
       "      <td>Summons an Object</td>\n",
       "    </tr>\n",
       "    <tr>\n",
       "      <th>1</th>\n",
       "      <td>Patronus Charm</td>\n",
       "      <td>Excpecto Patronum</td>\n",
       "      <td>Spirit to Guard Against Dementors</td>\n",
       "    </tr>\n",
       "    <tr>\n",
       "      <th>2</th>\n",
       "      <td>Disarming Charm</td>\n",
       "      <td>Expelliarmus</td>\n",
       "      <td>Disarms an Opponent</td>\n",
       "    </tr>\n",
       "    <tr>\n",
       "      <th>3</th>\n",
       "      <td>Killing Curse</td>\n",
       "      <td>Avada Kedavra</td>\n",
       "      <td>Instantaneous Death</td>\n",
       "    </tr>\n",
       "    <tr>\n",
       "      <th>4</th>\n",
       "      <td>Cruciatus Curse</td>\n",
       "      <td>Crucio</td>\n",
       "      <td>Excruciating Pain</td>\n",
       "    </tr>\n",
       "    <tr>\n",
       "      <th>5</th>\n",
       "      <td>Impediment Jinx</td>\n",
       "      <td>Impedimenta</td>\n",
       "      <td>Hinders Movement</td>\n",
       "    </tr>\n",
       "    <tr>\n",
       "      <th>6</th>\n",
       "      <td>Dark Mark</td>\n",
       "      <td>Morsmordre</td>\n",
       "      <td>Conjures Dark Mark</td>\n",
       "    </tr>\n",
       "  </tbody>\n",
       "</table>\n",
       "</div>"
      ],
      "text/plain": [
       "             Spell        Incantation                             Effect\n",
       "0  Summoning Charm              Accio                  Summons an Object\n",
       "1   Patronus Charm  Excpecto Patronum  Spirit to Guard Against Dementors\n",
       "2  Disarming Charm       Expelliarmus                Disarms an Opponent\n",
       "3    Killing Curse      Avada Kedavra                Instantaneous Death\n",
       "4  Cruciatus Curse             Crucio                  Excruciating Pain\n",
       "5  Impediment Jinx        Impedimenta                   Hinders Movement\n",
       "6        Dark Mark         Morsmordre                 Conjures Dark Mark"
      ]
     },
     "execution_count": 54,
     "metadata": {},
     "output_type": "execute_result"
    }
   ],
   "source": [
    "spells = pd.merge(incantations_df, effects_df, on='Spell')\n",
    "spells"
   ]
  },
  {
   "cell_type": "markdown",
   "metadata": {},
   "source": [
    "The column we're merging on is called a **join key**. It may have different column names, but we can specify that in the join."
   ]
  },
  {
   "cell_type": "code",
   "execution_count": 55,
   "metadata": {
    "colab": {
     "base_uri": "https://localhost:8080/",
     "height": 225
    },
    "colab_type": "code",
    "id": "uGi8owJZthrR",
    "outputId": "3bed89ca-bc8d-4ed1-ac38-4c1340163c47"
   },
   "outputs": [
    {
     "data": {
      "text/html": [
       "<div>\n",
       "<style scoped>\n",
       "    .dataframe tbody tr th:only-of-type {\n",
       "        vertical-align: middle;\n",
       "    }\n",
       "\n",
       "    .dataframe tbody tr th {\n",
       "        vertical-align: top;\n",
       "    }\n",
       "\n",
       "    .dataframe thead th {\n",
       "        text-align: right;\n",
       "    }\n",
       "</style>\n",
       "<table border=\"1\" class=\"dataframe\">\n",
       "  <thead>\n",
       "    <tr style=\"text-align: right;\">\n",
       "      <th></th>\n",
       "      <th>Spell</th>\n",
       "      <th>Incantation</th>\n",
       "      <th>Effect</th>\n",
       "      <th>Light Color</th>\n",
       "    </tr>\n",
       "  </thead>\n",
       "  <tbody>\n",
       "    <tr>\n",
       "      <th>0</th>\n",
       "      <td>Summoning Charm</td>\n",
       "      <td>Accio</td>\n",
       "      <td>Summons an Object</td>\n",
       "      <td>None</td>\n",
       "    </tr>\n",
       "    <tr>\n",
       "      <th>1</th>\n",
       "      <td>Patronus Charm</td>\n",
       "      <td>Excpecto Patronum</td>\n",
       "      <td>Spirit to Guard Against Dementors</td>\n",
       "      <td>Silver</td>\n",
       "    </tr>\n",
       "    <tr>\n",
       "      <th>2</th>\n",
       "      <td>Disarming Charm</td>\n",
       "      <td>Expelliarmus</td>\n",
       "      <td>Disarms an Opponent</td>\n",
       "      <td>Scarlet</td>\n",
       "    </tr>\n",
       "    <tr>\n",
       "      <th>3</th>\n",
       "      <td>Killing Curse</td>\n",
       "      <td>Avada Kedavra</td>\n",
       "      <td>Instantaneous Death</td>\n",
       "      <td>Green</td>\n",
       "    </tr>\n",
       "    <tr>\n",
       "      <th>4</th>\n",
       "      <td>Cruciatus Curse</td>\n",
       "      <td>Crucio</td>\n",
       "      <td>Excruciating Pain</td>\n",
       "      <td>Red or None</td>\n",
       "    </tr>\n",
       "    <tr>\n",
       "      <th>5</th>\n",
       "      <td>Impediment Jinx</td>\n",
       "      <td>Impedimenta</td>\n",
       "      <td>Hinders Movement</td>\n",
       "      <td>Turquoise</td>\n",
       "    </tr>\n",
       "    <tr>\n",
       "      <th>6</th>\n",
       "      <td>Dark Mark</td>\n",
       "      <td>Morsmordre</td>\n",
       "      <td>Conjures Dark Mark</td>\n",
       "      <td>Green</td>\n",
       "    </tr>\n",
       "  </tbody>\n",
       "</table>\n",
       "</div>"
      ],
      "text/plain": [
       "             Spell        Incantation                             Effect  \\\n",
       "0  Summoning Charm              Accio                  Summons an Object   \n",
       "1   Patronus Charm  Excpecto Patronum  Spirit to Guard Against Dementors   \n",
       "2  Disarming Charm       Expelliarmus                Disarms an Opponent   \n",
       "3    Killing Curse      Avada Kedavra                Instantaneous Death   \n",
       "4  Cruciatus Curse             Crucio                  Excruciating Pain   \n",
       "5  Impediment Jinx        Impedimenta                   Hinders Movement   \n",
       "6        Dark Mark         Morsmordre                 Conjures Dark Mark   \n",
       "\n",
       "   Light Color  \n",
       "0         None  \n",
       "1       Silver  \n",
       "2      Scarlet  \n",
       "3        Green  \n",
       "4  Red or None  \n",
       "5    Turquoise  \n",
       "6        Green  "
      ]
     },
     "execution_count": 55,
     "metadata": {},
     "output_type": "execute_result"
    }
   ],
   "source": [
    "spells = spells.merge(colors_df, on='Spell')\n",
    "spells"
   ]
  },
  {
   "cell_type": "markdown",
   "metadata": {},
   "source": [
    "### Join logic"
   ]
  },
  {
   "cell_type": "code",
   "execution_count": 56,
   "metadata": {},
   "outputs": [
    {
     "data": {
      "text/html": [
       "<div>\n",
       "<style scoped>\n",
       "    .dataframe tbody tr th:only-of-type {\n",
       "        vertical-align: middle;\n",
       "    }\n",
       "\n",
       "    .dataframe tbody tr th {\n",
       "        vertical-align: top;\n",
       "    }\n",
       "\n",
       "    .dataframe thead th {\n",
       "        text-align: right;\n",
       "    }\n",
       "</style>\n",
       "<table border=\"1\" class=\"dataframe\">\n",
       "  <thead>\n",
       "    <tr style=\"text-align: right;\">\n",
       "      <th></th>\n",
       "      <th>Spell</th>\n",
       "      <th>Incantation</th>\n",
       "    </tr>\n",
       "  </thead>\n",
       "  <tbody>\n",
       "    <tr>\n",
       "      <th>0</th>\n",
       "      <td>Disarming Charm</td>\n",
       "      <td>Expelliarmus</td>\n",
       "    </tr>\n",
       "    <tr>\n",
       "      <th>1</th>\n",
       "      <td>Dark Mark</td>\n",
       "      <td>Morsmordre</td>\n",
       "    </tr>\n",
       "    <tr>\n",
       "      <th>2</th>\n",
       "      <td>Imperius Curse</td>\n",
       "      <td>Imperio</td>\n",
       "    </tr>\n",
       "    <tr>\n",
       "      <th>3</th>\n",
       "      <td>Sectumsempra</td>\n",
       "      <td>Sectumsempra</td>\n",
       "    </tr>\n",
       "    <tr>\n",
       "      <th>4</th>\n",
       "      <td>Levitation Charm</td>\n",
       "      <td>Wingardium Leviosa</td>\n",
       "    </tr>\n",
       "  </tbody>\n",
       "</table>\n",
       "</div>"
      ],
      "text/plain": [
       "              Spell         Incantation\n",
       "0   Disarming Charm        Expelliarmus\n",
       "1         Dark Mark          Morsmordre\n",
       "2    Imperius Curse             Imperio\n",
       "3      Sectumsempra        Sectumsempra\n",
       "4  Levitation Charm  Wingardium Leviosa"
      ]
     },
     "execution_count": 56,
     "metadata": {},
     "output_type": "execute_result"
    }
   ],
   "source": [
    "more_spells = ['Disarming Charm', 'Dark Mark', 'Imperius Curse', 'Sectumsempra', 'Levitation Charm']\n",
    "more_incantations = ['Expelliarmus', 'Morsmordre', 'Imperio', 'Sectumsempra', 'Wingardium Leviosa']\n",
    "\n",
    "more_incantations_df = pd.DataFrame({'Spell': more_spells, 'Incantation': more_incantations})\n",
    "more_incantations_df"
   ]
  },
  {
   "cell_type": "markdown",
   "metadata": {},
   "source": [
    "With the previous merges, we had the same number of observations in every dataframe.\n",
    "\n",
    "<br>With some merges, not every row may align. Let's try to merge `more_incantations_df` with `effects_df`. Note how there are some dining halls in common, and some unique to each"
   ]
  },
  {
   "cell_type": "code",
   "execution_count": 57,
   "metadata": {},
   "outputs": [
    {
     "data": {
      "text/html": [
       "<table style=\"display:inline\" border=\"1\" class=\"dataframe\">\n",
       "  <thead>\n",
       "    <tr style=\"text-align: right;\">\n",
       "      <th></th>\n",
       "      <th>Spell</th>\n",
       "      <th>Incantation</th>\n",
       "    </tr>\n",
       "  </thead>\n",
       "  <tbody>\n",
       "    <tr>\n",
       "      <th>0</th>\n",
       "      <td>Disarming Charm</td>\n",
       "      <td>Expelliarmus</td>\n",
       "    </tr>\n",
       "    <tr>\n",
       "      <th>1</th>\n",
       "      <td>Dark Mark</td>\n",
       "      <td>Morsmordre</td>\n",
       "    </tr>\n",
       "    <tr>\n",
       "      <th>2</th>\n",
       "      <td>Imperius Curse</td>\n",
       "      <td>Imperio</td>\n",
       "    </tr>\n",
       "    <tr>\n",
       "      <th>3</th>\n",
       "      <td>Sectumsempra</td>\n",
       "      <td>Sectumsempra</td>\n",
       "    </tr>\n",
       "    <tr>\n",
       "      <th>4</th>\n",
       "      <td>Levitation Charm</td>\n",
       "      <td>Wingardium Leviosa</td>\n",
       "    </tr>\n",
       "  </tbody>\n",
       "</table style=\"display:inline\"><table style=\"display:inline\" border=\"1\" class=\"dataframe\">\n",
       "  <thead>\n",
       "    <tr style=\"text-align: right;\">\n",
       "      <th></th>\n",
       "      <th>Spell</th>\n",
       "      <th>Effect</th>\n",
       "    </tr>\n",
       "  </thead>\n",
       "  <tbody>\n",
       "    <tr>\n",
       "      <th>0</th>\n",
       "      <td>Summoning Charm</td>\n",
       "      <td>Summons an Object</td>\n",
       "    </tr>\n",
       "    <tr>\n",
       "      <th>1</th>\n",
       "      <td>Patronus Charm</td>\n",
       "      <td>Spirit to Guard Against Dementors</td>\n",
       "    </tr>\n",
       "    <tr>\n",
       "      <th>2</th>\n",
       "      <td>Disarming Charm</td>\n",
       "      <td>Disarms an Opponent</td>\n",
       "    </tr>\n",
       "    <tr>\n",
       "      <th>3</th>\n",
       "      <td>Killing Curse</td>\n",
       "      <td>Instantaneous Death</td>\n",
       "    </tr>\n",
       "    <tr>\n",
       "      <th>4</th>\n",
       "      <td>Cruciatus Curse</td>\n",
       "      <td>Excruciating Pain</td>\n",
       "    </tr>\n",
       "    <tr>\n",
       "      <th>5</th>\n",
       "      <td>Impediment Jinx</td>\n",
       "      <td>Hinders Movement</td>\n",
       "    </tr>\n",
       "    <tr>\n",
       "      <th>6</th>\n",
       "      <td>Dark Mark</td>\n",
       "      <td>Conjures Dark Mark</td>\n",
       "    </tr>\n",
       "  </tbody>\n",
       "</table style=\"display:inline\">"
      ]
     },
     "metadata": {},
     "output_type": "display_data"
    }
   ],
   "source": [
    "display_side_by_side(more_incantations_df,effects_df)"
   ]
  },
  {
   "cell_type": "markdown",
   "metadata": {},
   "source": [
    "We can do a few different merges now: \n",
    "1. If we want to retain **only** those in common, we use an `inner` join\n",
    "2. If we want to keep **everything**, and keep placeholders for missing data, we use an `outer` join\n",
    "3. If we want to keep just those in one table, and **lookup** values from another, we use a `left` join"
   ]
  },
  {
   "cell_type": "code",
   "execution_count": 58,
   "metadata": {},
   "outputs": [
    {
     "data": {
      "text/html": [
       "<div>\n",
       "<style scoped>\n",
       "    .dataframe tbody tr th:only-of-type {\n",
       "        vertical-align: middle;\n",
       "    }\n",
       "\n",
       "    .dataframe tbody tr th {\n",
       "        vertical-align: top;\n",
       "    }\n",
       "\n",
       "    .dataframe thead th {\n",
       "        text-align: right;\n",
       "    }\n",
       "</style>\n",
       "<table border=\"1\" class=\"dataframe\">\n",
       "  <thead>\n",
       "    <tr style=\"text-align: right;\">\n",
       "      <th></th>\n",
       "      <th>Spell</th>\n",
       "      <th>Effect</th>\n",
       "      <th>Incantation</th>\n",
       "    </tr>\n",
       "  </thead>\n",
       "  <tbody>\n",
       "    <tr>\n",
       "      <th>0</th>\n",
       "      <td>Disarming Charm</td>\n",
       "      <td>Disarms an Opponent</td>\n",
       "      <td>Expelliarmus</td>\n",
       "    </tr>\n",
       "    <tr>\n",
       "      <th>1</th>\n",
       "      <td>Dark Mark</td>\n",
       "      <td>Conjures Dark Mark</td>\n",
       "      <td>Morsmordre</td>\n",
       "    </tr>\n",
       "  </tbody>\n",
       "</table>\n",
       "</div>"
      ],
      "text/plain": [
       "             Spell               Effect   Incantation\n",
       "0  Disarming Charm  Disarms an Opponent  Expelliarmus\n",
       "1        Dark Mark   Conjures Dark Mark    Morsmordre"
      ]
     },
     "execution_count": 58,
     "metadata": {},
     "output_type": "execute_result"
    }
   ],
   "source": [
    "pd.merge(effects_df, more_incantations_df, on='Spell', how='inner')"
   ]
  },
  {
   "cell_type": "code",
   "execution_count": 59,
   "metadata": {},
   "outputs": [
    {
     "data": {
      "text/html": [
       "<div>\n",
       "<style scoped>\n",
       "    .dataframe tbody tr th:only-of-type {\n",
       "        vertical-align: middle;\n",
       "    }\n",
       "\n",
       "    .dataframe tbody tr th {\n",
       "        vertical-align: top;\n",
       "    }\n",
       "\n",
       "    .dataframe thead th {\n",
       "        text-align: right;\n",
       "    }\n",
       "</style>\n",
       "<table border=\"1\" class=\"dataframe\">\n",
       "  <thead>\n",
       "    <tr style=\"text-align: right;\">\n",
       "      <th></th>\n",
       "      <th>Spell</th>\n",
       "      <th>Effect</th>\n",
       "      <th>Incantation</th>\n",
       "    </tr>\n",
       "  </thead>\n",
       "  <tbody>\n",
       "    <tr>\n",
       "      <th>0</th>\n",
       "      <td>Summoning Charm</td>\n",
       "      <td>Summons an Object</td>\n",
       "      <td>NaN</td>\n",
       "    </tr>\n",
       "    <tr>\n",
       "      <th>1</th>\n",
       "      <td>Patronus Charm</td>\n",
       "      <td>Spirit to Guard Against Dementors</td>\n",
       "      <td>NaN</td>\n",
       "    </tr>\n",
       "    <tr>\n",
       "      <th>2</th>\n",
       "      <td>Disarming Charm</td>\n",
       "      <td>Disarms an Opponent</td>\n",
       "      <td>Expelliarmus</td>\n",
       "    </tr>\n",
       "    <tr>\n",
       "      <th>3</th>\n",
       "      <td>Killing Curse</td>\n",
       "      <td>Instantaneous Death</td>\n",
       "      <td>NaN</td>\n",
       "    </tr>\n",
       "    <tr>\n",
       "      <th>4</th>\n",
       "      <td>Cruciatus Curse</td>\n",
       "      <td>Excruciating Pain</td>\n",
       "      <td>NaN</td>\n",
       "    </tr>\n",
       "    <tr>\n",
       "      <th>5</th>\n",
       "      <td>Impediment Jinx</td>\n",
       "      <td>Hinders Movement</td>\n",
       "      <td>NaN</td>\n",
       "    </tr>\n",
       "    <tr>\n",
       "      <th>6</th>\n",
       "      <td>Dark Mark</td>\n",
       "      <td>Conjures Dark Mark</td>\n",
       "      <td>Morsmordre</td>\n",
       "    </tr>\n",
       "    <tr>\n",
       "      <th>7</th>\n",
       "      <td>Imperius Curse</td>\n",
       "      <td>NaN</td>\n",
       "      <td>Imperio</td>\n",
       "    </tr>\n",
       "    <tr>\n",
       "      <th>8</th>\n",
       "      <td>Sectumsempra</td>\n",
       "      <td>NaN</td>\n",
       "      <td>Sectumsempra</td>\n",
       "    </tr>\n",
       "    <tr>\n",
       "      <th>9</th>\n",
       "      <td>Levitation Charm</td>\n",
       "      <td>NaN</td>\n",
       "      <td>Wingardium Leviosa</td>\n",
       "    </tr>\n",
       "  </tbody>\n",
       "</table>\n",
       "</div>"
      ],
      "text/plain": [
       "              Spell                             Effect         Incantation\n",
       "0   Summoning Charm                  Summons an Object                 NaN\n",
       "1    Patronus Charm  Spirit to Guard Against Dementors                 NaN\n",
       "2   Disarming Charm                Disarms an Opponent        Expelliarmus\n",
       "3     Killing Curse                Instantaneous Death                 NaN\n",
       "4   Cruciatus Curse                  Excruciating Pain                 NaN\n",
       "5   Impediment Jinx                   Hinders Movement                 NaN\n",
       "6         Dark Mark                 Conjures Dark Mark          Morsmordre\n",
       "7    Imperius Curse                                NaN             Imperio\n",
       "8      Sectumsempra                                NaN        Sectumsempra\n",
       "9  Levitation Charm                                NaN  Wingardium Leviosa"
      ]
     },
     "execution_count": 59,
     "metadata": {},
     "output_type": "execute_result"
    }
   ],
   "source": [
    "pd.merge(effects_df, more_incantations_df, on='Spell', how='outer')"
   ]
  },
  {
   "cell_type": "code",
   "execution_count": 60,
   "metadata": {},
   "outputs": [
    {
     "data": {
      "text/html": [
       "<div>\n",
       "<style scoped>\n",
       "    .dataframe tbody tr th:only-of-type {\n",
       "        vertical-align: middle;\n",
       "    }\n",
       "\n",
       "    .dataframe tbody tr th {\n",
       "        vertical-align: top;\n",
       "    }\n",
       "\n",
       "    .dataframe thead th {\n",
       "        text-align: right;\n",
       "    }\n",
       "</style>\n",
       "<table border=\"1\" class=\"dataframe\">\n",
       "  <thead>\n",
       "    <tr style=\"text-align: right;\">\n",
       "      <th></th>\n",
       "      <th>Spell</th>\n",
       "      <th>Effect</th>\n",
       "      <th>Incantation</th>\n",
       "    </tr>\n",
       "  </thead>\n",
       "  <tbody>\n",
       "    <tr>\n",
       "      <th>0</th>\n",
       "      <td>Summoning Charm</td>\n",
       "      <td>Summons an Object</td>\n",
       "      <td>NaN</td>\n",
       "    </tr>\n",
       "    <tr>\n",
       "      <th>1</th>\n",
       "      <td>Patronus Charm</td>\n",
       "      <td>Spirit to Guard Against Dementors</td>\n",
       "      <td>NaN</td>\n",
       "    </tr>\n",
       "    <tr>\n",
       "      <th>2</th>\n",
       "      <td>Disarming Charm</td>\n",
       "      <td>Disarms an Opponent</td>\n",
       "      <td>Expelliarmus</td>\n",
       "    </tr>\n",
       "    <tr>\n",
       "      <th>3</th>\n",
       "      <td>Killing Curse</td>\n",
       "      <td>Instantaneous Death</td>\n",
       "      <td>NaN</td>\n",
       "    </tr>\n",
       "    <tr>\n",
       "      <th>4</th>\n",
       "      <td>Cruciatus Curse</td>\n",
       "      <td>Excruciating Pain</td>\n",
       "      <td>NaN</td>\n",
       "    </tr>\n",
       "    <tr>\n",
       "      <th>5</th>\n",
       "      <td>Impediment Jinx</td>\n",
       "      <td>Hinders Movement</td>\n",
       "      <td>NaN</td>\n",
       "    </tr>\n",
       "    <tr>\n",
       "      <th>6</th>\n",
       "      <td>Dark Mark</td>\n",
       "      <td>Conjures Dark Mark</td>\n",
       "      <td>Morsmordre</td>\n",
       "    </tr>\n",
       "  </tbody>\n",
       "</table>\n",
       "</div>"
      ],
      "text/plain": [
       "             Spell                             Effect   Incantation\n",
       "0  Summoning Charm                  Summons an Object           NaN\n",
       "1   Patronus Charm  Spirit to Guard Against Dementors           NaN\n",
       "2  Disarming Charm                Disarms an Opponent  Expelliarmus\n",
       "3    Killing Curse                Instantaneous Death           NaN\n",
       "4  Cruciatus Curse                  Excruciating Pain           NaN\n",
       "5  Impediment Jinx                   Hinders Movement           NaN\n",
       "6        Dark Mark                 Conjures Dark Mark    Morsmordre"
      ]
     },
     "execution_count": 60,
     "metadata": {},
     "output_type": "execute_result"
    }
   ],
   "source": [
    "pd.merge(effects_df, more_incantations_df, on='Spell', how='left')"
   ]
  },
  {
   "cell_type": "markdown",
   "metadata": {},
   "source": [
    "### `pd.Concat()`"
   ]
  },
  {
   "cell_type": "markdown",
   "metadata": {
    "colab_type": "text",
    "id": "O_OZiiFoOEsJ"
   },
   "source": [
    "Another *similar* function is `.concat()` \n",
    "\n",
    "It's a little different from `.merge()`, since we'll have to pass in a `list` of dataframes instead"
   ]
  },
  {
   "cell_type": "code",
   "execution_count": 61,
   "metadata": {
    "colab": {
     "base_uri": "https://localhost:8080/",
     "height": 714
    },
    "colab_type": "code",
    "id": "nYT094hKODVa",
    "outputId": "8901c9a7-fc4e-425a-a6c8-3c183654a686"
   },
   "outputs": [
    {
     "data": {
      "text/html": [
       "<div>\n",
       "<style scoped>\n",
       "    .dataframe tbody tr th:only-of-type {\n",
       "        vertical-align: middle;\n",
       "    }\n",
       "\n",
       "    .dataframe tbody tr th {\n",
       "        vertical-align: top;\n",
       "    }\n",
       "\n",
       "    .dataframe thead th {\n",
       "        text-align: right;\n",
       "    }\n",
       "</style>\n",
       "<table border=\"1\" class=\"dataframe\">\n",
       "  <thead>\n",
       "    <tr style=\"text-align: right;\">\n",
       "      <th></th>\n",
       "      <th>Spell</th>\n",
       "      <th>Incantation</th>\n",
       "      <th>Effect</th>\n",
       "      <th>Light Color</th>\n",
       "    </tr>\n",
       "  </thead>\n",
       "  <tbody>\n",
       "    <tr>\n",
       "      <th>0</th>\n",
       "      <td>Summoning Charm</td>\n",
       "      <td>Accio</td>\n",
       "      <td>NaN</td>\n",
       "      <td>NaN</td>\n",
       "    </tr>\n",
       "    <tr>\n",
       "      <th>1</th>\n",
       "      <td>Patronus Charm</td>\n",
       "      <td>Excpecto Patronum</td>\n",
       "      <td>NaN</td>\n",
       "      <td>NaN</td>\n",
       "    </tr>\n",
       "    <tr>\n",
       "      <th>2</th>\n",
       "      <td>Disarming Charm</td>\n",
       "      <td>Expelliarmus</td>\n",
       "      <td>NaN</td>\n",
       "      <td>NaN</td>\n",
       "    </tr>\n",
       "    <tr>\n",
       "      <th>3</th>\n",
       "      <td>Killing Curse</td>\n",
       "      <td>Avada Kedavra</td>\n",
       "      <td>NaN</td>\n",
       "      <td>NaN</td>\n",
       "    </tr>\n",
       "    <tr>\n",
       "      <th>4</th>\n",
       "      <td>Cruciatus Curse</td>\n",
       "      <td>Crucio</td>\n",
       "      <td>NaN</td>\n",
       "      <td>NaN</td>\n",
       "    </tr>\n",
       "    <tr>\n",
       "      <th>5</th>\n",
       "      <td>Impediment Jinx</td>\n",
       "      <td>Impedimenta</td>\n",
       "      <td>NaN</td>\n",
       "      <td>NaN</td>\n",
       "    </tr>\n",
       "    <tr>\n",
       "      <th>6</th>\n",
       "      <td>Dark Mark</td>\n",
       "      <td>Morsmordre</td>\n",
       "      <td>NaN</td>\n",
       "      <td>NaN</td>\n",
       "    </tr>\n",
       "    <tr>\n",
       "      <th>0</th>\n",
       "      <td>Summoning Charm</td>\n",
       "      <td>NaN</td>\n",
       "      <td>Summons an Object</td>\n",
       "      <td>NaN</td>\n",
       "    </tr>\n",
       "    <tr>\n",
       "      <th>1</th>\n",
       "      <td>Patronus Charm</td>\n",
       "      <td>NaN</td>\n",
       "      <td>Spirit to Guard Against Dementors</td>\n",
       "      <td>NaN</td>\n",
       "    </tr>\n",
       "    <tr>\n",
       "      <th>2</th>\n",
       "      <td>Disarming Charm</td>\n",
       "      <td>NaN</td>\n",
       "      <td>Disarms an Opponent</td>\n",
       "      <td>NaN</td>\n",
       "    </tr>\n",
       "    <tr>\n",
       "      <th>3</th>\n",
       "      <td>Killing Curse</td>\n",
       "      <td>NaN</td>\n",
       "      <td>Instantaneous Death</td>\n",
       "      <td>NaN</td>\n",
       "    </tr>\n",
       "    <tr>\n",
       "      <th>4</th>\n",
       "      <td>Cruciatus Curse</td>\n",
       "      <td>NaN</td>\n",
       "      <td>Excruciating Pain</td>\n",
       "      <td>NaN</td>\n",
       "    </tr>\n",
       "    <tr>\n",
       "      <th>5</th>\n",
       "      <td>Impediment Jinx</td>\n",
       "      <td>NaN</td>\n",
       "      <td>Hinders Movement</td>\n",
       "      <td>NaN</td>\n",
       "    </tr>\n",
       "    <tr>\n",
       "      <th>6</th>\n",
       "      <td>Dark Mark</td>\n",
       "      <td>NaN</td>\n",
       "      <td>Conjures Dark Mark</td>\n",
       "      <td>NaN</td>\n",
       "    </tr>\n",
       "    <tr>\n",
       "      <th>0</th>\n",
       "      <td>Summoning Charm</td>\n",
       "      <td>NaN</td>\n",
       "      <td>NaN</td>\n",
       "      <td>None</td>\n",
       "    </tr>\n",
       "    <tr>\n",
       "      <th>1</th>\n",
       "      <td>Killing Curse</td>\n",
       "      <td>NaN</td>\n",
       "      <td>NaN</td>\n",
       "      <td>Green</td>\n",
       "    </tr>\n",
       "    <tr>\n",
       "      <th>2</th>\n",
       "      <td>Dark Mark</td>\n",
       "      <td>NaN</td>\n",
       "      <td>NaN</td>\n",
       "      <td>Green</td>\n",
       "    </tr>\n",
       "    <tr>\n",
       "      <th>3</th>\n",
       "      <td>Impediment Jinx</td>\n",
       "      <td>NaN</td>\n",
       "      <td>NaN</td>\n",
       "      <td>Turquoise</td>\n",
       "    </tr>\n",
       "    <tr>\n",
       "      <th>4</th>\n",
       "      <td>Patronus Charm</td>\n",
       "      <td>NaN</td>\n",
       "      <td>NaN</td>\n",
       "      <td>Silver</td>\n",
       "    </tr>\n",
       "    <tr>\n",
       "      <th>5</th>\n",
       "      <td>Disarming Charm</td>\n",
       "      <td>NaN</td>\n",
       "      <td>NaN</td>\n",
       "      <td>Scarlet</td>\n",
       "    </tr>\n",
       "    <tr>\n",
       "      <th>6</th>\n",
       "      <td>Cruciatus Curse</td>\n",
       "      <td>NaN</td>\n",
       "      <td>NaN</td>\n",
       "      <td>Red or None</td>\n",
       "    </tr>\n",
       "  </tbody>\n",
       "</table>\n",
       "</div>"
      ],
      "text/plain": [
       "             Spell        Incantation                             Effect  \\\n",
       "0  Summoning Charm              Accio                                NaN   \n",
       "1   Patronus Charm  Excpecto Patronum                                NaN   \n",
       "2  Disarming Charm       Expelliarmus                                NaN   \n",
       "3    Killing Curse      Avada Kedavra                                NaN   \n",
       "4  Cruciatus Curse             Crucio                                NaN   \n",
       "5  Impediment Jinx        Impedimenta                                NaN   \n",
       "6        Dark Mark         Morsmordre                                NaN   \n",
       "0  Summoning Charm                NaN                  Summons an Object   \n",
       "1   Patronus Charm                NaN  Spirit to Guard Against Dementors   \n",
       "2  Disarming Charm                NaN                Disarms an Opponent   \n",
       "3    Killing Curse                NaN                Instantaneous Death   \n",
       "4  Cruciatus Curse                NaN                  Excruciating Pain   \n",
       "5  Impediment Jinx                NaN                   Hinders Movement   \n",
       "6        Dark Mark                NaN                 Conjures Dark Mark   \n",
       "0  Summoning Charm                NaN                                NaN   \n",
       "1    Killing Curse                NaN                                NaN   \n",
       "2        Dark Mark                NaN                                NaN   \n",
       "3  Impediment Jinx                NaN                                NaN   \n",
       "4   Patronus Charm                NaN                                NaN   \n",
       "5  Disarming Charm                NaN                                NaN   \n",
       "6  Cruciatus Curse                NaN                                NaN   \n",
       "\n",
       "   Light Color  \n",
       "0          NaN  \n",
       "1          NaN  \n",
       "2          NaN  \n",
       "3          NaN  \n",
       "4          NaN  \n",
       "5          NaN  \n",
       "6          NaN  \n",
       "0          NaN  \n",
       "1          NaN  \n",
       "2          NaN  \n",
       "3          NaN  \n",
       "4          NaN  \n",
       "5          NaN  \n",
       "6          NaN  \n",
       "0         None  \n",
       "1        Green  \n",
       "2        Green  \n",
       "3    Turquoise  \n",
       "4       Silver  \n",
       "5      Scarlet  \n",
       "6  Red or None  "
      ]
     },
     "execution_count": 61,
     "metadata": {},
     "output_type": "execute_result"
    }
   ],
   "source": [
    "df = pd.concat([incantations_df, effects_df, colors_df])\n",
    "df"
   ]
  },
  {
   "cell_type": "markdown",
   "metadata": {
    "colab_type": "text",
    "id": "9_6AcRs2Ob7E"
   },
   "source": [
    "That didn't quite work as expected, because `concat()` stacked the dataframes above each other, instead of combining information for common rows.\n",
    "\n",
    "Note that it **didn't combine rows** when `merge()` easily could have."
   ]
  },
  {
   "cell_type": "markdown",
   "metadata": {},
   "source": [
    "One example of when `concat()` is appropriate is when we want to add on more information to a dataframe, but the **rows are the different** between the two"
   ]
  },
  {
   "cell_type": "code",
   "execution_count": 62,
   "metadata": {
    "colab": {
     "base_uri": "https://localhost:8080/",
     "height": 343
    },
    "colab_type": "code",
    "id": "0-zH8-dSPJiY",
    "outputId": "4416d7b8-9c13-45e6-c9f7-9f7205857ded"
   },
   "outputs": [
    {
     "data": {
      "text/html": [
       "<div>\n",
       "<style scoped>\n",
       "    .dataframe tbody tr th:only-of-type {\n",
       "        vertical-align: middle;\n",
       "    }\n",
       "\n",
       "    .dataframe tbody tr th {\n",
       "        vertical-align: top;\n",
       "    }\n",
       "\n",
       "    .dataframe thead th {\n",
       "        text-align: right;\n",
       "    }\n",
       "</style>\n",
       "<table border=\"1\" class=\"dataframe\">\n",
       "  <thead>\n",
       "    <tr style=\"text-align: right;\">\n",
       "      <th></th>\n",
       "      <th>Spell</th>\n",
       "      <th>Incantation</th>\n",
       "    </tr>\n",
       "  </thead>\n",
       "  <tbody>\n",
       "    <tr>\n",
       "      <th>0</th>\n",
       "      <td>Summoning Charm</td>\n",
       "      <td>Accio</td>\n",
       "    </tr>\n",
       "    <tr>\n",
       "      <th>1</th>\n",
       "      <td>Patronus Charm</td>\n",
       "      <td>Excpecto Patronum</td>\n",
       "    </tr>\n",
       "    <tr>\n",
       "      <th>2</th>\n",
       "      <td>Disarming Charm</td>\n",
       "      <td>Expelliarmus</td>\n",
       "    </tr>\n",
       "    <tr>\n",
       "      <th>3</th>\n",
       "      <td>Killing Curse</td>\n",
       "      <td>Avada Kedavra</td>\n",
       "    </tr>\n",
       "    <tr>\n",
       "      <th>4</th>\n",
       "      <td>Cruciatus Curse</td>\n",
       "      <td>Crucio</td>\n",
       "    </tr>\n",
       "    <tr>\n",
       "      <th>5</th>\n",
       "      <td>Impediment Jinx</td>\n",
       "      <td>Impedimenta</td>\n",
       "    </tr>\n",
       "    <tr>\n",
       "      <th>6</th>\n",
       "      <td>Dark Mark</td>\n",
       "      <td>Morsmordre</td>\n",
       "    </tr>\n",
       "    <tr>\n",
       "      <th>9</th>\n",
       "      <td>Imperius Curse</td>\n",
       "      <td>Imperio</td>\n",
       "    </tr>\n",
       "    <tr>\n",
       "      <th>10</th>\n",
       "      <td>Sectumsempra</td>\n",
       "      <td>Sectumsempra</td>\n",
       "    </tr>\n",
       "    <tr>\n",
       "      <th>11</th>\n",
       "      <td>Levitation Charm</td>\n",
       "      <td>Wingardium Leviosa</td>\n",
       "    </tr>\n",
       "  </tbody>\n",
       "</table>\n",
       "</div>"
      ],
      "text/plain": [
       "               Spell         Incantation\n",
       "0    Summoning Charm               Accio\n",
       "1     Patronus Charm   Excpecto Patronum\n",
       "2    Disarming Charm        Expelliarmus\n",
       "3      Killing Curse       Avada Kedavra\n",
       "4    Cruciatus Curse              Crucio\n",
       "5    Impediment Jinx         Impedimenta\n",
       "6          Dark Mark          Morsmordre\n",
       "9     Imperius Curse             Imperio\n",
       "10      Sectumsempra        Sectumsempra\n",
       "11  Levitation Charm  Wingardium Leviosa"
      ]
     },
     "execution_count": 62,
     "metadata": {},
     "output_type": "execute_result"
    }
   ],
   "source": [
    "incantations_all = pd.concat([incantations_df, more_incantations_df]).reset_index(drop=True).drop_duplicates()\n",
    "# The reset_index() allows us to prevent overlapping of the indices\n",
    "\n",
    "incantations_all"
   ]
  },
  {
   "cell_type": "markdown",
   "metadata": {
    "colab_type": "text",
    "id": "k60WBIs2Pc5L"
   },
   "source": [
    "`Concat` can also horizontally stack dataframes, usng the `axis=1` argument. \n",
    "\n",
    "Here's a case where it might be useful:"
   ]
  },
  {
   "cell_type": "code",
   "execution_count": 63,
   "metadata": {
    "colab": {
     "base_uri": "https://localhost:8080/",
     "height": 225
    },
    "colab_type": "code",
    "id": "8S4TwqezPiOY",
    "outputId": "7a4c36c8-86b4-434f-bf81-2121cb72e1e7"
   },
   "outputs": [
    {
     "data": {
      "text/html": [
       "<div>\n",
       "<style scoped>\n",
       "    .dataframe tbody tr th:only-of-type {\n",
       "        vertical-align: middle;\n",
       "    }\n",
       "\n",
       "    .dataframe tbody tr th {\n",
       "        vertical-align: top;\n",
       "    }\n",
       "\n",
       "    .dataframe thead th {\n",
       "        text-align: right;\n",
       "    }\n",
       "</style>\n",
       "<table border=\"1\" class=\"dataframe\">\n",
       "  <thead>\n",
       "    <tr style=\"text-align: right;\">\n",
       "      <th></th>\n",
       "      <th>Dark Magic</th>\n",
       "      <th>Type</th>\n",
       "    </tr>\n",
       "  </thead>\n",
       "  <tbody>\n",
       "    <tr>\n",
       "      <th>0</th>\n",
       "      <td>No</td>\n",
       "      <td>Charm</td>\n",
       "    </tr>\n",
       "    <tr>\n",
       "      <th>1</th>\n",
       "      <td>No</td>\n",
       "      <td>Charm</td>\n",
       "    </tr>\n",
       "    <tr>\n",
       "      <th>2</th>\n",
       "      <td>No</td>\n",
       "      <td>Charm</td>\n",
       "    </tr>\n",
       "    <tr>\n",
       "      <th>3</th>\n",
       "      <td>Yes</td>\n",
       "      <td>Curse</td>\n",
       "    </tr>\n",
       "    <tr>\n",
       "      <th>4</th>\n",
       "      <td>Yes</td>\n",
       "      <td>Curse</td>\n",
       "    </tr>\n",
       "    <tr>\n",
       "      <th>5</th>\n",
       "      <td>No</td>\n",
       "      <td>Jinx</td>\n",
       "    </tr>\n",
       "    <tr>\n",
       "      <th>6</th>\n",
       "      <td>Yes</td>\n",
       "      <td>Curse</td>\n",
       "    </tr>\n",
       "  </tbody>\n",
       "</table>\n",
       "</div>"
      ],
      "text/plain": [
       "  Dark Magic   Type\n",
       "0         No  Charm\n",
       "1         No  Charm\n",
       "2         No  Charm\n",
       "3        Yes  Curse\n",
       "4        Yes  Curse\n",
       "5         No   Jinx\n",
       "6        Yes  Curse"
      ]
     },
     "execution_count": 63,
     "metadata": {},
     "output_type": "execute_result"
    }
   ],
   "source": [
    "more_info_df = pd.DataFrame({'Dark Magic': ['No', 'No', 'No', 'Yes', 'Yes', 'No', 'Yes'], \n",
    "                             'Type': ['Charm', 'Charm', 'Charm', 'Curse', 'Curse', 'Jinx', 'Curse']})\n",
    "more_info_df"
   ]
  },
  {
   "cell_type": "code",
   "execution_count": 64,
   "metadata": {
    "colab": {
     "base_uri": "https://localhost:8080/",
     "height": 225
    },
    "colab_type": "code",
    "id": "O-IA4QUcQycc",
    "outputId": "1e3cfc15-e7aa-4c00-fa92-691ec0043056"
   },
   "outputs": [
    {
     "data": {
      "text/html": [
       "<div>\n",
       "<style scoped>\n",
       "    .dataframe tbody tr th:only-of-type {\n",
       "        vertical-align: middle;\n",
       "    }\n",
       "\n",
       "    .dataframe tbody tr th {\n",
       "        vertical-align: top;\n",
       "    }\n",
       "\n",
       "    .dataframe thead th {\n",
       "        text-align: right;\n",
       "    }\n",
       "</style>\n",
       "<table border=\"1\" class=\"dataframe\">\n",
       "  <thead>\n",
       "    <tr style=\"text-align: right;\">\n",
       "      <th></th>\n",
       "      <th>Spell</th>\n",
       "      <th>Incantation</th>\n",
       "      <th>Dark Magic</th>\n",
       "      <th>Type</th>\n",
       "    </tr>\n",
       "  </thead>\n",
       "  <tbody>\n",
       "    <tr>\n",
       "      <th>0</th>\n",
       "      <td>Summoning Charm</td>\n",
       "      <td>Accio</td>\n",
       "      <td>No</td>\n",
       "      <td>Charm</td>\n",
       "    </tr>\n",
       "    <tr>\n",
       "      <th>1</th>\n",
       "      <td>Patronus Charm</td>\n",
       "      <td>Excpecto Patronum</td>\n",
       "      <td>No</td>\n",
       "      <td>Charm</td>\n",
       "    </tr>\n",
       "    <tr>\n",
       "      <th>2</th>\n",
       "      <td>Disarming Charm</td>\n",
       "      <td>Expelliarmus</td>\n",
       "      <td>No</td>\n",
       "      <td>Charm</td>\n",
       "    </tr>\n",
       "    <tr>\n",
       "      <th>3</th>\n",
       "      <td>Killing Curse</td>\n",
       "      <td>Avada Kedavra</td>\n",
       "      <td>Yes</td>\n",
       "      <td>Curse</td>\n",
       "    </tr>\n",
       "    <tr>\n",
       "      <th>4</th>\n",
       "      <td>Cruciatus Curse</td>\n",
       "      <td>Crucio</td>\n",
       "      <td>Yes</td>\n",
       "      <td>Curse</td>\n",
       "    </tr>\n",
       "    <tr>\n",
       "      <th>5</th>\n",
       "      <td>Impediment Jinx</td>\n",
       "      <td>Impedimenta</td>\n",
       "      <td>No</td>\n",
       "      <td>Jinx</td>\n",
       "    </tr>\n",
       "    <tr>\n",
       "      <th>6</th>\n",
       "      <td>Dark Mark</td>\n",
       "      <td>Morsmordre</td>\n",
       "      <td>Yes</td>\n",
       "      <td>Curse</td>\n",
       "    </tr>\n",
       "  </tbody>\n",
       "</table>\n",
       "</div>"
      ],
      "text/plain": [
       "             Spell        Incantation Dark Magic   Type\n",
       "0  Summoning Charm              Accio         No  Charm\n",
       "1   Patronus Charm  Excpecto Patronum         No  Charm\n",
       "2  Disarming Charm       Expelliarmus         No  Charm\n",
       "3    Killing Curse      Avada Kedavra        Yes  Curse\n",
       "4  Cruciatus Curse             Crucio        Yes  Curse\n",
       "5  Impediment Jinx        Impedimenta         No   Jinx\n",
       "6        Dark Mark         Morsmordre        Yes  Curse"
      ]
     },
     "execution_count": 64,
     "metadata": {},
     "output_type": "execute_result"
    }
   ],
   "source": [
    "df = pd.concat([incantations_df, more_info_df], axis=1)\n",
    "df"
   ]
  },
  {
   "cell_type": "markdown",
   "metadata": {
    "colab_type": "text",
    "id": "la4zf_X4Ry4e"
   },
   "source": [
    "Note the difference between `.concat(axis=1)` and `.merge()`. We would use `.concat()` when there isn't a duplicate column (a key), and `.merge()` when there is one."
   ]
  },
  {
   "cell_type": "markdown",
   "metadata": {},
   "source": [
    "# TLDR"
   ]
  },
  {
   "cell_type": "markdown",
   "metadata": {},
   "source": [
    "Data cleaning is one of the most important parts of any data workflow. Pandas provides incredibly powerful tools, if you can weld them properly. Here's a quick recap of some helpful functions. Not sure what parameters they accept? Use the `?function` shortcut to quickly pull the documentation.\n",
    "\n",
    "Checking Data Types:\n",
    "\n",
    "- `df.info()`\n",
    "- `df.column.astype()`\n",
    "\n",
    "Mapping Values:\n",
    "\n",
    "- `df.drop()`\n",
    "- `df.rename()`\n",
    "- `df.columns.replace()`\n",
    "\n",
    "Handling Missing Data (NaNs):\n",
    "\n",
    "- `df.column.isna().sum()`\n",
    "- `df.column.fillna()`\n",
    "\n",
    "Working with Strings:\n",
    "\n",
    "- `df.column.str.lower()`\n",
    "- `df.column.str.split()`\n",
    "- `df.column.str.contains()`\n",
    "\n",
    "Working with DateTime:\n",
    "\n",
    "- `pd.to_datetime(df.column)`\n",
    "- `df.column.dt.month()`\n",
    "- `df[df.column < pd.to_datetime('some date')]`\n",
    "\n",
    "Joining Data:\n",
    "\n",
    "- `pd.merge()`\n",
    "- `pd.concat()`"
   ]
  }
 ],
 "metadata": {
  "colab": {
   "collapsed_sections": [],
   "name": "NBW3 - Cleaning",
   "provenance": []
  },
  "kernelspec": {
   "display_name": "Python 3",
   "language": "python",
   "name": "python3"
  },
  "language_info": {
   "codemirror_mode": {
    "name": "ipython",
    "version": 3
   },
   "file_extension": ".py",
   "mimetype": "text/x-python",
   "name": "python",
   "nbconvert_exporter": "python",
   "pygments_lexer": "ipython3",
   "version": "3.8.10"
  },
  "vscode": {
   "interpreter": {
    "hash": "fc5d429d9044e08e0dbe900b0b6be941aa8fe99e727e7e32e9f2e2984a2dbd6c"
   }
  }
 },
 "nbformat": 4,
 "nbformat_minor": 1
}
