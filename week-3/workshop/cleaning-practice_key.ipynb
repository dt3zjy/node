{
 "cells": [
  {
   "cell_type": "markdown",
   "metadata": {
    "id": "5zpVr0ZMSeth"
   },
   "source": [
    "# Food at Hogwarts"
   ]
  },
  {
   "cell_type": "markdown",
   "metadata": {},
   "source": [
    "Start by importing the necessary libraries"
   ]
  },
  {
   "cell_type": "code",
   "execution_count": 1,
   "metadata": {
    "id": "PcZXZo6y-otf"
   },
   "outputs": [],
   "source": [
    "# Import the pandas library\n",
    "import pandas as pd\n",
    "import numpy as np"
   ]
  },
  {
   "cell_type": "markdown",
   "metadata": {
    "id": "FDxnMxFdSs4G"
   },
   "source": [
    "Read in the data from the csv files. This time, we'll be working with two csv files. Make sure to name them different things (items and sales)!\n",
    "\n",
    "URL1: https://raw.githubusercontent.com/ishaandey/node/master/week-3/workshop/items.csv\n",
    "<br>URL2: https://raw.githubusercontent.com/ishaandey/node/master/week-3/workshop/sales.csv"
   ]
  },
  {
   "cell_type": "code",
   "execution_count": 2,
   "metadata": {
    "id": "zKey9ee7DOgb"
   },
   "outputs": [],
   "source": [
    "# Read in the data from both \n",
    "items=pd.read_csv('https://raw.githubusercontent.com/ishaandey/node/master/week-3/workshop/items.csv')\n",
    "sales=pd.read_csv('https://raw.githubusercontent.com/ishaandey/node/master/week-3/workshop/sales.csv')"
   ]
  },
  {
   "cell_type": "markdown",
   "metadata": {
    "id": "Zw5vvwxAS1lz"
   },
   "source": [
    "Take a look at the data you'll be working with in each dataframe"
   ]
  },
  {
   "cell_type": "code",
   "execution_count": 3,
   "metadata": {
    "colab": {
     "base_uri": "https://localhost:8080/"
    },
    "executionInfo": {
     "elapsed": 613,
     "status": "ok",
     "timestamp": 1614458930034,
     "user": {
      "displayName": "Brittany Nguyen",
      "photoUrl": "",
      "userId": "14120012136612871353"
     },
     "user_tz": 300
    },
    "id": "3Rx6dLz8D4If",
    "outputId": "044b0b7b-b6b6-41af-bb15-da161f7d24df"
   },
   "outputs": [
    {
     "name": "stdout",
     "output_type": "stream",
     "text": [
      "<class 'pandas.core.frame.DataFrame'>\n",
      "RangeIndex: 20 entries, 0 to 19\n",
      "Data columns (total 5 columns):\n",
      " #   Column             Non-Null Count  Dtype \n",
      "---  ------             --------------  ----- \n",
      " 0   item_id            20 non-null     int64 \n",
      " 1   item_name          20 non-null     object\n",
      " 2   food_category      20 non-null     object\n",
      " 3   item_supplier      20 non-null     object\n",
      " 4   house_affiliation  20 non-null     object\n",
      "dtypes: int64(1), object(4)\n",
      "memory usage: 928.0+ bytes\n",
      "None\n",
      "<class 'pandas.core.frame.DataFrame'>\n",
      "RangeIndex: 50 entries, 0 to 49\n",
      "Data columns (total 7 columns):\n",
      " #   Column          Non-Null Count  Dtype  \n",
      "---  ------          --------------  -----  \n",
      " 0   sale_id         50 non-null     int64  \n",
      " 1   credit_card     50 non-null     float64\n",
      " 2   customer_email  40 non-null     object \n",
      " 3   first_name      50 non-null     object \n",
      " 4   last_name       50 non-null     object \n",
      " 5   date_time       50 non-null     object \n",
      " 6   item_id         50 non-null     int64  \n",
      "dtypes: float64(1), int64(2), object(4)\n",
      "memory usage: 2.9+ KB\n",
      "None\n"
     ]
    }
   ],
   "source": [
    "# Check out the info for both the item and sale dataframes\n",
    "print(items.info())\n",
    "print(sales.info())"
   ]
  },
  {
   "cell_type": "code",
   "execution_count": 4,
   "metadata": {
    "colab": {
     "base_uri": "https://localhost:8080/",
     "height": 204
    },
    "executionInfo": {
     "elapsed": 405,
     "status": "ok",
     "timestamp": 1614458988028,
     "user": {
      "displayName": "Brittany Nguyen",
      "photoUrl": "",
      "userId": "14120012136612871353"
     },
     "user_tz": 300
    },
    "id": "RjfIwXWjEQrg",
    "outputId": "fe10d83b-032e-49a2-c81a-a79032a7e885"
   },
   "outputs": [
    {
     "data": {
      "text/html": [
       "<div>\n",
       "<style scoped>\n",
       "    .dataframe tbody tr th:only-of-type {\n",
       "        vertical-align: middle;\n",
       "    }\n",
       "\n",
       "    .dataframe tbody tr th {\n",
       "        vertical-align: top;\n",
       "    }\n",
       "\n",
       "    .dataframe thead th {\n",
       "        text-align: right;\n",
       "    }\n",
       "</style>\n",
       "<table border=\"1\" class=\"dataframe\">\n",
       "  <thead>\n",
       "    <tr style=\"text-align: right;\">\n",
       "      <th></th>\n",
       "      <th>sale_id</th>\n",
       "      <th>credit_card</th>\n",
       "      <th>customer_email</th>\n",
       "      <th>first_name</th>\n",
       "      <th>last_name</th>\n",
       "      <th>date_time</th>\n",
       "      <th>item_id</th>\n",
       "    </tr>\n",
       "  </thead>\n",
       "  <tbody>\n",
       "    <tr>\n",
       "      <th>0</th>\n",
       "      <td>1</td>\n",
       "      <td>3.050640e+13</td>\n",
       "      <td>sgoreisr0@e-recht24.de</td>\n",
       "      <td>Sidoney</td>\n",
       "      <td>Goreisr</td>\n",
       "      <td>1/16/21 4:40</td>\n",
       "      <td>4</td>\n",
       "    </tr>\n",
       "    <tr>\n",
       "      <th>1</th>\n",
       "      <td>2</td>\n",
       "      <td>6.377630e+15</td>\n",
       "      <td>mmonday1@dot.gov</td>\n",
       "      <td>Melita</td>\n",
       "      <td>Monday</td>\n",
       "      <td>5/18/20 8:18</td>\n",
       "      <td>4</td>\n",
       "    </tr>\n",
       "    <tr>\n",
       "      <th>2</th>\n",
       "      <td>3</td>\n",
       "      <td>3.532050e+15</td>\n",
       "      <td>lmaccallister2@theglobeandmail.com</td>\n",
       "      <td>Levi</td>\n",
       "      <td>MacCallister</td>\n",
       "      <td>8/26/20 13:15</td>\n",
       "      <td>17</td>\n",
       "    </tr>\n",
       "    <tr>\n",
       "      <th>3</th>\n",
       "      <td>4</td>\n",
       "      <td>3.536160e+15</td>\n",
       "      <td>NaN</td>\n",
       "      <td>Lisette</td>\n",
       "      <td>Cymper</td>\n",
       "      <td>4/17/20 2:03</td>\n",
       "      <td>14</td>\n",
       "    </tr>\n",
       "    <tr>\n",
       "      <th>4</th>\n",
       "      <td>5</td>\n",
       "      <td>3.727260e+14</td>\n",
       "      <td>sklossek4@gmpg.org</td>\n",
       "      <td>Seth</td>\n",
       "      <td>Klossek</td>\n",
       "      <td>6/21/20 20:43</td>\n",
       "      <td>2</td>\n",
       "    </tr>\n",
       "  </tbody>\n",
       "</table>\n",
       "</div>"
      ],
      "text/plain": [
       "   sale_id   credit_card                      customer_email first_name  \\\n",
       "0        1  3.050640e+13              sgoreisr0@e-recht24.de    Sidoney   \n",
       "1        2  6.377630e+15                    mmonday1@dot.gov     Melita   \n",
       "2        3  3.532050e+15  lmaccallister2@theglobeandmail.com       Levi   \n",
       "3        4  3.536160e+15                                 NaN    Lisette   \n",
       "4        5  3.727260e+14                  sklossek4@gmpg.org       Seth   \n",
       "\n",
       "      last_name      date_time  item_id  \n",
       "0       Goreisr   1/16/21 4:40        4  \n",
       "1        Monday   5/18/20 8:18        4  \n",
       "2  MacCallister  8/26/20 13:15       17  \n",
       "3        Cymper   4/17/20 2:03       14  \n",
       "4       Klossek  6/21/20 20:43        2  "
      ]
     },
     "execution_count": 4,
     "metadata": {},
     "output_type": "execute_result"
    }
   ],
   "source": [
    "# View the first five few rows of each dataframe.\n",
    "items.head(5)\n",
    "sales.head(5)"
   ]
  },
  {
   "cell_type": "markdown",
   "metadata": {
    "id": "nf0mgX5uT6S7"
   },
   "source": [
    "The sales dataframe tells us who bought different food items at hogwarts, but somehow the names of the items got lost! The dataframe does still have the item ids though. We can use the items dataframe to match the ids in that dataframe with the ones of the item ids in the sales dataframe to merge the two datasets. Save the merged dataframe to a new dataframe called merged_data"
   ]
  },
  {
   "cell_type": "code",
   "execution_count": 5,
   "metadata": {
    "colab": {
     "base_uri": "https://localhost:8080/",
     "height": 326
    },
    "executionInfo": {
     "elapsed": 385,
     "status": "ok",
     "timestamp": 1614458995529,
     "user": {
      "displayName": "Brittany Nguyen",
      "photoUrl": "",
      "userId": "14120012136612871353"
     },
     "user_tz": 300
    },
    "id": "BAO6wfcqEDQf",
    "outputId": "c1ce7234-2bae-4148-847f-24a71b5952c9"
   },
   "outputs": [
    {
     "data": {
      "text/html": [
       "<div>\n",
       "<style scoped>\n",
       "    .dataframe tbody tr th:only-of-type {\n",
       "        vertical-align: middle;\n",
       "    }\n",
       "\n",
       "    .dataframe tbody tr th {\n",
       "        vertical-align: top;\n",
       "    }\n",
       "\n",
       "    .dataframe thead th {\n",
       "        text-align: right;\n",
       "    }\n",
       "</style>\n",
       "<table border=\"1\" class=\"dataframe\">\n",
       "  <thead>\n",
       "    <tr style=\"text-align: right;\">\n",
       "      <th></th>\n",
       "      <th>sale_id</th>\n",
       "      <th>credit_card</th>\n",
       "      <th>customer_email</th>\n",
       "      <th>first_name</th>\n",
       "      <th>last_name</th>\n",
       "      <th>date_time</th>\n",
       "      <th>item_id</th>\n",
       "      <th>item_name</th>\n",
       "      <th>food_category</th>\n",
       "      <th>item_supplier</th>\n",
       "      <th>house_affiliation</th>\n",
       "    </tr>\n",
       "  </thead>\n",
       "  <tbody>\n",
       "    <tr>\n",
       "      <th>0</th>\n",
       "      <td>1</td>\n",
       "      <td>3.050640e+13</td>\n",
       "      <td>sgoreisr0@e-recht24.de</td>\n",
       "      <td>Sidoney</td>\n",
       "      <td>Goreisr</td>\n",
       "      <td>1/16/21 4:40</td>\n",
       "      <td>4</td>\n",
       "      <td>Cockroach Clusters</td>\n",
       "      <td>Food</td>\n",
       "      <td>Wintheiser Group</td>\n",
       "      <td>Ravenclaw</td>\n",
       "    </tr>\n",
       "    <tr>\n",
       "      <th>1</th>\n",
       "      <td>2</td>\n",
       "      <td>6.377630e+15</td>\n",
       "      <td>mmonday1@dot.gov</td>\n",
       "      <td>Melita</td>\n",
       "      <td>Monday</td>\n",
       "      <td>5/18/20 8:18</td>\n",
       "      <td>4</td>\n",
       "      <td>Cockroach Clusters</td>\n",
       "      <td>Food</td>\n",
       "      <td>Wintheiser Group</td>\n",
       "      <td>Ravenclaw</td>\n",
       "    </tr>\n",
       "    <tr>\n",
       "      <th>2</th>\n",
       "      <td>3</td>\n",
       "      <td>3.532050e+15</td>\n",
       "      <td>lmaccallister2@theglobeandmail.com</td>\n",
       "      <td>Levi</td>\n",
       "      <td>MacCallister</td>\n",
       "      <td>8/26/20 13:15</td>\n",
       "      <td>17</td>\n",
       "      <td>Sherbet Lemon</td>\n",
       "      <td>Dessert</td>\n",
       "      <td>Kreiger Inc</td>\n",
       "      <td>Ravenclaw</td>\n",
       "    </tr>\n",
       "    <tr>\n",
       "      <th>3</th>\n",
       "      <td>4</td>\n",
       "      <td>3.536160e+15</td>\n",
       "      <td>NaN</td>\n",
       "      <td>Lisette</td>\n",
       "      <td>Cymper</td>\n",
       "      <td>4/17/20 2:03</td>\n",
       "      <td>14</td>\n",
       "      <td>Hogwarts Steak And Kidney Pie</td>\n",
       "      <td>Dessert</td>\n",
       "      <td>Tillman, Koch and Torphy</td>\n",
       "      <td>Gryffindor</td>\n",
       "    </tr>\n",
       "    <tr>\n",
       "      <th>4</th>\n",
       "      <td>5</td>\n",
       "      <td>3.727260e+14</td>\n",
       "      <td>sklossek4@gmpg.org</td>\n",
       "      <td>Seth</td>\n",
       "      <td>Klossek</td>\n",
       "      <td>6/21/20 20:43</td>\n",
       "      <td>2</td>\n",
       "      <td>Hagrid's Rock Cakes</td>\n",
       "      <td>Dessert</td>\n",
       "      <td>Swift, Padberg and Farrell</td>\n",
       "      <td>Slytherin</td>\n",
       "    </tr>\n",
       "  </tbody>\n",
       "</table>\n",
       "</div>"
      ],
      "text/plain": [
       "   sale_id   credit_card                      customer_email first_name  \\\n",
       "0        1  3.050640e+13              sgoreisr0@e-recht24.de    Sidoney   \n",
       "1        2  6.377630e+15                    mmonday1@dot.gov     Melita   \n",
       "2        3  3.532050e+15  lmaccallister2@theglobeandmail.com       Levi   \n",
       "3        4  3.536160e+15                                 NaN    Lisette   \n",
       "4        5  3.727260e+14                  sklossek4@gmpg.org       Seth   \n",
       "\n",
       "      last_name      date_time  item_id                      item_name  \\\n",
       "0       Goreisr   1/16/21 4:40        4             Cockroach Clusters   \n",
       "1        Monday   5/18/20 8:18        4             Cockroach Clusters   \n",
       "2  MacCallister  8/26/20 13:15       17                  Sherbet Lemon   \n",
       "3        Cymper   4/17/20 2:03       14  Hogwarts Steak And Kidney Pie   \n",
       "4       Klossek  6/21/20 20:43        2            Hagrid's Rock Cakes   \n",
       "\n",
       "  food_category               item_supplier house_affiliation  \n",
       "0          Food            Wintheiser Group         Ravenclaw  \n",
       "1          Food            Wintheiser Group         Ravenclaw  \n",
       "2       Dessert                 Kreiger Inc         Ravenclaw  \n",
       "3       Dessert    Tillman, Koch and Torphy        Gryffindor  \n",
       "4       Dessert  Swift, Padberg and Farrell         Slytherin  "
      ]
     },
     "execution_count": 5,
     "metadata": {},
     "output_type": "execute_result"
    }
   ],
   "source": [
    "# Merge the sale and item data frames\n",
    "# (Hint:experiment with values for the 'how' argument)\n",
    "merged_data=pd.merge(sales,items,how='left',on='item_id')\n",
    "merged_data.head()"
   ]
  },
  {
   "cell_type": "markdown",
   "metadata": {
    "id": "fNpq13aEW08V"
   },
   "source": [
    "Next, get rid of the credit card column to protect the costuomers' personal information"
   ]
  },
  {
   "cell_type": "code",
   "execution_count": 6,
   "metadata": {
    "colab": {
     "base_uri": "https://localhost:8080/",
     "height": 326
    },
    "executionInfo": {
     "elapsed": 771,
     "status": "ok",
     "timestamp": 1614458930269,
     "user": {
      "displayName": "Brittany Nguyen",
      "photoUrl": "",
      "userId": "14120012136612871353"
     },
     "user_tz": 300
    },
    "id": "h82L7qx0KEbO",
    "outputId": "f7cead46-64b0-4803-c9ff-0b5cc22b8647"
   },
   "outputs": [
    {
     "data": {
      "text/html": [
       "<div>\n",
       "<style scoped>\n",
       "    .dataframe tbody tr th:only-of-type {\n",
       "        vertical-align: middle;\n",
       "    }\n",
       "\n",
       "    .dataframe tbody tr th {\n",
       "        vertical-align: top;\n",
       "    }\n",
       "\n",
       "    .dataframe thead th {\n",
       "        text-align: right;\n",
       "    }\n",
       "</style>\n",
       "<table border=\"1\" class=\"dataframe\">\n",
       "  <thead>\n",
       "    <tr style=\"text-align: right;\">\n",
       "      <th></th>\n",
       "      <th>sale_id</th>\n",
       "      <th>customer_email</th>\n",
       "      <th>first_name</th>\n",
       "      <th>last_name</th>\n",
       "      <th>date_time</th>\n",
       "      <th>item_id</th>\n",
       "      <th>item_name</th>\n",
       "      <th>food_category</th>\n",
       "      <th>item_supplier</th>\n",
       "      <th>house_affiliation</th>\n",
       "    </tr>\n",
       "  </thead>\n",
       "  <tbody>\n",
       "    <tr>\n",
       "      <th>0</th>\n",
       "      <td>1</td>\n",
       "      <td>sgoreisr0@e-recht24.de</td>\n",
       "      <td>Sidoney</td>\n",
       "      <td>Goreisr</td>\n",
       "      <td>1/16/21 4:40</td>\n",
       "      <td>4</td>\n",
       "      <td>Cockroach Clusters</td>\n",
       "      <td>Food</td>\n",
       "      <td>Wintheiser Group</td>\n",
       "      <td>Ravenclaw</td>\n",
       "    </tr>\n",
       "    <tr>\n",
       "      <th>1</th>\n",
       "      <td>2</td>\n",
       "      <td>mmonday1@dot.gov</td>\n",
       "      <td>Melita</td>\n",
       "      <td>Monday</td>\n",
       "      <td>5/18/20 8:18</td>\n",
       "      <td>4</td>\n",
       "      <td>Cockroach Clusters</td>\n",
       "      <td>Food</td>\n",
       "      <td>Wintheiser Group</td>\n",
       "      <td>Ravenclaw</td>\n",
       "    </tr>\n",
       "    <tr>\n",
       "      <th>2</th>\n",
       "      <td>3</td>\n",
       "      <td>lmaccallister2@theglobeandmail.com</td>\n",
       "      <td>Levi</td>\n",
       "      <td>MacCallister</td>\n",
       "      <td>8/26/20 13:15</td>\n",
       "      <td>17</td>\n",
       "      <td>Sherbet Lemon</td>\n",
       "      <td>Dessert</td>\n",
       "      <td>Kreiger Inc</td>\n",
       "      <td>Ravenclaw</td>\n",
       "    </tr>\n",
       "    <tr>\n",
       "      <th>3</th>\n",
       "      <td>4</td>\n",
       "      <td>NaN</td>\n",
       "      <td>Lisette</td>\n",
       "      <td>Cymper</td>\n",
       "      <td>4/17/20 2:03</td>\n",
       "      <td>14</td>\n",
       "      <td>Hogwarts Steak And Kidney Pie</td>\n",
       "      <td>Dessert</td>\n",
       "      <td>Tillman, Koch and Torphy</td>\n",
       "      <td>Gryffindor</td>\n",
       "    </tr>\n",
       "    <tr>\n",
       "      <th>4</th>\n",
       "      <td>5</td>\n",
       "      <td>sklossek4@gmpg.org</td>\n",
       "      <td>Seth</td>\n",
       "      <td>Klossek</td>\n",
       "      <td>6/21/20 20:43</td>\n",
       "      <td>2</td>\n",
       "      <td>Hagrid's Rock Cakes</td>\n",
       "      <td>Dessert</td>\n",
       "      <td>Swift, Padberg and Farrell</td>\n",
       "      <td>Slytherin</td>\n",
       "    </tr>\n",
       "  </tbody>\n",
       "</table>\n",
       "</div>"
      ],
      "text/plain": [
       "   sale_id                      customer_email first_name     last_name  \\\n",
       "0        1              sgoreisr0@e-recht24.de    Sidoney       Goreisr   \n",
       "1        2                    mmonday1@dot.gov     Melita        Monday   \n",
       "2        3  lmaccallister2@theglobeandmail.com       Levi  MacCallister   \n",
       "3        4                                 NaN    Lisette        Cymper   \n",
       "4        5                  sklossek4@gmpg.org       Seth       Klossek   \n",
       "\n",
       "       date_time  item_id                      item_name food_category  \\\n",
       "0   1/16/21 4:40        4             Cockroach Clusters          Food   \n",
       "1   5/18/20 8:18        4             Cockroach Clusters          Food   \n",
       "2  8/26/20 13:15       17                  Sherbet Lemon       Dessert   \n",
       "3   4/17/20 2:03       14  Hogwarts Steak And Kidney Pie       Dessert   \n",
       "4  6/21/20 20:43        2            Hagrid's Rock Cakes       Dessert   \n",
       "\n",
       "                item_supplier house_affiliation  \n",
       "0            Wintheiser Group         Ravenclaw  \n",
       "1            Wintheiser Group         Ravenclaw  \n",
       "2                 Kreiger Inc         Ravenclaw  \n",
       "3    Tillman, Koch and Torphy        Gryffindor  \n",
       "4  Swift, Padberg and Farrell         Slytherin  "
      ]
     },
     "execution_count": 6,
     "metadata": {},
     "output_type": "execute_result"
    }
   ],
   "source": [
    "# Remove the credit card column\n",
    "merged_data=merged_data.drop(columns='credit_card')\n",
    "merged_data.head()"
   ]
  },
  {
   "cell_type": "markdown",
   "metadata": {
    "id": "IgZg2RvkXuNQ"
   },
   "source": [
    "It looks like some people forgot to put an email when they were filling out the form. Subset the data to get only the customers with a missing value for the email so we can find them to get their email and save it in a new dataframe called subset_data. We'll use this new dataframe to get their names."
   ]
  },
  {
   "cell_type": "code",
   "execution_count": 7,
   "metadata": {
    "colab": {
     "base_uri": "https://localhost:8080/"
    },
    "executionInfo": {
     "elapsed": 482,
     "status": "ok",
     "timestamp": 1614459020210,
     "user": {
      "displayName": "Brittany Nguyen",
      "photoUrl": "",
      "userId": "14120012136612871353"
     },
     "user_tz": 300
    },
    "id": "5KJN-nZBK4tD",
    "outputId": "0dc4054a-1e7c-4c32-c2fd-b7671bbad442"
   },
   "outputs": [
    {
     "data": {
      "text/plain": [
       "10"
      ]
     },
     "execution_count": 7,
     "metadata": {},
     "output_type": "execute_result"
    }
   ],
   "source": [
    "# Find the number of customers who do not have an email\n",
    "merged_data[merged_data.customer_email.isna()].shape[0]"
   ]
  },
  {
   "cell_type": "code",
   "execution_count": 8,
   "metadata": {
    "colab": {
     "base_uri": "https://localhost:8080/",
     "height": 787
    },
    "executionInfo": {
     "elapsed": 740,
     "status": "ok",
     "timestamp": 1614459014072,
     "user": {
      "displayName": "Brittany Nguyen",
      "photoUrl": "",
      "userId": "14120012136612871353"
     },
     "user_tz": 300
    },
    "id": "mirngI7nFuwI",
    "outputId": "c54e0452-676a-485a-b40d-8e06f6258f69"
   },
   "outputs": [
    {
     "data": {
      "text/html": [
       "<div>\n",
       "<style scoped>\n",
       "    .dataframe tbody tr th:only-of-type {\n",
       "        vertical-align: middle;\n",
       "    }\n",
       "\n",
       "    .dataframe tbody tr th {\n",
       "        vertical-align: top;\n",
       "    }\n",
       "\n",
       "    .dataframe thead th {\n",
       "        text-align: right;\n",
       "    }\n",
       "</style>\n",
       "<table border=\"1\" class=\"dataframe\">\n",
       "  <thead>\n",
       "    <tr style=\"text-align: right;\">\n",
       "      <th></th>\n",
       "      <th>sale_id</th>\n",
       "      <th>customer_email</th>\n",
       "      <th>first_name</th>\n",
       "      <th>last_name</th>\n",
       "      <th>date_time</th>\n",
       "      <th>item_id</th>\n",
       "      <th>item_name</th>\n",
       "      <th>food_category</th>\n",
       "      <th>item_supplier</th>\n",
       "      <th>house_affiliation</th>\n",
       "    </tr>\n",
       "  </thead>\n",
       "  <tbody>\n",
       "    <tr>\n",
       "      <th>3</th>\n",
       "      <td>4</td>\n",
       "      <td>NaN</td>\n",
       "      <td>Lisette</td>\n",
       "      <td>Cymper</td>\n",
       "      <td>4/17/20 2:03</td>\n",
       "      <td>14</td>\n",
       "      <td>Hogwarts Steak And Kidney Pie</td>\n",
       "      <td>Dessert</td>\n",
       "      <td>Tillman, Koch and Torphy</td>\n",
       "      <td>Gryffindor</td>\n",
       "    </tr>\n",
       "    <tr>\n",
       "      <th>11</th>\n",
       "      <td>12</td>\n",
       "      <td>NaN</td>\n",
       "      <td>Bondy</td>\n",
       "      <td>McGorley</td>\n",
       "      <td>1/10/21 17:40</td>\n",
       "      <td>16</td>\n",
       "      <td>Fred And George's Skiving Snackboxes</td>\n",
       "      <td>Dessert</td>\n",
       "      <td>Reinger, Waelchi and Breitenberg</td>\n",
       "      <td>Gryffindor</td>\n",
       "    </tr>\n",
       "    <tr>\n",
       "      <th>13</th>\n",
       "      <td>14</td>\n",
       "      <td>NaN</td>\n",
       "      <td>Betsy</td>\n",
       "      <td>Harman</td>\n",
       "      <td>9/7/20 6:44</td>\n",
       "      <td>7</td>\n",
       "      <td>Mrs. Dursley's Pudding</td>\n",
       "      <td>Food</td>\n",
       "      <td>Haag-Gorczany</td>\n",
       "      <td>Gryffindor</td>\n",
       "    </tr>\n",
       "    <tr>\n",
       "      <th>15</th>\n",
       "      <td>16</td>\n",
       "      <td>NaN</td>\n",
       "      <td>Sly</td>\n",
       "      <td>MacGiany</td>\n",
       "      <td>12/28/20 14:16</td>\n",
       "      <td>8</td>\n",
       "      <td>Mrs. Weasley's Corned Beef Sandwiches</td>\n",
       "      <td>Dessert</td>\n",
       "      <td>Hills, Heidenreich and Paucek</td>\n",
       "      <td>Slytherin</td>\n",
       "    </tr>\n",
       "    <tr>\n",
       "      <th>16</th>\n",
       "      <td>17</td>\n",
       "      <td>NaN</td>\n",
       "      <td>Dominic</td>\n",
       "      <td>Jekel</td>\n",
       "      <td>4/2/20 15:43</td>\n",
       "      <td>6</td>\n",
       "      <td>Bertie Bott's Every Flavor Beans</td>\n",
       "      <td>Food</td>\n",
       "      <td>Rosenbaum Group</td>\n",
       "      <td>Gryffindor</td>\n",
       "    </tr>\n",
       "    <tr>\n",
       "      <th>17</th>\n",
       "      <td>18</td>\n",
       "      <td>NaN</td>\n",
       "      <td>Feliks</td>\n",
       "      <td>Durker</td>\n",
       "      <td>4/18/20 22:15</td>\n",
       "      <td>20</td>\n",
       "      <td>Butterbeer</td>\n",
       "      <td>Dessert</td>\n",
       "      <td>Heidenreich Group</td>\n",
       "      <td>Gryffindor</td>\n",
       "    </tr>\n",
       "    <tr>\n",
       "      <th>19</th>\n",
       "      <td>20</td>\n",
       "      <td>NaN</td>\n",
       "      <td>Madalena</td>\n",
       "      <td>Purveys</td>\n",
       "      <td>5/7/20 2:17</td>\n",
       "      <td>19</td>\n",
       "      <td>Harry's Birthday Cake From Hagrid</td>\n",
       "      <td>Food</td>\n",
       "      <td>Stroman, Wolff and Bradtke</td>\n",
       "      <td>Gryffindor</td>\n",
       "    </tr>\n",
       "    <tr>\n",
       "      <th>27</th>\n",
       "      <td>28</td>\n",
       "      <td>NaN</td>\n",
       "      <td>Elwyn</td>\n",
       "      <td>Manass</td>\n",
       "      <td>3/3/20 13:03</td>\n",
       "      <td>11</td>\n",
       "      <td>Pumpkin Pasties</td>\n",
       "      <td>Dessert</td>\n",
       "      <td>Cronin and Sons</td>\n",
       "      <td>Slytherin</td>\n",
       "    </tr>\n",
       "    <tr>\n",
       "      <th>40</th>\n",
       "      <td>41</td>\n",
       "      <td>NaN</td>\n",
       "      <td>Norri</td>\n",
       "      <td>Brammall</td>\n",
       "      <td>5/31/20 12:00</td>\n",
       "      <td>16</td>\n",
       "      <td>Fred And George's Skiving Snackboxes</td>\n",
       "      <td>Dessert</td>\n",
       "      <td>Reinger, Waelchi and Breitenberg</td>\n",
       "      <td>Gryffindor</td>\n",
       "    </tr>\n",
       "    <tr>\n",
       "      <th>45</th>\n",
       "      <td>46</td>\n",
       "      <td>NaN</td>\n",
       "      <td>Chad</td>\n",
       "      <td>Atwell</td>\n",
       "      <td>5/4/20 17:07</td>\n",
       "      <td>14</td>\n",
       "      <td>Hogwarts Steak And Kidney Pie</td>\n",
       "      <td>Dessert</td>\n",
       "      <td>Tillman, Koch and Torphy</td>\n",
       "      <td>Gryffindor</td>\n",
       "    </tr>\n",
       "  </tbody>\n",
       "</table>\n",
       "</div>"
      ],
      "text/plain": [
       "    sale_id customer_email first_name last_name       date_time  item_id  \\\n",
       "3         4            NaN    Lisette    Cymper    4/17/20 2:03       14   \n",
       "11       12            NaN      Bondy  McGorley   1/10/21 17:40       16   \n",
       "13       14            NaN      Betsy    Harman     9/7/20 6:44        7   \n",
       "15       16            NaN        Sly  MacGiany  12/28/20 14:16        8   \n",
       "16       17            NaN    Dominic     Jekel    4/2/20 15:43        6   \n",
       "17       18            NaN     Feliks    Durker   4/18/20 22:15       20   \n",
       "19       20            NaN   Madalena   Purveys     5/7/20 2:17       19   \n",
       "27       28            NaN      Elwyn    Manass    3/3/20 13:03       11   \n",
       "40       41            NaN      Norri  Brammall   5/31/20 12:00       16   \n",
       "45       46            NaN       Chad    Atwell    5/4/20 17:07       14   \n",
       "\n",
       "                                item_name food_category  \\\n",
       "3           Hogwarts Steak And Kidney Pie       Dessert   \n",
       "11   Fred And George's Skiving Snackboxes       Dessert   \n",
       "13                 Mrs. Dursley's Pudding          Food   \n",
       "15  Mrs. Weasley's Corned Beef Sandwiches       Dessert   \n",
       "16       Bertie Bott's Every Flavor Beans          Food   \n",
       "17                             Butterbeer       Dessert   \n",
       "19      Harry's Birthday Cake From Hagrid          Food   \n",
       "27                        Pumpkin Pasties       Dessert   \n",
       "40   Fred And George's Skiving Snackboxes       Dessert   \n",
       "45          Hogwarts Steak And Kidney Pie       Dessert   \n",
       "\n",
       "                       item_supplier house_affiliation  \n",
       "3           Tillman, Koch and Torphy        Gryffindor  \n",
       "11  Reinger, Waelchi and Breitenberg        Gryffindor  \n",
       "13                     Haag-Gorczany        Gryffindor  \n",
       "15     Hills, Heidenreich and Paucek         Slytherin  \n",
       "16                   Rosenbaum Group        Gryffindor  \n",
       "17                 Heidenreich Group        Gryffindor  \n",
       "19        Stroman, Wolff and Bradtke        Gryffindor  \n",
       "27                   Cronin and Sons         Slytherin  \n",
       "40  Reinger, Waelchi and Breitenberg        Gryffindor  \n",
       "45          Tillman, Koch and Torphy        Gryffindor  "
      ]
     },
     "execution_count": 8,
     "metadata": {},
     "output_type": "execute_result"
    }
   ],
   "source": [
    "# Subset the data to only the customers with a missing value for the email\n",
    "subset_data=merged_data[merged_data.customer_email.isna()]\n",
    "subset_data\n"
   ]
  },
  {
   "cell_type": "code",
   "execution_count": 9,
   "metadata": {
    "colab": {
     "base_uri": "https://localhost:8080/"
    },
    "executionInfo": {
     "elapsed": 783,
     "status": "ok",
     "timestamp": 1614458930265,
     "user": {
      "displayName": "Brittany Nguyen",
      "photoUrl": "",
      "userId": "14120012136612871353"
     },
     "user_tz": 300
    },
    "id": "BH_7dqWlGNud",
    "outputId": "b432ba7c-25ad-4ad3-d258-dbdace156277"
   },
   "outputs": [
    {
     "data": {
      "text/plain": [
       "3      Lisette\n",
       "11       Bondy\n",
       "13       Betsy\n",
       "15         Sly\n",
       "16     Dominic\n",
       "17      Feliks\n",
       "19    Madalena\n",
       "27       Elwyn\n",
       "40       Norri\n",
       "45        Chad\n",
       "Name: first_name, dtype: object"
      ]
     },
     "execution_count": 9,
     "metadata": {},
     "output_type": "execute_result"
    }
   ],
   "source": [
    "# Extract the first names of customers without emails\n",
    "subset_data['first_name']"
   ]
  },
  {
   "cell_type": "markdown",
   "metadata": {
    "id": "RtyoXWIhawK7"
   },
   "source": [
    "Let's check which domain name are most popular in the customer emails (.com, .gov, etc)."
   ]
  },
  {
   "cell_type": "code",
   "execution_count": 10,
   "metadata": {
    "id": "g9kNKNyRa2SQ"
   },
   "outputs": [],
   "source": [
    "# First subset the data so we only get the emails for the customers who entered one and store it in a new dataframe\n",
    "emails_present=merged_data[merged_data['customer_email'].notna()]"
   ]
  },
  {
   "cell_type": "code",
   "execution_count": 11,
   "metadata": {
    "colab": {
     "base_uri": "https://localhost:8080/"
    },
    "executionInfo": {
     "elapsed": 765,
     "status": "ok",
     "timestamp": 1614458930271,
     "user": {
      "displayName": "Brittany Nguyen",
      "photoUrl": "",
      "userId": "14120012136612871353"
     },
     "user_tz": 300
    },
    "id": "e4djHU9YKhX6",
    "outputId": "f35bdbad-f65a-4bb2-e0b4-6c3bc50ae2a3"
   },
   "outputs": [
    {
     "data": {
      "text/plain": [
       "com    0.675\n",
       "org    0.050\n",
       "co     0.050\n",
       "edu    0.025\n",
       "net    0.025\n",
       "uk     0.025\n",
       "jp     0.025\n",
       "gov    0.025\n",
       "mil    0.025\n",
       "de     0.025\n",
       "ru     0.025\n",
       "ne     0.025\n",
       "Name: customer_email, dtype: float64"
      ]
     },
     "execution_count": 11,
     "metadata": {},
     "output_type": "execute_result"
    }
   ],
   "source": [
    "# Split the customer emails in the new dataframe to get just the stuff after the . and get the proportions of each type\n",
    "emails_present['customer_email'].str.split('@').apply(lambda x: x[1]).str.split('.').apply(lambda x: x[1]).value_counts(normalize=True)"
   ]
  },
  {
   "cell_type": "markdown",
   "metadata": {
    "id": "bXkLRCdhah8z"
   },
   "source": [
    "One of the uses for the customer's emails is for marketing! Let's find out which houses have the biggest affilitations with items so we know who to target"
   ]
  },
  {
   "cell_type": "code",
   "execution_count": 12,
   "metadata": {
    "colab": {
     "base_uri": "https://localhost:8080/"
    },
    "executionInfo": {
     "elapsed": 777,
     "status": "ok",
     "timestamp": 1614458930267,
     "user": {
      "displayName": "Brittany Nguyen",
      "photoUrl": "",
      "userId": "14120012136612871353"
     },
     "user_tz": 300
    },
    "id": "8IiFAF4AGt94",
    "outputId": "8b047a6b-a7b6-48b0-ef4d-e07bac3e3068"
   },
   "outputs": [
    {
     "data": {
      "text/plain": [
       "Gryffindor    0.52\n",
       "Slytherin     0.24\n",
       "Ravenclaw     0.14\n",
       "Hufflepuff    0.10\n",
       "Name: house_affiliation, dtype: float64"
      ]
     },
     "execution_count": 12,
     "metadata": {},
     "output_type": "execute_result"
    }
   ],
   "source": [
    "#Find the proportions of customers belonging to each house.\n",
    "merged_data['house_affiliation'].value_counts(normalize=True)"
   ]
  },
  {
   "cell_type": "markdown",
   "metadata": {
    "id": "uoC8IgDScWtn"
   },
   "source": [
    "Let's get some more marketing information by finding out how many sales were made this month (February). Remember that we have to convert to DateTime first though!"
   ]
  },
  {
   "cell_type": "code",
   "execution_count": 13,
   "metadata": {
    "id": "HE7eeR3qcg6G"
   },
   "outputs": [],
   "source": [
    "# Convert the \"date_time\" column to DateTime type.\n",
    "merged_data['date_time']=pd.to_datetime(merged_data['date_time'])\n"
   ]
  },
  {
   "cell_type": "code",
   "execution_count": 14,
   "metadata": {
    "colab": {
     "base_uri": "https://localhost:8080/"
    },
    "executionInfo": {
     "elapsed": 746,
     "status": "ok",
     "timestamp": 1614458930274,
     "user": {
      "displayName": "Brittany Nguyen",
      "photoUrl": "",
      "userId": "14120012136612871353"
     },
     "user_tz": 300
    },
    "id": "VPblg5hBNtGM",
    "outputId": "ed37d7d4-750a-40f4-bafd-79b9c0c0399f"
   },
   "outputs": [
    {
     "data": {
      "text/plain": [
       "5"
      ]
     },
     "execution_count": 14,
     "metadata": {},
     "output_type": "execute_result"
    }
   ],
   "source": [
    "# Find the number of sales made in February\n",
    "len(merged_data[merged_data['date_time'].dt.month == 2]) "
   ]
  },
  {
   "cell_type": "markdown",
   "metadata": {
    "id": "2xCrXSREcB4H"
   },
   "source": [
    "We're renaming Butterbeer to make it more family friendly to Buttersoda :((. Replace all the instances of Butterbeer to Buttersoda and check to make sure the changes worked."
   ]
  },
  {
   "cell_type": "code",
   "execution_count": 15,
   "metadata": {
    "id": "7AzxMyjQcLMe"
   },
   "outputs": [],
   "source": [
    "# Change every instance of \"Butterbeer\" to \"Buttersoda\"\n",
    "merged_data['item_name']=merged_data['item_name'].replace({'Butterbeer':'Buttersoda'})"
   ]
  },
  {
   "cell_type": "code",
   "execution_count": 16,
   "metadata": {
    "colab": {
     "base_uri": "https://localhost:8080/",
     "height": 309
    },
    "executionInfo": {
     "elapsed": 754,
     "status": "ok",
     "timestamp": 1614458930273,
     "user": {
      "displayName": "Brittany Nguyen",
      "photoUrl": "",
      "userId": "14120012136612871353"
     },
     "user_tz": 300
    },
    "id": "xgKisO9VMjSd",
    "outputId": "c32b52e8-26c3-4243-eb3f-fb85b30501cc"
   },
   "outputs": [
    {
     "data": {
      "text/html": [
       "<div>\n",
       "<style scoped>\n",
       "    .dataframe tbody tr th:only-of-type {\n",
       "        vertical-align: middle;\n",
       "    }\n",
       "\n",
       "    .dataframe tbody tr th {\n",
       "        vertical-align: top;\n",
       "    }\n",
       "\n",
       "    .dataframe thead th {\n",
       "        text-align: right;\n",
       "    }\n",
       "</style>\n",
       "<table border=\"1\" class=\"dataframe\">\n",
       "  <thead>\n",
       "    <tr style=\"text-align: right;\">\n",
       "      <th></th>\n",
       "      <th>sale_id</th>\n",
       "      <th>customer_email</th>\n",
       "      <th>first_name</th>\n",
       "      <th>last_name</th>\n",
       "      <th>date_time</th>\n",
       "      <th>item_id</th>\n",
       "      <th>item_name</th>\n",
       "      <th>food_category</th>\n",
       "      <th>item_supplier</th>\n",
       "      <th>house_affiliation</th>\n",
       "    </tr>\n",
       "  </thead>\n",
       "  <tbody>\n",
       "    <tr>\n",
       "      <th>17</th>\n",
       "      <td>18</td>\n",
       "      <td>NaN</td>\n",
       "      <td>Feliks</td>\n",
       "      <td>Durker</td>\n",
       "      <td>2020-04-18 22:15:00</td>\n",
       "      <td>20</td>\n",
       "      <td>Buttersoda</td>\n",
       "      <td>Dessert</td>\n",
       "      <td>Heidenreich Group</td>\n",
       "      <td>Gryffindor</td>\n",
       "    </tr>\n",
       "    <tr>\n",
       "      <th>25</th>\n",
       "      <td>26</td>\n",
       "      <td>dcrispep@wordpress.com</td>\n",
       "      <td>Dorian</td>\n",
       "      <td>Crispe</td>\n",
       "      <td>2021-02-03 02:10:00</td>\n",
       "      <td>20</td>\n",
       "      <td>Buttersoda</td>\n",
       "      <td>Dessert</td>\n",
       "      <td>Heidenreich Group</td>\n",
       "      <td>Gryffindor</td>\n",
       "    </tr>\n",
       "    <tr>\n",
       "      <th>32</th>\n",
       "      <td>33</td>\n",
       "      <td>kmathivatw@woothemes.com</td>\n",
       "      <td>Krispin</td>\n",
       "      <td>Mathivat</td>\n",
       "      <td>2020-11-16 02:42:00</td>\n",
       "      <td>20</td>\n",
       "      <td>Buttersoda</td>\n",
       "      <td>Dessert</td>\n",
       "      <td>Heidenreich Group</td>\n",
       "      <td>Gryffindor</td>\n",
       "    </tr>\n",
       "    <tr>\n",
       "      <th>48</th>\n",
       "      <td>49</td>\n",
       "      <td>obindley1c@hubpages.com</td>\n",
       "      <td>Orv</td>\n",
       "      <td>Bindley</td>\n",
       "      <td>2021-01-02 19:38:00</td>\n",
       "      <td>20</td>\n",
       "      <td>Buttersoda</td>\n",
       "      <td>Dessert</td>\n",
       "      <td>Heidenreich Group</td>\n",
       "      <td>Gryffindor</td>\n",
       "    </tr>\n",
       "    <tr>\n",
       "      <th>49</th>\n",
       "      <td>50</td>\n",
       "      <td>cbartozzi1d@narod.ru</td>\n",
       "      <td>Cordi</td>\n",
       "      <td>Bartozzi</td>\n",
       "      <td>2020-11-03 02:35:00</td>\n",
       "      <td>20</td>\n",
       "      <td>Buttersoda</td>\n",
       "      <td>Dessert</td>\n",
       "      <td>Heidenreich Group</td>\n",
       "      <td>Gryffindor</td>\n",
       "    </tr>\n",
       "  </tbody>\n",
       "</table>\n",
       "</div>"
      ],
      "text/plain": [
       "    sale_id            customer_email first_name last_name  \\\n",
       "17       18                       NaN     Feliks    Durker   \n",
       "25       26    dcrispep@wordpress.com     Dorian    Crispe   \n",
       "32       33  kmathivatw@woothemes.com    Krispin  Mathivat   \n",
       "48       49   obindley1c@hubpages.com        Orv   Bindley   \n",
       "49       50      cbartozzi1d@narod.ru      Cordi  Bartozzi   \n",
       "\n",
       "             date_time  item_id   item_name food_category      item_supplier  \\\n",
       "17 2020-04-18 22:15:00       20  Buttersoda       Dessert  Heidenreich Group   \n",
       "25 2021-02-03 02:10:00       20  Buttersoda       Dessert  Heidenreich Group   \n",
       "32 2020-11-16 02:42:00       20  Buttersoda       Dessert  Heidenreich Group   \n",
       "48 2021-01-02 19:38:00       20  Buttersoda       Dessert  Heidenreich Group   \n",
       "49 2020-11-03 02:35:00       20  Buttersoda       Dessert  Heidenreich Group   \n",
       "\n",
       "   house_affiliation  \n",
       "17        Gryffindor  \n",
       "25        Gryffindor  \n",
       "32        Gryffindor  \n",
       "48        Gryffindor  \n",
       "49        Gryffindor  "
      ]
     },
     "execution_count": 16,
     "metadata": {},
     "output_type": "execute_result"
    }
   ],
   "source": [
    "# Check the change by subsetting the dataframe to only that item, Buttersoda\n",
    "merged_data[merged_data['item_name']=='Buttersoda']"
   ]
  }
 ],
 "metadata": {
  "colab": {
   "name": "workshop-3-activity-key.ipynb",
   "provenance": []
  },
  "kernelspec": {
   "display_name": "Python 3",
   "language": "python",
   "name": "python3"
  },
  "language_info": {
   "codemirror_mode": {
    "name": "ipython",
    "version": 3
   },
   "file_extension": ".py",
   "mimetype": "text/x-python",
   "name": "python",
   "nbconvert_exporter": "python",
   "pygments_lexer": "ipython3",
   "version": "3.9.9"
  }
 },
 "nbformat": 4,
 "nbformat_minor": 1
}
