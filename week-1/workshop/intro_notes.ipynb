{
 "cells": [
  {
   "cell_type": "markdown",
   "metadata": {},
   "source": [
    "# Crime Rates in Boston"
   ]
  },
  {
   "cell_type": "markdown",
   "metadata": {},
   "source": [
    "Imagine that you have been tasked with exploring the crime rates in different districts in the city of Boston through the police dataset. The specific districts we will be looking at is B2, B3, and D14. Some stats about main communities within these districts are shown below:\n",
    "\n",
    "**Mattapan and Roxbury (Districts B2 and B3)**\n",
    "- Median income: $19,362\n",
    "- Total population: 136,191\n",
    "- Unemployment rate: 13.6%\n",
    "\n",
    "**Middlesex (District D14)**\n",
    "- Median income: $59,435\n",
    "- Total population: 113,021\n",
    "- Unemployment rate: 3.4%\n",
    "\n",
    "The findings for this project will be useful in uncovering certain trends of crime throughout Boston and the communities within it. The informaiton here could determine where certain resources will be distributed within the Boston government for reducing crime. Good luck!"
   ]
  },
  {
   "cell_type": "markdown",
   "metadata": {},
   "source": [
    "## Jupyter Notebook"
   ]
  },
  {
   "cell_type": "markdown",
   "metadata": {},
   "source": [
    "First things first, let's get some terminology straight.\n",
    "- The *language* we're working in – Python 3.7 \n",
    "- The *editor* we're using is Google Colab – The code runs on Google's servers, and shows the results on our browser\n",
    "- This file is an interactive Python notebook, a `.ipynb` file. These are pretty special, also known as **Jupyter notebooks**. "
   ]
  },
  {
   "cell_type": "markdown",
   "metadata": {},
   "source": [
    "Jupyter notebooks have a few special properties that make it ideal for work with data:\n",
    " - Code is organized into cells, which can be **code** or **markdown** \n",
    " - We can run the cells in **any order**, try it out!\n",
    " - The last item returned in a cell will print automatically, no need to wrap it with `print()`"
   ]
  },
  {
   "cell_type": "code",
   "execution_count": null,
   "metadata": {
    "tags": [
     "workshop"
    ]
   },
   "outputs": [],
   "source": [
    "# Set a variable"
   ]
  },
  {
   "cell_type": "code",
   "execution_count": null,
   "metadata": {
    "tags": [
     "workshop"
    ]
   },
   "outputs": [],
   "source": [
    "# Return it without print"
   ]
  },
  {
   "cell_type": "markdown",
   "metadata": {},
   "source": [
    "Anything you can do in Python, you can do here! \n",
    "\n",
    "1. Write a function that takes a string as input, and does something to it \n",
    "2. In a new cell, call the function and test it out"
   ]
  },
  {
   "cell_type": "code",
   "execution_count": null,
   "metadata": {},
   "outputs": [],
   "source": [
    "# Write a function here"
   ]
  },
  {
   "cell_type": "code",
   "execution_count": null,
   "metadata": {},
   "outputs": [],
   "source": [
    "# Call it here"
   ]
  },
  {
   "cell_type": "markdown",
   "metadata": {},
   "source": [
    "## Importing packages"
   ]
  },
  {
   "cell_type": "markdown",
   "metadata": {},
   "source": [
    "We use the `pandas` package to easily work with data as tables.\n",
    "<br>The `numpy` package allows us to work with some other special data types, like missing values\n",
    "<br><br>We'll rename these as `pd` and `np`, just so its easier to refer to later on"
   ]
  },
  {
   "cell_type": "code",
   "execution_count": null,
   "metadata": {
    "tags": [
     "workshop"
    ]
   },
   "outputs": [],
   "source": [
    "# Import pandas and numpy"
   ]
  },
  {
   "cell_type": "markdown",
   "metadata": {},
   "source": [
    "## Importing data"
   ]
  },
  {
   "cell_type": "markdown",
   "metadata": {},
   "source": [
    "For this semester, we'll typically work with data in *tabular* format, the type you'd be used to in an excel spreadsheet. Data files saved in this format will usually have a `.csv` file ending, short for comma seperated values."
   ]
  },
  {
   "cell_type": "markdown",
   "metadata": {},
   "source": [
    "For example, a CSV file could look something like...\n",
    "\n",
    "```\n",
    "INCIDENT_NUMBER, OFFENSE_DESCRIPTION, DISTRICT, SHOOTING,\n",
    "PLTEST005, BURGLARY - RESIDENTIAL, B2 , True\n",
    "PLTEST003, INVESTIGATE PROPERTY, B2, False\n",
    "PLTEST002, INVESTIGATE PROPERTY, B2, False\n",
    "```"
   ]
  },
  {
   "cell_type": "markdown",
   "metadata": {},
   "source": [
    "To import this, let's use the `pd.read_csv()` function:"
   ]
  },
  {
   "cell_type": "code",
   "execution_count": null,
   "metadata": {},
   "outputs": [],
   "source": [
    "# Read in the dataframe\n",
    "url = 'https://raw.githubusercontent.com/dt3zjy/node/master/week-1/workshop/boston_crime.csv'"
   ]
  },
  {
   "cell_type": "markdown",
   "metadata": {},
   "source": [
    "Here, we've saved the data to a `dataframe` object named `crimes`"
   ]
  },
  {
   "cell_type": "code",
   "execution_count": null,
   "metadata": {
    "tags": [
     "workshop"
    ]
   },
   "outputs": [],
   "source": [
    "# Check the type"
   ]
  },
  {
   "cell_type": "markdown",
   "metadata": {},
   "source": [
    "DataFrames contain our data in little \"spreadsheet\"-like structures. Whatever manipulations you can think of doing to the data, you can likely search how to do "
   ]
  },
  {
   "cell_type": "markdown",
   "metadata": {},
   "source": [
    "## Exploring dataframes"
   ]
  },
  {
   "cell_type": "markdown",
   "metadata": {},
   "source": [
    "Let's take a look at the data. We'll use the function `.head()` to read in the first 5 rows"
   ]
  },
  {
   "cell_type": "code",
   "execution_count": null,
   "metadata": {
    "tags": [
     "workshop"
    ]
   },
   "outputs": [],
   "source": [
    "# Take a peek at the data"
   ]
  },
  {
   "cell_type": "markdown",
   "metadata": {},
   "source": [
    "How big is the dataset? `.shape` returns a tuple with the dimensions as (rows, columns)"
   ]
  },
  {
   "cell_type": "code",
   "execution_count": null,
   "metadata": {
    "tags": [
     "workshop"
    ]
   },
   "outputs": [],
   "source": [
    "# Show shape"
   ]
  },
  {
   "cell_type": "markdown",
   "metadata": {},
   "source": [
    "Let's try to understand our data a bit better. \n",
    "- How many different crimes are in the dataset? "
   ]
  },
  {
   "cell_type": "code",
   "execution_count": null,
   "metadata": {
    "scrolled": true,
    "tags": [
     "workshop"
    ]
   },
   "outputs": [],
   "source": [
    "# Number of unique"
   ]
  },
  {
   "cell_type": "markdown",
   "metadata": {},
   "source": [
    "- Which crime happens the most frequently?"
   ]
  },
  {
   "cell_type": "code",
   "execution_count": null,
   "metadata": {
    "tags": [
     "workshop"
    ]
   },
   "outputs": [],
   "source": [
    "# Value counts"
   ]
  },
  {
   "cell_type": "markdown",
   "metadata": {},
   "source": [
    "Show the most recent crime by sorting the dataframe:"
   ]
  },
  {
   "cell_type": "code",
   "execution_count": null,
   "metadata": {
    "tags": [
     "workshop"
    ]
   },
   "outputs": [],
   "source": [
    "# Sort values"
   ]
  },
  {
   "cell_type": "markdown",
   "metadata": {},
   "source": [
    "### Subsetting"
   ]
  },
  {
   "cell_type": "markdown",
   "metadata": {},
   "source": [
    "Subsetting is a super helpful tool. We'll take a look at this more depth in next week, but for now, here are the basics:"
   ]
  },
  {
   "cell_type": "markdown",
   "metadata": {},
   "source": [
    "We can filter rows from a dataframe based on some condition\n",
    "\n",
    "- Show crimes that happened on `WASHINGTON ST`"
   ]
  },
  {
   "cell_type": "code",
   "execution_count": null,
   "metadata": {
    "tags": [
     "workshop"
    ]
   },
   "outputs": [],
   "source": [
    "# Subset by Washington St"
   ]
  },
  {
   "cell_type": "markdown",
   "metadata": {},
   "source": [
    "How would you show only crimes north of the Museum of Fine Arts in Boston (Lat > `42.3394`)\n",
    "\n",
    "Hint: Same way as matching if statements in python, mirroring the syntax above"
   ]
  },
  {
   "cell_type": "code",
   "execution_count": null,
   "metadata": {
    "scrolled": true,
    "tags": [
     "workshop"
    ]
   },
   "outputs": [],
   "source": [
    "# Your turn!"
   ]
  },
  {
   "cell_type": "markdown",
   "metadata": {},
   "source": [
    "## Data Manipulation"
   ]
  },
  {
   "cell_type": "markdown",
   "metadata": {},
   "source": [
    "What is the percentage of crimes where a shooting occurred?"
   ]
  },
  {
   "cell_type": "code",
   "execution_count": null,
   "metadata": {},
   "outputs": [],
   "source": [
    "# Finding percentage"
   ]
  },
  {
   "cell_type": "markdown",
   "metadata": {},
   "source": [
    "## Visualization"
   ]
  },
  {
   "cell_type": "markdown",
   "metadata": {},
   "source": [
    "First things first, let's import the package to help us visualize the data, `plotly`.\n",
    "\n",
    "If this package isn't yet included, we can install it using `!pip install plotly`. More on this week 5. "
   ]
  },
  {
   "cell_type": "code",
   "execution_count": null,
   "metadata": {},
   "outputs": [],
   "source": [
    "# Import"
   ]
  },
  {
   "cell_type": "markdown",
   "metadata": {},
   "source": [
    "Note that we're using the sub package of the broader package, called `plotly express`. This simplifies a lot of the more difficult steps"
   ]
  },
  {
   "cell_type": "markdown",
   "metadata": {},
   "source": [
    "Plotly express has a broad range of options to play with, let's take a look at the documentation. \n",
    "<br>Do a quick google search to pull up documentation for `px.histogram` OR run `px.histogram?` in a Jupyter cell"
   ]
  },
  {
   "cell_type": "code",
   "execution_count": null,
   "metadata": {
    "tags": [
     "workshop"
    ]
   },
   "outputs": [],
   "source": [
    "# Find more info on px.histogram"
   ]
  },
  {
   "cell_type": "markdown",
   "metadata": {},
   "source": [
    "Let's look at the top ten most frequent crimes "
   ]
  },
  {
   "cell_type": "code",
   "execution_count": null,
   "metadata": {},
   "outputs": [],
   "source": [
    "crime_sample = crime.sample(frac=.2)\n",
    "crime_sample = crime_sample[crime_sample['OFFENSE_DESCRIPTION'].isin(crime_sample['OFFENSE_DESCRIPTION'].value_counts()[0:10].index)]"
   ]
  },
  {
   "cell_type": "code",
   "execution_count": null,
   "metadata": {
    "tags": [
     "workshop"
    ]
   },
   "outputs": [],
   "source": [
    "# Histogram"
   ]
  },
  {
   "cell_type": "markdown",
   "metadata": {},
   "source": [
    "Look at the stacked histogram. What does the data tell you?"
   ]
  },
  {
   "cell_type": "markdown",
   "metadata": {},
   "source": [
    "### Geographic Plots"
   ]
  },
  {
   "cell_type": "markdown",
   "metadata": {},
   "source": [
    "Let's take this data into a geographic plot. These crimes happen at certain PLACES, so let's see if we can find a trend.\n",
    "\n",
    "- Just because there are more data points at a certain district, does that always mean more crime will happen there?\n",
    "    - Think about where the data is coming from. Is there another story behind it?"
   ]
  },
  {
   "cell_type": "code",
   "execution_count": null,
   "metadata": {
    "tags": [
     "workshop"
    ]
   },
   "outputs": [],
   "source": [
    "fig = px.scatter_mapbox(crime_sample[crime_sample['DISTRICT']!='B2'], lat='Lat', lon='Long', mapbox_style=\"stamen-terrain\", zoom=10.5,\n",
    " color='OFFENSE_DESCRIPTION', hover_name='STREET', hover_data=['STREET','SHOOTING'],\n",
    " )\n",
    "fig.show()"
   ]
  },
  {
   "cell_type": "markdown",
   "metadata": {},
   "source": [
    "## Skim Over These Articles...\n",
    "* [Overpolicing in Boston](https://www.wgbh.org/news/local-news/2020/06/12/black-people-made-up-70-percent-of-boston-police-stops-department-data-show)\n",
    "* [What Policing Costs in Boston](https://www.vera.org/publications/what-policing-costs-in-americas-biggest-cities/boston-ma)\n",
    "\n",
    "Does this paint a different light on the data?\n",
    "\n",
    "\n",
    "## So, What's the Takeaway?\n",
    "* Don't blindly take a dataset, analyze it, and jump to a conclusion\n",
    "* **Think**: Where is the data coming from? *Why* is this trend being shown through the data?\n",
    "* Look at the *whole* picture!\n"
   ]
  }
 ],
 "metadata": {
  "kernelspec": {
   "display_name": "Python 3",
   "language": "python",
   "name": "python3"
  },
  "language_info": {
   "codemirror_mode": {
    "name": "ipython",
    "version": 3
   },
   "file_extension": ".py",
   "mimetype": "text/x-python",
   "name": "python",
   "nbconvert_exporter": "python",
   "pygments_lexer": "ipython3",
   "version": "3.8.10"
  }
 },
 "nbformat": 4,
 "nbformat_minor": 4
}
