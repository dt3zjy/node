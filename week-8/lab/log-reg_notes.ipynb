{
 "cells": [
  {
   "cell_type": "markdown",
   "metadata": {},
   "source": [
    "# Logistic Regression\n",
    "\n",
    "## Back to the Breast Cancer Data\n",
    "\n",
    "Let's start off with this dataset and see if we can apply Logistic Regression!"
   ]
  },
  {
   "cell_type": "code",
   "execution_count": null,
   "metadata": {},
   "outputs": [],
   "source": [
    "# The usual imports\n",
    "import pandas as pd\n",
    "import numpy as np\n",
    "import plotly.express as px"
   ]
  },
  {
   "cell_type": "markdown",
   "metadata": {},
   "source": [
    "Start by reading in the data and taking a look at it. Some cleaning is already set up for you"
   ]
  },
  {
   "cell_type": "code",
   "execution_count": null,
   "metadata": {},
   "outputs": [],
   "source": [
    "# Put csv into dataframe (name it df)\n",
    "URL = \"https://raw.githubusercontent.com/ishaandey/node/master/week-8/lab/breast_cancer.csv\"\n",
    "\n",
    "# Quick data cleaning \n",
    "df = df.drop(columns=['id','Unnamed: 32'])\n",
    "df['diagnosis'] = df['diagnosis'].map({'M':1,'B':0})\n"
   ]
  },
  {
   "cell_type": "markdown",
   "metadata": {},
   "source": [
    "## Single Variable Logistic Regression"
   ]
  },
  {
   "cell_type": "markdown",
   "metadata": {},
   "source": [
    "Split into the proper X and y arrays for the train test split. For now, we'll have the X only contain one variable: `concave points_mean`. If you remember, that was the feature with most importance in our Decision Tree Model."
   ]
  },
  {
   "cell_type": "code",
   "execution_count": null,
   "metadata": {},
   "outputs": [],
   "source": [
    "from sklearn.model_selection import train_test_split\n",
    "\n",
    "# Split into X and y\n",
    "# What would our y be in this case?\n",
    "\n",
    "\n",
    "# Use train_test_split to split into training/testing datasets\n"
   ]
  },
  {
   "cell_type": "markdown",
   "metadata": {},
   "source": [
    "Now, let's go ahead and create our model then train it."
   ]
  },
  {
   "cell_type": "code",
   "execution_count": null,
   "metadata": {},
   "outputs": [],
   "source": [
    "from sklearn.linear_model import LogisticRegression\n",
    "\n",
    "# Create the Logistic Regression model\n",
    "# Hint: It's very similar to the rest of our classification models\n",
    "\n",
    "\n",
    "# Fit the model\n",
    "# Which data do we fit it with?\n"
   ]
  },
  {
   "cell_type": "markdown",
   "metadata": {},
   "source": [
    "Let's see what the data looks like and if it would work well with a LogisticRegression"
   ]
  },
  {
   "cell_type": "code",
   "execution_count": null,
   "metadata": {},
   "outputs": [],
   "source": [
    "# Graph the data on a scatter plot\n"
   ]
  },
  {
   "cell_type": "markdown",
   "metadata": {},
   "source": [
    "After seeing the graph, let's test our model with the testing data and get some metrics! The import we will be using is `f1_score`"
   ]
  },
  {
   "cell_type": "code",
   "execution_count": null,
   "metadata": {},
   "outputs": [],
   "source": [
    "from sklearn.metrics import confusion_matrix\n",
    "from sklearn.metrics import f1_score\n",
    "\n",
    "# Get predicted and actual\n",
    "\n",
    "\n",
    "# Get the f1_score from the import above \n",
    "# (feel free to look back at your classification metrics notes to know what that means)\n"
   ]
  },
  {
   "cell_type": "markdown",
   "metadata": {},
   "source": [
    "## Multiple Variables with Logistic Regression\n",
    "\n",
    "Let's see if we can get a better F1 Score with more variables in the model."
   ]
  },
  {
   "cell_type": "code",
   "execution_count": null,
   "metadata": {},
   "outputs": [],
   "source": [
    "# Split into X and y\n",
    "# The three variables below are the top three most important features according to our DT model\n",
    "X = df[['concave points_mean', 'concave points_worst', 'radius_worst']]\n",
    "\n",
    "\n",
    "# Use train_test_split to split into training/testing datasets\n"
   ]
  },
  {
   "cell_type": "code",
   "execution_count": null,
   "metadata": {},
   "outputs": [],
   "source": [
    "# Create the Logistic Regression model\n",
    "\n",
    "# Fit the model\n"
   ]
  },
  {
   "cell_type": "code",
   "execution_count": null,
   "metadata": {},
   "outputs": [],
   "source": [
    "# Get predicted and actual\n",
    "\n",
    "\n",
    "# Get the f1_score from the import above \n",
    "# (feel free to look back at your classification metrics notes to know what that means)\n"
   ]
  }
 ],
 "metadata": {
  "interpreter": {
   "hash": "31f2aee4e71d21fbe5cf8b01ff0e069b9275f58929596ceb00d14d90e3e16cd6"
  },
  "kernelspec": {
   "display_name": "Python 3.8.2 64-bit",
   "language": "python",
   "name": "python3"
  },
  "language_info": {
   "codemirror_mode": {
    "name": "ipython",
    "version": 3
   },
   "file_extension": ".py",
   "mimetype": "text/x-python",
   "name": "python",
   "nbconvert_exporter": "python",
   "pygments_lexer": "ipython3",
   "version": "3.8.2"
  },
  "orig_nbformat": 4
 },
 "nbformat": 4,
 "nbformat_minor": 2
}
