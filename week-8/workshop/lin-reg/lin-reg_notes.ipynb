{
 "cells": [
  {
   "cell_type": "markdown",
   "metadata": {},
   "source": [
    "# Linear Regression\n",
    "\n",
    "\n",
    "\n",
    "Starting off with usual imports, stuff we have seen before already"
   ]
  },
  {
   "cell_type": "code",
   "execution_count": null,
   "metadata": {},
   "outputs": [],
   "source": [
    "#Dataframe and array manipulation\n",
    "import pandas as pd\n",
    "import numpy as np\n",
    "\n",
    "#For visualization\n",
    "import plotly\n",
    "import plotly.express as px"
   ]
  },
  {
   "cell_type": "markdown",
   "metadata": {},
   "source": [
    "Here are the imports that we will need to implement a linear regression model."
   ]
  },
  {
   "cell_type": "code",
   "execution_count": null,
   "metadata": {},
   "outputs": [],
   "source": [
    "from sklearn.linear_model import LinearRegression\n",
    "from sklearn.model_selection import train_test_split\n",
    "from sklearn.metrics import mean_squared_error"
   ]
  },
  {
   "cell_type": "markdown",
   "metadata": {},
   "source": [
    "The stuff above should all look very familiar, namely the `train_test_split` function. You may notice that we aren't importing the `accuracy_score` metric from `sklearn.metrics`, but are rather importing `mean_squared_error`. More on that later...\n",
    "\n",
    "The LinearRegression model will be under the import `sklearn.linear_model`. This is what contains the actual model we will be working with."
   ]
  },
  {
   "cell_type": "markdown",
   "metadata": {},
   "source": [
    "## Importing the Income Data"
   ]
  },
  {
   "cell_type": "markdown",
   "metadata": {},
   "source": [
    "To start, let's import the income data that we were looking at earlier. For simplicity, let's *only* look at the data ranging from $15k to $70k.\n",
    "\n",
    "Let's start with creating a dataframe to visualize the data."
   ]
  },
  {
   "cell_type": "code",
   "execution_count": null,
   "metadata": {},
   "outputs": [],
   "source": [
    "# Importing the data into a pd dataframe and take a look at it\n",
    "URL = \"https://raw.githubusercontent.com/ishaandey/node/master/week-8/workshop/lin-reg/income.csv\"\n"
   ]
  },
  {
   "cell_type": "markdown",
   "metadata": {},
   "source": [
    "Let's go ahead and drop the unnecessary column and multiply the income by 10000 to match dollars. (Throwback to data cleaning/manipulation)"
   ]
  },
  {
   "cell_type": "code",
   "execution_count": null,
   "metadata": {},
   "outputs": [],
   "source": [
    "# Basic Cleaning\n"
   ]
  },
  {
   "cell_type": "markdown",
   "metadata": {},
   "source": [
    "That's much better."
   ]
  },
  {
   "cell_type": "markdown",
   "metadata": {},
   "source": [
    "## Let's visualize the data"
   ]
  },
  {
   "cell_type": "code",
   "execution_count": null,
   "metadata": {},
   "outputs": [],
   "source": [
    "# Simple scatter plot\n",
    "px.scatter(data, x='income', y='happiness',\n",
    "    labels = {\"income\" : \"Income (in Euros)\",\n",
    "              'happiness' : 'Happiness Score (0 to 10)'\n",
    "              }\n",
    ")"
   ]
  },
  {
   "cell_type": "markdown",
   "metadata": {},
   "source": [
    "Linear regression works very well with data that has a correlation with each other. Since both of the columns are already in numerical form, we don't have to do much in terms of cleaning/modifying the data.\n",
    "\n",
    "Let's get it ready for the model now."
   ]
  },
  {
   "cell_type": "markdown",
   "metadata": {},
   "source": [
    "## Implementing Linear Regression"
   ]
  },
  {
   "cell_type": "code",
   "execution_count": null,
   "metadata": {},
   "outputs": [],
   "source": [
    "# Split into X and y and do train_test_split (this should be familiar)\n"
   ]
  },
  {
   "cell_type": "code",
   "execution_count": null,
   "metadata": {},
   "outputs": [],
   "source": [
    "# Fit a LinearRegression to the data\n"
   ]
  },
  {
   "cell_type": "code",
   "execution_count": null,
   "metadata": {},
   "outputs": [],
   "source": [
    "# Predict on the testing data and compare it with the actual data\n"
   ]
  },
  {
   "cell_type": "markdown",
   "metadata": {},
   "source": [
    "As you can see from the prediction/actual, none of these are exactly correct. It's kind of unrealistic to expect the model to accurately predict a value exactly. Let's check out what the model looks like through a scatter plot."
   ]
  },
  {
   "cell_type": "markdown",
   "metadata": {},
   "source": [
    "$$ y = \\beta_{1} x + \\beta_{0} $$"
   ]
  },
  {
   "cell_type": "markdown",
   "metadata": {},
   "source": [
    "There's actually a way to get the coefficients that the model creates."
   ]
  },
  {
   "cell_type": "code",
   "execution_count": null,
   "metadata": {},
   "outputs": [],
   "source": [
    "# Get the coefficients and y-intercept\n",
    "\n",
    "print(\"beta_1 = \", coef[0])\n",
    "print(\"beta_0 = \", intercept)\n",
    "\n",
    "# Find the first and second point\n",
    "# The first point will just be (0, intercept)\n",
    "\n",
    "print(\"Point 1: [\", x_0, \",\", y_0, \"]\")\n",
    "print(\"Point 2: [\", x_1, \",\", y_1, \"]\")"
   ]
  },
  {
   "cell_type": "code",
   "execution_count": null,
   "metadata": {},
   "outputs": [],
   "source": [
    "# Graphs the data and the line on plotly\n",
    "fig = px.scatter(data, x=\"income\", y=\"happiness\")\n",
    "fig.add_shape(type='line', xref=\"x\", yref=\"y\",\n",
    "    x0 = x_0, y0 = y_0, x1 = x_1, y1 = y_1,\n",
    "    line = dict(\n",
    "        color = \"red\",\n",
    "        width = 4,\n",
    "    )   \n",
    ")\n",
    "fig.show()"
   ]
  },
  {
   "cell_type": "markdown",
   "metadata": {},
   "source": [
    "## Metrics"
   ]
  },
  {
   "cell_type": "markdown",
   "metadata": {},
   "source": [
    "You can't really look for the accuracy of a regression model like you would for classification models. A common way to look at how good a regression model is, is through the **Mean Squared Error**.\n",
    "\n",
    "$$  \\frac{1}{n}\\Sigma_{i=1}^{n}{\\Big(y_a -y_p\\Big)^2} $$"
   ]
  },
  {
   "cell_type": "code",
   "execution_count": null,
   "metadata": {},
   "outputs": [],
   "source": [
    "# Get the mean squared error of the linear regression model\n"
   ]
  },
  {
   "cell_type": "markdown",
   "metadata": {},
   "source": [
    "# Trying it out on complex data\n",
    "\n",
    "Let's check out a different dataset. This one looks at the different medical charges a patient got from their visit to the hospital."
   ]
  },
  {
   "cell_type": "code",
   "execution_count": null,
   "metadata": {},
   "outputs": [],
   "source": [
    "# Importing data into a dataframe\n",
    "URL = \"https://raw.githubusercontent.com/ishaandey/node/master/week-8/workshop/lin-reg/med_charges.csv\"\n",
    "\n",
    "\n",
    "# Clean the dataset\n",
    "med = med.drop(\"Unnamed: 0\", axis=1)\n",
    "med.head()"
   ]
  },
  {
   "cell_type": "markdown",
   "metadata": {},
   "source": [
    "Let's try to predict the medical charge someone would have with certain characteristics (age, bmi, etc.)"
   ]
  },
  {
   "cell_type": "code",
   "execution_count": null,
   "metadata": {},
   "outputs": [],
   "source": [
    "# Correlation matrix\n"
   ]
  },
  {
   "cell_type": "code",
   "execution_count": null,
   "metadata": {},
   "outputs": [],
   "source": [
    "# Let's look at age vs. charges\n"
   ]
  },
  {
   "cell_type": "markdown",
   "metadata": {},
   "source": [
    "It looks like there is a clear separation between smokers and non-smokers. It would be a good idea to split the dataset on that to have a more accurate model for one or the other."
   ]
  },
  {
   "cell_type": "code",
   "execution_count": null,
   "metadata": {},
   "outputs": [],
   "source": [
    "# Get only the non-smokers\n",
    "\n",
    "\n",
    "# Go ahead and drop the smoker column (redudancy)\n"
   ]
  },
  {
   "cell_type": "markdown",
   "metadata": {},
   "source": [
    "There's some categorical data in there. Let's change it to numerical with the `pd.get_dummies` function"
   ]
  },
  {
   "cell_type": "code",
   "execution_count": null,
   "metadata": {},
   "outputs": [],
   "source": [
    "# Change the categorical data to numerical\n"
   ]
  },
  {
   "cell_type": "markdown",
   "metadata": {},
   "source": [
    "Now, let's go ahead and put this into a model, starting with only looking at one variable: age. The code here should look quite familiar"
   ]
  },
  {
   "cell_type": "code",
   "execution_count": null,
   "metadata": {},
   "outputs": [],
   "source": [
    "# Divide into X and y\n",
    "\n",
    "\n",
    "# Split the data\n",
    "\n",
    "# Create and train the model\n",
    "\n"
   ]
  },
  {
   "cell_type": "code",
   "execution_count": null,
   "metadata": {},
   "outputs": [],
   "source": [
    "# Generate Predictions\n",
    "\n",
    "\n",
    "# Get MSE\n",
    "print(\"MSE:\",mse_age)\n",
    "\n",
    "# Get RMSE\n",
    "print(\"RMSE:\",rmse_age)"
   ]
  },
  {
   "cell_type": "markdown",
   "metadata": {},
   "source": [
    "## Let's visualize the trend"
   ]
  },
  {
   "cell_type": "code",
   "execution_count": null,
   "metadata": {},
   "outputs": [],
   "source": [
    "# Getting coefficients and intercept\n",
    "\n",
    "\n",
    "# Creating the line\n",
    "\n",
    "\n",
    "# Graphs the data and the line on plotly\n",
    "fig = px.scatter(num_ns, x=\"age\", y=\"charges\")\n",
    "fig.add_shape(type='line', xref=\"x\", yref=\"y\",\n",
    "    x0 = x_0, y0 = y_0, x1 = x_1, y1 = y_1,\n",
    "    line = dict(\n",
    "        color = \"red\",\n",
    "        width = 4,\n",
    "    )   \n",
    ")\n",
    "fig.show()"
   ]
  },
  {
   "cell_type": "markdown",
   "metadata": {},
   "source": [
    "# Using Multiple Features for Linear Regression\n",
    "\n",
    "What if we wanted to look at ALL of the different columns within the dataset (age, bmi, children, sex)?\n",
    "\n",
    "We just add coefficients!"
   ]
  },
  {
   "cell_type": "markdown",
   "metadata": {},
   "source": [
    "$$ charges = \\beta_{1} * age + \\beta_{2} * bmi + \\beta_{3} * children + \\beta_{4} * sex\\_male + \\beta_{5} * sex\\_female + \\beta_{0}$$"
   ]
  },
  {
   "cell_type": "code",
   "execution_count": null,
   "metadata": {},
   "outputs": [],
   "source": [
    "# Divide into X and y\n",
    "\n",
    "\n",
    "# Split the data\n",
    "\n",
    "# Create and train the model\n"
   ]
  },
  {
   "cell_type": "code",
   "execution_count": null,
   "metadata": {},
   "outputs": [],
   "source": [
    "# Generate Predictions\n",
    "\n",
    "\n",
    "# Get MSE for both\n",
    "print(\"MSE for model with just age:\", mse_age)\n",
    "print(\"MSE for model with all features:\", mse_mult)\n",
    "\n",
    "# Get RMSE for both\n",
    "print(\"MSE for model with just age:\", rmse_age)\n",
    "print(\"MSE for model with all features:\", rmse_mult)"
   ]
  },
  {
   "cell_type": "markdown",
   "metadata": {},
   "source": [
    "It's going to be a little hard to graph this... Why do you think that is?"
   ]
  }
 ],
 "metadata": {
  "interpreter": {
   "hash": "fc5d429d9044e08e0dbe900b0b6be941aa8fe99e727e7e32e9f2e2984a2dbd6c"
  },
  "kernelspec": {
   "display_name": "Python 3.8.10 64-bit ('base': conda)",
   "name": "python3"
  },
  "language_info": {
   "codemirror_mode": {
    "name": "ipython",
    "version": 3
   },
   "file_extension": ".py",
   "mimetype": "text/x-python",
   "name": "python",
   "nbconvert_exporter": "python",
   "pygments_lexer": "ipython3",
   "version": "3.8.10"
  },
  "orig_nbformat": 4
 },
 "nbformat": 4,
 "nbformat_minor": 2
}
