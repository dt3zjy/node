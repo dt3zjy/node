{
 "cells": [
  {
   "cell_type": "markdown",
   "metadata": {},
   "source": [
    "# Linear Regression\n",
    "\n",
    "\n",
    "\n",
    "Starting off with usual imports, stuff we have seen before already"
   ]
  },
  {
   "cell_type": "code",
   "execution_count": null,
   "metadata": {},
   "outputs": [],
   "source": [
    "#Dataframe and array manipulation\n",
    "import pandas as pd\n",
    "import numpy as np\n",
    "\n",
    "#For visualization\n",
    "import plotly\n",
    "import plotly.express as px"
   ]
  },
  {
   "cell_type": "markdown",
   "metadata": {},
   "source": [
    "## Importing the Income Data"
   ]
  },
  {
   "cell_type": "markdown",
   "metadata": {},
   "source": [
    "To start, let's import the income data that we were looking at earlier. For simplicity, let's *only* look at the data ranging from $15k to $70k.\n",
    "\n",
    "Let's start with creating a dataframe to visualize the data."
   ]
  },
  {
   "cell_type": "code",
   "execution_count": null,
   "metadata": {},
   "outputs": [],
   "source": [
    "# Importing the data into a pd dataframe\n",
    "URL = \"https://raw.githubusercontent.com/dt3zjy/node/master/week-8/workshop/lin-reg/income.csv\"\n"
   ]
  },
  {
   "cell_type": "markdown",
   "metadata": {},
   "source": [
    "Let's go ahead and drop the unnecessary column and multiply the income by 10000 to match dollars. (Throwback to data cleaning/manipulation)"
   ]
  },
  {
   "cell_type": "code",
   "execution_count": null,
   "metadata": {},
   "outputs": [],
   "source": [
    "# Dropping the first column\n"
   ]
  },
  {
   "cell_type": "markdown",
   "metadata": {},
   "source": [
    "That's much better."
   ]
  },
  {
   "cell_type": "code",
   "execution_count": null,
   "metadata": {},
   "outputs": [],
   "source": [
    "# Finding the shape"
   ]
  },
  {
   "cell_type": "markdown",
   "metadata": {},
   "source": [
    "## Let's visualize the data"
   ]
  },
  {
   "cell_type": "code",
   "execution_count": null,
   "metadata": {},
   "outputs": [],
   "source": [
    "# Simple scatter plot\n",
    "px.scatter(data, x='income', y='happiness',\n",
    "    labels = {\"income\" : \"Income (in Euros)\",\n",
    "              'happiness' : 'Happiness Score (0 to 10)'\n",
    "              }\n",
    ")"
   ]
  },
  {
   "cell_type": "markdown",
   "metadata": {},
   "source": [
    "Linear regression works very well with data that has a correlation with each other. Since both of the columns are already in numerical form, we don't have to do much in terms of cleaning/modifying the data.\n",
    "\n",
    "Let's get it ready for the model now."
   ]
  },
  {
   "cell_type": "markdown",
   "metadata": {},
   "source": [
    "## Implementing Linear Regression"
   ]
  },
  {
   "cell_type": "code",
   "execution_count": null,
   "metadata": {},
   "outputs": [],
   "source": [
    "# Split into X and y and do train_test_split (this should be familiar)\n",
    "from sklearn.model_selection import train_test_split\n"
   ]
  },
  {
   "cell_type": "code",
   "execution_count": null,
   "metadata": {},
   "outputs": [],
   "source": [
    "# Fit a LinearRegression to the data\n"
   ]
  },
  {
   "cell_type": "code",
   "execution_count": null,
   "metadata": {},
   "outputs": [],
   "source": [
    "# Predict on the testing data and compare it with the actual data\n",
    "\n",
    "print('Look at first 5 predictions:')\n",
    "print('Predicted: ',predicted[:5].round(2))\n",
    "print('Actual:    ',actual[:5].round(2))"
   ]
  },
  {
   "cell_type": "markdown",
   "metadata": {},
   "source": [
    "As you can see from the prediction/actual, none of these are exactly correct. It's kind of unrealistic to expect the model to accurately predict a value exactly. Let's check out what the model looks like through a scatter plot."
   ]
  },
  {
   "cell_type": "markdown",
   "metadata": {},
   "source": [
    "$$ y = \\beta_{1} x + \\beta_{0} $$"
   ]
  },
  {
   "cell_type": "markdown",
   "metadata": {},
   "source": [
    "There's actually a way to get the coefficients that the model creates."
   ]
  },
  {
   "cell_type": "code",
   "execution_count": null,
   "metadata": {},
   "outputs": [],
   "source": [
    "# Get the coefficients and y-intercept\n",
    "\n",
    "print(\"beta_1 = \", coef)\n",
    "print(\"beta_0 = \", intercept)\n",
    "\n",
    "# Find the first and second point\n",
    "# The first point will just be (0, intercept)\n",
    "\n",
    "print(\"Point 1: [\", x_0, \",\", y_0, \"]\")\n",
    "print(\"Point 2: [\", x_1, \",\", y_1, \"]\")"
   ]
  },
  {
   "cell_type": "code",
   "execution_count": null,
   "metadata": {},
   "outputs": [],
   "source": [
    "# Graphs the data and the line on plotly\n",
    "fig = px.scatter(data, x=\"income\", y=\"happiness\")\n",
    "fig.add_shape(type='line', xref=\"x\", yref=\"y\",\n",
    "    x0 = x_0, y0 = y_0, x1 = x_1, y1 = y_1,\n",
    "    line = dict(\n",
    "        color = \"red\",\n",
    "        width = 4,\n",
    "    )   \n",
    ")\n",
    "fig.show()"
   ]
  },
  {
   "cell_type": "markdown",
   "metadata": {},
   "source": [
    "## Metrics"
   ]
  },
  {
   "cell_type": "markdown",
   "metadata": {},
   "source": [
    "You can't really look for the accuracy of a regression model like you would for classification models. A common way to look at how good a regression model is, is through the **Mean Squared Error**.\n",
    "\n",
    "$$  \\frac{1}{n}\\Sigma_{i=1}^{n}{\\Big(y_a -y_p\\Big)^2} $$"
   ]
  },
  {
   "cell_type": "code",
   "execution_count": null,
   "metadata": {},
   "outputs": [],
   "source": [
    "# Get the mean squared error of the linear regression model\n",
    "\n",
    "print(mse.round(4))"
   ]
  },
  {
   "cell_type": "markdown",
   "metadata": {},
   "source": [
    "# Trying it out on complex data\n",
    "\n",
    "Let's check out a different dataset. This one looks at the different medical charges a patient got from their visit to the hospital."
   ]
  },
  {
   "cell_type": "code",
   "execution_count": null,
   "metadata": {},
   "outputs": [],
   "source": [
    "# Importing data into a dataframe\n",
    "URL = \"https://raw.githubusercontent.com/dt3zjy/node/master/week-8/workshop/lin-reg/med_charges.csv\"\n",
    "\n",
    "# Clean the dataset\n",
    "med = med.drop(\"Unnamed: 0\", axis=1)\n",
    "med.head()"
   ]
  },
  {
   "cell_type": "markdown",
   "metadata": {},
   "source": [
    "Let's try to predict the medical charge someone would have with certain characteristics (age, bmi, etc.)"
   ]
  },
  {
   "cell_type": "code",
   "execution_count": null,
   "metadata": {},
   "outputs": [],
   "source": [
    "# Correlation matrix\n"
   ]
  },
  {
   "cell_type": "code",
   "execution_count": null,
   "metadata": {},
   "outputs": [],
   "source": [
    "# Let's look at age vs. charges\n"
   ]
  },
  {
   "cell_type": "markdown",
   "metadata": {},
   "source": [
    "It looks like there is a clear separation between smokers and non-smokers. It would be a good idea to split the dataset on that to have a more accurate model for one or the other."
   ]
  },
  {
   "cell_type": "code",
   "execution_count": null,
   "metadata": {},
   "outputs": [],
   "source": [
    "# Get only the non-smokers\n",
    "\n",
    "# Go ahead and drop the smoker column (redudancy)\n"
   ]
  },
  {
   "cell_type": "markdown",
   "metadata": {},
   "source": [
    "There's some categorical data in there. Let's change it to numerical with the `pd.get_dummies` function"
   ]
  },
  {
   "cell_type": "code",
   "execution_count": null,
   "metadata": {},
   "outputs": [],
   "source": [
    "# Change the categorical data to numerical\n"
   ]
  },
  {
   "cell_type": "markdown",
   "metadata": {},
   "source": [
    "Now, let's go ahead and put this into a model, starting with only looking at one variable: age. The code here should look quite familiar"
   ]
  },
  {
   "cell_type": "code",
   "execution_count": null,
   "metadata": {},
   "outputs": [],
   "source": [
    "# Divide into X and y\n",
    "\n",
    "\n",
    "# Split the data\n",
    "\n",
    "# Create and train the model\n",
    "\n"
   ]
  },
  {
   "cell_type": "code",
   "execution_count": null,
   "metadata": {},
   "outputs": [],
   "source": [
    "# Generate Predictions\n",
    "\n",
    "# Get MSE\n",
    "\n",
    "# Get RMSE\n"
   ]
  },
  {
   "cell_type": "code",
   "execution_count": null,
   "metadata": {},
   "outputs": [],
   "source": [
    "# Get only the smokers\n",
    "\n",
    "\n",
    "# Go ahead and drop the smoker column (redudancy)\n",
    "smoker = smoker.drop(\"smoker\", axis=1)\n",
    "smoker.head()\n",
    "\n",
    "# Change the categorical data to numerical\n",
    "num_s = pd.get_dummies(smoker)\n",
    "num_s.head()\n",
    "\n",
    "# Divide into X and y\n",
    "X = num_s[['age']]\n",
    "y = num_s['charges']\n",
    "\n",
    "# Split the data\n",
    "X_train, X_test, y_train, y_test = train_test_split(X, y, test_size=.2, random_state=42)\n",
    "\n",
    "# Create and train the model\n",
    "reg_s = LinearRegression()\n",
    "reg_s.fit(X_train, y_train)\n",
    "\n",
    "# Generate Predictions\n",
    "predicted = reg_s.predict(X_test)\n",
    "actual = np.array(y_test)\n",
    "\n",
    "# Get MSE\n",
    "mse_s_age = mean_squared_error(y_pred=predicted, y_true=actual)\n",
    "\n",
    "# Get RMSE\n",
    "rmse_s_age = mean_squared_error(y_pred=predicted, y_true=actual, squared=False)\n"
   ]
  },
  {
   "cell_type": "markdown",
   "metadata": {},
   "source": [
    "## Let's visualize the trends"
   ]
  },
  {
   "cell_type": "code",
   "execution_count": null,
   "metadata": {},
   "outputs": [],
   "source": [
    "# Getting coefficients and intercept of the non smokers\n",
    "\n",
    "\n",
    "# Creating the line\n",
    "\n",
    "\n",
    "# Getting coefficients and intercept of the non smokers\n",
    "coef_s = reg_s.coef_\n",
    "intercept_s = reg_s.intercept_\n",
    "\n",
    "# Creating the line\n",
    "x_0_s = 18\n",
    "y_0_s = coef_s[0]*x_0_s + intercept_s\n",
    "x_1_s = 64\n",
    "y_1_s = coef_s[0]*x_1_s + intercept_s\n",
    "\n",
    "# Graphs the data and the line on plotly\n",
    "fig = px.scatter(med, x=\"age\", y=\"charges\", color = 'smoker')\n",
    "fig.add_shape(type='line', xref=\"x\", yref=\"y\",\n",
    "    x0 = x_0_ns, y0 = y_0_ns, x1 = x_1_ns, y1 = y_1_ns,\n",
    "    line = dict(\n",
    "        color = \"purple\",\n",
    "        width = 4,\n",
    "    )   \n",
    ")\n",
    "fig.add_shape(type='line', xref=\"x\", yref=\"y\",\n",
    "    x0 = x_0_s, y0 = y_0_s, x1 = x_1_s, y1 = y_1_s,\n",
    "    line = dict(\n",
    "        color = \"forestgreen\",\n",
    "        width = 4,\n",
    "    )   \n",
    ")\n",
    "fig.show()"
   ]
  },
  {
   "cell_type": "code",
   "execution_count": null,
   "metadata": {},
   "outputs": [],
   "source": [
    "# Metrics!\n",
    "print(\"MSE S:\",mse_s_age)\n",
    "print(\"RMSE S:\",rmse_s_age)\n",
    "print(\"MSE NS:\",mse_ns_age)\n",
    "print(\"RMSE NS:\",rmse_ns_age)"
   ]
  },
  {
   "cell_type": "markdown",
   "metadata": {},
   "source": [
    "# Using Multiple Features for Linear Regression\n",
    "\n",
    "What if we wanted to look at ALL of the different columns within the dataset (age, bmi, children, sex)?\n",
    "\n",
    "We just add coefficients!"
   ]
  },
  {
   "cell_type": "markdown",
   "metadata": {},
   "source": [
    "$$ charges = \\beta_{1} * age + \\beta_{2} * bmi + \\beta_{3} * children + \\beta_{4} * sex\\_male + \\beta_{5} * sex\\_female + \\beta_{0}$$"
   ]
  },
  {
   "cell_type": "code",
   "execution_count": null,
   "metadata": {},
   "outputs": [],
   "source": [
    "# Divide into X and y\n",
    "\n",
    "\n",
    "# Split the data\n",
    "\n",
    "# Create and train the model\n"
   ]
  },
  {
   "cell_type": "code",
   "execution_count": null,
   "metadata": {},
   "outputs": [],
   "source": [
    "# Generate Predictions\n",
    "\n",
    "\n",
    "# Get MSE for both\n",
    "print(\"MSE for model with just age:\", mse_ns_age)\n",
    "print(\"MSE for model with all features:\", mse_mult)\n",
    "\n",
    "# Get RMSE for both\n",
    "print(\"MSE for model with just age:\", rmse_ns_age)\n",
    "print(\"MSE for model with all features:\", rmse_mult)"
   ]
  },
  {
   "cell_type": "markdown",
   "metadata": {},
   "source": [
    "It's going to be a little hard to graph this... Why do you think that is?"
   ]
  }
 ],
 "metadata": {
  "interpreter": {
   "hash": "fc5d429d9044e08e0dbe900b0b6be941aa8fe99e727e7e32e9f2e2984a2dbd6c"
  },
  "kernelspec": {
   "display_name": "Python 3",
   "language": "python",
   "name": "python3"
  },
  "language_info": {
   "codemirror_mode": {
    "name": "ipython",
    "version": 3
   },
   "file_extension": ".py",
   "mimetype": "text/x-python",
   "name": "python",
   "nbconvert_exporter": "python",
   "pygments_lexer": "ipython3",
   "version": "3.8.10"
  }
 },
 "nbformat": 4,
 "nbformat_minor": 2
}
