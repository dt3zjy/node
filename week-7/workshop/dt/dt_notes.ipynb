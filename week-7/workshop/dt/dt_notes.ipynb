{
 "cells": [
  {
   "cell_type": "code",
   "execution_count": null,
   "metadata": {
    "id": "K5dX-6FuZXyo"
   },
   "outputs": [],
   "source": [
    "# Imports\n",
    "import pandas as pd\n",
    "import numpy as np\n",
    "from sklearn.tree import DecisionTreeClassifier\n",
    "from sklearn.model_selection import train_test_split\n",
    "from sklearn.metrics import accuracy_score"
   ]
  },
  {
   "cell_type": "code",
   "execution_count": null,
   "metadata": {
    "id": "A2h-7VCVZXyt"
   },
   "outputs": [],
   "source": [
    "# Read in the spikeball csv\n",
    "url = 'https://raw.githubusercontent.com/ishaandey/node/master/week-7/workshop/dt/spikeball.csv'\n"
   ]
  },
  {
   "cell_type": "code",
   "execution_count": null,
   "metadata": {
    "colab": {
     "base_uri": "https://localhost:8080/",
     "height": 373
    },
    "id": "32JL-0GkZXyu",
    "outputId": "21db9c4d-993f-4319-a095-073201c1c3a3"
   },
   "outputs": [],
   "source": [
    "# Take a look at the data\n"
   ]
  },
  {
   "cell_type": "markdown",
   "metadata": {
    "id": "jyyfnkEiZXyu"
   },
   "source": [
    "Decision trees cannot classify with the strings in the \"weather\" column. We will use pandas.get_dummies to one-hot encode the column. Pandas knows to only modify categorical columns. The \"temperature\", \"friends_free\", and \"played_spikeball\" columns will not change."
   ]
  },
  {
   "cell_type": "code",
   "execution_count": null,
   "metadata": {
    "colab": {
     "base_uri": "https://localhost:8080/",
     "height": 195
    },
    "id": "MD1tH5zTZXyv",
    "outputId": "1261d948-2d8d-4a19-96e5-86dcea82c9cd"
   },
   "outputs": [],
   "source": [
    "# One hot encode the weather column\n"
   ]
  },
  {
   "cell_type": "code",
   "execution_count": null,
   "metadata": {
    "id": "FtXJKJl3ZXyv"
   },
   "outputs": [],
   "source": [
    "# Break into training and testing\n",
    "train = df.drop(10)\n",
    "test = df.iloc[[10]]"
   ]
  },
  {
   "cell_type": "code",
   "execution_count": null,
   "metadata": {
    "id": "9-M8B8STZXyw"
   },
   "outputs": [],
   "source": [
    "# Divide the data into features (X) and labels (y)\n",
    "X_train = train.drop('played_spikeball', axis=1)\n",
    "X_test = test.drop('played_spikeball', axis=1)\n",
    "y_train = train['played_spikeball']\n",
    "y_test = test['played_spikeball']"
   ]
  },
  {
   "cell_type": "code",
   "execution_count": null,
   "metadata": {
    "colab": {
     "base_uri": "https://localhost:8080/"
    },
    "id": "rVOGntU5ZXyw",
    "outputId": "954c15ec-4d77-4ac7-9bfe-da6b0725926d"
   },
   "outputs": [],
   "source": [
    "# Fit a DecisionTreeClassifier to the training data\n"
   ]
  },
  {
   "cell_type": "code",
   "execution_count": null,
   "metadata": {
    "colab": {
     "base_uri": "https://localhost:8080/",
     "height": 77
    },
    "id": "GvIgrRYDaAje",
    "outputId": "36cbfca9-b69c-4d63-9c80-c2d563b8d3de"
   },
   "outputs": [],
   "source": [
    "# Take a look at X_test\n"
   ]
  },
  {
   "cell_type": "code",
   "execution_count": null,
   "metadata": {
    "colab": {
     "base_uri": "https://localhost:8080/"
    },
    "id": "E5m43lxtZXyw",
    "outputId": "e84f452d-61d9-474f-f41e-1894cfa8f678"
   },
   "outputs": [],
   "source": [
    "# Predict on X_test\n"
   ]
  },
  {
   "cell_type": "markdown",
   "metadata": {
    "id": "o0Iy7bj9ZXyx"
   },
   "source": [
    "Cool! It predicted that we wouldn't play Spikeball. Let's take a look under the hood at what's going on here."
   ]
  },
  {
   "cell_type": "code",
   "execution_count": null,
   "metadata": {
    "colab": {
     "base_uri": "https://localhost:8080/",
     "height": 598
    },
    "id": "T0_imIW8ZXyx",
    "outputId": "9999d46a-ee87-488a-83b0-b950031e2cd8"
   },
   "outputs": [],
   "source": [
    "# Visualize the decision tree\n",
    "from IPython.display import display, HTML\n",
    "from sklearn.tree import export_graphviz\n",
    "from graphviz import Source\n",
    "\n",
    "graph = Source(export_graphviz(clf,\n",
    "                        out_file=None,\n",
    "                        feature_names=X_train.columns,\n",
    "                        class_names=['No Spikeball', 'Spikeball'],\n",
    "                        filled=True,\n",
    "                        rounded=True))\n",
    "graph"
   ]
  },
  {
   "cell_type": "markdown",
   "metadata": {
    "id": "DHTQ0WKubdwl"
   },
   "source": [
    "# Trying it out on real world data\n",
    "\n",
    "We're going to use the same breast cancer dataset as before."
   ]
  },
  {
   "cell_type": "code",
   "execution_count": null,
   "metadata": {
    "id": "2V8wE4qpbL2U"
   },
   "outputs": [],
   "source": [
    "url = 'https://raw.githubusercontent.com/ishaandey/node/master/week-7/workshop/breast_cancer.csv'\n"
   ]
  },
  {
   "cell_type": "code",
   "execution_count": null,
   "metadata": {
    "id": "uoBb7rIVuDNc"
   },
   "outputs": [],
   "source": [
    "# Clean the data\n",
    "df = df.drop(columns=['id','Unnamed: 32'])\n",
    "\n",
    "# Map from 'M' and 'B' to 1 and 0, respectively\n"
   ]
  },
  {
   "cell_type": "code",
   "execution_count": null,
   "metadata": {
    "id": "wgwEAMo5uF8n"
   },
   "outputs": [],
   "source": [
    "# Divide into X and y and do train_test_split, ('diagnosis' is the label column)\n",
    "\n",
    "\n",
    "\n",
    "# X_train, X_test, y_train, y_test = "
   ]
  },
  {
   "cell_type": "code",
   "execution_count": null,
   "metadata": {
    "colab": {
     "base_uri": "https://localhost:8080/"
    },
    "id": "KMvcPQK8bNiu",
    "outputId": "9a0e870c-d97b-4064-f360-58132385221c"
   },
   "outputs": [],
   "source": [
    "# Fit a DecisionTreeClassifier to the data\n"
   ]
  },
  {
   "cell_type": "code",
   "execution_count": null,
   "metadata": {
    "colab": {
     "base_uri": "https://localhost:8080/"
    },
    "id": "fbKRGNZ1bomS",
    "outputId": "4b81cfae-91e2-400d-d358-275397b4a078"
   },
   "outputs": [],
   "source": [
    "# Predict on the testing data and compare the predicted to the actual\n"
   ]
  },
  {
   "cell_type": "code",
   "execution_count": null,
   "metadata": {
    "colab": {
     "base_uri": "https://localhost:8080/"
    },
    "id": "JurBMy7qbulO",
    "outputId": "88a97724-f164-435c-f590-c44fa3446ece"
   },
   "outputs": [],
   "source": [
    "# Get the accuracy score\n"
   ]
  },
  {
   "cell_type": "markdown",
   "metadata": {
    "id": "CozAGfkbfZm8"
   },
   "source": [
    "# Feature importances\n",
    "The DecisionTreeClassifier weighs different features more heavily than other when making its predictions. Let's take a look at the most important features used in this classification."
   ]
  },
  {
   "cell_type": "code",
   "execution_count": null,
   "metadata": {
    "colab": {
     "base_uri": "https://localhost:8080/",
     "height": 935
    },
    "id": "A0r17GBse5UF",
    "outputId": "016da6ed-b7f6-45ae-f11c-082cdbeeb09e"
   },
   "outputs": [],
   "source": [
    "# Get feature importances\n"
   ]
  },
  {
   "cell_type": "markdown",
   "metadata": {
    "id": "uHi94GYNcbNm"
   },
   "source": [
    "# Which depth?\n",
    "\n",
    "Decision trees allow you to specify the depth that the tree is allowed to go to. Deeper trees are able to capture more details in the training set, but it may lead to overfitting. Find the accuracy of the decision tree with max depths of 1, 3, and 5."
   ]
  },
  {
   "cell_type": "code",
   "execution_count": null,
   "metadata": {
    "colab": {
     "base_uri": "https://localhost:8080/"
    },
    "id": "xzu5ZVZicD07",
    "outputId": "9d3352f5-573f-4f50-ceba-feb1bb8e0a9b"
   },
   "outputs": [],
   "source": [
    "# Fit a DecisionTreeClassifier with max_depth=1 and get the accuracy score\n"
   ]
  },
  {
   "cell_type": "code",
   "execution_count": null,
   "metadata": {
    "colab": {
     "base_uri": "https://localhost:8080/"
    },
    "id": "fVYo6VOzenh-",
    "outputId": "b171c704-44fa-4518-8cc8-acc5bd3bcef3"
   },
   "outputs": [],
   "source": [
    "# Fit a DecisionTreeClassifier with max_depth=3 and get the accuracy score\n"
   ]
  },
  {
   "cell_type": "code",
   "execution_count": null,
   "metadata": {
    "colab": {
     "base_uri": "https://localhost:8080/"
    },
    "id": "zVm6j3utvDvC",
    "outputId": "684fd78c-4e38-48cd-f16d-8c83bd4385b5"
   },
   "outputs": [],
   "source": [
    "# Fit a DecisionTreeClassifier with max_depth=100 and get the accuracy score\n"
   ]
  },
  {
   "cell_type": "markdown",
   "metadata": {
    "id": "ozqFmeTTvWlg"
   },
   "source": [
    "Let's take a look at what feature the max_depth=1 tree used."
   ]
  },
  {
   "cell_type": "code",
   "execution_count": null,
   "metadata": {
    "colab": {
     "base_uri": "https://localhost:8080/",
     "height": 281
    },
    "id": "sOlfSxn8d0Y2",
    "outputId": "b39f436b-4725-4c0b-f85f-483b6f2d71e5"
   },
   "outputs": [],
   "source": [
    "# Visualize max_depth=1 tree\n",
    "graph = Source(export_graphviz(clf1,\n",
    "                        out_file=None,\n",
    "                        feature_names=X_train.columns,\n",
    "                        class_names=['Benign', 'Malignant'],\n",
    "                        filled=True,\n",
    "                        rounded=True))\n",
    "graph"
   ]
  },
  {
   "cell_type": "markdown",
   "metadata": {
    "id": "2rUmig6yvqb6"
   },
   "source": [
    "This agrees with the feature importances. Cool!"
   ]
  }
 ],
 "metadata": {
  "colab": {
   "collapsed_sections": [],
   "name": "dt_key.ipynb",
   "provenance": []
  },
  "kernelspec": {
   "display_name": "Python 3",
   "language": "python",
   "name": "python3"
  },
  "language_info": {
   "codemirror_mode": {
    "name": "ipython",
    "version": 3
   },
   "file_extension": ".py",
   "mimetype": "text/x-python",
   "name": "python",
   "nbconvert_exporter": "python",
   "pygments_lexer": "ipython3",
   "version": "3.9.2"
  }
 },
 "nbformat": 4,
 "nbformat_minor": 4
}
