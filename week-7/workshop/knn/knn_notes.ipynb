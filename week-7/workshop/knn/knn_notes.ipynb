{
 "cells": [
  {
   "cell_type": "markdown",
   "metadata": {
    "id": "rl1uK_MURpS9"
   },
   "source": [
    "# K-Nearest Neighbors"
   ]
  },
  {
   "cell_type": "markdown",
   "metadata": {
    "id": "ahy6eMBlR32S"
   },
   "source": [
    "Starting off with the usual imports, these should be second nature by now!"
   ]
  },
  {
   "cell_type": "code",
   "execution_count": 2,
   "metadata": {
    "id": "Qt2SPXbfROfQ"
   },
   "outputs": [],
   "source": [
    "#For the dataframe and array manipulation\n",
    "import pandas as pd\n",
    "import numpy as np\n",
    "\n",
    "#For visualization\n",
    "import plotly\n",
    "import plotly.express as px"
   ]
  },
  {
   "cell_type": "markdown",
   "metadata": {
    "id": "MUBMInyVR_9J"
   },
   "source": [
    "We'll be starting with a basic example of how KNN works with an automatically generated dataset, so we'll also need the following imports."
   ]
  },
  {
   "cell_type": "code",
   "execution_count": 3,
   "metadata": {
    "id": "nJuxtwg6SI_l"
   },
   "outputs": [],
   "source": [
    "from sklearn.datasets import make_blobs\n",
    "# from sklearn.neighbors\n",
    "from sklearn.model_selection import train_test_split\n",
    "from sklearn.metrics import accuracy_score"
   ]
  },
  {
   "cell_type": "markdown",
   "metadata": {
    "id": "EV8XPaT0Skzu"
   },
   "source": [
    "Sklearn's make_blobs() function is used to generate clustered data based on a variety of parameters; this is perfect for looking at how certain algorithms work.\n",
    "\n",
    "We will also need the KNeighborsClassifier model for our classification task; note that we will need to import from `sklearn.neighbors`."
   ]
  },
  {
   "cell_type": "markdown",
   "metadata": {
    "id": "heoSRLoPTjYg"
   },
   "source": [
    "## Create and Visualize The Data"
   ]
  },
  {
   "cell_type": "markdown",
   "metadata": {
    "id": "SS-RtvnGTwBa"
   },
   "source": [
    "To start things off, we'll be creating a dataset with 400 total points clustered into two groups.\n",
    "\n",
    "Using make_blobs(), we can also set the number of features each data point will have. We'll set the number of features to 2 so we can plot the features easily."
   ]
  },
  {
   "cell_type": "code",
   "execution_count": 4,
   "metadata": {
    "id": "TslO-wVYTYyM"
   },
   "outputs": [],
   "source": [
    "points, labels = make_blobs(n_samples=400, centers=2, n_features=2,\n",
    "                            cluster_std=.5, center_box=(0,8), random_state=42)"
   ]
  },
  {
   "cell_type": "code",
   "execution_count": 5,
   "metadata": {
    "colab": {
     "base_uri": "https://localhost:8080/"
    },
    "id": "zwU6q3OcUhKQ",
    "outputId": "f73276fe-63f0-4d75-eb9b-c2b3b3ee1ff6"
   },
   "outputs": [],
   "source": [
    "# Look at the feature columns"
   ]
  },
  {
   "cell_type": "code",
   "execution_count": 6,
   "metadata": {
    "colab": {
     "base_uri": "https://localhost:8080/"
    },
    "id": "lOduouUfUtKo",
    "outputId": "994af9dd-5c79-4928-98e3-d67d88deaff7"
   },
   "outputs": [],
   "source": [
    "# Look at the labels"
   ]
  },
  {
   "cell_type": "markdown",
   "metadata": {
    "id": "ww2-TYpfWVx-"
   },
   "source": [
    "We now already have the data split into X and y sets, which is perfect for the training step.\n",
    "\n",
    "However, we may want to create a dataframe from these numpy arrays to be able to visualize what the data actually looks like."
   ]
  },
  {
   "cell_type": "code",
   "execution_count": 7,
   "metadata": {
    "id": "vqhxVY3BWn3Y"
   },
   "outputs": [],
   "source": [
    "# Create the dataframe"
   ]
  },
  {
   "cell_type": "code",
   "execution_count": 8,
   "metadata": {
    "colab": {
     "base_uri": "https://localhost:8080/",
     "height": 343
    },
    "id": "mP_NAsqWWvqq",
    "outputId": "ec7e5b61-2253-4e8e-b7dc-7d07d5dded8b"
   },
   "outputs": [],
   "source": [
    "# Look at the DataFrame"
   ]
  },
  {
   "cell_type": "markdown",
   "metadata": {
    "id": "RgqtvoDVF8XE"
   },
   "source": [
    "There are two species of fish: **red fish** and **blue fish**. A target of 0 represents a red fish and a target of 1 represents a blue fish. For each fish, we have its **length** and **weight**."
   ]
  },
  {
   "cell_type": "markdown",
   "metadata": {
    "id": "7fKj6dIWXnTQ"
   },
   "source": [
    "Now, lets create a scatter plot with each feature on a seperate axis.\n",
    "\n",
    "Each point will have a color corresponding to its target value, the value that we want to predict."
   ]
  },
  {
   "cell_type": "code",
   "execution_count": 9,
   "metadata": {
    "colab": {
     "base_uri": "https://localhost:8080/",
     "height": 542
    },
    "id": "FuSz0R8VWwjg",
    "outputId": "bb0a4b55-bd3c-43b8-9cfd-51b54b57d6a8"
   },
   "outputs": [],
   "source": [
    "# px.scatter(data, x='length', y='weight',color='target', "
   ]
  },
  {
   "cell_type": "markdown",
   "metadata": {
    "id": "WYidDakGbA10"
   },
   "source": [
    "As can be seen in the plot, our data is nicely split into two distinct clusters. Because of this, we can make a pretty reasonable guess about the target value of a new point. Red fish tend to be a shorter and heavier, while blue fish are longer and lighter.\n",
    "\n",
    "Let's train the model and see if it matches our intuition. Since we're only predicting a single point at a time, we'll train the model on the entire dataset."
   ]
  },
  {
   "cell_type": "markdown",
   "metadata": {
    "id": "Z9CMPqqdxh75"
   },
   "source": [
    "## Fit and Predict"
   ]
  },
  {
   "cell_type": "code",
   "execution_count": 10,
   "metadata": {
    "colab": {
     "base_uri": "https://localhost:8080/"
    },
    "id": "_0ZDdhNBcXJQ",
    "outputId": "2ef7c7d4-a48b-45df-9826-56f495105b56"
   },
   "outputs": [],
   "source": [
    "# Break into X and y, create the classifier, and fit the model\n"
   ]
  },
  {
   "cell_type": "markdown",
   "metadata": {},
   "source": [
    "Instead of doing train_test_split, we're going to select our own test points to get a better sense of the model."
   ]
  },
  {
   "cell_type": "markdown",
   "metadata": {
    "id": "ohpFmpwrpR8J"
   },
   "source": [
    "Let's predict three distinct points and see what the model decides to output.\n",
    "\n",
    "1. (6, 6.5)\n",
    "2. (2, 6)\n",
    "3. (4, 6)"
   ]
  },
  {
   "cell_type": "code",
   "execution_count": 11,
   "metadata": {
    "id": "Pz4P9u9yldv-"
   },
   "outputs": [
    {
     "ename": "NameError",
     "evalue": "name 'clf' is not defined",
     "output_type": "error",
     "traceback": [
      "\u001b[0;31m---------------------------------------------------------------------------\u001b[0m",
      "\u001b[0;31mNameError\u001b[0m                                 Traceback (most recent call last)",
      "\u001b[0;32m<ipython-input-11-7238ae4083eb>\u001b[0m in \u001b[0;36m<module>\u001b[0;34m\u001b[0m\n\u001b[0;32m----> 1\u001b[0;31m \u001b[0my_pred1\u001b[0m \u001b[0;34m=\u001b[0m \u001b[0mclf\u001b[0m\u001b[0;34m.\u001b[0m\u001b[0mpredict\u001b[0m\u001b[0;34m(\u001b[0m\u001b[0;34m[\u001b[0m\u001b[0;34m[\u001b[0m\u001b[0;36m6\u001b[0m\u001b[0;34m,\u001b[0m\u001b[0;36m6.5\u001b[0m\u001b[0;34m]\u001b[0m\u001b[0;34m]\u001b[0m\u001b[0;34m)\u001b[0m\u001b[0;34m\u001b[0m\u001b[0;34m\u001b[0m\u001b[0m\n\u001b[0m\u001b[1;32m      2\u001b[0m \u001b[0my_pred2\u001b[0m \u001b[0;34m=\u001b[0m \u001b[0mclf\u001b[0m\u001b[0;34m.\u001b[0m\u001b[0mpredict\u001b[0m\u001b[0;34m(\u001b[0m\u001b[0;34m[\u001b[0m\u001b[0;34m[\u001b[0m\u001b[0;36m2\u001b[0m\u001b[0;34m,\u001b[0m\u001b[0;36m6\u001b[0m\u001b[0;34m]\u001b[0m\u001b[0;34m]\u001b[0m\u001b[0;34m)\u001b[0m\u001b[0;34m\u001b[0m\u001b[0;34m\u001b[0m\u001b[0m\n\u001b[1;32m      3\u001b[0m \u001b[0my_pred3\u001b[0m \u001b[0;34m=\u001b[0m \u001b[0mclf\u001b[0m\u001b[0;34m.\u001b[0m\u001b[0mpredict\u001b[0m\u001b[0;34m(\u001b[0m\u001b[0;34m[\u001b[0m\u001b[0;34m[\u001b[0m\u001b[0;36m4\u001b[0m\u001b[0;34m,\u001b[0m\u001b[0;36m6\u001b[0m\u001b[0;34m]\u001b[0m\u001b[0;34m]\u001b[0m\u001b[0;34m)\u001b[0m\u001b[0;34m\u001b[0m\u001b[0;34m\u001b[0m\u001b[0m\n",
      "\u001b[0;31mNameError\u001b[0m: name 'clf' is not defined"
     ]
    }
   ],
   "source": [
    "y_pred1 = clf.predict([[6,6.5]])\n",
    "y_pred2 = clf.predict([[2,6]])   \n",
    "y_pred3 = clf.predict([[4,6]]) "
   ]
  },
  {
   "cell_type": "code",
   "execution_count": null,
   "metadata": {
    "id": "HIUeWOhMIhGO"
   },
   "outputs": [],
   "source": [
    "import matplotlib.pyplot as plt\n",
    "\n",
    "LABEL_COLOR_MAP = {0:'r',1:'b'}\n",
    "label_color = [LABEL_COLOR_MAP[l] for l in labels]"
   ]
  },
  {
   "cell_type": "code",
   "execution_count": null,
   "metadata": {},
   "outputs": [],
   "source": [
    "fig = px.scatter(x=data['length'], y=data['weight'], color=label_color)\n",
    "fig.add_shape(type='circle', x0=5.97, y0=6.4, x1=6.02, y1=6.55, fillcolor='green', line_color='green')\n",
    "fig.show()"
   ]
  },
  {
   "cell_type": "code",
   "execution_count": null,
   "metadata": {
    "colab": {
     "base_uri": "https://localhost:8080/"
    },
    "id": "1Pkbht-Koh_6",
    "outputId": "286ea9ff-8b3e-40a9-b577-9ba7a50d1b31"
   },
   "outputs": [],
   "source": [
    "# Take a look at pred_1"
   ]
  },
  {
   "cell_type": "code",
   "execution_count": null,
   "metadata": {},
   "outputs": [],
   "source": [
    "fig = px.scatter(x=data['length'], y=data['weight'], color=label_color)\n",
    "fig.add_shape(type='circle', x0=1.97, y0=5.9, x1=2.02, y1=6.05, fillcolor='green', line_color='green')\n",
    "fig.show()"
   ]
  },
  {
   "cell_type": "code",
   "execution_count": null,
   "metadata": {
    "colab": {
     "base_uri": "https://localhost:8080/"
    },
    "id": "UrJhiieYok9-",
    "outputId": "a1f34c45-c0ba-4c07-829b-feee7d8fde1b"
   },
   "outputs": [],
   "source": [
    "# Take a look at pred2"
   ]
  },
  {
   "cell_type": "code",
   "execution_count": null,
   "metadata": {
    "colab": {
     "base_uri": "https://localhost:8080/",
     "height": 279
    },
    "id": "fo73L5f7oM-E",
    "outputId": "00b8e991-3322-4563-9ce1-cc06a5d4a6b1"
   },
   "outputs": [
    {
     "ename": "NameError",
     "evalue": "name 'px' is not defined",
     "output_type": "error",
     "traceback": [
      "\u001b[0;31m---------------------------------------------------------------------------\u001b[0m",
      "\u001b[0;31mNameError\u001b[0m                                 Traceback (most recent call last)",
      "\u001b[0;32m<ipython-input-1-ea81c96621b6>\u001b[0m in \u001b[0;36m<module>\u001b[0;34m\u001b[0m\n\u001b[0;32m----> 1\u001b[0;31m \u001b[0mfig\u001b[0m \u001b[0;34m=\u001b[0m \u001b[0mpx\u001b[0m\u001b[0;34m.\u001b[0m\u001b[0mscatter\u001b[0m\u001b[0;34m(\u001b[0m\u001b[0mx\u001b[0m\u001b[0;34m=\u001b[0m\u001b[0mdata\u001b[0m\u001b[0;34m[\u001b[0m\u001b[0;34m'length'\u001b[0m\u001b[0;34m]\u001b[0m\u001b[0;34m,\u001b[0m \u001b[0my\u001b[0m\u001b[0;34m=\u001b[0m\u001b[0mdata\u001b[0m\u001b[0;34m[\u001b[0m\u001b[0;34m'weight'\u001b[0m\u001b[0;34m]\u001b[0m\u001b[0;34m,\u001b[0m \u001b[0mcolor\u001b[0m\u001b[0;34m=\u001b[0m\u001b[0mlabel_color\u001b[0m\u001b[0;34m)\u001b[0m\u001b[0;34m\u001b[0m\u001b[0;34m\u001b[0m\u001b[0m\n\u001b[0m\u001b[1;32m      2\u001b[0m \u001b[0mfig\u001b[0m\u001b[0;34m.\u001b[0m\u001b[0madd_shape\u001b[0m\u001b[0;34m(\u001b[0m\u001b[0mtype\u001b[0m\u001b[0;34m=\u001b[0m\u001b[0;34m'circle'\u001b[0m\u001b[0;34m,\u001b[0m \u001b[0mx0\u001b[0m\u001b[0;34m=\u001b[0m\u001b[0;36m3.97\u001b[0m\u001b[0;34m,\u001b[0m \u001b[0my0\u001b[0m\u001b[0;34m=\u001b[0m\u001b[0;36m5.9\u001b[0m\u001b[0;34m,\u001b[0m \u001b[0mx1\u001b[0m\u001b[0;34m=\u001b[0m\u001b[0;36m4.02\u001b[0m\u001b[0;34m,\u001b[0m \u001b[0my1\u001b[0m\u001b[0;34m=\u001b[0m\u001b[0;36m6.05\u001b[0m\u001b[0;34m,\u001b[0m \u001b[0mfillcolor\u001b[0m\u001b[0;34m=\u001b[0m\u001b[0;34m'green'\u001b[0m\u001b[0;34m,\u001b[0m \u001b[0mline_color\u001b[0m\u001b[0;34m=\u001b[0m\u001b[0;34m'green'\u001b[0m\u001b[0;34m)\u001b[0m\u001b[0;34m\u001b[0m\u001b[0;34m\u001b[0m\u001b[0m\n\u001b[1;32m      3\u001b[0m \u001b[0mfig\u001b[0m\u001b[0;34m.\u001b[0m\u001b[0mshow\u001b[0m\u001b[0;34m(\u001b[0m\u001b[0;34m)\u001b[0m\u001b[0;34m\u001b[0m\u001b[0;34m\u001b[0m\u001b[0m\n",
      "\u001b[0;31mNameError\u001b[0m: name 'px' is not defined"
     ]
    }
   ],
   "source": [
    "fig = px.scatter(x=data['length'], y=data['weight'], color=label_color)\n",
    "fig.add_shape(type='circle', x0=3.97, y0=5.9, x1=4.02, y1=6.05, fillcolor='green', line_color='green')\n",
    "fig.show()"
   ]
  },
  {
   "cell_type": "code",
   "execution_count": null,
   "metadata": {
    "colab": {
     "base_uri": "https://localhost:8080/"
    },
    "id": "1Pm_YeBAlwbd",
    "outputId": "ea29c781-ec20-4804-8c9c-21d2ff52b625"
   },
   "outputs": [],
   "source": [
    "# Take a look at pred_3"
   ]
  },
  {
   "cell_type": "markdown",
   "metadata": {
    "id": "USoDZEKapJRP"
   },
   "source": [
    "Success! Each of the predictions matched our intuition!"
   ]
  },
  {
   "cell_type": "markdown",
   "metadata": {
    "id": "BETCaDjPp-Vd"
   },
   "source": [
    "# KNN on Real World Data"
   ]
  },
  {
   "cell_type": "markdown",
   "metadata": {
    "id": "UQnG6oGCqNn2"
   },
   "source": [
    "We tested the algorithm on a small, artificial dataset with only 2 features, but how well does it perform on real world data with potentially many features?\n",
    "\n",
    "We will be using a breast cancer dataset to hopefully find an answer to this question."
   ]
  },
  {
   "cell_type": "markdown",
   "metadata": {
    "id": "_90QqwBxqj5J"
   },
   "source": [
    "## Loading and Preprocessing the Data"
   ]
  },
  {
   "cell_type": "code",
   "execution_count": null,
   "metadata": {
    "id": "aPo_BJqopesI"
   },
   "outputs": [],
   "source": [
    "url = 'https://raw.githubusercontent.com/dt3zjy/node/master/week-8/workshop/breast_cancer.csv'\n",
    "df  = pd.read_csv(url)\n",
    "\n",
    "\n",
    "df = df.drop(columns=['id','Unnamed: 32'])\n",
    "df['diagnosis'] = df['diagnosis'].map({'M':1,'B':0})\n",
    "\n",
    "# Break into X and y (the label is the 'diagnosis' column)\n",
    "\n",
    "\n",
    "\n",
    "# X_train, X_test, y_train, y_test = "
   ]
  },
  {
   "cell_type": "markdown",
   "metadata": {
    "id": "ItpH-lhftaih"
   },
   "source": [
    "## Fitting the Model"
   ]
  },
  {
   "cell_type": "code",
   "execution_count": null,
   "metadata": {
    "colab": {
     "base_uri": "https://localhost:8080/"
    },
    "id": "is756gJCtc4Q",
    "outputId": "99d6a852-2736-42c4-b76b-36fc922201a5"
   },
   "outputs": [],
   "source": [
    "# Create and fit the KNN model\n"
   ]
  },
  {
   "cell_type": "markdown",
   "metadata": {
    "id": "5iuu6nuUt_VK"
   },
   "source": [
    "By default, the KNeighborsClassifier uses a value of K=5."
   ]
  },
  {
   "cell_type": "code",
   "execution_count": null,
   "metadata": {
    "colab": {
     "base_uri": "https://localhost:8080/"
    },
    "id": "On0OlKJUtlKO",
    "outputId": "47943939-bc89-44c4-9a36-9ae5d8c64666"
   },
   "outputs": [],
   "source": [
    "# Predict on X_test and compare to y_test\n"
   ]
  },
  {
   "cell_type": "code",
   "execution_count": null,
   "metadata": {
    "colab": {
     "base_uri": "https://localhost:8080/"
    },
    "id": "gcBi1UjPtyn9",
    "outputId": "02ce66b7-af77-4405-b716-b3efca002821"
   },
   "outputs": [],
   "source": [
    "# Get the accuracy score for k=5\n"
   ]
  },
  {
   "cell_type": "markdown",
   "metadata": {
    "id": "v1RdOgkuuO4b"
   },
   "source": [
    "Looks like the default classifier gave a pretty decent score. However, we need to note that accuracy is not a great metric for determining model performance and the score itself is relative."
   ]
  },
  {
   "cell_type": "markdown",
   "metadata": {
    "id": "JKJoYHPFtSPF"
   },
   "source": [
    "## What value of K?"
   ]
  },
  {
   "cell_type": "markdown",
   "metadata": {
    "id": "GQmj7PV4ujal"
   },
   "source": [
    "While the default classifier was decent, we can also adjust the number of neighbors that the model looks at to get potentially better results. "
   ]
  },
  {
   "cell_type": "code",
   "execution_count": null,
   "metadata": {
    "id": "FiQ5a1MAvs49"
   },
   "outputs": [],
   "source": [
    "k_values = [1,5,10,50,200]\n",
    "scores = []"
   ]
  },
  {
   "cell_type": "code",
   "execution_count": null,
   "metadata": {
    "colab": {
     "base_uri": "https://localhost:8080/"
    },
    "id": "RiG7srg2vX6G",
    "outputId": "1269db75-c548-4c80-a84c-e110ed4d5643"
   },
   "outputs": [
    {
     "name": "stdout",
     "output_type": "stream",
     "text": [
      "0.9298245614035088\n"
     ]
    }
   ],
   "source": [
    "clf1 = KNeighborsClassifier(n_neighbors=1)\n",
    "clf1.fit(X_train, y_train)\n",
    "predicted = clf1.predict(X_test)\n",
    "actual = np.array(y_test)\n",
    "k1 = accuracy_score(predicted,actual)\n",
    "scores.append(k1)\n",
    "scores.append(k5)\n",
    "print(k1)"
   ]
  },
  {
   "cell_type": "code",
   "execution_count": null,
   "metadata": {
    "colab": {
     "base_uri": "https://localhost:8080/"
    },
    "id": "G85G_j7gtXal",
    "outputId": "c97cda1c-5c30-4996-8cb2-7c4e76724d93"
   },
   "outputs": [],
   "source": [
    "# Try for n_neihbors = 10"
   ]
  },
  {
   "cell_type": "code",
   "execution_count": null,
   "metadata": {
    "colab": {
     "base_uri": "https://localhost:8080/"
    },
    "id": "i86aeHgRvQy4",
    "outputId": "f69f81cf-ea9b-41d0-be29-7e1303d5cc67"
   },
   "outputs": [],
   "source": [
    "# Try for n_neihbors = 50"
   ]
  },
  {
   "cell_type": "code",
   "execution_count": null,
   "metadata": {
    "colab": {
     "base_uri": "https://localhost:8080/"
    },
    "id": "HqOEEIn6vLxs",
    "outputId": "de3c6529-3c8b-44e2-d3e5-c9640f078516"
   },
   "outputs": [],
   "source": [
    "# Try for n_neihbors = 200"
   ]
  },
  {
   "cell_type": "code",
   "execution_count": null,
   "metadata": {
    "colab": {
     "base_uri": "https://localhost:8080/",
     "height": 295
    },
    "id": "y9rj0TISwELQ",
    "outputId": "cc3a81b7-e848-4437-db0e-aff321e66f24"
   },
   "outputs": [],
   "source": [
    "# Make sure to append each score to to scores list for this to work\n",
    "plt.plot(k_values,scores,'go--', linewidth=2, markersize=12)\n",
    "plt.xlabel('Number of Neighbors')\n",
    "plt.ylabel('Accuracy of Model')\n",
    "plt.title('K value versus Accuracy')\n",
    "plt.show()"
   ]
  },
  {
   "cell_type": "markdown",
   "metadata": {
    "id": "R9XEs3RExCHi"
   },
   "source": [
    "As we can see, adding more neighbors does not equate to higher model accuracy. Each dataset is unique, and we need to select a value for K based on the nuances in the data to get the best performance from our KNN model.\n",
    "\n",
    "For this particular dataset, a K value of 10 (look for the 10 nearest datapoints) gave us the best results on the unknown data."
   ]
  },
  {
   "cell_type": "code",
   "execution_count": null,
   "metadata": {
    "id": "nXaEqdiWLg4A"
   },
   "outputs": [],
   "source": []
  }
 ],
 "metadata": {
  "colab": {
   "name": "knn_key.ipynb",
   "provenance": []
  },
  "interpreter": {
   "hash": "fc5d429d9044e08e0dbe900b0b6be941aa8fe99e727e7e32e9f2e2984a2dbd6c"
  },
  "kernelspec": {
   "display_name": "Python 3.8.10 64-bit ('base': conda)",
   "name": "python3"
  },
  "language_info": {
   "codemirror_mode": {
    "name": "ipython",
    "version": 3
   },
   "file_extension": ".py",
   "mimetype": "text/x-python",
   "name": "python",
   "nbconvert_exporter": "python",
   "pygments_lexer": "ipython3",
   "version": "3.8.10"
  }
 },
 "nbformat": 4,
 "nbformat_minor": 4
}
