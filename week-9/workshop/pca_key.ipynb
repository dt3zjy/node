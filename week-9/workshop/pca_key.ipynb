{
  "cells": [
    {
      "cell_type": "markdown",
      "metadata": {
        "id": "GixiUQpTOkKD"
      },
      "source": [
        "Import pandas, PCA and Standard Scaler\n",
        "\n",
        "> PCA can give you wonky results if the variance in the original dataset is large, so we want to standardize the data. StandardScaler allows you to standardize the dataset so the mean is 0 and the variance is 1. This process is common in ML models\n"
      ]
    },
    {
      "cell_type": "code",
      "execution_count": 1,
      "metadata": {
        "id": "VcfF09ldNh_t"
      },
      "outputs": [],
      "source": [
        "import pandas as pd\n",
        "import plotly.express as px\n",
        "\n",
        "from sklearn.preprocessing import StandardScaler\n",
        "from sklearn.decomposition import PCA"
      ]
    },
    {
      "cell_type": "markdown",
      "metadata": {
        "id": "OhDjZxDKPQxU"
      },
      "source": [
        "Load iris and take a look at the dataset"
      ]
    },
    {
      "cell_type": "code",
      "execution_count": 2,
      "metadata": {
        "colab": {
          "base_uri": "https://localhost:8080/",
          "height": 204
        },
        "id": "zj9b_mzgPS9-",
        "outputId": "8301ba28-63a8-4fcd-99d4-fb4740b902a0"
      },
      "outputs": [
        {
          "data": {
            "text/html": [
              "<div>\n",
              "<style scoped>\n",
              "    .dataframe tbody tr th:only-of-type {\n",
              "        vertical-align: middle;\n",
              "    }\n",
              "\n",
              "    .dataframe tbody tr th {\n",
              "        vertical-align: top;\n",
              "    }\n",
              "\n",
              "    .dataframe thead th {\n",
              "        text-align: right;\n",
              "    }\n",
              "</style>\n",
              "<table border=\"1\" class=\"dataframe\">\n",
              "  <thead>\n",
              "    <tr style=\"text-align: right;\">\n",
              "      <th></th>\n",
              "      <th>sepal_length</th>\n",
              "      <th>sepal_width</th>\n",
              "      <th>petal_length</th>\n",
              "      <th>petal_width</th>\n",
              "      <th>target</th>\n",
              "    </tr>\n",
              "  </thead>\n",
              "  <tbody>\n",
              "    <tr>\n",
              "      <th>0</th>\n",
              "      <td>5.1</td>\n",
              "      <td>3.5</td>\n",
              "      <td>1.4</td>\n",
              "      <td>0.2</td>\n",
              "      <td>Iris-setosa</td>\n",
              "    </tr>\n",
              "    <tr>\n",
              "      <th>1</th>\n",
              "      <td>4.9</td>\n",
              "      <td>3.0</td>\n",
              "      <td>1.4</td>\n",
              "      <td>0.2</td>\n",
              "      <td>Iris-setosa</td>\n",
              "    </tr>\n",
              "    <tr>\n",
              "      <th>2</th>\n",
              "      <td>4.7</td>\n",
              "      <td>3.2</td>\n",
              "      <td>1.3</td>\n",
              "      <td>0.2</td>\n",
              "      <td>Iris-setosa</td>\n",
              "    </tr>\n",
              "    <tr>\n",
              "      <th>3</th>\n",
              "      <td>4.6</td>\n",
              "      <td>3.1</td>\n",
              "      <td>1.5</td>\n",
              "      <td>0.2</td>\n",
              "      <td>Iris-setosa</td>\n",
              "    </tr>\n",
              "    <tr>\n",
              "      <th>4</th>\n",
              "      <td>5.0</td>\n",
              "      <td>3.6</td>\n",
              "      <td>1.4</td>\n",
              "      <td>0.2</td>\n",
              "      <td>Iris-setosa</td>\n",
              "    </tr>\n",
              "  </tbody>\n",
              "</table>\n",
              "</div>"
            ],
            "text/plain": [
              "   sepal_length  sepal_width  petal_length  petal_width       target\n",
              "0           5.1          3.5           1.4          0.2  Iris-setosa\n",
              "1           4.9          3.0           1.4          0.2  Iris-setosa\n",
              "2           4.7          3.2           1.3          0.2  Iris-setosa\n",
              "3           4.6          3.1           1.5          0.2  Iris-setosa\n",
              "4           5.0          3.6           1.4          0.2  Iris-setosa"
            ]
          },
          "execution_count": 2,
          "metadata": {},
          "output_type": "execute_result"
        }
      ],
      "source": [
        "url = \"https://archive.ics.uci.edu/ml/machine-learning-databases/iris/iris.data\"\n",
        "df = pd.read_csv(url, names=['sepal_length','sepal_width','petal_length','petal_width','target'])\n",
        "df.head()"
      ]
    },
    {
      "cell_type": "markdown",
      "metadata": {
        "id": "Q0EpGiH0PsaF"
      },
      "source": [
        "Split the dataset into X and y"
      ]
    },
    {
      "cell_type": "code",
      "execution_count": 3,
      "metadata": {
        "id": "Ct_UmVTcPVFE"
      },
      "outputs": [],
      "source": [
        "X = df.drop('target', 1)\n",
        "y = df.target"
      ]
    },
    {
      "cell_type": "markdown",
      "metadata": {
        "id": "n29fdZ3DVdvK"
      },
      "source": [
        "Apply the standardization to the X values"
      ]
    },
    {
      "cell_type": "code",
      "execution_count": 4,
      "metadata": {
        "colab": {
          "base_uri": "https://localhost:8080/"
        },
        "id": "7ZcVkduUQesH",
        "outputId": "98b13d49-0d1f-4d95-9a73-9f5e7bb619bc"
      },
      "outputs": [
        {
          "name": "stdout",
          "output_type": "stream",
          "text": [
            "            0         1         2         3\n",
            "0   -0.900681  1.032057 -1.341272 -1.312977\n",
            "1   -1.143017 -0.124958 -1.341272 -1.312977\n",
            "2   -1.385353  0.337848 -1.398138 -1.312977\n",
            "3   -1.506521  0.106445 -1.284407 -1.312977\n",
            "4   -1.021849  1.263460 -1.341272 -1.312977\n",
            "..        ...       ...       ...       ...\n",
            "145  1.038005 -0.124958  0.819624  1.447956\n",
            "146  0.553333 -1.281972  0.705893  0.922064\n",
            "147  0.795669 -0.124958  0.819624  1.053537\n",
            "148  0.432165  0.800654  0.933356  1.447956\n",
            "149  0.068662 -0.124958  0.762759  0.790591\n",
            "\n",
            "[150 rows x 4 columns]\n"
          ]
        }
      ],
      "source": [
        "X = StandardScaler().fit_transform(X)\n",
        "print(pd.DataFrame(X))"
      ]
    },
    {
      "cell_type": "markdown",
      "metadata": {
        "id": "5EVelpduSDIs"
      },
      "source": [
        "Run the principal component analysis model on X"
      ]
    },
    {
      "cell_type": "code",
      "execution_count": 5,
      "metadata": {
        "colab": {
          "base_uri": "https://localhost:8080/",
          "height": 419
        },
        "id": "DKQHdfQFRaqx",
        "outputId": "8b4fc08c-48b5-41db-d6fb-ad44de388670"
      },
      "outputs": [
        {
          "data": {
            "text/html": [
              "<div>\n",
              "<style scoped>\n",
              "    .dataframe tbody tr th:only-of-type {\n",
              "        vertical-align: middle;\n",
              "    }\n",
              "\n",
              "    .dataframe tbody tr th {\n",
              "        vertical-align: top;\n",
              "    }\n",
              "\n",
              "    .dataframe thead th {\n",
              "        text-align: right;\n",
              "    }\n",
              "</style>\n",
              "<table border=\"1\" class=\"dataframe\">\n",
              "  <thead>\n",
              "    <tr style=\"text-align: right;\">\n",
              "      <th></th>\n",
              "      <th>PC1</th>\n",
              "      <th>PC2</th>\n",
              "    </tr>\n",
              "  </thead>\n",
              "  <tbody>\n",
              "    <tr>\n",
              "      <th>0</th>\n",
              "      <td>-2.264542</td>\n",
              "      <td>0.505704</td>\n",
              "    </tr>\n",
              "    <tr>\n",
              "      <th>1</th>\n",
              "      <td>-2.086426</td>\n",
              "      <td>-0.655405</td>\n",
              "    </tr>\n",
              "    <tr>\n",
              "      <th>2</th>\n",
              "      <td>-2.367950</td>\n",
              "      <td>-0.318477</td>\n",
              "    </tr>\n",
              "    <tr>\n",
              "      <th>3</th>\n",
              "      <td>-2.304197</td>\n",
              "      <td>-0.575368</td>\n",
              "    </tr>\n",
              "    <tr>\n",
              "      <th>4</th>\n",
              "      <td>-2.388777</td>\n",
              "      <td>0.674767</td>\n",
              "    </tr>\n",
              "    <tr>\n",
              "      <th>...</th>\n",
              "      <td>...</td>\n",
              "      <td>...</td>\n",
              "    </tr>\n",
              "    <tr>\n",
              "      <th>145</th>\n",
              "      <td>1.870522</td>\n",
              "      <td>0.382822</td>\n",
              "    </tr>\n",
              "    <tr>\n",
              "      <th>146</th>\n",
              "      <td>1.558492</td>\n",
              "      <td>-0.905314</td>\n",
              "    </tr>\n",
              "    <tr>\n",
              "      <th>147</th>\n",
              "      <td>1.520845</td>\n",
              "      <td>0.266795</td>\n",
              "    </tr>\n",
              "    <tr>\n",
              "      <th>148</th>\n",
              "      <td>1.376391</td>\n",
              "      <td>1.016362</td>\n",
              "    </tr>\n",
              "    <tr>\n",
              "      <th>149</th>\n",
              "      <td>0.959299</td>\n",
              "      <td>-0.022284</td>\n",
              "    </tr>\n",
              "  </tbody>\n",
              "</table>\n",
              "<p>150 rows × 2 columns</p>\n",
              "</div>"
            ],
            "text/plain": [
              "          PC1       PC2\n",
              "0   -2.264542  0.505704\n",
              "1   -2.086426 -0.655405\n",
              "2   -2.367950 -0.318477\n",
              "3   -2.304197 -0.575368\n",
              "4   -2.388777  0.674767\n",
              "..        ...       ...\n",
              "145  1.870522  0.382822\n",
              "146  1.558492 -0.905314\n",
              "147  1.520845  0.266795\n",
              "148  1.376391  1.016362\n",
              "149  0.959299 -0.022284\n",
              "\n",
              "[150 rows x 2 columns]"
            ]
          },
          "execution_count": 5,
          "metadata": {},
          "output_type": "execute_result"
        }
      ],
      "source": [
        "pca = PCA(n_components=2)\n",
        "principalComponents = pca.fit_transform(X)\n",
        "pcaDF = pd.DataFrame(data = principalComponents, columns = ['PC1', 'PC2'])\n",
        "pcaDF"
      ]
    },
    {
      "cell_type": "markdown",
      "metadata": {
        "id": "JU51YrT_SGgi"
      },
      "source": [
        "Combine the principalDf with y to get a dataframe with both the components and y"
      ]
    },
    {
      "cell_type": "code",
      "execution_count": 6,
      "metadata": {
        "id": "BlKTx7RpRzwa"
      },
      "outputs": [
        {
          "data": {
            "text/html": [
              "<div>\n",
              "<style scoped>\n",
              "    .dataframe tbody tr th:only-of-type {\n",
              "        vertical-align: middle;\n",
              "    }\n",
              "\n",
              "    .dataframe tbody tr th {\n",
              "        vertical-align: top;\n",
              "    }\n",
              "\n",
              "    .dataframe thead th {\n",
              "        text-align: right;\n",
              "    }\n",
              "</style>\n",
              "<table border=\"1\" class=\"dataframe\">\n",
              "  <thead>\n",
              "    <tr style=\"text-align: right;\">\n",
              "      <th></th>\n",
              "      <th>PC1</th>\n",
              "      <th>PC2</th>\n",
              "      <th>target</th>\n",
              "    </tr>\n",
              "  </thead>\n",
              "  <tbody>\n",
              "    <tr>\n",
              "      <th>0</th>\n",
              "      <td>-2.264542</td>\n",
              "      <td>0.505704</td>\n",
              "      <td>Iris-setosa</td>\n",
              "    </tr>\n",
              "    <tr>\n",
              "      <th>1</th>\n",
              "      <td>-2.086426</td>\n",
              "      <td>-0.655405</td>\n",
              "      <td>Iris-setosa</td>\n",
              "    </tr>\n",
              "    <tr>\n",
              "      <th>2</th>\n",
              "      <td>-2.367950</td>\n",
              "      <td>-0.318477</td>\n",
              "      <td>Iris-setosa</td>\n",
              "    </tr>\n",
              "    <tr>\n",
              "      <th>3</th>\n",
              "      <td>-2.304197</td>\n",
              "      <td>-0.575368</td>\n",
              "      <td>Iris-setosa</td>\n",
              "    </tr>\n",
              "    <tr>\n",
              "      <th>4</th>\n",
              "      <td>-2.388777</td>\n",
              "      <td>0.674767</td>\n",
              "      <td>Iris-setosa</td>\n",
              "    </tr>\n",
              "    <tr>\n",
              "      <th>...</th>\n",
              "      <td>...</td>\n",
              "      <td>...</td>\n",
              "      <td>...</td>\n",
              "    </tr>\n",
              "    <tr>\n",
              "      <th>145</th>\n",
              "      <td>1.870522</td>\n",
              "      <td>0.382822</td>\n",
              "      <td>Iris-virginica</td>\n",
              "    </tr>\n",
              "    <tr>\n",
              "      <th>146</th>\n",
              "      <td>1.558492</td>\n",
              "      <td>-0.905314</td>\n",
              "      <td>Iris-virginica</td>\n",
              "    </tr>\n",
              "    <tr>\n",
              "      <th>147</th>\n",
              "      <td>1.520845</td>\n",
              "      <td>0.266795</td>\n",
              "      <td>Iris-virginica</td>\n",
              "    </tr>\n",
              "    <tr>\n",
              "      <th>148</th>\n",
              "      <td>1.376391</td>\n",
              "      <td>1.016362</td>\n",
              "      <td>Iris-virginica</td>\n",
              "    </tr>\n",
              "    <tr>\n",
              "      <th>149</th>\n",
              "      <td>0.959299</td>\n",
              "      <td>-0.022284</td>\n",
              "      <td>Iris-virginica</td>\n",
              "    </tr>\n",
              "  </tbody>\n",
              "</table>\n",
              "<p>150 rows × 3 columns</p>\n",
              "</div>"
            ],
            "text/plain": [
              "          PC1       PC2          target\n",
              "0   -2.264542  0.505704     Iris-setosa\n",
              "1   -2.086426 -0.655405     Iris-setosa\n",
              "2   -2.367950 -0.318477     Iris-setosa\n",
              "3   -2.304197 -0.575368     Iris-setosa\n",
              "4   -2.388777  0.674767     Iris-setosa\n",
              "..        ...       ...             ...\n",
              "145  1.870522  0.382822  Iris-virginica\n",
              "146  1.558492 -0.905314  Iris-virginica\n",
              "147  1.520845  0.266795  Iris-virginica\n",
              "148  1.376391  1.016362  Iris-virginica\n",
              "149  0.959299 -0.022284  Iris-virginica\n",
              "\n",
              "[150 rows x 3 columns]"
            ]
          },
          "execution_count": 6,
          "metadata": {},
          "output_type": "execute_result"
        }
      ],
      "source": [
        "finalDf = pd.concat([pcaDF, y], axis = 1)\n",
        "finalDf"
      ]
    },
    {
      "cell_type": "markdown",
      "metadata": {
        "id": "TIBrj_LlSNie"
      },
      "source": [
        "Plot the principal components vs each other (don't need to code this yourselves)"
      ]
    },
    {
      "cell_type": "code",
      "execution_count": 7,
      "metadata": {},
      "outputs": [
        {
          "data": {
            "application/vnd.plotly.v1+json": {
              "config": {
                "plotlyServerURL": "https://plot.ly"
              },
              "data": [
                {
                  "hovertemplate": "target=Iris-setosa<br>PC1=%{x}<br>PC2=%{y}<extra></extra>",
                  "legendgroup": "Iris-setosa",
                  "marker": {
                    "color": "#636efa",
                    "symbol": "circle"
                  },
                  "mode": "markers",
                  "name": "Iris-setosa",
                  "orientation": "v",
                  "showlegend": true,
                  "type": "scatter",
                  "x": [
                    -2.2645417283949008,
                    -2.0864255006161576,
                    -2.367950449062524,
                    -2.3041971611520085,
                    -2.388777493505641,
                    -2.0705368071805528,
                    -2.445711339630283,
                    -2.233841858709265,
                    -2.3419576764553893,
                    -2.1886757552808693,
                    -2.163486556266522,
                    -2.3273777541343734,
                    -2.2240827220450017,
                    -2.639716260844628,
                    -2.1922915084984282,
                    -2.251465214584064,
                    -2.202750480080085,
                    -2.190179163791051,
                    -1.894074293023667,
                    -2.339949070423407,
                    -1.9145563949595161,
                    -2.2046453975338127,
                    -2.774169793705156,
                    -1.8204115633372133,
                    -2.2282174994597246,
                    -1.9570240073413965,
                    -2.052063311276686,
                    -2.1681936533450203,
                    -2.140305963284157,
                    -2.268790194387876,
                    -2.1445544292771346,
                    -1.8319381022015864,
                    -2.608202867663346,
                    -2.4379508590951415,
                    -2.1886757552808693,
                    -2.2111198968124217,
                    -2.044416519319799,
                    -2.1886757552808693,
                    -2.435952202966019,
                    -2.1705472018842693,
                    -2.2865272388409297,
                    -1.8717072235369505,
                    -2.557834419537512,
                    -1.9642792903547366,
                    -2.133372832920027,
                    -2.075357592837306,
                    -2.381258216802372,
                    -2.398191687662638,
                    -2.2267812130915177,
                    -2.2059541686484017
                  ],
                  "xaxis": "x",
                  "y": [
                    0.5057039027737854,
                    -0.6554047293691366,
                    -0.3184773108472484,
                    -0.5753677125331946,
                    0.6747673967025157,
                    1.5185485598885136,
                    0.07456267500687457,
                    0.24761393175226576,
                    -1.0951463625829547,
                    -0.44862904833755846,
                    1.0705955760377268,
                    0.15858745465947646,
                    -0.7091181580302256,
                    -0.9382819821078533,
                    1.8899785123164663,
                    2.7223710765744693,
                    1.5137502825462195,
                    0.5143043082206934,
                    1.4311107069412374,
                    1.1580334289850014,
                    0.4304651632801387,
                    0.9524573172889989,
                    0.48951702650349554,
                    0.10675079283540664,
                    0.16218616266619731,
                    -0.6078925674838074,
                    0.26601431198165576,
                    0.5520164953235404,
                    0.3366404088450548,
                    -0.31487860284052765,
                    -0.4839420967692582,
                    0.44526683550280777,
                    1.8284751927341012,
                    2.1853916156308926,
                    -0.44862904833755846,
                    -0.18433781054027804,
                    0.6849564262949371,
                    -0.44862904833755846,
                    -0.8821694147756162,
                    0.2927269549664469,
                    0.4679917156709383,
                    -2.327691606114909,
                    -0.4538163804897925,
                    0.4973916400183837,
                    1.171432111774204,
                    -0.6919173471364093,
                    1.150632592873667,
                    -0.36239076472585646,
                    1.0254825528235452,
                    0.03223784527378015
                  ],
                  "yaxis": "y"
                },
                {
                  "hovertemplate": "target=Iris-versicolor<br>PC1=%{x}<br>PC2=%{y}<extra></extra>",
                  "legendgroup": "Iris-versicolor",
                  "marker": {
                    "color": "#EF553B",
                    "symbol": "circle"
                  },
                  "mode": "markers",
                  "name": "Iris-versicolor",
                  "orientation": "v",
                  "showlegend": true,
                  "type": "scatter",
                  "x": [
                    1.1039936528045722,
                    0.7324814400086807,
                    1.2421095053189373,
                    0.3973072828233269,
                    1.072593948201545,
                    0.38445814616900126,
                    0.7487150759515528,
                    -0.4978633877981183,
                    0.9262223675330976,
                    0.004968025584318863,
                    -0.12469746138037119,
                    0.4387301177805465,
                    0.5516339814225073,
                    0.7171650662368511,
                    -0.03725838296568843,
                    0.8758905359406831,
                    0.34800640198020855,
                    0.15339254456866686,
                    1.2153032092161533,
                    0.15694117564425047,
                    0.7382561043698957,
                    0.4723696823445683,
                    1.227988214083442,
                    0.6293810453149017,
                    0.7004727992084582,
                    0.8735369874014334,
                    1.2542221905224498,
                    1.3582398473872712,
                    0.6621261375659374,
                    -0.047281513319880286,
                    0.12153420888011833,
                    0.014118226051387416,
                    0.2360108373265967,
                    1.0566914280905761,
                    0.2214170883302176,
                    0.43178316074105333,
                    1.0494133552191802,
                    1.0358782103228241,
                    0.06706759987298024,
                    0.2754250662518338,
                    0.27233506626177156,
                    0.6231705397262213,
                    0.3300053638372263,
                    -0.37362762268737637,
                    0.2829443429551025,
                    0.08905311031901131,
                    0.22435678320860586,
                    0.5738834855584666,
                    -0.45701287250467487,
                    0.25224447326946897
                  ],
                  "xaxis": "x",
                  "y": [
                    0.8631124458513243,
                    0.5986355733419971,
                    0.6148224496122864,
                    -1.7581689474435256,
                    -0.2117579026798956,
                    -0.5910624686227364,
                    0.7786986113887816,
                    -1.8488687712754421,
                    0.030330826783381035,
                    -1.029401112403088,
                    -2.6580626779617598,
                    -0.05888128502145446,
                    -1.7725815648562544,
                    -0.18543431450504394,
                    -0.4327950987141689,
                    0.5099981510591474,
                    -0.19062164665727796,
                    -0.7907254562344853,
                    -1.6333556445154829,
                    -1.303103270172911,
                    0.40247038161853554,
                    -0.41660822244387946,
                    -0.9409147925302721,
                    -0.41681164254177216,
                    -0.0634939276517022,
                    0.25070861070205386,
                    -0.08262009981311257,
                    0.3288202662704018,
                    -0.22434607094346434,
                    -1.0572124126050197,
                    -1.5635923798655775,
                    -1.5733923546480593,
                    -0.7759237840118162,
                    -0.6369012837689372,
                    -0.28084769308564045,
                    0.8551369202180022,
                    0.5221972645127765,
                    -1.3924664843877803,
                    -0.2126207348933888,
                    -1.3298159131577016,
                    -1.1194415241194038,
                    0.027542633302294315,
                    -0.9889007318191546,
                    -2.0179322652041725,
                    -0.85395071698655,
                    -0.17490854779054177,
                    -0.38048465948654553,
                    -0.153719974080065,
                    -1.5394645102639801,
                    -0.5958607459650309
                  ],
                  "yaxis": "y"
                },
                {
                  "hovertemplate": "target=Iris-virginica<br>PC1=%{x}<br>PC2=%{y}<extra></extra>",
                  "legendgroup": "Iris-virginica",
                  "marker": {
                    "color": "#00cc96",
                    "symbol": "circle"
                  },
                  "mode": "markers",
                  "name": "Iris-virginica",
                  "orientation": "v",
                  "showlegend": true,
                  "type": "scatter",
                  "x": [
                    1.8476725943096637,
                    1.1531898082521286,
                    2.2063494971265927,
                    1.4386854023261815,
                    1.8678907025555844,
                    2.7541967088257526,
                    0.3583744748416673,
                    2.3030058981503183,
                    2.001735299218916,
                    2.267554599102268,
                    1.365909429202214,
                    1.5990645856518686,
                    1.8842518537520736,
                    1.253086514377591,
                    1.464061522985622,
                    1.5918093026385283,
                    1.4712801894655436,
                    2.437378482193508,
                    3.309141182676078,
                    1.2539809866905773,
                    2.0404962596630387,
                    0.9739151144704733,
                    2.8980644358432763,
                    1.3291936913234932,
                    1.7042407085196052,
                    1.957727661793435,
                    1.171904507987868,
                    1.0197810528162625,
                    1.786008861248468,
                    1.8647779127074657,
                    2.4354973914151428,
                    2.316082411961154,
                    1.8603714258523156,
                    1.1112717256759688,
                    1.1974691551180372,
                    2.8009494037340286,
                    1.5801552485205366,
                    1.3470444243548017,
                    0.9234329777663839,
                    1.8535519840664403,
                    2.0161572006777586,
                    1.9031168585994864,
                    1.1531898082521286,
                    2.043308439287809,
                    2.001690966934997,
                    1.870522071460125,
                    1.5584918907237169,
                    1.5208450639985898,
                    1.3763911906419273,
                    0.9592985756160375
                  ],
                  "xaxis": "x",
                  "y": [
                    0.8716966617734123,
                    -0.7013261138565757,
                    0.5544701049349223,
                    -0.05001052226888584,
                    0.29119280176116874,
                    0.7884322063548443,
                    -1.5600945839772895,
                    0.4095166952219431,
                    -0.7238653593126596,
                    1.9214429914653541,
                    0.6939480398041609,
                    -0.4282488359003397,
                    0.4143327579500837,
                    -1.1673913352452459,
                    -0.4441475694791237,
                    0.6770353716018513,
                    0.2531924719668152,
                    2.556757341494801,
                    -0.002361320102083456,
                    -1.7175838442659774,
                    0.9073987650150527,
                    -0.5711743763662663,
                    0.39779135917186775,
                    -0.48676054190372403,
                    1.0141484248357846,
                    1.0033345154297768,
                    -0.3188966173105679,
                    0.06554296309664785,
                    -0.1932727998568917,
                    0.5553815315789895,
                    0.24665446806897387,
                    2.626183869022627,
                    -0.18467239440998354,
                    -0.29598610243039036,
                    -0.817167741913616,
                    0.8447481937849742,
                    1.0724744961271215,
                    0.4222559658955459,
                    0.01923037054689296,
                    0.6724227289716035,
                    0.6103970375551125,
                    0.6860248318586988,
                    -0.7013261138565757,
                    0.8646848804720182,
                    1.0485500466234172,
                    0.382821837622998,
                    -0.9053136014070657,
                    0.2667945748539106,
                    1.016361928794885,
                    -0.02228394466056735
                  ],
                  "yaxis": "y"
                }
              ],
              "layout": {
                "legend": {
                  "title": {
                    "text": "target"
                  },
                  "tracegroupgap": 0
                },
                "margin": {
                  "t": 60
                },
                "template": {
                  "data": {
                    "bar": [
                      {
                        "error_x": {
                          "color": "#2a3f5f"
                        },
                        "error_y": {
                          "color": "#2a3f5f"
                        },
                        "marker": {
                          "line": {
                            "color": "#E5ECF6",
                            "width": 0.5
                          }
                        },
                        "type": "bar"
                      }
                    ],
                    "barpolar": [
                      {
                        "marker": {
                          "line": {
                            "color": "#E5ECF6",
                            "width": 0.5
                          }
                        },
                        "type": "barpolar"
                      }
                    ],
                    "carpet": [
                      {
                        "aaxis": {
                          "endlinecolor": "#2a3f5f",
                          "gridcolor": "white",
                          "linecolor": "white",
                          "minorgridcolor": "white",
                          "startlinecolor": "#2a3f5f"
                        },
                        "baxis": {
                          "endlinecolor": "#2a3f5f",
                          "gridcolor": "white",
                          "linecolor": "white",
                          "minorgridcolor": "white",
                          "startlinecolor": "#2a3f5f"
                        },
                        "type": "carpet"
                      }
                    ],
                    "choropleth": [
                      {
                        "colorbar": {
                          "outlinewidth": 0,
                          "ticks": ""
                        },
                        "type": "choropleth"
                      }
                    ],
                    "contour": [
                      {
                        "colorbar": {
                          "outlinewidth": 0,
                          "ticks": ""
                        },
                        "colorscale": [
                          [
                            0,
                            "#0d0887"
                          ],
                          [
                            0.1111111111111111,
                            "#46039f"
                          ],
                          [
                            0.2222222222222222,
                            "#7201a8"
                          ],
                          [
                            0.3333333333333333,
                            "#9c179e"
                          ],
                          [
                            0.4444444444444444,
                            "#bd3786"
                          ],
                          [
                            0.5555555555555556,
                            "#d8576b"
                          ],
                          [
                            0.6666666666666666,
                            "#ed7953"
                          ],
                          [
                            0.7777777777777778,
                            "#fb9f3a"
                          ],
                          [
                            0.8888888888888888,
                            "#fdca26"
                          ],
                          [
                            1,
                            "#f0f921"
                          ]
                        ],
                        "type": "contour"
                      }
                    ],
                    "contourcarpet": [
                      {
                        "colorbar": {
                          "outlinewidth": 0,
                          "ticks": ""
                        },
                        "type": "contourcarpet"
                      }
                    ],
                    "heatmap": [
                      {
                        "colorbar": {
                          "outlinewidth": 0,
                          "ticks": ""
                        },
                        "colorscale": [
                          [
                            0,
                            "#0d0887"
                          ],
                          [
                            0.1111111111111111,
                            "#46039f"
                          ],
                          [
                            0.2222222222222222,
                            "#7201a8"
                          ],
                          [
                            0.3333333333333333,
                            "#9c179e"
                          ],
                          [
                            0.4444444444444444,
                            "#bd3786"
                          ],
                          [
                            0.5555555555555556,
                            "#d8576b"
                          ],
                          [
                            0.6666666666666666,
                            "#ed7953"
                          ],
                          [
                            0.7777777777777778,
                            "#fb9f3a"
                          ],
                          [
                            0.8888888888888888,
                            "#fdca26"
                          ],
                          [
                            1,
                            "#f0f921"
                          ]
                        ],
                        "type": "heatmap"
                      }
                    ],
                    "heatmapgl": [
                      {
                        "colorbar": {
                          "outlinewidth": 0,
                          "ticks": ""
                        },
                        "colorscale": [
                          [
                            0,
                            "#0d0887"
                          ],
                          [
                            0.1111111111111111,
                            "#46039f"
                          ],
                          [
                            0.2222222222222222,
                            "#7201a8"
                          ],
                          [
                            0.3333333333333333,
                            "#9c179e"
                          ],
                          [
                            0.4444444444444444,
                            "#bd3786"
                          ],
                          [
                            0.5555555555555556,
                            "#d8576b"
                          ],
                          [
                            0.6666666666666666,
                            "#ed7953"
                          ],
                          [
                            0.7777777777777778,
                            "#fb9f3a"
                          ],
                          [
                            0.8888888888888888,
                            "#fdca26"
                          ],
                          [
                            1,
                            "#f0f921"
                          ]
                        ],
                        "type": "heatmapgl"
                      }
                    ],
                    "histogram": [
                      {
                        "marker": {
                          "colorbar": {
                            "outlinewidth": 0,
                            "ticks": ""
                          }
                        },
                        "type": "histogram"
                      }
                    ],
                    "histogram2d": [
                      {
                        "colorbar": {
                          "outlinewidth": 0,
                          "ticks": ""
                        },
                        "colorscale": [
                          [
                            0,
                            "#0d0887"
                          ],
                          [
                            0.1111111111111111,
                            "#46039f"
                          ],
                          [
                            0.2222222222222222,
                            "#7201a8"
                          ],
                          [
                            0.3333333333333333,
                            "#9c179e"
                          ],
                          [
                            0.4444444444444444,
                            "#bd3786"
                          ],
                          [
                            0.5555555555555556,
                            "#d8576b"
                          ],
                          [
                            0.6666666666666666,
                            "#ed7953"
                          ],
                          [
                            0.7777777777777778,
                            "#fb9f3a"
                          ],
                          [
                            0.8888888888888888,
                            "#fdca26"
                          ],
                          [
                            1,
                            "#f0f921"
                          ]
                        ],
                        "type": "histogram2d"
                      }
                    ],
                    "histogram2dcontour": [
                      {
                        "colorbar": {
                          "outlinewidth": 0,
                          "ticks": ""
                        },
                        "colorscale": [
                          [
                            0,
                            "#0d0887"
                          ],
                          [
                            0.1111111111111111,
                            "#46039f"
                          ],
                          [
                            0.2222222222222222,
                            "#7201a8"
                          ],
                          [
                            0.3333333333333333,
                            "#9c179e"
                          ],
                          [
                            0.4444444444444444,
                            "#bd3786"
                          ],
                          [
                            0.5555555555555556,
                            "#d8576b"
                          ],
                          [
                            0.6666666666666666,
                            "#ed7953"
                          ],
                          [
                            0.7777777777777778,
                            "#fb9f3a"
                          ],
                          [
                            0.8888888888888888,
                            "#fdca26"
                          ],
                          [
                            1,
                            "#f0f921"
                          ]
                        ],
                        "type": "histogram2dcontour"
                      }
                    ],
                    "mesh3d": [
                      {
                        "colorbar": {
                          "outlinewidth": 0,
                          "ticks": ""
                        },
                        "type": "mesh3d"
                      }
                    ],
                    "parcoords": [
                      {
                        "line": {
                          "colorbar": {
                            "outlinewidth": 0,
                            "ticks": ""
                          }
                        },
                        "type": "parcoords"
                      }
                    ],
                    "pie": [
                      {
                        "automargin": true,
                        "type": "pie"
                      }
                    ],
                    "scatter": [
                      {
                        "marker": {
                          "colorbar": {
                            "outlinewidth": 0,
                            "ticks": ""
                          }
                        },
                        "type": "scatter"
                      }
                    ],
                    "scatter3d": [
                      {
                        "line": {
                          "colorbar": {
                            "outlinewidth": 0,
                            "ticks": ""
                          }
                        },
                        "marker": {
                          "colorbar": {
                            "outlinewidth": 0,
                            "ticks": ""
                          }
                        },
                        "type": "scatter3d"
                      }
                    ],
                    "scattercarpet": [
                      {
                        "marker": {
                          "colorbar": {
                            "outlinewidth": 0,
                            "ticks": ""
                          }
                        },
                        "type": "scattercarpet"
                      }
                    ],
                    "scattergeo": [
                      {
                        "marker": {
                          "colorbar": {
                            "outlinewidth": 0,
                            "ticks": ""
                          }
                        },
                        "type": "scattergeo"
                      }
                    ],
                    "scattergl": [
                      {
                        "marker": {
                          "colorbar": {
                            "outlinewidth": 0,
                            "ticks": ""
                          }
                        },
                        "type": "scattergl"
                      }
                    ],
                    "scattermapbox": [
                      {
                        "marker": {
                          "colorbar": {
                            "outlinewidth": 0,
                            "ticks": ""
                          }
                        },
                        "type": "scattermapbox"
                      }
                    ],
                    "scatterpolar": [
                      {
                        "marker": {
                          "colorbar": {
                            "outlinewidth": 0,
                            "ticks": ""
                          }
                        },
                        "type": "scatterpolar"
                      }
                    ],
                    "scatterpolargl": [
                      {
                        "marker": {
                          "colorbar": {
                            "outlinewidth": 0,
                            "ticks": ""
                          }
                        },
                        "type": "scatterpolargl"
                      }
                    ],
                    "scatterternary": [
                      {
                        "marker": {
                          "colorbar": {
                            "outlinewidth": 0,
                            "ticks": ""
                          }
                        },
                        "type": "scatterternary"
                      }
                    ],
                    "surface": [
                      {
                        "colorbar": {
                          "outlinewidth": 0,
                          "ticks": ""
                        },
                        "colorscale": [
                          [
                            0,
                            "#0d0887"
                          ],
                          [
                            0.1111111111111111,
                            "#46039f"
                          ],
                          [
                            0.2222222222222222,
                            "#7201a8"
                          ],
                          [
                            0.3333333333333333,
                            "#9c179e"
                          ],
                          [
                            0.4444444444444444,
                            "#bd3786"
                          ],
                          [
                            0.5555555555555556,
                            "#d8576b"
                          ],
                          [
                            0.6666666666666666,
                            "#ed7953"
                          ],
                          [
                            0.7777777777777778,
                            "#fb9f3a"
                          ],
                          [
                            0.8888888888888888,
                            "#fdca26"
                          ],
                          [
                            1,
                            "#f0f921"
                          ]
                        ],
                        "type": "surface"
                      }
                    ],
                    "table": [
                      {
                        "cells": {
                          "fill": {
                            "color": "#EBF0F8"
                          },
                          "line": {
                            "color": "white"
                          }
                        },
                        "header": {
                          "fill": {
                            "color": "#C8D4E3"
                          },
                          "line": {
                            "color": "white"
                          }
                        },
                        "type": "table"
                      }
                    ]
                  },
                  "layout": {
                    "annotationdefaults": {
                      "arrowcolor": "#2a3f5f",
                      "arrowhead": 0,
                      "arrowwidth": 1
                    },
                    "coloraxis": {
                      "colorbar": {
                        "outlinewidth": 0,
                        "ticks": ""
                      }
                    },
                    "colorscale": {
                      "diverging": [
                        [
                          0,
                          "#8e0152"
                        ],
                        [
                          0.1,
                          "#c51b7d"
                        ],
                        [
                          0.2,
                          "#de77ae"
                        ],
                        [
                          0.3,
                          "#f1b6da"
                        ],
                        [
                          0.4,
                          "#fde0ef"
                        ],
                        [
                          0.5,
                          "#f7f7f7"
                        ],
                        [
                          0.6,
                          "#e6f5d0"
                        ],
                        [
                          0.7,
                          "#b8e186"
                        ],
                        [
                          0.8,
                          "#7fbc41"
                        ],
                        [
                          0.9,
                          "#4d9221"
                        ],
                        [
                          1,
                          "#276419"
                        ]
                      ],
                      "sequential": [
                        [
                          0,
                          "#0d0887"
                        ],
                        [
                          0.1111111111111111,
                          "#46039f"
                        ],
                        [
                          0.2222222222222222,
                          "#7201a8"
                        ],
                        [
                          0.3333333333333333,
                          "#9c179e"
                        ],
                        [
                          0.4444444444444444,
                          "#bd3786"
                        ],
                        [
                          0.5555555555555556,
                          "#d8576b"
                        ],
                        [
                          0.6666666666666666,
                          "#ed7953"
                        ],
                        [
                          0.7777777777777778,
                          "#fb9f3a"
                        ],
                        [
                          0.8888888888888888,
                          "#fdca26"
                        ],
                        [
                          1,
                          "#f0f921"
                        ]
                      ],
                      "sequentialminus": [
                        [
                          0,
                          "#0d0887"
                        ],
                        [
                          0.1111111111111111,
                          "#46039f"
                        ],
                        [
                          0.2222222222222222,
                          "#7201a8"
                        ],
                        [
                          0.3333333333333333,
                          "#9c179e"
                        ],
                        [
                          0.4444444444444444,
                          "#bd3786"
                        ],
                        [
                          0.5555555555555556,
                          "#d8576b"
                        ],
                        [
                          0.6666666666666666,
                          "#ed7953"
                        ],
                        [
                          0.7777777777777778,
                          "#fb9f3a"
                        ],
                        [
                          0.8888888888888888,
                          "#fdca26"
                        ],
                        [
                          1,
                          "#f0f921"
                        ]
                      ]
                    },
                    "colorway": [
                      "#636efa",
                      "#EF553B",
                      "#00cc96",
                      "#ab63fa",
                      "#FFA15A",
                      "#19d3f3",
                      "#FF6692",
                      "#B6E880",
                      "#FF97FF",
                      "#FECB52"
                    ],
                    "font": {
                      "color": "#2a3f5f"
                    },
                    "geo": {
                      "bgcolor": "white",
                      "lakecolor": "white",
                      "landcolor": "#E5ECF6",
                      "showlakes": true,
                      "showland": true,
                      "subunitcolor": "white"
                    },
                    "hoverlabel": {
                      "align": "left"
                    },
                    "hovermode": "closest",
                    "mapbox": {
                      "style": "light"
                    },
                    "paper_bgcolor": "white",
                    "plot_bgcolor": "#E5ECF6",
                    "polar": {
                      "angularaxis": {
                        "gridcolor": "white",
                        "linecolor": "white",
                        "ticks": ""
                      },
                      "bgcolor": "#E5ECF6",
                      "radialaxis": {
                        "gridcolor": "white",
                        "linecolor": "white",
                        "ticks": ""
                      }
                    },
                    "scene": {
                      "xaxis": {
                        "backgroundcolor": "#E5ECF6",
                        "gridcolor": "white",
                        "gridwidth": 2,
                        "linecolor": "white",
                        "showbackground": true,
                        "ticks": "",
                        "zerolinecolor": "white"
                      },
                      "yaxis": {
                        "backgroundcolor": "#E5ECF6",
                        "gridcolor": "white",
                        "gridwidth": 2,
                        "linecolor": "white",
                        "showbackground": true,
                        "ticks": "",
                        "zerolinecolor": "white"
                      },
                      "zaxis": {
                        "backgroundcolor": "#E5ECF6",
                        "gridcolor": "white",
                        "gridwidth": 2,
                        "linecolor": "white",
                        "showbackground": true,
                        "ticks": "",
                        "zerolinecolor": "white"
                      }
                    },
                    "shapedefaults": {
                      "line": {
                        "color": "#2a3f5f"
                      }
                    },
                    "ternary": {
                      "aaxis": {
                        "gridcolor": "white",
                        "linecolor": "white",
                        "ticks": ""
                      },
                      "baxis": {
                        "gridcolor": "white",
                        "linecolor": "white",
                        "ticks": ""
                      },
                      "bgcolor": "#E5ECF6",
                      "caxis": {
                        "gridcolor": "white",
                        "linecolor": "white",
                        "ticks": ""
                      }
                    },
                    "title": {
                      "x": 0.05
                    },
                    "xaxis": {
                      "automargin": true,
                      "gridcolor": "white",
                      "linecolor": "white",
                      "ticks": "",
                      "title": {
                        "standoff": 15
                      },
                      "zerolinecolor": "white",
                      "zerolinewidth": 2
                    },
                    "yaxis": {
                      "automargin": true,
                      "gridcolor": "white",
                      "linecolor": "white",
                      "ticks": "",
                      "title": {
                        "standoff": 15
                      },
                      "zerolinecolor": "white",
                      "zerolinewidth": 2
                    }
                  }
                },
                "xaxis": {
                  "anchor": "y",
                  "domain": [
                    0,
                    1
                  ],
                  "title": {
                    "text": "PC1"
                  }
                },
                "yaxis": {
                  "anchor": "x",
                  "domain": [
                    0,
                    1
                  ],
                  "title": {
                    "text": "PC2"
                  }
                }
              }
            }
          },
          "metadata": {},
          "output_type": "display_data"
        }
      ],
      "source": [
        "px.scatter(finalDf, x = 'PC1', y='PC2', color = 'target')"
      ]
    },
    {
      "cell_type": "markdown",
      "metadata": {
        "id": "UgYRbRJjSZzf"
      },
      "source": [
        "Take a look at the variance ratios for the two principal components"
      ]
    },
    {
      "cell_type": "code",
      "execution_count": 8,
      "metadata": {
        "colab": {
          "base_uri": "https://localhost:8080/"
        },
        "id": "lsi95bePSQ2z",
        "outputId": "ad73211c-6ac1-4a31-cdad-102223197a3e"
      },
      "outputs": [
        {
          "data": {
            "text/plain": [
              "array([0.72770452, 0.23030523])"
            ]
          },
          "execution_count": 8,
          "metadata": {},
          "output_type": "execute_result"
        }
      ],
      "source": [
        "pca.explained_variance_ratio_"
      ]
    }
  ],
  "metadata": {
    "colab": {
      "name": "pca-key.ipynb",
      "provenance": []
    },
    "kernelspec": {
      "display_name": "Python 3",
      "name": "python3"
    },
    "language_info": {
      "codemirror_mode": {
        "name": "ipython",
        "version": 3
      },
      "file_extension": ".py",
      "mimetype": "text/x-python",
      "name": "python",
      "nbconvert_exporter": "python",
      "pygments_lexer": "ipython3",
      "version": "3.8.10"
    }
  },
  "nbformat": 4,
  "nbformat_minor": 0
}
