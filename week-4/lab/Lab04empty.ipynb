{
  "nbformat": 4,
  "nbformat_minor": 0,
  "metadata": {
    "colab": {
      "name": "Lab04empty.ipynb",
      "provenance": [],
      "collapsed_sections": [
        "Luu-6YHTnNw-"
      ]
    },
    "kernelspec": {
      "name": "python3",
      "display_name": "Python 3"
    },
    "language_info": {
      "name": "python"
    }
  },
  "cells": [
    {
      "cell_type": "markdown",
      "source": [
        "## Lab 04 - Visualizing College Data\n",
        "\n",
        "Welcome to Lab 4! Today, we are going to use plotly to visualize scatterplots\n",
        "\n",
        "Lets start by importing plotly express as px and pandas as pd (remember, to import plotly express you import plotly.express)"
      ],
      "metadata": {
        "id": "C1sHLt9Ob8ZO"
      }
    },
    {
      "cell_type": "code",
      "execution_count": null,
      "metadata": {
        "id": "UKDMVrmhb7p3"
      },
      "outputs": [],
      "source": [
        ""
      ]
    },
    {
      "cell_type": "markdown",
      "source": [
        "# Quick review of Plotly functions"
      ],
      "metadata": {
        "id": "SPu-tdZKoYPp"
      }
    },
    {
      "cell_type": "markdown",
      "source": [
        "A cool thing about Plotly express is that it actually comes built in with a bunch of datasets that you can use. Let's take a look at the Gapminder dataset built in. I've shown how to get gapminder as a pandas dataframe below, and I reccomend you take a closer look at the data using some exploratory functions. (Might I reccomend .head() or .info()?)"
      ],
      "metadata": {
        "id": "wC1y34-3dcmR"
      }
    },
    {
      "cell_type": "code",
      "source": [
        "gapminder = px.data.gapminder()"
      ],
      "metadata": {
        "id": "C3pAI12jegDr"
      },
      "execution_count": null,
      "outputs": []
    },
    {
      "cell_type": "markdown",
      "source": [
        "As you can (hopefully) see, this dataset shows a small subset of data from countries across the globe. For this lab, we are going to be looking at how life expectancy and gdp per capita are related across countries.\n",
        "\n",
        "Let's start with something simple. First, subset these data so we are only looking at data from 2007. Name it something easy to remember, we will be using it below. Check using .head() to make sure it worked as you would expect."
      ],
      "metadata": {
        "id": "BLC9T7I5fK9P"
      }
    },
    {
      "cell_type": "code",
      "source": [
        ""
      ],
      "metadata": {
        "id": "k51w8gp3fcjN"
      },
      "execution_count": null,
      "outputs": []
    },
    {
      "cell_type": "markdown",
      "source": [
        "Great! Now, lets make a simple graph to help us better understand these data. Use the px.scatter function to create a simple scatterplot, with gdpPercap as the x axis and lifeExp as the y axis.\n",
        "\n",
        "(Hint if you get stuck: the x and y axes are passed in as parameters when calling the scatter function)"
      ],
      "metadata": {
        "id": "ecqvVIy7gR5F"
      }
    },
    {
      "cell_type": "code",
      "source": [
        ""
      ],
      "metadata": {
        "id": "wvvEt3KYgolb"
      },
      "execution_count": null,
      "outputs": []
    },
    {
      "cell_type": "markdown",
      "source": [
        "This graph is functional, but not very FUNctional... Let's add some color to make it nicer to look at, and also so that it conveys a bit more information\n",
        "\n",
        "Add in an argument to your above function so that the continents on this graph are different colors.\n",
        "\n",
        "(Hint if you are stuck: color is a parameter just like x and y above)"
      ],
      "metadata": {
        "id": "bj5rxK5mgzXY"
      }
    },
    {
      "cell_type": "code",
      "source": [
        ""
      ],
      "metadata": {
        "id": "2hOiTpMZhLWo"
      },
      "execution_count": null,
      "outputs": []
    },
    {
      "cell_type": "markdown",
      "source": [
        "Now that is both more informative and more interesting. Notice any trends already?\n",
        "\n",
        "Lets make this graph really pop. Add in three arguments to your function, one that scales the size of each point with the population of the country, and one that changes the hover name of the points to the name of the country. Finally, add in a parameter called \"size_max\", and set it to 60. This simply makes the points bigger, so they are easier to see on smaller screens.\n",
        "\n",
        "(Hint: these parameters are called 'size' and 'hover_name' respectively. Check back to the column names above for the parameters!)"
      ],
      "metadata": {
        "id": "xCDCGyZahT0A"
      }
    },
    {
      "cell_type": "code",
      "source": [
        ""
      ],
      "metadata": {
        "id": "cN6hmuHLh_x0"
      },
      "execution_count": null,
      "outputs": []
    },
    {
      "cell_type": "markdown",
      "source": [
        "Now doesn't that graph look nice!"
      ],
      "metadata": {
        "id": "AuVESeKUnUa9"
      }
    },
    {
      "cell_type": "markdown",
      "source": [
        "# Try It Yourself!"
      ],
      "metadata": {
        "id": "FjXNOQq2oN4i"
      }
    },
    {
      "cell_type": "markdown",
      "source": [
        "Try and make a scatterplot yourself, using a new dataset. This set, called tips, gives a few data points on tip size and characteristics of the tiper. Based on what we have gone over above, go wild and make your own scatterplot. Compare whatever you want, and see if you can come up with some interesting visualizations. Good luck!"
      ],
      "metadata": {
        "id": "W30iJKaSofkS"
      }
    },
    {
      "cell_type": "code",
      "source": [
        ""
      ],
      "metadata": {
        "id": "fkEFjWd8otL5"
      },
      "execution_count": null,
      "outputs": []
    },
    {
      "cell_type": "markdown",
      "source": [
        "# *Challenge Time*\n",
        "\n"
      ],
      "metadata": {
        "id": "Luu-6YHTnNw-"
      }
    },
    {
      "cell_type": "markdown",
      "source": [
        "*Only do this if you have extra time!*\n",
        "\n",
        "Here's the final step of the scatterplot exploration. This part is going to be a bit tough, so if you get stuck, don't worry. Try asking your labmates for help, and if needed, call for a PC.\n",
        "\n",
        "One really neat aspect of plotly that we have not explored is animation frames. These are super nice looking, and can help take your data visualizations to the next level. To start, copy your above graph into the code block below.\n",
        "\n",
        "Now, change your gapminder2007 data to just the plain gapminder data. \n",
        "\n",
        "There are two important aspects to animations: The animation frame, and the animation group. You can think of the animation frame as what progresses (for us, the year) and the animation group as what moves as we progress (for us, the country).\n",
        "\n",
        "Set two more parameters inside your function, \n",
        "```\n",
        "animation_frame='year'\n",
        "animation_group='country'\n",
        "```\n",
        "Now, we need to set a couple of limits, so that we can actually read our graph. In the real world, you might need to spend a minute or two finding these. However, that is boring, so let me give you some below. \n",
        "\n",
        "\n",
        "```\n",
        "range_y=[25,90]\n",
        "range_x=[-5000,60000]\n",
        "```\n",
        "\n",
        "\n"
      ],
      "metadata": {
        "id": "VJJ-3SZMibqy"
      }
    },
    {
      "cell_type": "code",
      "source": [
        ""
      ],
      "metadata": {
        "id": "zRRh3SzCkXik"
      },
      "execution_count": null,
      "outputs": []
    },
    {
      "cell_type": "markdown",
      "source": [
        "Click the play button, and watch the magic happen. Isn't that neat?"
      ],
      "metadata": {
        "id": "jFCD2BsClcG2"
      }
    },
    {
      "cell_type": "markdown",
      "source": [
        "Ok, one more cool thing with animation frames. You don't just have to use them with scatterplots. Remember cloropleths? The map based data visualizations? They work there too.\n",
        "\n",
        "Create a new px.cloropleth graph with the gapminder data. Set the hover name to country, and the animation frame "
      ],
      "metadata": {
        "id": "WB926zZWlhN5"
      }
    }
  ]
}